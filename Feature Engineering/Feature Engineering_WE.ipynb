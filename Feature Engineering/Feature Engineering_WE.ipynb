{
 "cells": [
  {
   "cell_type": "code",
   "execution_count": 2,
   "metadata": {},
   "outputs": [],
   "source": [
    "import os\n",
    "from pathlib import Path, PureWindowsPath\n",
    "import pandas as pd\n",
    "import numpy as np\n",
    "import matplotlib.pyplot as plt\n",
    "import seaborn as sns\n",
    "from scipy.stats import pearsonr\n",
    "from scipy.stats import ttest_ind\n",
    "import statsmodels.api as sm\n",
    "from statsmodels.formula.api import ols\n",
    "import statsmodels.api as sm"
   ]
  },
  {
   "cell_type": "code",
   "execution_count": 3,
   "metadata": {},
   "outputs": [],
   "source": [
    "path_cwd = os.path.dirname(os.getcwd())"
   ]
  },
  {
   "cell_type": "code",
   "execution_count": 4,
   "metadata": {},
   "outputs": [
    {
     "data": {
      "text/plain": [
       "PosixPath('/Users/williamearley/Documents/GitHub/Store-Sales')"
      ]
     },
     "execution_count": 4,
     "metadata": {},
     "output_type": "execute_result"
    }
   ],
   "source": [
    "path_cwd = Path(os.path.dirname(os.getcwd()))\n",
    "path_cwd"
   ]
  },
  {
   "cell_type": "code",
   "execution_count": 5,
   "metadata": {},
   "outputs": [
    {
     "data": {
      "text/plain": [
       "PosixPath('/Users/williamearley/Documents/GitHub/Store-Sales/data')"
      ]
     },
     "execution_count": 5,
     "metadata": {},
     "output_type": "execute_result"
    }
   ],
   "source": [
    "path = path_cwd / 'data'\n",
    "path"
   ]
  },
  {
   "cell_type": "code",
   "execution_count": 172,
   "metadata": {},
   "outputs": [],
   "source": [
    "df_train = pd.read_csv(path / 'train.csv')\n",
    "df_transaction = pd.read_csv(path / 'transactions.csv')\n",
    "df_holidays = pd.read_csv(path / 'holidays_events.csv')\n",
    "df_oil = pd.read_csv(path / 'oil.csv')\n",
    "df_stores = pd.read_csv(path / 'stores.csv')\n",
    "df_test = pd.read_csv(path / 'test.csv')"
   ]
  },
  {
   "cell_type": "markdown",
   "metadata": {},
   "source": [
    "## Clean Data ##"
   ]
  },
  {
   "cell_type": "code",
   "execution_count": 163,
   "metadata": {},
   "outputs": [],
   "source": [
    "# Will here\n",
    "\n",
    "# Just renaming the price column of the oil df\n",
    "\n",
    "new_oil = df_oil.copy()\n",
    "\n",
    "new_oil.rename(columns={'dcoilwtico': 'oil_price'}, inplace=True)"
   ]
  },
  {
   "cell_type": "code",
   "execution_count": 164,
   "metadata": {},
   "outputs": [
    {
     "data": {
      "text/html": [
       "<div>\n",
       "<style scoped>\n",
       "    .dataframe tbody tr th:only-of-type {\n",
       "        vertical-align: middle;\n",
       "    }\n",
       "\n",
       "    .dataframe tbody tr th {\n",
       "        vertical-align: top;\n",
       "    }\n",
       "\n",
       "    .dataframe thead th {\n",
       "        text-align: right;\n",
       "    }\n",
       "</style>\n",
       "<table border=\"1\" class=\"dataframe\">\n",
       "  <thead>\n",
       "    <tr style=\"text-align: right;\">\n",
       "      <th></th>\n",
       "      <th>date</th>\n",
       "      <th>oil_price</th>\n",
       "    </tr>\n",
       "  </thead>\n",
       "  <tbody>\n",
       "    <tr>\n",
       "      <th>0</th>\n",
       "      <td>2013-01-01</td>\n",
       "      <td>NaN</td>\n",
       "    </tr>\n",
       "    <tr>\n",
       "      <th>1</th>\n",
       "      <td>2013-01-02</td>\n",
       "      <td>93.14</td>\n",
       "    </tr>\n",
       "    <tr>\n",
       "      <th>2</th>\n",
       "      <td>2013-01-03</td>\n",
       "      <td>92.97</td>\n",
       "    </tr>\n",
       "  </tbody>\n",
       "</table>\n",
       "</div>"
      ],
      "text/plain": [
       "        date  oil_price\n",
       "0 2013-01-01        NaN\n",
       "1 2013-01-02      93.14\n",
       "2 2013-01-03      92.97"
      ]
     },
     "execution_count": 164,
     "metadata": {},
     "output_type": "execute_result"
    }
   ],
   "source": [
    "new_oil.head(3)"
   ]
  },
  {
   "cell_type": "code",
   "execution_count": 165,
   "metadata": {},
   "outputs": [
    {
     "name": "stdout",
     "output_type": "stream",
     "text": [
      "Count of null values in 'oil_price': 43\n"
     ]
    }
   ],
   "source": [
    "# Assuming df is your DataFrame and 'column_name' is the name of the column\n",
    "null_count = new_oil['oil_price'].isnull().sum()\n",
    "\n",
    "# This will give you the count of null values in the 'column_name' column\n",
    "print(\"Count of null values in 'oil_price':\", null_count)"
   ]
  },
  {
   "cell_type": "code",
   "execution_count": 166,
   "metadata": {},
   "outputs": [],
   "source": [
    "new_oil['oil_price'] = new_oil['oil_price'].interpolate(method='index')"
   ]
  },
  {
   "cell_type": "code",
   "execution_count": 167,
   "metadata": {},
   "outputs": [
    {
     "data": {
      "text/html": [
       "<div>\n",
       "<style scoped>\n",
       "    .dataframe tbody tr th:only-of-type {\n",
       "        vertical-align: middle;\n",
       "    }\n",
       "\n",
       "    .dataframe tbody tr th {\n",
       "        vertical-align: top;\n",
       "    }\n",
       "\n",
       "    .dataframe thead th {\n",
       "        text-align: right;\n",
       "    }\n",
       "</style>\n",
       "<table border=\"1\" class=\"dataframe\">\n",
       "  <thead>\n",
       "    <tr style=\"text-align: right;\">\n",
       "      <th></th>\n",
       "      <th>date</th>\n",
       "      <th>oil_price</th>\n",
       "    </tr>\n",
       "  </thead>\n",
       "  <tbody>\n",
       "    <tr>\n",
       "      <th>0</th>\n",
       "      <td>2013-01-01</td>\n",
       "      <td>NaN</td>\n",
       "    </tr>\n",
       "    <tr>\n",
       "      <th>1</th>\n",
       "      <td>2013-01-02</td>\n",
       "      <td>93.14</td>\n",
       "    </tr>\n",
       "    <tr>\n",
       "      <th>2</th>\n",
       "      <td>2013-01-03</td>\n",
       "      <td>92.97</td>\n",
       "    </tr>\n",
       "  </tbody>\n",
       "</table>\n",
       "</div>"
      ],
      "text/plain": [
       "        date  oil_price\n",
       "0 2013-01-01        NaN\n",
       "1 2013-01-02      93.14\n",
       "2 2013-01-03      92.97"
      ]
     },
     "execution_count": 167,
     "metadata": {},
     "output_type": "execute_result"
    }
   ],
   "source": [
    "new_oil.head(3)"
   ]
  },
  {
   "cell_type": "code",
   "execution_count": 168,
   "metadata": {},
   "outputs": [
    {
     "name": "stdout",
     "output_type": "stream",
     "text": [
      "Count of null values in 'oil_price': 1\n"
     ]
    }
   ],
   "source": [
    "# Assuming df is your DataFrame and 'column_name' is the name of the column\n",
    "null_count = new_oil['oil_price'].isnull().sum()\n",
    "\n",
    "# This will give you the count of null values in the 'column_name' column\n",
    "print(\"Count of null values in 'oil_price':\", null_count)"
   ]
  },
  {
   "cell_type": "code",
   "execution_count": 169,
   "metadata": {},
   "outputs": [],
   "source": [
    "new_oil.at[0, 'oil_price'] = 93.14"
   ]
  },
  {
   "cell_type": "code",
   "execution_count": 170,
   "metadata": {},
   "outputs": [
    {
     "data": {
      "text/html": [
       "<div>\n",
       "<style scoped>\n",
       "    .dataframe tbody tr th:only-of-type {\n",
       "        vertical-align: middle;\n",
       "    }\n",
       "\n",
       "    .dataframe tbody tr th {\n",
       "        vertical-align: top;\n",
       "    }\n",
       "\n",
       "    .dataframe thead th {\n",
       "        text-align: right;\n",
       "    }\n",
       "</style>\n",
       "<table border=\"1\" class=\"dataframe\">\n",
       "  <thead>\n",
       "    <tr style=\"text-align: right;\">\n",
       "      <th></th>\n",
       "      <th>date</th>\n",
       "      <th>oil_price</th>\n",
       "    </tr>\n",
       "  </thead>\n",
       "  <tbody>\n",
       "    <tr>\n",
       "      <th>0</th>\n",
       "      <td>2013-01-01</td>\n",
       "      <td>93.14</td>\n",
       "    </tr>\n",
       "    <tr>\n",
       "      <th>1</th>\n",
       "      <td>2013-01-02</td>\n",
       "      <td>93.14</td>\n",
       "    </tr>\n",
       "  </tbody>\n",
       "</table>\n",
       "</div>"
      ],
      "text/plain": [
       "        date  oil_price\n",
       "0 2013-01-01      93.14\n",
       "1 2013-01-02      93.14"
      ]
     },
     "execution_count": 170,
     "metadata": {},
     "output_type": "execute_result"
    }
   ],
   "source": [
    "new_oil.head(2)"
   ]
  },
  {
   "cell_type": "code",
   "execution_count": 171,
   "metadata": {},
   "outputs": [
    {
     "name": "stdout",
     "output_type": "stream",
     "text": [
      "Count of null values in 'oil_price': 0\n"
     ]
    }
   ],
   "source": [
    "# Assuming df is your DataFrame and 'column_name' is the name of the column\n",
    "null_count = new_oil['oil_price'].isnull().sum()\n",
    "\n",
    "# This will give you the count of null values in the 'column_name' column\n",
    "print(\"Count of null values in 'oil_price':\", null_count)"
   ]
  },
  {
   "cell_type": "code",
   "execution_count": 142,
   "metadata": {},
   "outputs": [],
   "source": [
    "oil_price_interpolated = oil_price.interpolate(method='index')"
   ]
  },
  {
   "cell_type": "code",
   "execution_count": 180,
   "metadata": {},
   "outputs": [],
   "source": [
    "new_oil['date'] = pd.to_datetime(new_oil['date'])"
   ]
  },
  {
   "cell_type": "code",
   "execution_count": 182,
   "metadata": {},
   "outputs": [],
   "source": [
    "df_train['date'] = pd.to_datetime(df_train['date'])"
   ]
  },
  {
   "cell_type": "code",
   "execution_count": 179,
   "metadata": {},
   "outputs": [
    {
     "data": {
      "text/html": [
       "<div>\n",
       "<style scoped>\n",
       "    .dataframe tbody tr th:only-of-type {\n",
       "        vertical-align: middle;\n",
       "    }\n",
       "\n",
       "    .dataframe tbody tr th {\n",
       "        vertical-align: top;\n",
       "    }\n",
       "\n",
       "    .dataframe thead th {\n",
       "        text-align: right;\n",
       "    }\n",
       "</style>\n",
       "<table border=\"1\" class=\"dataframe\">\n",
       "  <thead>\n",
       "    <tr style=\"text-align: right;\">\n",
       "      <th></th>\n",
       "      <th>date</th>\n",
       "      <th>oil_price</th>\n",
       "    </tr>\n",
       "  </thead>\n",
       "  <tbody>\n",
       "    <tr>\n",
       "      <th>0</th>\n",
       "      <td>2013-01-01</td>\n",
       "      <td>93.14</td>\n",
       "    </tr>\n",
       "    <tr>\n",
       "      <th>1</th>\n",
       "      <td>2013-01-02</td>\n",
       "      <td>93.14</td>\n",
       "    </tr>\n",
       "  </tbody>\n",
       "</table>\n",
       "</div>"
      ],
      "text/plain": [
       "        date  oil_price\n",
       "0 2013-01-01      93.14\n",
       "1 2013-01-02      93.14"
      ]
     },
     "execution_count": 179,
     "metadata": {},
     "output_type": "execute_result"
    }
   ],
   "source": [
    "new_oil.head(2)"
   ]
  },
  {
   "cell_type": "code",
   "execution_count": 183,
   "metadata": {},
   "outputs": [],
   "source": [
    "df_train = pd.merge(df_train, new_oil, on=['date'])"
   ]
  },
  {
   "cell_type": "code",
   "execution_count": 184,
   "metadata": {},
   "outputs": [
    {
     "data": {
      "text/html": [
       "<div>\n",
       "<style scoped>\n",
       "    .dataframe tbody tr th:only-of-type {\n",
       "        vertical-align: middle;\n",
       "    }\n",
       "\n",
       "    .dataframe tbody tr th {\n",
       "        vertical-align: top;\n",
       "    }\n",
       "\n",
       "    .dataframe thead th {\n",
       "        text-align: right;\n",
       "    }\n",
       "</style>\n",
       "<table border=\"1\" class=\"dataframe\">\n",
       "  <thead>\n",
       "    <tr style=\"text-align: right;\">\n",
       "      <th></th>\n",
       "      <th>id</th>\n",
       "      <th>date</th>\n",
       "      <th>store_nbr</th>\n",
       "      <th>family</th>\n",
       "      <th>sales</th>\n",
       "      <th>onpromotion</th>\n",
       "      <th>oil_price</th>\n",
       "    </tr>\n",
       "  </thead>\n",
       "  <tbody>\n",
       "    <tr>\n",
       "      <th>0</th>\n",
       "      <td>0</td>\n",
       "      <td>2013-01-01</td>\n",
       "      <td>1</td>\n",
       "      <td>AUTOMOTIVE</td>\n",
       "      <td>0.0</td>\n",
       "      <td>0</td>\n",
       "      <td>93.14</td>\n",
       "    </tr>\n",
       "    <tr>\n",
       "      <th>1</th>\n",
       "      <td>1</td>\n",
       "      <td>2013-01-01</td>\n",
       "      <td>1</td>\n",
       "      <td>BABY CARE</td>\n",
       "      <td>0.0</td>\n",
       "      <td>0</td>\n",
       "      <td>93.14</td>\n",
       "    </tr>\n",
       "    <tr>\n",
       "      <th>2</th>\n",
       "      <td>2</td>\n",
       "      <td>2013-01-01</td>\n",
       "      <td>1</td>\n",
       "      <td>BEAUTY</td>\n",
       "      <td>0.0</td>\n",
       "      <td>0</td>\n",
       "      <td>93.14</td>\n",
       "    </tr>\n",
       "  </tbody>\n",
       "</table>\n",
       "</div>"
      ],
      "text/plain": [
       "   id       date  store_nbr      family  sales  onpromotion  oil_price\n",
       "0   0 2013-01-01          1  AUTOMOTIVE    0.0            0      93.14\n",
       "1   1 2013-01-01          1   BABY CARE    0.0            0      93.14\n",
       "2   2 2013-01-01          1      BEAUTY    0.0            0      93.14"
      ]
     },
     "execution_count": 184,
     "metadata": {},
     "output_type": "execute_result"
    }
   ],
   "source": [
    "df_train.head(3)"
   ]
  },
  {
   "cell_type": "markdown",
   "metadata": {},
   "source": [
    "#### shorten date ####"
   ]
  },
  {
   "cell_type": "code",
   "execution_count": 185,
   "metadata": {},
   "outputs": [],
   "source": [
    "def train_to_store_merge(train, store):\n",
    "    df_train_store_merged = pd.merge(train, store, how='left', on='store_nbr')\n",
    "    return df_train_store_merged"
   ]
  },
  {
   "cell_type": "code",
   "execution_count": 186,
   "metadata": {},
   "outputs": [],
   "source": [
    "# train clean\n",
    "\n",
    "df_train['date'] = pd.to_datetime(df_train['date'])\n",
    "first_sale_date_per_store = df_train[df_train['sales'] > 0].groupby('store_nbr')['date'].min().reset_index()\n",
    "\n",
    "# remove rows before stores were open. only do this to train\n",
    "df_train_min_date = pd.merge(df_train, first_sale_date_per_store, on='store_nbr')\n",
    "df_train_shortened = df_train_min_date[df_train_min_date['date_x'] >= df_train_min_date['date_y']] \n",
    "df_train_shortened = df_train_shortened.drop(['date_y'], axis=1)\n",
    "df_train_shortened.rename(columns={'date_x':'date'}, inplace=True)\n",
    "df_train_shortened = train_to_store_merge(df_train_shortened, df_stores)\n"
   ]
  },
  {
   "cell_type": "code",
   "execution_count": 187,
   "metadata": {},
   "outputs": [],
   "source": [
    "# add dates when stores were temporarily closed"
   ]
  },
  {
   "cell_type": "markdown",
   "metadata": {},
   "source": [
    "#### holidays feature eng ####"
   ]
  },
  {
   "cell_type": "code",
   "execution_count": 189,
   "metadata": {},
   "outputs": [],
   "source": [
    "# holidays \n",
    "\n",
    "df_holidays['date'] = pd.to_datetime(df_holidays['date'])\n",
    "df_holidays_real = df_holidays[df_holidays['transferred']==False] \n",
    "\n",
    "#unique_holis2 = df_holidays_real['description'].drop_duplicates()\n",
    "unique_holis2 = df_holidays_real[['description','locale']].drop_duplicates()\n",
    "unique_holis_national = unique_holis2[unique_holis2['locale']=='National'].drop(['locale'],axis=1)\n",
    "unique_holis_city = unique_holis2[unique_holis2['locale']=='Local'].drop(['locale'],axis=1)\n",
    "unique_holis_state = unique_holis2[unique_holis2['locale']=='Regional'].drop(['locale'],axis=1)\n",
    "\n",
    "national_holidays = df_holidays_real[df_holidays_real['locale']=='National'].loc[:,('date','description')]\n",
    "local_holidays = df_holidays_real[df_holidays_real['locale']=='Local'].loc[:,('date','description','locale_name')]\n",
    "state_holidays = df_holidays_real[df_holidays_real['locale']=='Regional'].loc[:,('date','description','locale_name')]\n",
    "\n",
    "df_train_summed_daily = df_train_shortened.groupby(['date','city','state']).agg({'onpromotion':'sum', 'sales':'sum', 'oil_price':'sum'}).reset_index()\n"
   ]
  },
  {
   "cell_type": "code",
   "execution_count": 192,
   "metadata": {},
   "outputs": [
    {
     "data": {
      "text/html": [
       "<div>\n",
       "<style scoped>\n",
       "    .dataframe tbody tr th:only-of-type {\n",
       "        vertical-align: middle;\n",
       "    }\n",
       "\n",
       "    .dataframe tbody tr th {\n",
       "        vertical-align: top;\n",
       "    }\n",
       "\n",
       "    .dataframe thead th {\n",
       "        text-align: right;\n",
       "    }\n",
       "</style>\n",
       "<table border=\"1\" class=\"dataframe\">\n",
       "  <thead>\n",
       "    <tr style=\"text-align: right;\">\n",
       "      <th></th>\n",
       "      <th>date</th>\n",
       "      <th>city</th>\n",
       "      <th>state</th>\n",
       "      <th>onpromotion</th>\n",
       "      <th>sales</th>\n",
       "      <th>price</th>\n",
       "      <th>Primer Grito de Independencia</th>\n",
       "      <th>Traslado Independencia de Guayaquil</th>\n",
       "      <th>Dia de Difuntos</th>\n",
       "      <th>Independencia de Cuenca</th>\n",
       "      <th>...</th>\n",
       "      <th>Independencia de Latacunga</th>\n",
       "      <th>Independencia de Ambato</th>\n",
       "      <th>Fundacion de Quito-1</th>\n",
       "      <th>Fundacion de Quito</th>\n",
       "      <th>Fundacion de Loja</th>\n",
       "      <th>Cantonizacion de Salinas</th>\n",
       "      <th>Fundacion de Guayaquil-1</th>\n",
       "      <th>Fundacion de Guayaquil</th>\n",
       "      <th>Traslado Fundacion de Guayaquil</th>\n",
       "      <th>Traslado Fundacion de Quito</th>\n",
       "    </tr>\n",
       "  </thead>\n",
       "  <tbody>\n",
       "    <tr>\n",
       "      <th>0</th>\n",
       "      <td>2013-01-01</td>\n",
       "      <td>Salinas</td>\n",
       "      <td>Santa Elena</td>\n",
       "      <td>0</td>\n",
       "      <td>2511.618999</td>\n",
       "      <td>0.00</td>\n",
       "      <td>False</td>\n",
       "      <td>False</td>\n",
       "      <td>False</td>\n",
       "      <td>False</td>\n",
       "      <td>...</td>\n",
       "      <td>False</td>\n",
       "      <td>False</td>\n",
       "      <td>False</td>\n",
       "      <td>False</td>\n",
       "      <td>False</td>\n",
       "      <td>False</td>\n",
       "      <td>False</td>\n",
       "      <td>False</td>\n",
       "      <td>False</td>\n",
       "      <td>False</td>\n",
       "    </tr>\n",
       "    <tr>\n",
       "      <th>1</th>\n",
       "      <td>2013-01-02</td>\n",
       "      <td>Ambato</td>\n",
       "      <td>Tungurahua</td>\n",
       "      <td>0</td>\n",
       "      <td>23136.469000</td>\n",
       "      <td>6147.24</td>\n",
       "      <td>False</td>\n",
       "      <td>False</td>\n",
       "      <td>False</td>\n",
       "      <td>False</td>\n",
       "      <td>...</td>\n",
       "      <td>False</td>\n",
       "      <td>False</td>\n",
       "      <td>False</td>\n",
       "      <td>False</td>\n",
       "      <td>False</td>\n",
       "      <td>False</td>\n",
       "      <td>False</td>\n",
       "      <td>False</td>\n",
       "      <td>False</td>\n",
       "      <td>False</td>\n",
       "    </tr>\n",
       "    <tr>\n",
       "      <th>2</th>\n",
       "      <td>2013-01-02</td>\n",
       "      <td>Babahoyo</td>\n",
       "      <td>Los Rios</td>\n",
       "      <td>0</td>\n",
       "      <td>6637.560000</td>\n",
       "      <td>3073.62</td>\n",
       "      <td>False</td>\n",
       "      <td>False</td>\n",
       "      <td>False</td>\n",
       "      <td>False</td>\n",
       "      <td>...</td>\n",
       "      <td>False</td>\n",
       "      <td>False</td>\n",
       "      <td>False</td>\n",
       "      <td>False</td>\n",
       "      <td>False</td>\n",
       "      <td>False</td>\n",
       "      <td>False</td>\n",
       "      <td>False</td>\n",
       "      <td>False</td>\n",
       "      <td>False</td>\n",
       "    </tr>\n",
       "  </tbody>\n",
       "</table>\n",
       "<p>3 rows × 109 columns</p>\n",
       "</div>"
      ],
      "text/plain": [
       "        date      city        state  onpromotion         sales    price  \\\n",
       "0 2013-01-01   Salinas  Santa Elena            0   2511.618999     0.00   \n",
       "1 2013-01-02    Ambato   Tungurahua            0  23136.469000  6147.24   \n",
       "2 2013-01-02  Babahoyo     Los Rios            0   6637.560000  3073.62   \n",
       "\n",
       "   Primer Grito de Independencia  Traslado Independencia de Guayaquil  \\\n",
       "0                          False                                False   \n",
       "1                          False                                False   \n",
       "2                          False                                False   \n",
       "\n",
       "   Dia de Difuntos  Independencia de Cuenca  ...  Independencia de Latacunga  \\\n",
       "0            False                    False  ...                       False   \n",
       "1            False                    False  ...                       False   \n",
       "2            False                    False  ...                       False   \n",
       "\n",
       "   Independencia de Ambato  Fundacion de Quito-1  Fundacion de Quito  \\\n",
       "0                    False                 False               False   \n",
       "1                    False                 False               False   \n",
       "2                    False                 False               False   \n",
       "\n",
       "   Fundacion de Loja  Cantonizacion de Salinas  Fundacion de Guayaquil-1  \\\n",
       "0              False                     False                     False   \n",
       "1              False                     False                     False   \n",
       "2              False                     False                     False   \n",
       "\n",
       "   Fundacion de Guayaquil  Traslado Fundacion de Guayaquil  \\\n",
       "0                   False                            False   \n",
       "1                   False                            False   \n",
       "2                   False                            False   \n",
       "\n",
       "   Traslado Fundacion de Quito  \n",
       "0                        False  \n",
       "1                        False  \n",
       "2                        False  \n",
       "\n",
       "[3 rows x 109 columns]"
      ]
     },
     "execution_count": 192,
     "metadata": {},
     "output_type": "execute_result"
    }
   ],
   "source": [
    "df_holi.head(3)"
   ]
  },
  {
   "cell_type": "code",
   "execution_count": 193,
   "metadata": {},
   "outputs": [],
   "source": [
    "df_holi = pd.merge(df_train_summed_daily, national_holidays, how='left', on='date')\n",
    "df_holi = pd.merge(df_holi, state_holidays, how='left', left_on=['date', 'state'], right_on=['date','locale_name'])\n",
    "df_holi = pd.merge(df_holi, local_holidays, how='left', left_on=['date', 'city'], right_on=['date','locale_name'])\n",
    "\n",
    "df_holi = df_holi.drop(['locale_name_x','locale_name_y'],axis=1)\n",
    "df_holi = df_holi.rename(columns = {'description_x':'national_holiday','description_y':'state_holiday','description':'city_holiday'})"
   ]
  },
  {
   "cell_type": "code",
   "execution_count": 194,
   "metadata": {},
   "outputs": [
    {
     "name": "stderr",
     "output_type": "stream",
     "text": [
      "/var/folders/25/ys3kvvh94qz9hdnmxh9q884h0000gn/T/ipykernel_10363/194147805.py:8: PerformanceWarning: DataFrame is highly fragmented.  This is usually the result of calling `frame.insert` many times, which has poor performance.  Consider joining all columns at once using pd.concat(axis=1) instead. To get a de-fragmented frame, use `newframe = frame.copy()`\n",
      "  df_holi[holiday] = df_holi['city_holiday'] == holiday\n",
      "/var/folders/25/ys3kvvh94qz9hdnmxh9q884h0000gn/T/ipykernel_10363/194147805.py:8: PerformanceWarning: DataFrame is highly fragmented.  This is usually the result of calling `frame.insert` many times, which has poor performance.  Consider joining all columns at once using pd.concat(axis=1) instead. To get a de-fragmented frame, use `newframe = frame.copy()`\n",
      "  df_holi[holiday] = df_holi['city_holiday'] == holiday\n",
      "/var/folders/25/ys3kvvh94qz9hdnmxh9q884h0000gn/T/ipykernel_10363/194147805.py:8: PerformanceWarning: DataFrame is highly fragmented.  This is usually the result of calling `frame.insert` many times, which has poor performance.  Consider joining all columns at once using pd.concat(axis=1) instead. To get a de-fragmented frame, use `newframe = frame.copy()`\n",
      "  df_holi[holiday] = df_holi['city_holiday'] == holiday\n",
      "/var/folders/25/ys3kvvh94qz9hdnmxh9q884h0000gn/T/ipykernel_10363/194147805.py:8: PerformanceWarning: DataFrame is highly fragmented.  This is usually the result of calling `frame.insert` many times, which has poor performance.  Consider joining all columns at once using pd.concat(axis=1) instead. To get a de-fragmented frame, use `newframe = frame.copy()`\n",
      "  df_holi[holiday] = df_holi['city_holiday'] == holiday\n",
      "/var/folders/25/ys3kvvh94qz9hdnmxh9q884h0000gn/T/ipykernel_10363/194147805.py:8: PerformanceWarning: DataFrame is highly fragmented.  This is usually the result of calling `frame.insert` many times, which has poor performance.  Consider joining all columns at once using pd.concat(axis=1) instead. To get a de-fragmented frame, use `newframe = frame.copy()`\n",
      "  df_holi[holiday] = df_holi['city_holiday'] == holiday\n",
      "/var/folders/25/ys3kvvh94qz9hdnmxh9q884h0000gn/T/ipykernel_10363/194147805.py:8: PerformanceWarning: DataFrame is highly fragmented.  This is usually the result of calling `frame.insert` many times, which has poor performance.  Consider joining all columns at once using pd.concat(axis=1) instead. To get a de-fragmented frame, use `newframe = frame.copy()`\n",
      "  df_holi[holiday] = df_holi['city_holiday'] == holiday\n",
      "/var/folders/25/ys3kvvh94qz9hdnmxh9q884h0000gn/T/ipykernel_10363/194147805.py:8: PerformanceWarning: DataFrame is highly fragmented.  This is usually the result of calling `frame.insert` many times, which has poor performance.  Consider joining all columns at once using pd.concat(axis=1) instead. To get a de-fragmented frame, use `newframe = frame.copy()`\n",
      "  df_holi[holiday] = df_holi['city_holiday'] == holiday\n"
     ]
    }
   ],
   "source": [
    "# set boolean column for each unique holiday. still have dups\n",
    "\n",
    "for holiday in unique_holis_national['description'].tolist():\n",
    "    df_holi[holiday] = df_holi['national_holiday'] == holiday\n",
    "for holiday in unique_holis_state['description'].tolist():\n",
    "    df_holi[holiday] = df_holi['state_holiday'] == holiday\n",
    "for holiday in unique_holis_city['description'].tolist():\n",
    "    df_holi[holiday] = df_holi['city_holiday'] == holiday\n",
    "\n",
    "df_holi = df_holi.drop(['national_holiday','state_holiday','city_holiday'] ,axis=1)"
   ]
  },
  {
   "cell_type": "code",
   "execution_count": 195,
   "metadata": {},
   "outputs": [
    {
     "data": {
      "text/html": [
       "<div>\n",
       "<style scoped>\n",
       "    .dataframe tbody tr th:only-of-type {\n",
       "        vertical-align: middle;\n",
       "    }\n",
       "\n",
       "    .dataframe tbody tr th {\n",
       "        vertical-align: top;\n",
       "    }\n",
       "\n",
       "    .dataframe thead th {\n",
       "        text-align: right;\n",
       "    }\n",
       "</style>\n",
       "<table border=\"1\" class=\"dataframe\">\n",
       "  <thead>\n",
       "    <tr style=\"text-align: right;\">\n",
       "      <th></th>\n",
       "      <th>date</th>\n",
       "      <th>city</th>\n",
       "      <th>state</th>\n",
       "      <th>onpromotion</th>\n",
       "      <th>sales</th>\n",
       "      <th>oil_price</th>\n",
       "      <th>Primer Grito de Independencia</th>\n",
       "      <th>Traslado Independencia de Guayaquil</th>\n",
       "      <th>Dia de Difuntos</th>\n",
       "      <th>Independencia de Cuenca</th>\n",
       "      <th>...</th>\n",
       "      <th>Independencia de Latacunga</th>\n",
       "      <th>Independencia de Ambato</th>\n",
       "      <th>Fundacion de Quito-1</th>\n",
       "      <th>Fundacion de Quito</th>\n",
       "      <th>Fundacion de Loja</th>\n",
       "      <th>Cantonizacion de Salinas</th>\n",
       "      <th>Fundacion de Guayaquil-1</th>\n",
       "      <th>Fundacion de Guayaquil</th>\n",
       "      <th>Traslado Fundacion de Guayaquil</th>\n",
       "      <th>Traslado Fundacion de Quito</th>\n",
       "    </tr>\n",
       "  </thead>\n",
       "  <tbody>\n",
       "    <tr>\n",
       "      <th>0</th>\n",
       "      <td>2013-01-01</td>\n",
       "      <td>Salinas</td>\n",
       "      <td>Santa Elena</td>\n",
       "      <td>0</td>\n",
       "      <td>2511.618999</td>\n",
       "      <td>3073.62</td>\n",
       "      <td>False</td>\n",
       "      <td>False</td>\n",
       "      <td>False</td>\n",
       "      <td>False</td>\n",
       "      <td>...</td>\n",
       "      <td>False</td>\n",
       "      <td>False</td>\n",
       "      <td>False</td>\n",
       "      <td>False</td>\n",
       "      <td>False</td>\n",
       "      <td>False</td>\n",
       "      <td>False</td>\n",
       "      <td>False</td>\n",
       "      <td>False</td>\n",
       "      <td>False</td>\n",
       "    </tr>\n",
       "    <tr>\n",
       "      <th>1</th>\n",
       "      <td>2013-01-02</td>\n",
       "      <td>Ambato</td>\n",
       "      <td>Tungurahua</td>\n",
       "      <td>0</td>\n",
       "      <td>23136.469000</td>\n",
       "      <td>6147.24</td>\n",
       "      <td>False</td>\n",
       "      <td>False</td>\n",
       "      <td>False</td>\n",
       "      <td>False</td>\n",
       "      <td>...</td>\n",
       "      <td>False</td>\n",
       "      <td>False</td>\n",
       "      <td>False</td>\n",
       "      <td>False</td>\n",
       "      <td>False</td>\n",
       "      <td>False</td>\n",
       "      <td>False</td>\n",
       "      <td>False</td>\n",
       "      <td>False</td>\n",
       "      <td>False</td>\n",
       "    </tr>\n",
       "  </tbody>\n",
       "</table>\n",
       "<p>2 rows × 109 columns</p>\n",
       "</div>"
      ],
      "text/plain": [
       "        date     city        state  onpromotion         sales  oil_price  \\\n",
       "0 2013-01-01  Salinas  Santa Elena            0   2511.618999    3073.62   \n",
       "1 2013-01-02   Ambato   Tungurahua            0  23136.469000    6147.24   \n",
       "\n",
       "   Primer Grito de Independencia  Traslado Independencia de Guayaquil  \\\n",
       "0                          False                                False   \n",
       "1                          False                                False   \n",
       "\n",
       "   Dia de Difuntos  Independencia de Cuenca  ...  Independencia de Latacunga  \\\n",
       "0            False                    False  ...                       False   \n",
       "1            False                    False  ...                       False   \n",
       "\n",
       "   Independencia de Ambato  Fundacion de Quito-1  Fundacion de Quito  \\\n",
       "0                    False                 False               False   \n",
       "1                    False                 False               False   \n",
       "\n",
       "   Fundacion de Loja  Cantonizacion de Salinas  Fundacion de Guayaquil-1  \\\n",
       "0              False                     False                     False   \n",
       "1              False                     False                     False   \n",
       "\n",
       "   Fundacion de Guayaquil  Traslado Fundacion de Guayaquil  \\\n",
       "0                   False                            False   \n",
       "1                   False                            False   \n",
       "\n",
       "   Traslado Fundacion de Quito  \n",
       "0                        False  \n",
       "1                        False  \n",
       "\n",
       "[2 rows x 109 columns]"
      ]
     },
     "execution_count": 195,
     "metadata": {},
     "output_type": "execute_result"
    }
   ],
   "source": [
    "df_holi.head(2)"
   ]
  },
  {
   "cell_type": "code",
   "execution_count": 197,
   "metadata": {},
   "outputs": [],
   "source": [
    "# combines duplicates rows into 1 rows where there is a true for each holiday that falls on the given date\n",
    "unique_holis_list = list(unique_holis2['description'])\n",
    "agg_func = {col: 'any' for col in unique_holis_list}\n",
    "\n",
    "aggregated_df = df_holi.groupby(['date', 'sales', 'city', 'state', 'onpromotion', 'oil_price']).agg(agg_func).reset_index()\n",
    "\n",
    "\n",
    "aggregated_df = pd.get_dummies(aggregated_df, columns=['city', 'state'], prefix=['city', 'state'])"
   ]
  },
  {
   "cell_type": "code",
   "execution_count": 201,
   "metadata": {},
   "outputs": [
    {
     "data": {
      "text/html": [
       "<div>\n",
       "<style scoped>\n",
       "    .dataframe tbody tr th:only-of-type {\n",
       "        vertical-align: middle;\n",
       "    }\n",
       "\n",
       "    .dataframe tbody tr th {\n",
       "        vertical-align: top;\n",
       "    }\n",
       "\n",
       "    .dataframe thead th {\n",
       "        text-align: right;\n",
       "    }\n",
       "</style>\n",
       "<table border=\"1\" class=\"dataframe\">\n",
       "  <thead>\n",
       "    <tr style=\"text-align: right;\">\n",
       "      <th></th>\n",
       "      <th>date</th>\n",
       "      <th>sales</th>\n",
       "      <th>onpromotion</th>\n",
       "      <th>oil_price</th>\n",
       "      <th>Fundacion de Manta</th>\n",
       "      <th>Provincializacion de Cotopaxi</th>\n",
       "      <th>Fundacion de Cuenca</th>\n",
       "      <th>Cantonizacion de Libertad</th>\n",
       "      <th>Cantonizacion de Riobamba</th>\n",
       "      <th>Cantonizacion del Puyo</th>\n",
       "      <th>...</th>\n",
       "      <th>state_Guayas</th>\n",
       "      <th>state_Imbabura</th>\n",
       "      <th>state_Loja</th>\n",
       "      <th>state_Los Rios</th>\n",
       "      <th>state_Manabi</th>\n",
       "      <th>state_Pastaza</th>\n",
       "      <th>state_Pichincha</th>\n",
       "      <th>state_Santa Elena</th>\n",
       "      <th>state_Santo Domingo de los Tsachilas</th>\n",
       "      <th>state_Tungurahua</th>\n",
       "    </tr>\n",
       "  </thead>\n",
       "  <tbody>\n",
       "    <tr>\n",
       "      <th>0</th>\n",
       "      <td>2013-01-01</td>\n",
       "      <td>2511.618999</td>\n",
       "      <td>0</td>\n",
       "      <td>3073.62</td>\n",
       "      <td>False</td>\n",
       "      <td>False</td>\n",
       "      <td>False</td>\n",
       "      <td>False</td>\n",
       "      <td>False</td>\n",
       "      <td>False</td>\n",
       "      <td>...</td>\n",
       "      <td>False</td>\n",
       "      <td>False</td>\n",
       "      <td>False</td>\n",
       "      <td>False</td>\n",
       "      <td>False</td>\n",
       "      <td>False</td>\n",
       "      <td>False</td>\n",
       "      <td>True</td>\n",
       "      <td>False</td>\n",
       "      <td>False</td>\n",
       "    </tr>\n",
       "    <tr>\n",
       "      <th>1</th>\n",
       "      <td>2013-01-02</td>\n",
       "      <td>2978.224000</td>\n",
       "      <td>0</td>\n",
       "      <td>3073.62</td>\n",
       "      <td>False</td>\n",
       "      <td>False</td>\n",
       "      <td>False</td>\n",
       "      <td>False</td>\n",
       "      <td>False</td>\n",
       "      <td>False</td>\n",
       "      <td>...</td>\n",
       "      <td>True</td>\n",
       "      <td>False</td>\n",
       "      <td>False</td>\n",
       "      <td>False</td>\n",
       "      <td>False</td>\n",
       "      <td>False</td>\n",
       "      <td>False</td>\n",
       "      <td>False</td>\n",
       "      <td>False</td>\n",
       "      <td>False</td>\n",
       "    </tr>\n",
       "    <tr>\n",
       "      <th>2</th>\n",
       "      <td>2013-01-02</td>\n",
       "      <td>4973.285000</td>\n",
       "      <td>0</td>\n",
       "      <td>3073.62</td>\n",
       "      <td>False</td>\n",
       "      <td>False</td>\n",
       "      <td>False</td>\n",
       "      <td>False</td>\n",
       "      <td>False</td>\n",
       "      <td>False</td>\n",
       "      <td>...</td>\n",
       "      <td>False</td>\n",
       "      <td>False</td>\n",
       "      <td>False</td>\n",
       "      <td>False</td>\n",
       "      <td>True</td>\n",
       "      <td>False</td>\n",
       "      <td>False</td>\n",
       "      <td>False</td>\n",
       "      <td>False</td>\n",
       "      <td>False</td>\n",
       "    </tr>\n",
       "  </tbody>\n",
       "</table>\n",
       "<p>3 rows × 145 columns</p>\n",
       "</div>"
      ],
      "text/plain": [
       "        date        sales  onpromotion  oil_price  Fundacion de Manta  \\\n",
       "0 2013-01-01  2511.618999            0    3073.62               False   \n",
       "1 2013-01-02  2978.224000            0    3073.62               False   \n",
       "2 2013-01-02  4973.285000            0    3073.62               False   \n",
       "\n",
       "   Provincializacion de Cotopaxi  Fundacion de Cuenca  \\\n",
       "0                          False                False   \n",
       "1                          False                False   \n",
       "2                          False                False   \n",
       "\n",
       "   Cantonizacion de Libertad  Cantonizacion de Riobamba  \\\n",
       "0                      False                      False   \n",
       "1                      False                      False   \n",
       "2                      False                      False   \n",
       "\n",
       "   Cantonizacion del Puyo  ...  state_Guayas  state_Imbabura  state_Loja  \\\n",
       "0                   False  ...         False           False       False   \n",
       "1                   False  ...          True           False       False   \n",
       "2                   False  ...         False           False       False   \n",
       "\n",
       "   state_Los Rios  state_Manabi  state_Pastaza  state_Pichincha  \\\n",
       "0           False         False          False            False   \n",
       "1           False         False          False            False   \n",
       "2           False          True          False            False   \n",
       "\n",
       "   state_Santa Elena  state_Santo Domingo de los Tsachilas  state_Tungurahua  \n",
       "0               True                                 False             False  \n",
       "1              False                                 False             False  \n",
       "2              False                                 False             False  \n",
       "\n",
       "[3 rows x 145 columns]"
      ]
     },
     "execution_count": 201,
     "metadata": {},
     "output_type": "execute_result"
    }
   ],
   "source": [
    "aggregated_df.head(3)"
   ]
  },
  {
   "cell_type": "code",
   "execution_count": 202,
   "metadata": {},
   "outputs": [],
   "source": [
    "#OLS to determine impact of each holiday across all stores"
   ]
  },
  {
   "cell_type": "code",
   "execution_count": 203,
   "metadata": {},
   "outputs": [],
   "source": [
    "# seasonality has big impact on predicted sales so need to add some variables to capture \n",
    "aggregated_df_ols = aggregated_df.copy()\n",
    "aggregated_df_ols['dow'] = aggregated_df_ols['date'].dt.dayofweek\n",
    "aggregated_df_ols['month'] = aggregated_df_ols['date'].dt.month\n",
    "aggregated_df_ols['year'] = aggregated_df_ols['date'].dt.year\n",
    "aggregated_df_ols = aggregated_df_ols.drop('date',axis=1)"
   ]
  },
  {
   "cell_type": "code",
   "execution_count": 204,
   "metadata": {},
   "outputs": [],
   "source": [
    "#model seasonality with dummy vars... do i need this?\n",
    "aggregated_df_ols_dummies =  pd.get_dummies(aggregated_df_ols, columns=['dow','month', 'year'], drop_first=True)"
   ]
  },
  {
   "cell_type": "markdown",
   "metadata": {},
   "source": [
    "# Will Adding in Feature Engineering of Oil interpolated, lag_1, and rolling mean\n",
    "### Added oil pricing up above so they would aggregate correctly."
   ]
  },
  {
   "cell_type": "code",
   "execution_count": 205,
   "metadata": {},
   "outputs": [],
   "source": [
    "# Create day of week feature\n",
    "#df_family_aggregated['day_of_week'] = df_family_aggregated['date'].dt.dayofweek\n",
    "\n",
    "# Lag sales by 1 to get previous day of sales value\n",
    "aggregated_df_ols_dummies['lag_1'] = aggregated_df_ols_dummies['sales'].shift(1)\n",
    "\n",
    "# Add rolling mean for 7-day window\n",
    "aggregated_df_ols_dummies['rolling_mean'] = aggregated_df_ols_dummies['sales'].rolling(window=7).mean()"
   ]
  },
  {
   "cell_type": "code",
   "execution_count": 208,
   "metadata": {},
   "outputs": [
    {
     "data": {
      "text/html": [
       "<div>\n",
       "<style scoped>\n",
       "    .dataframe tbody tr th:only-of-type {\n",
       "        vertical-align: middle;\n",
       "    }\n",
       "\n",
       "    .dataframe tbody tr th {\n",
       "        vertical-align: top;\n",
       "    }\n",
       "\n",
       "    .dataframe thead th {\n",
       "        text-align: right;\n",
       "    }\n",
       "</style>\n",
       "<table border=\"1\" class=\"dataframe\">\n",
       "  <thead>\n",
       "    <tr style=\"text-align: right;\">\n",
       "      <th></th>\n",
       "      <th>sales</th>\n",
       "      <th>onpromotion</th>\n",
       "      <th>oil_price</th>\n",
       "      <th>Fundacion de Manta</th>\n",
       "      <th>Provincializacion de Cotopaxi</th>\n",
       "      <th>Fundacion de Cuenca</th>\n",
       "      <th>Cantonizacion de Libertad</th>\n",
       "      <th>Cantonizacion de Riobamba</th>\n",
       "      <th>Cantonizacion del Puyo</th>\n",
       "      <th>Cantonizacion de Guaranda</th>\n",
       "      <th>...</th>\n",
       "      <th>month_9</th>\n",
       "      <th>month_10</th>\n",
       "      <th>month_11</th>\n",
       "      <th>month_12</th>\n",
       "      <th>year_2014</th>\n",
       "      <th>year_2015</th>\n",
       "      <th>year_2016</th>\n",
       "      <th>year_2017</th>\n",
       "      <th>lag_1</th>\n",
       "      <th>rolling_mean</th>\n",
       "    </tr>\n",
       "  </thead>\n",
       "  <tbody>\n",
       "    <tr>\n",
       "      <th>0</th>\n",
       "      <td>2511.618999</td>\n",
       "      <td>0</td>\n",
       "      <td>3073.62</td>\n",
       "      <td>False</td>\n",
       "      <td>False</td>\n",
       "      <td>False</td>\n",
       "      <td>False</td>\n",
       "      <td>False</td>\n",
       "      <td>False</td>\n",
       "      <td>False</td>\n",
       "      <td>...</td>\n",
       "      <td>False</td>\n",
       "      <td>False</td>\n",
       "      <td>False</td>\n",
       "      <td>False</td>\n",
       "      <td>False</td>\n",
       "      <td>False</td>\n",
       "      <td>False</td>\n",
       "      <td>False</td>\n",
       "      <td>NaN</td>\n",
       "      <td>NaN</td>\n",
       "    </tr>\n",
       "    <tr>\n",
       "      <th>1</th>\n",
       "      <td>2978.224000</td>\n",
       "      <td>0</td>\n",
       "      <td>3073.62</td>\n",
       "      <td>False</td>\n",
       "      <td>False</td>\n",
       "      <td>False</td>\n",
       "      <td>False</td>\n",
       "      <td>False</td>\n",
       "      <td>False</td>\n",
       "      <td>False</td>\n",
       "      <td>...</td>\n",
       "      <td>False</td>\n",
       "      <td>False</td>\n",
       "      <td>False</td>\n",
       "      <td>False</td>\n",
       "      <td>False</td>\n",
       "      <td>False</td>\n",
       "      <td>False</td>\n",
       "      <td>False</td>\n",
       "      <td>2511.618999</td>\n",
       "      <td>NaN</td>\n",
       "    </tr>\n",
       "    <tr>\n",
       "      <th>2</th>\n",
       "      <td>4973.285000</td>\n",
       "      <td>0</td>\n",
       "      <td>3073.62</td>\n",
       "      <td>False</td>\n",
       "      <td>False</td>\n",
       "      <td>False</td>\n",
       "      <td>False</td>\n",
       "      <td>False</td>\n",
       "      <td>False</td>\n",
       "      <td>False</td>\n",
       "      <td>...</td>\n",
       "      <td>False</td>\n",
       "      <td>False</td>\n",
       "      <td>False</td>\n",
       "      <td>False</td>\n",
       "      <td>False</td>\n",
       "      <td>False</td>\n",
       "      <td>False</td>\n",
       "      <td>False</td>\n",
       "      <td>2978.224000</td>\n",
       "      <td>NaN</td>\n",
       "    </tr>\n",
       "  </tbody>\n",
       "</table>\n",
       "<p>3 rows × 165 columns</p>\n",
       "</div>"
      ],
      "text/plain": [
       "         sales  onpromotion  oil_price  Fundacion de Manta  \\\n",
       "0  2511.618999            0    3073.62               False   \n",
       "1  2978.224000            0    3073.62               False   \n",
       "2  4973.285000            0    3073.62               False   \n",
       "\n",
       "   Provincializacion de Cotopaxi  Fundacion de Cuenca  \\\n",
       "0                          False                False   \n",
       "1                          False                False   \n",
       "2                          False                False   \n",
       "\n",
       "   Cantonizacion de Libertad  Cantonizacion de Riobamba  \\\n",
       "0                      False                      False   \n",
       "1                      False                      False   \n",
       "2                      False                      False   \n",
       "\n",
       "   Cantonizacion del Puyo  Cantonizacion de Guaranda  ...  month_9  month_10  \\\n",
       "0                   False                      False  ...    False     False   \n",
       "1                   False                      False  ...    False     False   \n",
       "2                   False                      False  ...    False     False   \n",
       "\n",
       "   month_11  month_12  year_2014  year_2015  year_2016  year_2017  \\\n",
       "0     False     False      False      False      False      False   \n",
       "1     False     False      False      False      False      False   \n",
       "2     False     False      False      False      False      False   \n",
       "\n",
       "         lag_1  rolling_mean  \n",
       "0          NaN           NaN  \n",
       "1  2511.618999           NaN  \n",
       "2  2978.224000           NaN  \n",
       "\n",
       "[3 rows x 165 columns]"
      ]
     },
     "execution_count": 208,
     "metadata": {},
     "output_type": "execute_result"
    }
   ],
   "source": [
    "aggregated_df_ols_dummies.head(3)"
   ]
  },
  {
   "cell_type": "code",
   "execution_count": 211,
   "metadata": {},
   "outputs": [],
   "source": [
    "aggregated_df_ols_dummies.to_pickle('aggregated_df_ols_dummies.pkl')"
   ]
  },
  {
   "cell_type": "markdown",
   "metadata": {},
   "source": [
    "# Further Modeling"
   ]
  },
  {
   "cell_type": "code",
   "execution_count": 17,
   "metadata": {},
   "outputs": [],
   "source": [
    "X = aggregated_df_ols_dummies.drop('sales',axis=1)\n",
    "# add constant for linear regression\n",
    "X = sm.add_constant(X)\n",
    "X = X.astype(int)\n",
    "y=aggregated_df_ols_dummies['sales']"
   ]
  },
  {
   "cell_type": "code",
   "execution_count": 18,
   "metadata": {},
   "outputs": [],
   "source": [
    "model_OLS = sm.OLS(y,X).fit()\n",
    "model_summary = model_OLS.summary()"
   ]
  },
  {
   "cell_type": "code",
   "execution_count": null,
   "metadata": {},
   "outputs": [],
   "source": [
    "aggregated_df_ols_dummies"
   ]
  },
  {
   "cell_type": "code",
   "execution_count": 19,
   "metadata": {},
   "outputs": [],
   "source": [
    "# remove features that have p value >.10 \n",
    "# ... no xmas day in trainset\n",
    "pvalues = model_OLS.pvalues\n",
    "alpha = .05\n",
    "drop_columns = pvalues[pvalues>alpha]\n",
    "drop_cols = list(drop_columns.index)\n",
    "# manually keeping non holiday columns\n",
    "#most date columns were significant except for these 3 months. still would like to keep so there arent holes in date\n",
    "drop_cols.remove('month_3')\n",
    "drop_cols.remove('month_7')\n",
    "drop_cols.remove('month_9')\n",
    "drop_cols.remove('month_10')\n",
    "drop_cols.remove('month_11')\n",
    "drop_cols.remove('city_Ambato')\n",
    "drop_cols.remove('state_Tungurahua')\n",
    "drop_cols.remove('state_Guayas')"
   ]
  },
  {
   "cell_type": "code",
   "execution_count": 20,
   "metadata": {},
   "outputs": [],
   "source": [
    "#values2 = pd.DataFrame(pvalues).reset_index()\n",
    "#pvalues2.rename(columns={'index':'holiday',0:'p'} , inplace=True)\n",
    "#pvalues2"
   ]
  },
  {
   "cell_type": "code",
   "execution_count": 21,
   "metadata": {},
   "outputs": [
    {
     "name": "stdout",
     "output_type": "stream",
     "text": [
      "81 holidays droped out of 103 . 22 unique holidays remain\n"
     ]
    }
   ],
   "source": [
    "print(len(drop_cols), 'holidays droped out of', len(unique_holis2),'.', len(unique_holis2)-len(drop_cols) ,'unique holidays remain' )"
   ]
  },
  {
   "cell_type": "code",
   "execution_count": 22,
   "metadata": {},
   "outputs": [],
   "source": [
    "df_holi_shortened = df_holidays_real[~df_holidays_real['description'].isin(drop_cols)]\n",
    "df_holi_shortened = df_holi_shortened.drop(['type','locale','locale_name','transferred'],axis=1)"
   ]
  },
  {
   "cell_type": "code",
   "execution_count": 23,
   "metadata": {},
   "outputs": [],
   "source": [
    "# unique holidays from the reduced holidays list\n",
    "unique_holidays = df_holi_shortened['description'].unique()\n",
    "filtered_holidays = df_holidays[df_holidays['description'].isin(unique_holidays)]"
   ]
  },
  {
   "cell_type": "code",
   "execution_count": 24,
   "metadata": {},
   "outputs": [],
   "source": [
    "#separate these out because they have differenct merge conditions\n",
    "national_holidays_filtered = filtered_holidays[filtered_holidays['locale']=='National'].loc[:,('date','description')]\n",
    "local_holidays_filtered = filtered_holidays[filtered_holidays['locale']=='Local'].loc[:,('date','description','locale_name')]\n",
    "state_holidays_filtered = filtered_holidays[filtered_holidays['locale']=='Regional'].loc[:,('date','description','locale_name')]"
   ]
  },
  {
   "cell_type": "code",
   "execution_count": 25,
   "metadata": {},
   "outputs": [],
   "source": [
    "# unique holidays from the reduced holidays list\n",
    "unique_holidays = df_holi_shortened['description'].unique()"
   ]
  },
  {
   "cell_type": "code",
   "execution_count": null,
   "metadata": {},
   "outputs": [],
   "source": []
  },
  {
   "cell_type": "markdown",
   "metadata": {},
   "source": [
    "#### combine train to holidays ####"
   ]
  },
  {
   "cell_type": "code",
   "execution_count": 26,
   "metadata": {},
   "outputs": [],
   "source": [
    "# unique holidays from the reduced holidays list\n",
    "filtered_holidays = df_holidays[df_holidays['description'].isin(unique_holidays)]\n",
    "#separate locales out because they have differenct merge conditions\n",
    "national_holidays_filtered = filtered_holidays[filtered_holidays['locale']=='National'].loc[:,('date','description')]\n",
    "local_holidays_filtered = filtered_holidays[filtered_holidays['locale']=='Local'].loc[:,('date','description','locale_name')]\n",
    "state_holidays_filtered = filtered_holidays[filtered_holidays['locale']=='Regional'].loc[:,('date','description','locale_name')]"
   ]
  },
  {
   "cell_type": "code",
   "execution_count": 27,
   "metadata": {},
   "outputs": [],
   "source": [
    "def train_to_holiday_merge(train, national_holidays_filtered, state_holidays_filtered, local_holidays_filtered):\n",
    "    train['date'] = pd.to_datetime(train['date'])\n",
    "    df_train_filtered = pd.merge(train, national_holidays_filtered, how='left', on='date')\n",
    "    df_train_filtered = pd.merge(df_train_filtered, state_holidays_filtered, how='left', left_on=['date', 'state'], right_on=['date','locale_name'])\n",
    "    df_train_filtered = pd.merge(df_train_filtered, local_holidays_filtered, how='left', left_on=['date', 'city'], right_on=['date','locale_name'])\n",
    "    df_train_filtered['holiday'] = df_train_filtered['description_x'].combine_first(df_train_filtered['description_y']).combine_first(df_train_filtered['description'])\n",
    "\n",
    "    df_train_filtered = df_train_filtered.drop(['locale_name_x','locale_name_y','description','description_x','description_y'],axis=1)\n",
    "    return df_train_filtered"
   ]
  },
  {
   "cell_type": "code",
   "execution_count": 28,
   "metadata": {},
   "outputs": [],
   "source": [
    "df_train_filtered = train_to_holiday_merge(df_train_shortened, national_holidays_filtered, state_holidays_filtered,local_holidays_filtered)"
   ]
  },
  {
   "cell_type": "code",
   "execution_count": null,
   "metadata": {},
   "outputs": [],
   "source": []
  },
  {
   "cell_type": "markdown",
   "metadata": {},
   "source": [
    "#### combine oil and train ####"
   ]
  },
  {
   "cell_type": "code",
   "execution_count": 29,
   "metadata": {},
   "outputs": [],
   "source": [
    "def train_to_oil_merge(train, oil):\n",
    "    df_oil['date'] = pd.to_datetime(df_oil['date'])\n",
    "    df = pd.merge(train,oil, how='left', on='date')\n",
    "    return df"
   ]
  },
  {
   "cell_type": "code",
   "execution_count": 30,
   "metadata": {},
   "outputs": [
    {
     "data": {
      "text/html": [
       "<div>\n",
       "<style scoped>\n",
       "    .dataframe tbody tr th:only-of-type {\n",
       "        vertical-align: middle;\n",
       "    }\n",
       "\n",
       "    .dataframe tbody tr th {\n",
       "        vertical-align: top;\n",
       "    }\n",
       "\n",
       "    .dataframe thead th {\n",
       "        text-align: right;\n",
       "    }\n",
       "</style>\n",
       "<table border=\"1\" class=\"dataframe\">\n",
       "  <thead>\n",
       "    <tr style=\"text-align: right;\">\n",
       "      <th></th>\n",
       "      <th>date</th>\n",
       "      <th>store_nbr</th>\n",
       "      <th>family</th>\n",
       "      <th>sales</th>\n",
       "      <th>onpromotion</th>\n",
       "      <th>cluster</th>\n",
       "      <th>holiday</th>\n",
       "      <th>dcoilwtico</th>\n",
       "    </tr>\n",
       "  </thead>\n",
       "  <tbody>\n",
       "    <tr>\n",
       "      <th>0</th>\n",
       "      <td>2013-01-02</td>\n",
       "      <td>1</td>\n",
       "      <td>AUTOMOTIVE</td>\n",
       "      <td>2.000</td>\n",
       "      <td>0</td>\n",
       "      <td>13</td>\n",
       "      <td>NaN</td>\n",
       "      <td>93.14</td>\n",
       "    </tr>\n",
       "    <tr>\n",
       "      <th>1</th>\n",
       "      <td>2013-01-02</td>\n",
       "      <td>1</td>\n",
       "      <td>BABY CARE</td>\n",
       "      <td>0.000</td>\n",
       "      <td>0</td>\n",
       "      <td>13</td>\n",
       "      <td>NaN</td>\n",
       "      <td>93.14</td>\n",
       "    </tr>\n",
       "    <tr>\n",
       "      <th>2</th>\n",
       "      <td>2013-01-02</td>\n",
       "      <td>1</td>\n",
       "      <td>BEAUTY</td>\n",
       "      <td>2.000</td>\n",
       "      <td>0</td>\n",
       "      <td>13</td>\n",
       "      <td>NaN</td>\n",
       "      <td>93.14</td>\n",
       "    </tr>\n",
       "    <tr>\n",
       "      <th>3</th>\n",
       "      <td>2013-01-02</td>\n",
       "      <td>1</td>\n",
       "      <td>BEVERAGES</td>\n",
       "      <td>1091.000</td>\n",
       "      <td>0</td>\n",
       "      <td>13</td>\n",
       "      <td>NaN</td>\n",
       "      <td>93.14</td>\n",
       "    </tr>\n",
       "    <tr>\n",
       "      <th>4</th>\n",
       "      <td>2013-01-02</td>\n",
       "      <td>1</td>\n",
       "      <td>BOOKS</td>\n",
       "      <td>0.000</td>\n",
       "      <td>0</td>\n",
       "      <td>13</td>\n",
       "      <td>NaN</td>\n",
       "      <td>93.14</td>\n",
       "    </tr>\n",
       "    <tr>\n",
       "      <th>...</th>\n",
       "      <td>...</td>\n",
       "      <td>...</td>\n",
       "      <td>...</td>\n",
       "      <td>...</td>\n",
       "      <td>...</td>\n",
       "      <td>...</td>\n",
       "      <td>...</td>\n",
       "      <td>...</td>\n",
       "    </tr>\n",
       "    <tr>\n",
       "      <th>2778826</th>\n",
       "      <td>2017-08-15</td>\n",
       "      <td>9</td>\n",
       "      <td>POULTRY</td>\n",
       "      <td>438.133</td>\n",
       "      <td>0</td>\n",
       "      <td>6</td>\n",
       "      <td>NaN</td>\n",
       "      <td>47.57</td>\n",
       "    </tr>\n",
       "    <tr>\n",
       "      <th>2778827</th>\n",
       "      <td>2017-08-15</td>\n",
       "      <td>9</td>\n",
       "      <td>PREPARED FOODS</td>\n",
       "      <td>154.553</td>\n",
       "      <td>1</td>\n",
       "      <td>6</td>\n",
       "      <td>NaN</td>\n",
       "      <td>47.57</td>\n",
       "    </tr>\n",
       "    <tr>\n",
       "      <th>2778828</th>\n",
       "      <td>2017-08-15</td>\n",
       "      <td>9</td>\n",
       "      <td>PRODUCE</td>\n",
       "      <td>2419.729</td>\n",
       "      <td>148</td>\n",
       "      <td>6</td>\n",
       "      <td>NaN</td>\n",
       "      <td>47.57</td>\n",
       "    </tr>\n",
       "    <tr>\n",
       "      <th>2778829</th>\n",
       "      <td>2017-08-15</td>\n",
       "      <td>9</td>\n",
       "      <td>SCHOOL AND OFFICE SUPPLIES</td>\n",
       "      <td>121.000</td>\n",
       "      <td>8</td>\n",
       "      <td>6</td>\n",
       "      <td>NaN</td>\n",
       "      <td>47.57</td>\n",
       "    </tr>\n",
       "    <tr>\n",
       "      <th>2778830</th>\n",
       "      <td>2017-08-15</td>\n",
       "      <td>9</td>\n",
       "      <td>SEAFOOD</td>\n",
       "      <td>16.000</td>\n",
       "      <td>0</td>\n",
       "      <td>6</td>\n",
       "      <td>NaN</td>\n",
       "      <td>47.57</td>\n",
       "    </tr>\n",
       "  </tbody>\n",
       "</table>\n",
       "<p>2778831 rows × 8 columns</p>\n",
       "</div>"
      ],
      "text/plain": [
       "              date  store_nbr                      family     sales  \\\n",
       "0       2013-01-02          1                  AUTOMOTIVE     2.000   \n",
       "1       2013-01-02          1                   BABY CARE     0.000   \n",
       "2       2013-01-02          1                      BEAUTY     2.000   \n",
       "3       2013-01-02          1                   BEVERAGES  1091.000   \n",
       "4       2013-01-02          1                       BOOKS     0.000   \n",
       "...            ...        ...                         ...       ...   \n",
       "2778826 2017-08-15          9                     POULTRY   438.133   \n",
       "2778827 2017-08-15          9              PREPARED FOODS   154.553   \n",
       "2778828 2017-08-15          9                     PRODUCE  2419.729   \n",
       "2778829 2017-08-15          9  SCHOOL AND OFFICE SUPPLIES   121.000   \n",
       "2778830 2017-08-15          9                     SEAFOOD    16.000   \n",
       "\n",
       "         onpromotion  cluster holiday  dcoilwtico  \n",
       "0                  0       13     NaN       93.14  \n",
       "1                  0       13     NaN       93.14  \n",
       "2                  0       13     NaN       93.14  \n",
       "3                  0       13     NaN       93.14  \n",
       "4                  0       13     NaN       93.14  \n",
       "...              ...      ...     ...         ...  \n",
       "2778826            0        6     NaN       47.57  \n",
       "2778827            1        6     NaN       47.57  \n",
       "2778828          148        6     NaN       47.57  \n",
       "2778829            8        6     NaN       47.57  \n",
       "2778830            0        6     NaN       47.57  \n",
       "\n",
       "[2778831 rows x 8 columns]"
      ]
     },
     "execution_count": 30,
     "metadata": {},
     "output_type": "execute_result"
    }
   ],
   "source": [
    "df_train_merged = train_to_oil_merge(df_train_filtered, df_oil)\n",
    "\n",
    "df_train_merged = df_train_merged.drop(['id','city','state', 'type'], axis=1)\n",
    "\n",
    "df_train_merged"
   ]
  },
  {
   "cell_type": "code",
   "execution_count": null,
   "metadata": {},
   "outputs": [],
   "source": []
  },
  {
   "cell_type": "code",
   "execution_count": 31,
   "metadata": {},
   "outputs": [],
   "source": [
    "#df_train_merged.to_pickle(df_train.pkl)"
   ]
  },
  {
   "cell_type": "code",
   "execution_count": null,
   "metadata": {},
   "outputs": [],
   "source": []
  },
  {
   "cell_type": "code",
   "execution_count": null,
   "metadata": {},
   "outputs": [],
   "source": []
  },
  {
   "cell_type": "code",
   "execution_count": null,
   "metadata": {},
   "outputs": [],
   "source": []
  },
  {
   "cell_type": "code",
   "execution_count": null,
   "metadata": {},
   "outputs": [],
   "source": []
  },
  {
   "cell_type": "code",
   "execution_count": null,
   "metadata": {},
   "outputs": [],
   "source": []
  },
  {
   "cell_type": "code",
   "execution_count": null,
   "metadata": {},
   "outputs": [],
   "source": []
  },
  {
   "cell_type": "code",
   "execution_count": null,
   "metadata": {},
   "outputs": [],
   "source": []
  },
  {
   "cell_type": "markdown",
   "metadata": {},
   "source": [
    "## Transformations on test data ##"
   ]
  },
  {
   "cell_type": "code",
   "execution_count": 32,
   "metadata": {},
   "outputs": [
    {
     "ename": "KeyError",
     "evalue": "\"['id', 'city', 'state', 'type'] not found in axis\"",
     "output_type": "error",
     "traceback": [
      "\u001b[0;31m---------------------------------------------------------------------------\u001b[0m",
      "\u001b[0;31mKeyError\u001b[0m                                  Traceback (most recent call last)",
      "Cell \u001b[0;32mIn[32], line 4\u001b[0m\n\u001b[1;32m      2\u001b[0m df_test_transformed \u001b[38;5;241m=\u001b[39m train_to_holiday_merge(df_test_transformed, national_holidays_filtered, state_holidays_filtered, local_holidays_filtered)\n\u001b[1;32m      3\u001b[0m df_test_transformed \u001b[38;5;241m=\u001b[39m train_to_oil_merge(df_test_transformed, df_oil)\n\u001b[0;32m----> 4\u001b[0m df_test_transformed \u001b[38;5;241m=\u001b[39m df_test_transformed\u001b[38;5;241m.\u001b[39mdrop([\u001b[38;5;124m'\u001b[39m\u001b[38;5;124mid\u001b[39m\u001b[38;5;124m'\u001b[39m,\u001b[38;5;124m'\u001b[39m\u001b[38;5;124mcity\u001b[39m\u001b[38;5;124m'\u001b[39m,\u001b[38;5;124m'\u001b[39m\u001b[38;5;124mstate\u001b[39m\u001b[38;5;124m'\u001b[39m, \u001b[38;5;124m'\u001b[39m\u001b[38;5;124mtype\u001b[39m\u001b[38;5;124m'\u001b[39m])\n",
      "File \u001b[0;32m~/anaconda3/lib/python3.11/site-packages/pandas/core/frame.py:5258\u001b[0m, in \u001b[0;36mDataFrame.drop\u001b[0;34m(self, labels, axis, index, columns, level, inplace, errors)\u001b[0m\n\u001b[1;32m   5110\u001b[0m \u001b[38;5;28;01mdef\u001b[39;00m \u001b[38;5;21mdrop\u001b[39m(\n\u001b[1;32m   5111\u001b[0m     \u001b[38;5;28mself\u001b[39m,\n\u001b[1;32m   5112\u001b[0m     labels: IndexLabel \u001b[38;5;241m=\u001b[39m \u001b[38;5;28;01mNone\u001b[39;00m,\n\u001b[0;32m   (...)\u001b[0m\n\u001b[1;32m   5119\u001b[0m     errors: IgnoreRaise \u001b[38;5;241m=\u001b[39m \u001b[38;5;124m\"\u001b[39m\u001b[38;5;124mraise\u001b[39m\u001b[38;5;124m\"\u001b[39m,\n\u001b[1;32m   5120\u001b[0m ) \u001b[38;5;241m-\u001b[39m\u001b[38;5;241m>\u001b[39m DataFrame \u001b[38;5;241m|\u001b[39m \u001b[38;5;28;01mNone\u001b[39;00m:\n\u001b[1;32m   5121\u001b[0m \u001b[38;5;250m    \u001b[39m\u001b[38;5;124;03m\"\"\"\u001b[39;00m\n\u001b[1;32m   5122\u001b[0m \u001b[38;5;124;03m    Drop specified labels from rows or columns.\u001b[39;00m\n\u001b[1;32m   5123\u001b[0m \n\u001b[0;32m   (...)\u001b[0m\n\u001b[1;32m   5256\u001b[0m \u001b[38;5;124;03m            weight  1.0     0.8\u001b[39;00m\n\u001b[1;32m   5257\u001b[0m \u001b[38;5;124;03m    \"\"\"\u001b[39;00m\n\u001b[0;32m-> 5258\u001b[0m     \u001b[38;5;28;01mreturn\u001b[39;00m \u001b[38;5;28msuper\u001b[39m()\u001b[38;5;241m.\u001b[39mdrop(\n\u001b[1;32m   5259\u001b[0m         labels\u001b[38;5;241m=\u001b[39mlabels,\n\u001b[1;32m   5260\u001b[0m         axis\u001b[38;5;241m=\u001b[39maxis,\n\u001b[1;32m   5261\u001b[0m         index\u001b[38;5;241m=\u001b[39mindex,\n\u001b[1;32m   5262\u001b[0m         columns\u001b[38;5;241m=\u001b[39mcolumns,\n\u001b[1;32m   5263\u001b[0m         level\u001b[38;5;241m=\u001b[39mlevel,\n\u001b[1;32m   5264\u001b[0m         inplace\u001b[38;5;241m=\u001b[39minplace,\n\u001b[1;32m   5265\u001b[0m         errors\u001b[38;5;241m=\u001b[39merrors,\n\u001b[1;32m   5266\u001b[0m     )\n",
      "File \u001b[0;32m~/anaconda3/lib/python3.11/site-packages/pandas/core/generic.py:4549\u001b[0m, in \u001b[0;36mNDFrame.drop\u001b[0;34m(self, labels, axis, index, columns, level, inplace, errors)\u001b[0m\n\u001b[1;32m   4547\u001b[0m \u001b[38;5;28;01mfor\u001b[39;00m axis, labels \u001b[38;5;129;01min\u001b[39;00m axes\u001b[38;5;241m.\u001b[39mitems():\n\u001b[1;32m   4548\u001b[0m     \u001b[38;5;28;01mif\u001b[39;00m labels \u001b[38;5;129;01mis\u001b[39;00m \u001b[38;5;129;01mnot\u001b[39;00m \u001b[38;5;28;01mNone\u001b[39;00m:\n\u001b[0;32m-> 4549\u001b[0m         obj \u001b[38;5;241m=\u001b[39m obj\u001b[38;5;241m.\u001b[39m_drop_axis(labels, axis, level\u001b[38;5;241m=\u001b[39mlevel, errors\u001b[38;5;241m=\u001b[39merrors)\n\u001b[1;32m   4551\u001b[0m \u001b[38;5;28;01mif\u001b[39;00m inplace:\n\u001b[1;32m   4552\u001b[0m     \u001b[38;5;28mself\u001b[39m\u001b[38;5;241m.\u001b[39m_update_inplace(obj)\n",
      "File \u001b[0;32m~/anaconda3/lib/python3.11/site-packages/pandas/core/generic.py:4591\u001b[0m, in \u001b[0;36mNDFrame._drop_axis\u001b[0;34m(self, labels, axis, level, errors, only_slice)\u001b[0m\n\u001b[1;32m   4589\u001b[0m         new_axis \u001b[38;5;241m=\u001b[39m axis\u001b[38;5;241m.\u001b[39mdrop(labels, level\u001b[38;5;241m=\u001b[39mlevel, errors\u001b[38;5;241m=\u001b[39merrors)\n\u001b[1;32m   4590\u001b[0m     \u001b[38;5;28;01melse\u001b[39;00m:\n\u001b[0;32m-> 4591\u001b[0m         new_axis \u001b[38;5;241m=\u001b[39m axis\u001b[38;5;241m.\u001b[39mdrop(labels, errors\u001b[38;5;241m=\u001b[39merrors)\n\u001b[1;32m   4592\u001b[0m     indexer \u001b[38;5;241m=\u001b[39m axis\u001b[38;5;241m.\u001b[39mget_indexer(new_axis)\n\u001b[1;32m   4594\u001b[0m \u001b[38;5;66;03m# Case for non-unique axis\u001b[39;00m\n\u001b[1;32m   4595\u001b[0m \u001b[38;5;28;01melse\u001b[39;00m:\n",
      "File \u001b[0;32m~/anaconda3/lib/python3.11/site-packages/pandas/core/indexes/base.py:6699\u001b[0m, in \u001b[0;36mIndex.drop\u001b[0;34m(self, labels, errors)\u001b[0m\n\u001b[1;32m   6697\u001b[0m \u001b[38;5;28;01mif\u001b[39;00m mask\u001b[38;5;241m.\u001b[39many():\n\u001b[1;32m   6698\u001b[0m     \u001b[38;5;28;01mif\u001b[39;00m errors \u001b[38;5;241m!=\u001b[39m \u001b[38;5;124m\"\u001b[39m\u001b[38;5;124mignore\u001b[39m\u001b[38;5;124m\"\u001b[39m:\n\u001b[0;32m-> 6699\u001b[0m         \u001b[38;5;28;01mraise\u001b[39;00m \u001b[38;5;167;01mKeyError\u001b[39;00m(\u001b[38;5;124mf\u001b[39m\u001b[38;5;124m\"\u001b[39m\u001b[38;5;132;01m{\u001b[39;00m\u001b[38;5;28mlist\u001b[39m(labels[mask])\u001b[38;5;132;01m}\u001b[39;00m\u001b[38;5;124m not found in axis\u001b[39m\u001b[38;5;124m\"\u001b[39m)\n\u001b[1;32m   6700\u001b[0m     indexer \u001b[38;5;241m=\u001b[39m indexer[\u001b[38;5;241m~\u001b[39mmask]\n\u001b[1;32m   6701\u001b[0m \u001b[38;5;28;01mreturn\u001b[39;00m \u001b[38;5;28mself\u001b[39m\u001b[38;5;241m.\u001b[39mdelete(indexer)\n",
      "\u001b[0;31mKeyError\u001b[0m: \"['id', 'city', 'state', 'type'] not found in axis\""
     ]
    }
   ],
   "source": [
    "df_test_transformed = train_to_store_merge(df_test, df_stores)\n",
    "df_test_transformed = train_to_holiday_merge(df_test_transformed, national_holidays_filtered, state_holidays_filtered, local_holidays_filtered)\n",
    "df_test_transformed = train_to_oil_merge(df_test_transformed, df_oil)\n",
    "df_test_transformed = df_test_transformed.drop(['id','city','state', 'type'])"
   ]
  },
  {
   "cell_type": "code",
   "execution_count": null,
   "metadata": {},
   "outputs": [],
   "source": [
    "df_test_transformed"
   ]
  },
  {
   "cell_type": "code",
   "execution_count": null,
   "metadata": {},
   "outputs": [],
   "source": []
  },
  {
   "cell_type": "code",
   "execution_count": null,
   "metadata": {},
   "outputs": [],
   "source": [
    "df_dummies = pd.get_dummies(df_test_transformed, columns=['store_nbr','holiday']) ## add family pca here maybe?"
   ]
  },
  {
   "cell_type": "code",
   "execution_count": null,
   "metadata": {},
   "outputs": [],
   "source": [
    "#df_dummies.to_pickle(df_test.pkl)"
   ]
  },
  {
   "cell_type": "code",
   "execution_count": null,
   "metadata": {},
   "outputs": [],
   "source": []
  },
  {
   "cell_type": "code",
   "execution_count": null,
   "metadata": {},
   "outputs": [],
   "source": [
    "#df_test = pd.read_pickle('df_test.pkl')\n",
    "#df_train = pd.read_pickle('df_train.pkl')"
   ]
  }
 ],
 "metadata": {
  "kernelspec": {
   "display_name": "Python 3 (ipykernel)",
   "language": "python",
   "name": "python3"
  },
  "language_info": {
   "codemirror_mode": {
    "name": "ipython",
    "version": 3
   },
   "file_extension": ".py",
   "mimetype": "text/x-python",
   "name": "python",
   "nbconvert_exporter": "python",
   "pygments_lexer": "ipython3",
   "version": "3.11.5"
  }
 },
 "nbformat": 4,
 "nbformat_minor": 4
}
