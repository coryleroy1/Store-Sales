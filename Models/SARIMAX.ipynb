{
 "cells": [
  {
   "cell_type": "code",
   "execution_count": 487,
   "id": "1eda8177",
   "metadata": {},
   "outputs": [],
   "source": [
    "# Connect to server\n",
    "#import pyodbc\n",
    "#from dotenv import dotenv_values\n",
    "\n",
    "# Datetime\n",
    "from datetime import datetime\n",
    "\n",
    "# Data manipulation\n",
    "import numpy as np\n",
    "import pandas as pd\n",
    "\n",
    "# Visualization\n",
    "import matplotlib.pyplot as plt\n",
    "import plotly.graph_objects as go\n",
    "import plotly.express as px\n",
    "from plotly.subplots import make_subplots\n",
    "import seaborn as sns\n",
    "import missingno as msno\n",
    "\n",
    "# Decomposition\n",
    "from statsmodels.tsa.seasonal import seasonal_decompose\n",
    "\n",
    "# Statistical Analysis\n",
    "import scipy.stats as stats\n",
    "from statsmodels.stats.weightstats import ttest_ind\n",
    "import statsmodels.api as sm\n",
    "#from pmdarima.arima import CHTest, nsdiffs\n",
    "#from arch.unitroot import ADF, KPSS\n",
    "from statsmodels.stats.diagnostic import acorr_ljungbox\n",
    "#import phik\n",
    "from statsmodels.tsa.arima.model import ARIMA\n",
    "from statsmodels.tsa.statespace.sarimax import SARIMAX\n",
    "from statsmodels.tsa.holtwinters import ExponentialSmoothing\n",
    "\n",
    "# Machine Learning Modeling\n",
    "from sklearn.preprocessing import StandardScaler, MinMaxScaler\n",
    "from sklearn.compose import ColumnTransformer\n",
    "from sklearn.linear_model import LinearRegression\n",
    "from sklearn.model_selection import RandomizedSearchCV\n",
    "#import xgboost as xgb\n",
    "from sklearn.metrics import mean_squared_error\n",
    "import joblib\n",
    "from sklearn.pipeline import Pipeline\n",
    "\n",
    "import os\n",
    "\n",
    "import random\n",
    "\n",
    "import warnings\n",
    "\n",
    "# ignore warnings\n",
    "warnings.filterwarnings('ignore')\n",
    "\n",
    "from pathlib import Path, PureWindowsPath"
   ]
  },
  {
   "cell_type": "code",
   "execution_count": 427,
   "id": "10621111-ed45-40b4-beb8-7634047fe9a4",
   "metadata": {},
   "outputs": [],
   "source": [
    "#! pip install missingno"
   ]
  },
  {
   "cell_type": "markdown",
   "id": "c67ef79e",
   "metadata": {},
   "source": [
    "### Import data"
   ]
  },
  {
   "cell_type": "code",
   "execution_count": 488,
   "id": "13bda86b-5def-4708-b410-65d53a848eaa",
   "metadata": {},
   "outputs": [],
   "source": [
    "path_cwd = Path(PureWindowsPath(os.path.dirname(os.getcwd())))\n",
    "path_cwd\n",
    "path = path_cwd / 'Feature Engineering'"
   ]
  },
  {
   "cell_type": "code",
   "execution_count": null,
   "id": "5feb5200-b9c6-4ef8-bf81-06c2c119e15d",
   "metadata": {},
   "outputs": [],
   "source": []
  },
  {
   "cell_type": "code",
   "execution_count": 489,
   "id": "645a5ff8-6d23-4eb8-bf1b-7ecb92da0d69",
   "metadata": {},
   "outputs": [],
   "source": [
    "train_data = pd.read_pickle(path / 'df_train.pkl')\n",
    "val_data = pd.read_pickle(path / 'df_val.pkl')\n",
    "test_data = pd.read_pickle(path / 'df_test.pkl')"
   ]
  },
  {
   "cell_type": "code",
   "execution_count": 490,
   "id": "cde5b345-7998-4485-8f70-ebee937d9aa1",
   "metadata": {},
   "outputs": [],
   "source": [
    "train_data_ols = pd.read_pickle(path / 'df_train_ols.pkl')\n",
    "val_data_ols = pd.read_pickle(path / 'df_val_ols.pkl')\n",
    "test_data_ols = pd.read_pickle(path / 'df_test_ols.pkl')"
   ]
  },
  {
   "cell_type": "code",
   "execution_count": null,
   "id": "942b5ae2-71bb-410b-ac71-c325ce026a49",
   "metadata": {},
   "outputs": [],
   "source": []
  },
  {
   "cell_type": "code",
   "execution_count": null,
   "id": "d9733a76-2d06-4917-842a-6be067aae555",
   "metadata": {},
   "outputs": [],
   "source": []
  },
  {
   "cell_type": "code",
   "execution_count": null,
   "id": "527da393-24da-44a2-a695-ddbd83440e7a",
   "metadata": {},
   "outputs": [],
   "source": []
  },
  {
   "cell_type": "code",
   "execution_count": null,
   "id": "84f44ff2-23a6-4e4d-99c2-4fcb15f2fcfa",
   "metadata": {},
   "outputs": [],
   "source": []
  },
  {
   "cell_type": "code",
   "execution_count": 12,
   "id": "3df177c6",
   "metadata": {},
   "outputs": [],
   "source": [
    "def parser(s):\n",
    "    return datetime.strptime(s, '%Y-%m-%d')"
   ]
  },
  {
   "cell_type": "code",
   "execution_count": 13,
   "id": "d08b05c9",
   "metadata": {},
   "outputs": [],
   "source": [
    "os.path.dirname(os.getcwd())\n",
    "path_cwd = Path(PureWindowsPath(os.path.dirname(os.getcwd())))\n",
    "path = path_cwd / 'data'"
   ]
  },
  {
   "cell_type": "code",
   "execution_count": 14,
   "id": "4bac92f2",
   "metadata": {},
   "outputs": [],
   "source": [
    "df_train = pd.read_csv(os.path.join(path, 'train.csv'))\n",
    "df_transaction = pd.read_csv(os.path.join(path, 'transactions.csv'))\n",
    "df_holidays = pd.read_csv(os.path.join(path, 'holidays_events.csv'))\n",
    "df_oil = pd.read_csv(os.path.join(path, 'oil.csv'))\n",
    "df_stores = pd.read_csv(os.path.join(path, 'stores.csv'))\n",
    "df_test = pd.read_csv(os.path.join(path, 'test.csv'))"
   ]
  },
  {
   "cell_type": "code",
   "execution_count": 15,
   "id": "9d761b20",
   "metadata": {},
   "outputs": [],
   "source": [
    "dtypes = {'id': 'int64', 'store_nbr':'int8', 'onpromotion': str}"
   ]
  },
  {
   "cell_type": "markdown",
   "id": "d6d8659f",
   "metadata": {},
   "source": [
    "# Data Exploration"
   ]
  },
  {
   "cell_type": "code",
   "execution_count": 243,
   "id": "4dc2cc8f",
   "metadata": {},
   "outputs": [],
   "source": [
    "def get_info_df(df: pd.DataFrame):\n",
    "    print('============ Shape ============')\n",
    "    print(df.shape)\n",
    "    print('============ Data Types ============')\n",
    "    print(df.info())\n",
    "    print('============ Missing Values ============')\n",
    "    print(df.isnull().sum())\n",
    "    print('============ Duplicated Values ============')\n",
    "    print(df.duplicated().sum())"
   ]
  },
  {
   "cell_type": "code",
   "execution_count": 244,
   "id": "f85b77b5",
   "metadata": {},
   "outputs": [
    {
     "name": "stdout",
     "output_type": "stream",
     "text": [
      "============ Shape ============\n",
      "(3000888, 6)\n",
      "============ Data Types ============\n",
      "<class 'pandas.core.frame.DataFrame'>\n",
      "RangeIndex: 3000888 entries, 0 to 3000887\n",
      "Data columns (total 6 columns):\n",
      " #   Column       Dtype  \n",
      "---  ------       -----  \n",
      " 0   id           int64  \n",
      " 1   date         object \n",
      " 2   store_nbr    int64  \n",
      " 3   family       object \n",
      " 4   sales        float64\n",
      " 5   onpromotion  int64  \n",
      "dtypes: float64(1), int64(3), object(2)\n",
      "memory usage: 137.4+ MB\n",
      "None\n",
      "============ Missing Values ============\n",
      "id             0\n",
      "date           0\n",
      "store_nbr      0\n",
      "family         0\n",
      "sales          0\n",
      "onpromotion    0\n",
      "dtype: int64\n",
      "============ Duplicated Values ============\n",
      "0\n"
     ]
    }
   ],
   "source": [
    "get_info_df(df_train)"
   ]
  },
  {
   "cell_type": "code",
   "execution_count": 245,
   "id": "6c637020",
   "metadata": {},
   "outputs": [],
   "source": [
    "# Helpful to see the unique values in the categorical columns of the DFs\n",
    "def check_unique_values(df: pd.DataFrame):\n",
    "    \"\"\"\n",
    "    Check the number of unique values in the categorical columns in the DataFrame.\n",
    "\n",
    "    Parameters:\n",
    "        df (pd.DataFrame): The DataFrame to analyze.\n",
    "\n",
    "    Returns:\n",
    "        None\n",
    "    \"\"\"\n",
    "    print(\"Checking unique values in categorical columns:\")\n",
    "\n",
    "    # Iterate through each column\n",
    "    for col in df.columns:\n",
    "        # Check if the column is categorical (object type) and not the 'customerID' column\n",
    "        if ((df[col].dtype == 'object') or (df[col].dtype == 'bool')) and (col != 'id'):\n",
    "            # Print the column name and its unique values\n",
    "            print(col, '---->', df[col].unique())"
   ]
  },
  {
   "cell_type": "code",
   "execution_count": 246,
   "id": "03e7955b",
   "metadata": {},
   "outputs": [
    {
     "name": "stdout",
     "output_type": "stream",
     "text": [
      "Checking unique values in categorical columns:\n",
      "city ----> ['Quito' 'Santo Domingo' 'Cayambe' 'Latacunga' 'Riobamba' 'Ibarra'\n",
      " 'Guaranda' 'Puyo' 'Ambato' 'Guayaquil' 'Salinas' 'Daule' 'Babahoyo'\n",
      " 'Quevedo' 'Playas' 'Libertad' 'Cuenca' 'Loja' 'Machala' 'Esmeraldas'\n",
      " 'Manta' 'El Carmen']\n",
      "state ----> ['Pichincha' 'Santo Domingo de los Tsachilas' 'Cotopaxi' 'Chimborazo'\n",
      " 'Imbabura' 'Bolivar' 'Pastaza' 'Tungurahua' 'Guayas' 'Santa Elena'\n",
      " 'Los Rios' 'Azuay' 'Loja' 'El Oro' 'Esmeraldas' 'Manabi']\n",
      "type ----> ['D' 'B' 'C' 'E' 'A']\n"
     ]
    }
   ],
   "source": [
    "check_unique_values(df_stores)"
   ]
  },
  {
   "cell_type": "markdown",
   "id": "f18691bb",
   "metadata": {},
   "source": [
    "# Data Cleaning"
   ]
  },
  {
   "cell_type": "code",
   "execution_count": 247,
   "id": "f12d936b",
   "metadata": {},
   "outputs": [],
   "source": [
    "# Just renaming the price column of the oil df\n",
    "\n",
    "new_oil = df_oil.copy()\n",
    "\n",
    "new_oil.rename(columns={'dcoilwtico': 'price'}, inplace=True)"
   ]
  },
  {
   "cell_type": "code",
   "execution_count": 248,
   "id": "b87367f4",
   "metadata": {},
   "outputs": [
    {
     "data": {
      "text/html": [
       "<div>\n",
       "<style scoped>\n",
       "    .dataframe tbody tr th:only-of-type {\n",
       "        vertical-align: middle;\n",
       "    }\n",
       "\n",
       "    .dataframe tbody tr th {\n",
       "        vertical-align: top;\n",
       "    }\n",
       "\n",
       "    .dataframe thead th {\n",
       "        text-align: right;\n",
       "    }\n",
       "</style>\n",
       "<table border=\"1\" class=\"dataframe\">\n",
       "  <thead>\n",
       "    <tr style=\"text-align: right;\">\n",
       "      <th></th>\n",
       "      <th>date</th>\n",
       "      <th>price</th>\n",
       "    </tr>\n",
       "  </thead>\n",
       "  <tbody>\n",
       "    <tr>\n",
       "      <th>0</th>\n",
       "      <td>2013-01-01</td>\n",
       "      <td>NaN</td>\n",
       "    </tr>\n",
       "    <tr>\n",
       "      <th>1</th>\n",
       "      <td>2013-01-02</td>\n",
       "      <td>93.14</td>\n",
       "    </tr>\n",
       "    <tr>\n",
       "      <th>2</th>\n",
       "      <td>2013-01-03</td>\n",
       "      <td>92.97</td>\n",
       "    </tr>\n",
       "  </tbody>\n",
       "</table>\n",
       "</div>"
      ],
      "text/plain": [
       "         date  price\n",
       "0  2013-01-01    NaN\n",
       "1  2013-01-02  93.14\n",
       "2  2013-01-03  92.97"
      ]
     },
     "execution_count": 248,
     "metadata": {},
     "output_type": "execute_result"
    }
   ],
   "source": [
    "new_oil.head(3)"
   ]
  },
  {
   "cell_type": "markdown",
   "id": "b0cb46a4",
   "metadata": {},
   "source": [
    "## Data Merging ##"
   ]
  },
  {
   "cell_type": "code",
   "execution_count": 249,
   "id": "a93e5b38",
   "metadata": {},
   "outputs": [],
   "source": [
    "# Here we write a function that checks the matching columns across all datasets\n",
    "\n",
    "# Need a class to assign names to the datasets\n",
    "class NamedDataFrame(pd.DataFrame):\n",
    "    def __init__(self, *args, name=None, **kwargs):\n",
    "        super().__init__(*args, **kwargs)\n",
    "        self.name = name\n",
    "        \n",
    "# Function to output the matching pairs\n",
    "def matching_pairs(df:list):\n",
    "    for df1_idx, (df1, df1_name) in enumerate(df):\n",
    "        for df2_idx, (df2, df2_name) in enumerate(df):\n",
    "            if df1_idx < df2_idx:\n",
    "                common_columns = [i for i in df1.columns if any(i in j for j in df2.columns)]\n",
    "                \n",
    "                print(f\"Matching columns between {df1_name} and {df2_name}: {common_columns}\")"
   ]
  },
  {
   "cell_type": "code",
   "execution_count": 250,
   "id": "53d1bc94",
   "metadata": {},
   "outputs": [],
   "source": [
    "# name the datasets\n",
    "datasets = [\n",
    "    (df_oil, 'Oil'),\n",
    "    (df_holidays, 'Holidays'),\n",
    "    (df_stores, 'Stores'),\n",
    "    (df_transaction, 'Transactions'),\n",
    "    (df_train, 'Train'),\n",
    "    (df_test, 'Test')\n",
    "]"
   ]
  },
  {
   "cell_type": "code",
   "execution_count": 251,
   "id": "ab9e24d0",
   "metadata": {},
   "outputs": [
    {
     "name": "stdout",
     "output_type": "stream",
     "text": [
      "Matching columns between Oil and Holidays: ['date']\n",
      "Matching columns between Oil and Stores: []\n",
      "Matching columns between Oil and Transactions: ['date']\n",
      "Matching columns between Oil and Train: ['date']\n",
      "Matching columns between Oil and Test: ['date']\n",
      "Matching columns between Holidays and Stores: ['type']\n",
      "Matching columns between Holidays and Transactions: ['date']\n",
      "Matching columns between Holidays and Train: ['date']\n",
      "Matching columns between Holidays and Test: ['date']\n",
      "Matching columns between Stores and Transactions: ['store_nbr']\n",
      "Matching columns between Stores and Train: ['store_nbr']\n",
      "Matching columns between Stores and Test: ['store_nbr']\n",
      "Matching columns between Transactions and Train: ['date', 'store_nbr']\n",
      "Matching columns between Transactions and Test: ['date', 'store_nbr']\n",
      "Matching columns between Train and Test: ['id', 'date', 'store_nbr', 'family', 'onpromotion']\n"
     ]
    }
   ],
   "source": [
    "# Use our function to check pairs\n",
    "matching_pairs(datasets)"
   ]
  },
  {
   "cell_type": "code",
   "execution_count": 252,
   "id": "d7a84d16",
   "metadata": {},
   "outputs": [],
   "source": [
    "# make a function that compares two dates and checks the date range\n",
    "def date_comparison(date_column1, date_column2):\n",
    "    \"\"\"\n",
    "    Compare two date columns and print counts and date ranges.\n",
    "    \n",
    "    Parameters:\n",
    "    - date_column1: The first date column (as a pandas Series).\n",
    "    - date_column2: The second date column (as a pandas Series).\n",
    "\n",
    "    Returns:\n",
    "    - A dictionary containing the count of common and uncommon dates, as well as date ranges.\n",
    "    \"\"\"\n",
    "    # Convert date columns to sets for faster set operations\n",
    "    dates1 = set(date_column1)\n",
    "    dates2 = set(date_column2)\n",
    "\n",
    "    # Find common dates\n",
    "    common_dates = dates1.intersection(dates2)\n",
    "    count_common = len(common_dates)\n",
    "\n",
    "    # Find uncommon dates\n",
    "    uncommon_dates = dates1.symmetric_difference(dates2)\n",
    "    count_uncommon = len(uncommon_dates)\n",
    "\n",
    "    # Find date range for dates1 dataset\n",
    "    date_range1 = (min(dates1), max(dates1))\n",
    "\n",
    "    # Find date range for dates2 dataset\n",
    "    date_range2 = (min(dates2), max(dates2))\n",
    "\n",
    "    # Store the counts and date ranges in a dictionary\n",
    "    results = {\n",
    "        'Common': count_common,\n",
    "        'Uncommon': count_uncommon,\n",
    "        'Date Range 1': date_range1,\n",
    "        'Date Range 2': date_range2\n",
    "    }\n",
    "\n",
    "    return results"
   ]
  },
  {
   "cell_type": "code",
   "execution_count": 253,
   "id": "a2832899",
   "metadata": {},
   "outputs": [
    {
     "data": {
      "text/html": [
       "<div>\n",
       "<style scoped>\n",
       "    .dataframe tbody tr th:only-of-type {\n",
       "        vertical-align: middle;\n",
       "    }\n",
       "\n",
       "    .dataframe tbody tr th {\n",
       "        vertical-align: top;\n",
       "    }\n",
       "\n",
       "    .dataframe thead th {\n",
       "        text-align: right;\n",
       "    }\n",
       "</style>\n",
       "<table border=\"1\" class=\"dataframe\">\n",
       "  <thead>\n",
       "    <tr style=\"text-align: right;\">\n",
       "      <th></th>\n",
       "      <th>Common</th>\n",
       "      <th>Uncommon</th>\n",
       "      <th>Date Range 1</th>\n",
       "      <th>Date Range 2</th>\n",
       "    </tr>\n",
       "  </thead>\n",
       "  <tbody>\n",
       "    <tr>\n",
       "      <th>0</th>\n",
       "      <td>1682</td>\n",
       "      <td>2</td>\n",
       "      <td>2013-01-01</td>\n",
       "      <td>2013-01-01</td>\n",
       "    </tr>\n",
       "    <tr>\n",
       "      <th>1</th>\n",
       "      <td>1682</td>\n",
       "      <td>2</td>\n",
       "      <td>2017-08-15</td>\n",
       "      <td>2017-08-15</td>\n",
       "    </tr>\n",
       "  </tbody>\n",
       "</table>\n",
       "</div>"
      ],
      "text/plain": [
       "   Common  Uncommon Date Range 1 Date Range 2\n",
       "0    1682         2   2013-01-01   2013-01-01\n",
       "1    1682         2   2017-08-15   2017-08-15"
      ]
     },
     "execution_count": 253,
     "metadata": {},
     "output_type": "execute_result"
    }
   ],
   "source": [
    "# Compare transaction and train\n",
    "compare_result_train=date_comparison(df_transaction['date'], df_train['date'])\n",
    "\n",
    "pd.DataFrame(compare_result_train)"
   ]
  },
  {
   "cell_type": "code",
   "execution_count": 254,
   "id": "9e3d3bfb",
   "metadata": {},
   "outputs": [
    {
     "data": {
      "text/html": [
       "<div>\n",
       "<style scoped>\n",
       "    .dataframe tbody tr th:only-of-type {\n",
       "        vertical-align: middle;\n",
       "    }\n",
       "\n",
       "    .dataframe tbody tr th {\n",
       "        vertical-align: top;\n",
       "    }\n",
       "\n",
       "    .dataframe thead th {\n",
       "        text-align: right;\n",
       "    }\n",
       "</style>\n",
       "<table border=\"1\" class=\"dataframe\">\n",
       "  <thead>\n",
       "    <tr style=\"text-align: right;\">\n",
       "      <th></th>\n",
       "      <th>Common</th>\n",
       "      <th>Uncommon</th>\n",
       "      <th>Date Range 1</th>\n",
       "      <th>Date Range 2</th>\n",
       "    </tr>\n",
       "  </thead>\n",
       "  <tbody>\n",
       "    <tr>\n",
       "      <th>0</th>\n",
       "      <td>0</td>\n",
       "      <td>1698</td>\n",
       "      <td>2013-01-01</td>\n",
       "      <td>2017-08-16</td>\n",
       "    </tr>\n",
       "    <tr>\n",
       "      <th>1</th>\n",
       "      <td>0</td>\n",
       "      <td>1698</td>\n",
       "      <td>2017-08-15</td>\n",
       "      <td>2017-08-31</td>\n",
       "    </tr>\n",
       "  </tbody>\n",
       "</table>\n",
       "</div>"
      ],
      "text/plain": [
       "   Common  Uncommon Date Range 1 Date Range 2\n",
       "0       0      1698   2013-01-01   2017-08-16\n",
       "1       0      1698   2017-08-15   2017-08-31"
      ]
     },
     "execution_count": 254,
     "metadata": {},
     "output_type": "execute_result"
    }
   ],
   "source": [
    "# Compare transaction and test\n",
    "compare_result_test=date_comparison(df_transaction['date'], df_test['date'])\n",
    "\n",
    "pd.DataFrame(compare_result_test)"
   ]
  },
  {
   "cell_type": "code",
   "execution_count": 255,
   "id": "8152c8f6",
   "metadata": {},
   "outputs": [
    {
     "data": {
      "text/html": [
       "<div>\n",
       "<style scoped>\n",
       "    .dataframe tbody tr th:only-of-type {\n",
       "        vertical-align: middle;\n",
       "    }\n",
       "\n",
       "    .dataframe tbody tr th {\n",
       "        vertical-align: top;\n",
       "    }\n",
       "\n",
       "    .dataframe thead th {\n",
       "        text-align: right;\n",
       "    }\n",
       "</style>\n",
       "<table border=\"1\" class=\"dataframe\">\n",
       "  <thead>\n",
       "    <tr style=\"text-align: right;\">\n",
       "      <th></th>\n",
       "      <th>store_nbr</th>\n",
       "      <th>city</th>\n",
       "      <th>state</th>\n",
       "      <th>type</th>\n",
       "      <th>cluster</th>\n",
       "    </tr>\n",
       "  </thead>\n",
       "  <tbody>\n",
       "    <tr>\n",
       "      <th>0</th>\n",
       "      <td>1</td>\n",
       "      <td>Quito</td>\n",
       "      <td>Pichincha</td>\n",
       "      <td>D</td>\n",
       "      <td>13</td>\n",
       "    </tr>\n",
       "    <tr>\n",
       "      <th>1</th>\n",
       "      <td>2</td>\n",
       "      <td>Quito</td>\n",
       "      <td>Pichincha</td>\n",
       "      <td>D</td>\n",
       "      <td>13</td>\n",
       "    </tr>\n",
       "    <tr>\n",
       "      <th>2</th>\n",
       "      <td>3</td>\n",
       "      <td>Quito</td>\n",
       "      <td>Pichincha</td>\n",
       "      <td>D</td>\n",
       "      <td>8</td>\n",
       "    </tr>\n",
       "  </tbody>\n",
       "</table>\n",
       "</div>"
      ],
      "text/plain": [
       "   store_nbr   city      state type  cluster\n",
       "0          1  Quito  Pichincha    D       13\n",
       "1          2  Quito  Pichincha    D       13\n",
       "2          3  Quito  Pichincha    D        8"
      ]
     },
     "execution_count": 255,
     "metadata": {},
     "output_type": "execute_result"
    }
   ],
   "source": [
    "df_stores.head(3)"
   ]
  },
  {
   "cell_type": "code",
   "execution_count": 256,
   "id": "20eb34ee",
   "metadata": {},
   "outputs": [
    {
     "data": {
      "text/html": [
       "<div>\n",
       "<style scoped>\n",
       "    .dataframe tbody tr th:only-of-type {\n",
       "        vertical-align: middle;\n",
       "    }\n",
       "\n",
       "    .dataframe tbody tr th {\n",
       "        vertical-align: top;\n",
       "    }\n",
       "\n",
       "    .dataframe thead th {\n",
       "        text-align: right;\n",
       "    }\n",
       "</style>\n",
       "<table border=\"1\" class=\"dataframe\">\n",
       "  <thead>\n",
       "    <tr style=\"text-align: right;\">\n",
       "      <th></th>\n",
       "      <th>id</th>\n",
       "      <th>date</th>\n",
       "      <th>store_nbr</th>\n",
       "      <th>family</th>\n",
       "      <th>sales</th>\n",
       "      <th>onpromotion</th>\n",
       "    </tr>\n",
       "  </thead>\n",
       "  <tbody>\n",
       "    <tr>\n",
       "      <th>0</th>\n",
       "      <td>0</td>\n",
       "      <td>2013-01-01</td>\n",
       "      <td>1</td>\n",
       "      <td>AUTOMOTIVE</td>\n",
       "      <td>0.0</td>\n",
       "      <td>0</td>\n",
       "    </tr>\n",
       "    <tr>\n",
       "      <th>1</th>\n",
       "      <td>1</td>\n",
       "      <td>2013-01-01</td>\n",
       "      <td>1</td>\n",
       "      <td>BABY CARE</td>\n",
       "      <td>0.0</td>\n",
       "      <td>0</td>\n",
       "    </tr>\n",
       "    <tr>\n",
       "      <th>2</th>\n",
       "      <td>2</td>\n",
       "      <td>2013-01-01</td>\n",
       "      <td>1</td>\n",
       "      <td>BEAUTY</td>\n",
       "      <td>0.0</td>\n",
       "      <td>0</td>\n",
       "    </tr>\n",
       "  </tbody>\n",
       "</table>\n",
       "</div>"
      ],
      "text/plain": [
       "   id        date  store_nbr      family  sales  onpromotion\n",
       "0   0  2013-01-01          1  AUTOMOTIVE    0.0            0\n",
       "1   1  2013-01-01          1   BABY CARE    0.0            0\n",
       "2   2  2013-01-01          1      BEAUTY    0.0            0"
      ]
     },
     "execution_count": 256,
     "metadata": {},
     "output_type": "execute_result"
    }
   ],
   "source": [
    "df_train.head(3)"
   ]
  },
  {
   "cell_type": "code",
   "execution_count": 257,
   "id": "aa6bc4e7",
   "metadata": {},
   "outputs": [],
   "source": [
    "# Merge oil and train\n",
    "new_train = df_train.copy()\n",
    "new_train = pd.merge(df_train, new_oil, on=['date'])"
   ]
  },
  {
   "cell_type": "code",
   "execution_count": 258,
   "id": "ccba45fa",
   "metadata": {},
   "outputs": [
    {
     "data": {
      "text/html": [
       "<div>\n",
       "<style scoped>\n",
       "    .dataframe tbody tr th:only-of-type {\n",
       "        vertical-align: middle;\n",
       "    }\n",
       "\n",
       "    .dataframe tbody tr th {\n",
       "        vertical-align: top;\n",
       "    }\n",
       "\n",
       "    .dataframe thead th {\n",
       "        text-align: right;\n",
       "    }\n",
       "</style>\n",
       "<table border=\"1\" class=\"dataframe\">\n",
       "  <thead>\n",
       "    <tr style=\"text-align: right;\">\n",
       "      <th></th>\n",
       "      <th>id</th>\n",
       "      <th>date</th>\n",
       "      <th>store_nbr</th>\n",
       "      <th>family</th>\n",
       "      <th>sales</th>\n",
       "      <th>onpromotion</th>\n",
       "      <th>price</th>\n",
       "    </tr>\n",
       "  </thead>\n",
       "  <tbody>\n",
       "    <tr>\n",
       "      <th>2143743</th>\n",
       "      <td>3000885</td>\n",
       "      <td>2017-08-15</td>\n",
       "      <td>9</td>\n",
       "      <td>PRODUCE</td>\n",
       "      <td>2419.729</td>\n",
       "      <td>148</td>\n",
       "      <td>47.57</td>\n",
       "    </tr>\n",
       "    <tr>\n",
       "      <th>2143744</th>\n",
       "      <td>3000886</td>\n",
       "      <td>2017-08-15</td>\n",
       "      <td>9</td>\n",
       "      <td>SCHOOL AND OFFICE SUPPLIES</td>\n",
       "      <td>121.000</td>\n",
       "      <td>8</td>\n",
       "      <td>47.57</td>\n",
       "    </tr>\n",
       "    <tr>\n",
       "      <th>2143745</th>\n",
       "      <td>3000887</td>\n",
       "      <td>2017-08-15</td>\n",
       "      <td>9</td>\n",
       "      <td>SEAFOOD</td>\n",
       "      <td>16.000</td>\n",
       "      <td>0</td>\n",
       "      <td>47.57</td>\n",
       "    </tr>\n",
       "  </tbody>\n",
       "</table>\n",
       "</div>"
      ],
      "text/plain": [
       "              id        date  store_nbr                      family     sales  \\\n",
       "2143743  3000885  2017-08-15          9                     PRODUCE  2419.729   \n",
       "2143744  3000886  2017-08-15          9  SCHOOL AND OFFICE SUPPLIES   121.000   \n",
       "2143745  3000887  2017-08-15          9                     SEAFOOD    16.000   \n",
       "\n",
       "         onpromotion  price  \n",
       "2143743          148  47.57  \n",
       "2143744            8  47.57  \n",
       "2143745            0  47.57  "
      ]
     },
     "execution_count": 258,
     "metadata": {},
     "output_type": "execute_result"
    }
   ],
   "source": [
    "new_train.tail(3)"
   ]
  },
  {
   "cell_type": "code",
   "execution_count": 259,
   "id": "58885a2f",
   "metadata": {},
   "outputs": [],
   "source": [
    "# Merge holidays, stores, and transactions to new_train\n",
    "new_train = pd.merge(new_train, df_holidays, on=[\"date\"])\n",
    "new_train = pd.merge(new_train, df_stores, on=[\"store_nbr\"])\n",
    "new_train = pd.merge(new_train, df_transaction, on=[\"date\", 'store_nbr'])"
   ]
  },
  {
   "cell_type": "code",
   "execution_count": 260,
   "id": "d0eeaab9",
   "metadata": {},
   "outputs": [],
   "source": [
    "# Doing some renaming\n",
    "new_train.rename(columns={'type_x':'holiday_type', 'type_y': 'store_type'}, inplace=True)"
   ]
  },
  {
   "cell_type": "code",
   "execution_count": 261,
   "id": "324bebb7",
   "metadata": {},
   "outputs": [
    {
     "data": {
      "text/plain": [
       "id                  0\n",
       "date                0\n",
       "store_nbr           0\n",
       "family              0\n",
       "sales               0\n",
       "onpromotion         0\n",
       "price           22044\n",
       "holiday_type        0\n",
       "locale              0\n",
       "locale_name         0\n",
       "description         0\n",
       "transferred         0\n",
       "city                0\n",
       "state               0\n",
       "store_type          0\n",
       "cluster             0\n",
       "transactions        0\n",
       "dtype: int64"
      ]
     },
     "execution_count": 261,
     "metadata": {},
     "output_type": "execute_result"
    }
   ],
   "source": [
    "# See if we have any missing values\n",
    "new_train.isnull().sum()"
   ]
  },
  {
   "cell_type": "code",
   "execution_count": 262,
   "id": "07ec8f0e",
   "metadata": {},
   "outputs": [
    {
     "data": {
      "text/plain": [
       "(322047, 17)"
      ]
     },
     "execution_count": 262,
     "metadata": {},
     "output_type": "execute_result"
    }
   ],
   "source": [
    "new_train.shape"
   ]
  },
  {
   "cell_type": "code",
   "execution_count": 263,
   "id": "ce8abc72",
   "metadata": {},
   "outputs": [
    {
     "name": "stdout",
     "output_type": "stream",
     "text": [
      "<class 'pandas.core.frame.DataFrame'>\n",
      "RangeIndex: 322047 entries, 0 to 322046\n",
      "Data columns (total 17 columns):\n",
      " #   Column        Non-Null Count   Dtype  \n",
      "---  ------        --------------   -----  \n",
      " 0   id            322047 non-null  int64  \n",
      " 1   date          322047 non-null  object \n",
      " 2   store_nbr     322047 non-null  int64  \n",
      " 3   family        322047 non-null  object \n",
      " 4   sales         322047 non-null  float64\n",
      " 5   onpromotion   322047 non-null  int64  \n",
      " 6   price         300003 non-null  float64\n",
      " 7   holiday_type  322047 non-null  object \n",
      " 8   locale        322047 non-null  object \n",
      " 9   locale_name   322047 non-null  object \n",
      " 10  description   322047 non-null  object \n",
      " 11  transferred   322047 non-null  bool   \n",
      " 12  city          322047 non-null  object \n",
      " 13  state         322047 non-null  object \n",
      " 14  store_type    322047 non-null  object \n",
      " 15  cluster       322047 non-null  int64  \n",
      " 16  transactions  322047 non-null  int64  \n",
      "dtypes: bool(1), float64(2), int64(5), object(9)\n",
      "memory usage: 39.6+ MB\n"
     ]
    }
   ],
   "source": [
    "new_train.info()"
   ]
  },
  {
   "cell_type": "code",
   "execution_count": 264,
   "id": "9c28a7d7",
   "metadata": {},
   "outputs": [],
   "source": [
    "# Get a visual for missing values\n",
    "#msno.matrix(new_train)"
   ]
  },
  {
   "cell_type": "markdown",
   "id": "0cb7db93",
   "metadata": {},
   "source": [
    "### We have merged a lot of our important tables here. There are 322,047 rows and 17 columns. There are 22,044 missing values in the price column, which represent missing oil prices. There wasn't a price for the first day (01/01/2013), we will handle this later. "
   ]
  },
  {
   "cell_type": "code",
   "execution_count": 265,
   "id": "9dad61cd",
   "metadata": {},
   "outputs": [
    {
     "data": {
      "text/html": [
       "<div>\n",
       "<style scoped>\n",
       "    .dataframe tbody tr th:only-of-type {\n",
       "        vertical-align: middle;\n",
       "    }\n",
       "\n",
       "    .dataframe tbody tr th {\n",
       "        vertical-align: top;\n",
       "    }\n",
       "\n",
       "    .dataframe thead th {\n",
       "        text-align: right;\n",
       "    }\n",
       "</style>\n",
       "<table border=\"1\" class=\"dataframe\">\n",
       "  <thead>\n",
       "    <tr style=\"text-align: right;\">\n",
       "      <th></th>\n",
       "      <th>id</th>\n",
       "      <th>store_nbr</th>\n",
       "      <th>sales</th>\n",
       "      <th>onpromotion</th>\n",
       "      <th>price</th>\n",
       "      <th>cluster</th>\n",
       "      <th>transactions</th>\n",
       "    </tr>\n",
       "  </thead>\n",
       "  <tbody>\n",
       "    <tr>\n",
       "      <th>count</th>\n",
       "      <td>3.220470e+05</td>\n",
       "      <td>322047.000000</td>\n",
       "      <td>322047.000000</td>\n",
       "      <td>322047.000000</td>\n",
       "      <td>300003.000000</td>\n",
       "      <td>322047.000000</td>\n",
       "      <td>322047.000000</td>\n",
       "    </tr>\n",
       "    <tr>\n",
       "      <th>mean</th>\n",
       "      <td>1.682979e+06</td>\n",
       "      <td>26.994672</td>\n",
       "      <td>406.383452</td>\n",
       "      <td>3.727136</td>\n",
       "      <td>64.077912</td>\n",
       "      <td>8.531202</td>\n",
       "      <td>1734.117840</td>\n",
       "    </tr>\n",
       "    <tr>\n",
       "      <th>std</th>\n",
       "      <td>7.862493e+05</td>\n",
       "      <td>15.595174</td>\n",
       "      <td>1246.881240</td>\n",
       "      <td>15.512095</td>\n",
       "      <td>25.147682</td>\n",
       "      <td>4.713809</td>\n",
       "      <td>1050.335018</td>\n",
       "    </tr>\n",
       "    <tr>\n",
       "      <th>min</th>\n",
       "      <td>5.610000e+02</td>\n",
       "      <td>1.000000</td>\n",
       "      <td>0.000000</td>\n",
       "      <td>0.000000</td>\n",
       "      <td>27.960000</td>\n",
       "      <td>1.000000</td>\n",
       "      <td>54.000000</td>\n",
       "    </tr>\n",
       "    <tr>\n",
       "      <th>25%</th>\n",
       "      <td>1.010616e+06</td>\n",
       "      <td>13.000000</td>\n",
       "      <td>1.000000</td>\n",
       "      <td>0.000000</td>\n",
       "      <td>44.660000</td>\n",
       "      <td>4.000000</td>\n",
       "      <td>1030.000000</td>\n",
       "    </tr>\n",
       "    <tr>\n",
       "      <th>50%</th>\n",
       "      <td>1.842406e+06</td>\n",
       "      <td>27.000000</td>\n",
       "      <td>19.000000</td>\n",
       "      <td>0.000000</td>\n",
       "      <td>51.440000</td>\n",
       "      <td>9.000000</td>\n",
       "      <td>1409.000000</td>\n",
       "    </tr>\n",
       "    <tr>\n",
       "      <th>75%</th>\n",
       "      <td>2.209556e+06</td>\n",
       "      <td>40.000000</td>\n",
       "      <td>241.260505</td>\n",
       "      <td>1.000000</td>\n",
       "      <td>94.740000</td>\n",
       "      <td>13.000000</td>\n",
       "      <td>2148.000000</td>\n",
       "    </tr>\n",
       "    <tr>\n",
       "      <th>max</th>\n",
       "      <td>3.000887e+06</td>\n",
       "      <td>54.000000</td>\n",
       "      <td>124717.000000</td>\n",
       "      <td>716.000000</td>\n",
       "      <td>107.950000</td>\n",
       "      <td>17.000000</td>\n",
       "      <td>8359.000000</td>\n",
       "    </tr>\n",
       "  </tbody>\n",
       "</table>\n",
       "</div>"
      ],
      "text/plain": [
       "                 id      store_nbr          sales    onpromotion  \\\n",
       "count  3.220470e+05  322047.000000  322047.000000  322047.000000   \n",
       "mean   1.682979e+06      26.994672     406.383452       3.727136   \n",
       "std    7.862493e+05      15.595174    1246.881240      15.512095   \n",
       "min    5.610000e+02       1.000000       0.000000       0.000000   \n",
       "25%    1.010616e+06      13.000000       1.000000       0.000000   \n",
       "50%    1.842406e+06      27.000000      19.000000       0.000000   \n",
       "75%    2.209556e+06      40.000000     241.260505       1.000000   \n",
       "max    3.000887e+06      54.000000  124717.000000     716.000000   \n",
       "\n",
       "               price        cluster   transactions  \n",
       "count  300003.000000  322047.000000  322047.000000  \n",
       "mean       64.077912       8.531202    1734.117840  \n",
       "std        25.147682       4.713809    1050.335018  \n",
       "min        27.960000       1.000000      54.000000  \n",
       "25%        44.660000       4.000000    1030.000000  \n",
       "50%        51.440000       9.000000    1409.000000  \n",
       "75%        94.740000      13.000000    2148.000000  \n",
       "max       107.950000      17.000000    8359.000000  "
      ]
     },
     "execution_count": 265,
     "metadata": {},
     "output_type": "execute_result"
    }
   ],
   "source": [
    "new_train.describe()"
   ]
  },
  {
   "cell_type": "markdown",
   "id": "7f2f97b7",
   "metadata": {},
   "source": [
    "### Here we have the summary statistics for our complete training df.\n",
    "\n",
    "Interesting to see that the mean for sales is 406.38, with a high standard deviation. Min is 0 and max is 124717, a lot of variability here.\n",
    "\n",
    "Price has a mean of 64 but also varies quite a bit, from 27.96 to 107.95"
   ]
  },
  {
   "cell_type": "code",
   "execution_count": 266,
   "id": "21db77c6",
   "metadata": {},
   "outputs": [
    {
     "data": {
      "text/plain": [
       "array([2013, 2014, 2015, 2016, 2017])"
      ]
     },
     "execution_count": 266,
     "metadata": {},
     "output_type": "execute_result"
    }
   ],
   "source": [
    "# See what years we are working with\n",
    "new_train['date'] = pd.to_datetime(new_train['date'])\n",
    "new_train['date'].dt.year.unique()"
   ]
  },
  {
   "cell_type": "code",
   "execution_count": 267,
   "id": "d3ccb6d5",
   "metadata": {},
   "outputs": [],
   "source": [
    "# it will be helpful later if we have the date features in different amounts. Year, year-month, month and day\n",
    "\n",
    "new_train['year'] = new_train.date.dt.year\n",
    "\n",
    "new_train['year-month'] = new_train['date'].apply(lambda x : x.strftime('%Y-%m'))\n",
    "\n",
    "new_train['month'] = new_train.date.dt.month\n",
    "\n",
    "new_train['day'] = new_train.date.dt.day"
   ]
  },
  {
   "cell_type": "code",
   "execution_count": 268,
   "id": "62f7d727",
   "metadata": {},
   "outputs": [
    {
     "data": {
      "text/html": [
       "<div>\n",
       "<style scoped>\n",
       "    .dataframe tbody tr th:only-of-type {\n",
       "        vertical-align: middle;\n",
       "    }\n",
       "\n",
       "    .dataframe tbody tr th {\n",
       "        vertical-align: top;\n",
       "    }\n",
       "\n",
       "    .dataframe thead th {\n",
       "        text-align: right;\n",
       "    }\n",
       "</style>\n",
       "<table border=\"1\" class=\"dataframe\">\n",
       "  <thead>\n",
       "    <tr style=\"text-align: right;\">\n",
       "      <th></th>\n",
       "      <th>id</th>\n",
       "      <th>date</th>\n",
       "      <th>store_nbr</th>\n",
       "      <th>family</th>\n",
       "      <th>sales</th>\n",
       "      <th>onpromotion</th>\n",
       "      <th>price</th>\n",
       "      <th>holiday_type</th>\n",
       "      <th>locale</th>\n",
       "      <th>locale_name</th>\n",
       "      <th>...</th>\n",
       "      <th>transferred</th>\n",
       "      <th>city</th>\n",
       "      <th>state</th>\n",
       "      <th>store_type</th>\n",
       "      <th>cluster</th>\n",
       "      <th>transactions</th>\n",
       "      <th>year</th>\n",
       "      <th>year-month</th>\n",
       "      <th>month</th>\n",
       "      <th>day</th>\n",
       "    </tr>\n",
       "  </thead>\n",
       "  <tbody>\n",
       "    <tr>\n",
       "      <th>0</th>\n",
       "      <td>73062</td>\n",
       "      <td>2013-02-11</td>\n",
       "      <td>1</td>\n",
       "      <td>AUTOMOTIVE</td>\n",
       "      <td>0.0</td>\n",
       "      <td>0</td>\n",
       "      <td>97.01</td>\n",
       "      <td>Holiday</td>\n",
       "      <td>National</td>\n",
       "      <td>Ecuador</td>\n",
       "      <td>...</td>\n",
       "      <td>False</td>\n",
       "      <td>Quito</td>\n",
       "      <td>Pichincha</td>\n",
       "      <td>D</td>\n",
       "      <td>13</td>\n",
       "      <td>396</td>\n",
       "      <td>2013</td>\n",
       "      <td>2013-02</td>\n",
       "      <td>2</td>\n",
       "      <td>11</td>\n",
       "    </tr>\n",
       "    <tr>\n",
       "      <th>1</th>\n",
       "      <td>73063</td>\n",
       "      <td>2013-02-11</td>\n",
       "      <td>1</td>\n",
       "      <td>BABY CARE</td>\n",
       "      <td>0.0</td>\n",
       "      <td>0</td>\n",
       "      <td>97.01</td>\n",
       "      <td>Holiday</td>\n",
       "      <td>National</td>\n",
       "      <td>Ecuador</td>\n",
       "      <td>...</td>\n",
       "      <td>False</td>\n",
       "      <td>Quito</td>\n",
       "      <td>Pichincha</td>\n",
       "      <td>D</td>\n",
       "      <td>13</td>\n",
       "      <td>396</td>\n",
       "      <td>2013</td>\n",
       "      <td>2013-02</td>\n",
       "      <td>2</td>\n",
       "      <td>11</td>\n",
       "    </tr>\n",
       "    <tr>\n",
       "      <th>2</th>\n",
       "      <td>73064</td>\n",
       "      <td>2013-02-11</td>\n",
       "      <td>1</td>\n",
       "      <td>BEAUTY</td>\n",
       "      <td>0.0</td>\n",
       "      <td>0</td>\n",
       "      <td>97.01</td>\n",
       "      <td>Holiday</td>\n",
       "      <td>National</td>\n",
       "      <td>Ecuador</td>\n",
       "      <td>...</td>\n",
       "      <td>False</td>\n",
       "      <td>Quito</td>\n",
       "      <td>Pichincha</td>\n",
       "      <td>D</td>\n",
       "      <td>13</td>\n",
       "      <td>396</td>\n",
       "      <td>2013</td>\n",
       "      <td>2013-02</td>\n",
       "      <td>2</td>\n",
       "      <td>11</td>\n",
       "    </tr>\n",
       "  </tbody>\n",
       "</table>\n",
       "<p>3 rows × 21 columns</p>\n",
       "</div>"
      ],
      "text/plain": [
       "      id       date  store_nbr      family  sales  onpromotion  price  \\\n",
       "0  73062 2013-02-11          1  AUTOMOTIVE    0.0            0  97.01   \n",
       "1  73063 2013-02-11          1   BABY CARE    0.0            0  97.01   \n",
       "2  73064 2013-02-11          1      BEAUTY    0.0            0  97.01   \n",
       "\n",
       "  holiday_type    locale locale_name  ... transferred   city      state  \\\n",
       "0      Holiday  National     Ecuador  ...       False  Quito  Pichincha   \n",
       "1      Holiday  National     Ecuador  ...       False  Quito  Pichincha   \n",
       "2      Holiday  National     Ecuador  ...       False  Quito  Pichincha   \n",
       "\n",
       "  store_type cluster  transactions  year  year-month month  day  \n",
       "0          D      13           396  2013     2013-02     2   11  \n",
       "1          D      13           396  2013     2013-02     2   11  \n",
       "2          D      13           396  2013     2013-02     2   11  \n",
       "\n",
       "[3 rows x 21 columns]"
      ]
     },
     "execution_count": 268,
     "metadata": {},
     "output_type": "execute_result"
    }
   ],
   "source": [
    "new_train.head(3)"
   ]
  },
  {
   "cell_type": "code",
   "execution_count": 269,
   "id": "218c89d6",
   "metadata": {},
   "outputs": [],
   "source": [
    "# Make date the index\n",
    "new_train.set_index('date', inplace=True)"
   ]
  },
  {
   "cell_type": "code",
   "execution_count": 270,
   "id": "a5576c4e",
   "metadata": {},
   "outputs": [],
   "source": [
    "# Convert onpromotion to int\n",
    "new_train['onpromotion'] = new_train['onpromotion'].astype('int')"
   ]
  },
  {
   "cell_type": "markdown",
   "id": "3102c45c",
   "metadata": {},
   "source": [
    "### Implementation"
   ]
  },
  {
   "cell_type": "code",
   "execution_count": 271,
   "id": "02fd34c8",
   "metadata": {},
   "outputs": [
    {
     "data": {
      "image/png": "[encoded data removed]",
      "text/plain": [
       "<Figure size 1200x600 with 2 Axes>"
      ]
     },
     "metadata": {},
     "output_type": "display_data"
    }
   ],
   "source": [
    "# Group by date to sum sales\n",
    "ts = new_train.groupby(new_train.index)['sales'].sum()\n",
    "\n",
    "fig, (ax1,ax2) = plt.subplots(2, 1, figsize=(12,6))\n",
    "\n",
    "# Plot ACF\n",
    "sm.graphics.tsa.plot_acf(ts, lags=40, ax=ax1)\n",
    "ax1.set_title('ACF')\n",
    "\n",
    "# Plot PACF\n",
    "sm.graphics.tsa.plot_pacf(ts, lags=40, ax=ax2)\n",
    "ax2.set_title('PACF')\n",
    "\n",
    "plt.tight_layout(pad=2.0)\n",
    "\n",
    "plt.show()"
   ]
  },
  {
   "cell_type": "markdown",
   "id": "28d3284b",
   "metadata": {},
   "source": [
    "### Time series Interpolation"
   ]
  },
  {
   "cell_type": "code",
   "execution_count": 272,
   "id": "fa71f534",
   "metadata": {},
   "outputs": [],
   "source": [
    "oil_price = new_train['price']"
   ]
  },
  {
   "cell_type": "code",
   "execution_count": 273,
   "id": "9c9eb632",
   "metadata": {},
   "outputs": [],
   "source": [
    "oil_price_interpolated = oil_price.interpolate(method='index')"
   ]
  },
  {
   "cell_type": "code",
   "execution_count": 274,
   "id": "5a82d9f3",
   "metadata": {},
   "outputs": [
    {
     "data": {
      "image/png": "[encoded data removed]",
      "text/plain": [
       "<Figure size 1200x500 with 2 Axes>"
      ]
     },
     "metadata": {},
     "output_type": "display_data"
    }
   ],
   "source": [
    "# Confirm changes by plotting the price with the missing values and price interpolated\n",
    "\n",
    "# Create a figure with two subplots\n",
    "fig, axes = plt.subplots(1, 2, figsize=(12, 5))\n",
    "\n",
    "# Plot the original oil price data\n",
    "sns.lineplot(data=oil_price, ax=axes[0])\n",
    "axes[0].set_title('Original Oil Price')\n",
    "\n",
    "# Plot the interpolated oil price data\n",
    "sns.lineplot(data=oil_price_interpolated, ax=axes[1])\n",
    "axes[1].set_title('Interpolated Oil Price')\n",
    "\n",
    "# Add labels and adjust layout\n",
    "for ax in axes:\n",
    "    ax.set_xlabel('Date')\n",
    "    ax.set_ylabel('Price')\n",
    "    ax.grid(True)\n",
    "\n",
    "plt.tight_layout()\n",
    "\n",
    "# Show plot\n",
    "plt.show()"
   ]
  },
  {
   "cell_type": "markdown",
   "id": "77d210cc",
   "metadata": {},
   "source": [
    "### Data Merging"
   ]
  },
  {
   "cell_type": "code",
   "execution_count": 275,
   "id": "0ea0989c",
   "metadata": {},
   "outputs": [],
   "source": [
    "df_merged = df_train.merge(df_stores, on='store_nbr', how='left')"
   ]
  },
  {
   "cell_type": "code",
   "execution_count": 276,
   "id": "aff0009a",
   "metadata": {},
   "outputs": [],
   "source": [
    "df_merged = df_merged.merge(df_oil, on='date', how='left')"
   ]
  },
  {
   "cell_type": "code",
   "execution_count": 277,
   "id": "f9bb0281",
   "metadata": {},
   "outputs": [],
   "source": [
    "df_merged = df_merged.merge(df_holidays, on='date', how='left')"
   ]
  },
  {
   "cell_type": "code",
   "execution_count": 278,
   "id": "a80fa776",
   "metadata": {},
   "outputs": [],
   "source": [
    "# Fill in missing values introduced by merging\n",
    "df_merged[['type_y', 'locale', 'locale_name']] = df_merged[['type_y', 'locale', 'locale_name']].fillna('NoHoliday')\n",
    "df_merged['transferred'] = df_merged['transferred'].fillna(False)"
   ]
  },
  {
   "cell_type": "code",
   "execution_count": 279,
   "id": "1fcdcb1b",
   "metadata": {},
   "outputs": [],
   "source": [
    "df_merged['onpromotion'] = pd.to_numeric(df_merged['onpromotion'], errors='coerce')"
   ]
  },
  {
   "cell_type": "code",
   "execution_count": 280,
   "id": "1e42e49e-e0a7-42b1-89e4-50c7b11a5640",
   "metadata": {},
   "outputs": [],
   "source": [
    "custom_palette = [\"#20B2AA\",\"#FFA07A\", \"#87CEEB\", \"#7B68EE\"]\n",
    "\n",
    "# setting custom color palette\n",
    "px.defaults.color_discrete_sequence = custom_palette"
   ]
  },
  {
   "cell_type": "code",
   "execution_count": 281,
   "id": "77ad81b3",
   "metadata": {},
   "outputs": [
    {
     "data": {
      "image/png": "[encoded data removed]",
      "text/plain": [
       "<Figure size 1000x800 with 2 Axes>"
      ]
     },
     "metadata": {},
     "output_type": "display_data"
    }
   ],
   "source": [
    "# Calculate the correlation matrix\n",
    "\n",
    "# Get numeric columns\n",
    "numeric_df = df_merged.select_dtypes(include=['float64', 'int64'])\n",
    "\n",
    "# Calculate the matrix\n",
    "corr_matrix = numeric_df.corr()\n",
    "\n",
    "# Heatmap of the correlation matrix\n",
    "plt.figure(figsize=(10,8))\n",
    "sns.heatmap(corr_matrix, annot=True, cmap=custom_palette)\n",
    "plt.title('Correlation Matrix')\n",
    "plt.show()"
   ]
  },
  {
   "cell_type": "code",
   "execution_count": 282,
   "id": "9f3b72fe",
   "metadata": {},
   "outputs": [],
   "source": [
    "# Setting id as index\n",
    "df_merged.set_index('id', inplace=True)"
   ]
  },
  {
   "cell_type": "code",
   "execution_count": 283,
   "id": "b929cc67",
   "metadata": {},
   "outputs": [
    {
     "data": {
      "text/html": [
       "<div>\n",
       "<style scoped>\n",
       "    .dataframe tbody tr th:only-of-type {\n",
       "        vertical-align: middle;\n",
       "    }\n",
       "\n",
       "    .dataframe tbody tr th {\n",
       "        vertical-align: top;\n",
       "    }\n",
       "\n",
       "    .dataframe thead th {\n",
       "        text-align: right;\n",
       "    }\n",
       "</style>\n",
       "<table border=\"1\" class=\"dataframe\">\n",
       "  <thead>\n",
       "    <tr style=\"text-align: right;\">\n",
       "      <th></th>\n",
       "      <th>date</th>\n",
       "      <th>store_nbr</th>\n",
       "      <th>family</th>\n",
       "      <th>sales</th>\n",
       "      <th>onpromotion</th>\n",
       "      <th>city</th>\n",
       "      <th>state</th>\n",
       "      <th>type_x</th>\n",
       "      <th>cluster</th>\n",
       "      <th>dcoilwtico</th>\n",
       "      <th>type_y</th>\n",
       "      <th>locale</th>\n",
       "      <th>locale_name</th>\n",
       "      <th>description</th>\n",
       "      <th>transferred</th>\n",
       "    </tr>\n",
       "    <tr>\n",
       "      <th>id</th>\n",
       "      <th></th>\n",
       "      <th></th>\n",
       "      <th></th>\n",
       "      <th></th>\n",
       "      <th></th>\n",
       "      <th></th>\n",
       "      <th></th>\n",
       "      <th></th>\n",
       "      <th></th>\n",
       "      <th></th>\n",
       "      <th></th>\n",
       "      <th></th>\n",
       "      <th></th>\n",
       "      <th></th>\n",
       "      <th></th>\n",
       "    </tr>\n",
       "  </thead>\n",
       "  <tbody>\n",
       "    <tr>\n",
       "      <th>0</th>\n",
       "      <td>2013-01-01</td>\n",
       "      <td>1</td>\n",
       "      <td>AUTOMOTIVE</td>\n",
       "      <td>0.0</td>\n",
       "      <td>0</td>\n",
       "      <td>Quito</td>\n",
       "      <td>Pichincha</td>\n",
       "      <td>D</td>\n",
       "      <td>13</td>\n",
       "      <td>NaN</td>\n",
       "      <td>Holiday</td>\n",
       "      <td>National</td>\n",
       "      <td>Ecuador</td>\n",
       "      <td>Primer dia del ano</td>\n",
       "      <td>False</td>\n",
       "    </tr>\n",
       "    <tr>\n",
       "      <th>1</th>\n",
       "      <td>2013-01-01</td>\n",
       "      <td>1</td>\n",
       "      <td>BABY CARE</td>\n",
       "      <td>0.0</td>\n",
       "      <td>0</td>\n",
       "      <td>Quito</td>\n",
       "      <td>Pichincha</td>\n",
       "      <td>D</td>\n",
       "      <td>13</td>\n",
       "      <td>NaN</td>\n",
       "      <td>Holiday</td>\n",
       "      <td>National</td>\n",
       "      <td>Ecuador</td>\n",
       "      <td>Primer dia del ano</td>\n",
       "      <td>False</td>\n",
       "    </tr>\n",
       "    <tr>\n",
       "      <th>2</th>\n",
       "      <td>2013-01-01</td>\n",
       "      <td>1</td>\n",
       "      <td>BEAUTY</td>\n",
       "      <td>0.0</td>\n",
       "      <td>0</td>\n",
       "      <td>Quito</td>\n",
       "      <td>Pichincha</td>\n",
       "      <td>D</td>\n",
       "      <td>13</td>\n",
       "      <td>NaN</td>\n",
       "      <td>Holiday</td>\n",
       "      <td>National</td>\n",
       "      <td>Ecuador</td>\n",
       "      <td>Primer dia del ano</td>\n",
       "      <td>False</td>\n",
       "    </tr>\n",
       "  </tbody>\n",
       "</table>\n",
       "</div>"
      ],
      "text/plain": [
       "          date  store_nbr      family  sales  onpromotion   city      state  \\\n",
       "id                                                                            \n",
       "0   2013-01-01          1  AUTOMOTIVE    0.0            0  Quito  Pichincha   \n",
       "1   2013-01-01          1   BABY CARE    0.0            0  Quito  Pichincha   \n",
       "2   2013-01-01          1      BEAUTY    0.0            0  Quito  Pichincha   \n",
       "\n",
       "   type_x  cluster  dcoilwtico   type_y    locale locale_name  \\\n",
       "id                                                              \n",
       "0       D       13         NaN  Holiday  National     Ecuador   \n",
       "1       D       13         NaN  Holiday  National     Ecuador   \n",
       "2       D       13         NaN  Holiday  National     Ecuador   \n",
       "\n",
       "           description  transferred  \n",
       "id                                   \n",
       "0   Primer dia del ano        False  \n",
       "1   Primer dia del ano        False  \n",
       "2   Primer dia del ano        False  "
      ]
     },
     "execution_count": 283,
     "metadata": {},
     "output_type": "execute_result"
    }
   ],
   "source": [
    "df_merged.head(3)"
   ]
  },
  {
   "cell_type": "code",
   "execution_count": 284,
   "id": "b30eca12",
   "metadata": {},
   "outputs": [],
   "source": [
    "# Columns we don't need so we can drop\n",
    "cols_drop = ['city', 'state', 'type_x', 'dcoilwtico', 'type_y', 'locale', 'locale_name', 'transferred']\n",
    "\n",
    "# Drop the columns\n",
    "df_merged = df_merged.drop(columns=cols_drop)"
   ]
  },
  {
   "cell_type": "code",
   "execution_count": 285,
   "id": "7f3da232",
   "metadata": {},
   "outputs": [],
   "source": [
    "# Put sales last\n",
    "cols = [col for col in df_merged.columns if col != 'sales'] + ['sales']\n",
    "df_merged = df_merged[cols]"
   ]
  },
  {
   "cell_type": "code",
   "execution_count": 286,
   "id": "3884b7d1",
   "metadata": {},
   "outputs": [],
   "source": [
    "# Aggregating data\n",
    "df_family_aggregated = df_merged.groupby(['date', 'family']).agg({'sales': 'sum', 'onpromotion': 'sum' }).reset_index()"
   ]
  },
  {
   "cell_type": "code",
   "execution_count": 287,
   "id": "49886786",
   "metadata": {},
   "outputs": [
    {
     "data": {
      "text/html": [
       "<div>\n",
       "<style scoped>\n",
       "    .dataframe tbody tr th:only-of-type {\n",
       "        vertical-align: middle;\n",
       "    }\n",
       "\n",
       "    .dataframe tbody tr th {\n",
       "        vertical-align: top;\n",
       "    }\n",
       "\n",
       "    .dataframe thead th {\n",
       "        text-align: right;\n",
       "    }\n",
       "</style>\n",
       "<table border=\"1\" class=\"dataframe\">\n",
       "  <thead>\n",
       "    <tr style=\"text-align: right;\">\n",
       "      <th></th>\n",
       "      <th>date</th>\n",
       "      <th>family</th>\n",
       "      <th>sales</th>\n",
       "      <th>onpromotion</th>\n",
       "    </tr>\n",
       "  </thead>\n",
       "  <tbody>\n",
       "    <tr>\n",
       "      <th>0</th>\n",
       "      <td>2013-01-01</td>\n",
       "      <td>AUTOMOTIVE</td>\n",
       "      <td>0.000</td>\n",
       "      <td>0</td>\n",
       "    </tr>\n",
       "    <tr>\n",
       "      <th>1</th>\n",
       "      <td>2013-01-01</td>\n",
       "      <td>BABY CARE</td>\n",
       "      <td>0.000</td>\n",
       "      <td>0</td>\n",
       "    </tr>\n",
       "    <tr>\n",
       "      <th>2</th>\n",
       "      <td>2013-01-01</td>\n",
       "      <td>BEAUTY</td>\n",
       "      <td>2.000</td>\n",
       "      <td>0</td>\n",
       "    </tr>\n",
       "    <tr>\n",
       "      <th>3</th>\n",
       "      <td>2013-01-01</td>\n",
       "      <td>BEVERAGES</td>\n",
       "      <td>810.000</td>\n",
       "      <td>0</td>\n",
       "    </tr>\n",
       "    <tr>\n",
       "      <th>4</th>\n",
       "      <td>2013-01-01</td>\n",
       "      <td>BOOKS</td>\n",
       "      <td>0.000</td>\n",
       "      <td>0</td>\n",
       "    </tr>\n",
       "    <tr>\n",
       "      <th>5</th>\n",
       "      <td>2013-01-01</td>\n",
       "      <td>BREAD/BAKERY</td>\n",
       "      <td>180.589</td>\n",
       "      <td>0</td>\n",
       "    </tr>\n",
       "    <tr>\n",
       "      <th>6</th>\n",
       "      <td>2013-01-01</td>\n",
       "      <td>CELEBRATION</td>\n",
       "      <td>0.000</td>\n",
       "      <td>0</td>\n",
       "    </tr>\n",
       "    <tr>\n",
       "      <th>7</th>\n",
       "      <td>2013-01-01</td>\n",
       "      <td>CLEANING</td>\n",
       "      <td>186.000</td>\n",
       "      <td>0</td>\n",
       "    </tr>\n",
       "    <tr>\n",
       "      <th>8</th>\n",
       "      <td>2013-01-01</td>\n",
       "      <td>DAIRY</td>\n",
       "      <td>143.000</td>\n",
       "      <td>0</td>\n",
       "    </tr>\n",
       "    <tr>\n",
       "      <th>9</th>\n",
       "      <td>2013-01-01</td>\n",
       "      <td>DELI</td>\n",
       "      <td>71.090</td>\n",
       "      <td>0</td>\n",
       "    </tr>\n",
       "  </tbody>\n",
       "</table>\n",
       "</div>"
      ],
      "text/plain": [
       "         date        family    sales  onpromotion\n",
       "0  2013-01-01    AUTOMOTIVE    0.000            0\n",
       "1  2013-01-01     BABY CARE    0.000            0\n",
       "2  2013-01-01        BEAUTY    2.000            0\n",
       "3  2013-01-01     BEVERAGES  810.000            0\n",
       "4  2013-01-01         BOOKS    0.000            0\n",
       "5  2013-01-01  BREAD/BAKERY  180.589            0\n",
       "6  2013-01-01   CELEBRATION    0.000            0\n",
       "7  2013-01-01      CLEANING  186.000            0\n",
       "8  2013-01-01         DAIRY  143.000            0\n",
       "9  2013-01-01          DELI   71.090            0"
      ]
     },
     "execution_count": 287,
     "metadata": {},
     "output_type": "execute_result"
    }
   ],
   "source": [
    "df_family_aggregated.head(10)"
   ]
  },
  {
   "cell_type": "code",
   "execution_count": 288,
   "id": "d70ce0e0",
   "metadata": {},
   "outputs": [
    {
     "data": {
      "text/plain": [
       "date           0\n",
       "family         0\n",
       "sales          0\n",
       "onpromotion    0\n",
       "dtype: int64"
      ]
     },
     "execution_count": 288,
     "metadata": {},
     "output_type": "execute_result"
    }
   ],
   "source": [
    "df_family_aggregated.isnull().sum()"
   ]
  },
  {
   "cell_type": "markdown",
   "id": "ece51849",
   "metadata": {},
   "source": [
    "## Feature Engineering"
   ]
  },
  {
   "cell_type": "code",
   "execution_count": 289,
   "id": "6a2daf9a",
   "metadata": {},
   "outputs": [],
   "source": [
    "df_family_aggregated['date'] = pd.to_datetime(df_family_aggregated['date'])"
   ]
  },
  {
   "cell_type": "code",
   "execution_count": 290,
   "id": "76c6d200",
   "metadata": {},
   "outputs": [],
   "source": [
    "# Create day of week feature\n",
    "df_family_aggregated['day_of_week'] = df_family_aggregated['date'].dt.dayofweek\n",
    "\n",
    "# Lag sales by 1 to get previous day of sales value\n",
    "df_family_aggregated['lag_1'] = df_family_aggregated['sales'].shift(1)\n",
    "\n",
    "# Add rolling mean for 7-day window\n",
    "df_family_aggregated['rolling_mean'] = df_family_aggregated['sales'].rolling(window=7).mean()"
   ]
  },
  {
   "cell_type": "code",
   "execution_count": 291,
   "id": "cb713b5f",
   "metadata": {},
   "outputs": [],
   "source": [
    "# Drop the missing values\n",
    "df_family_aggregated.dropna(inplace=True)"
   ]
  },
  {
   "cell_type": "code",
   "execution_count": 292,
   "id": "e5a8b27e",
   "metadata": {},
   "outputs": [
    {
     "data": {
      "text/plain": [
       "(55566, 7)"
      ]
     },
     "execution_count": 292,
     "metadata": {},
     "output_type": "execute_result"
    }
   ],
   "source": [
    "# Find shape\n",
    "df_family_aggregated.shape"
   ]
  },
  {
   "cell_type": "markdown",
   "id": "1b381a7e",
   "metadata": {},
   "source": [
    "## Feature Encoding ##"
   ]
  },
  {
   "cell_type": "code",
   "execution_count": 293,
   "id": "f2c621df",
   "metadata": {},
   "outputs": [],
   "source": [
    "# One-hot encoding for family column\n",
    "df_family_dummies = pd.get_dummies(df_family_aggregated['family'], drop_first=True, prefix='family')"
   ]
  },
  {
   "cell_type": "code",
   "execution_count": 294,
   "id": "d63f8622",
   "metadata": {},
   "outputs": [
    {
     "data": {
      "text/html": [
       "<div>\n",
       "<style scoped>\n",
       "    .dataframe tbody tr th:only-of-type {\n",
       "        vertical-align: middle;\n",
       "    }\n",
       "\n",
       "    .dataframe tbody tr th {\n",
       "        vertical-align: top;\n",
       "    }\n",
       "\n",
       "    .dataframe thead th {\n",
       "        text-align: right;\n",
       "    }\n",
       "</style>\n",
       "<table border=\"1\" class=\"dataframe\">\n",
       "  <thead>\n",
       "    <tr style=\"text-align: right;\">\n",
       "      <th></th>\n",
       "      <th>family_BABY CARE</th>\n",
       "      <th>family_BEAUTY</th>\n",
       "      <th>family_BEVERAGES</th>\n",
       "      <th>family_BOOKS</th>\n",
       "      <th>family_BREAD/BAKERY</th>\n",
       "      <th>family_CELEBRATION</th>\n",
       "      <th>family_CLEANING</th>\n",
       "      <th>family_DAIRY</th>\n",
       "      <th>family_DELI</th>\n",
       "      <th>family_EGGS</th>\n",
       "      <th>...</th>\n",
       "      <th>family_MAGAZINES</th>\n",
       "      <th>family_MEATS</th>\n",
       "      <th>family_PERSONAL CARE</th>\n",
       "      <th>family_PET SUPPLIES</th>\n",
       "      <th>family_PLAYERS AND ELECTRONICS</th>\n",
       "      <th>family_POULTRY</th>\n",
       "      <th>family_PREPARED FOODS</th>\n",
       "      <th>family_PRODUCE</th>\n",
       "      <th>family_SCHOOL AND OFFICE SUPPLIES</th>\n",
       "      <th>family_SEAFOOD</th>\n",
       "    </tr>\n",
       "  </thead>\n",
       "  <tbody>\n",
       "    <tr>\n",
       "      <th>6</th>\n",
       "      <td>False</td>\n",
       "      <td>False</td>\n",
       "      <td>False</td>\n",
       "      <td>False</td>\n",
       "      <td>False</td>\n",
       "      <td>True</td>\n",
       "      <td>False</td>\n",
       "      <td>False</td>\n",
       "      <td>False</td>\n",
       "      <td>False</td>\n",
       "      <td>...</td>\n",
       "      <td>False</td>\n",
       "      <td>False</td>\n",
       "      <td>False</td>\n",
       "      <td>False</td>\n",
       "      <td>False</td>\n",
       "      <td>False</td>\n",
       "      <td>False</td>\n",
       "      <td>False</td>\n",
       "      <td>False</td>\n",
       "      <td>False</td>\n",
       "    </tr>\n",
       "    <tr>\n",
       "      <th>7</th>\n",
       "      <td>False</td>\n",
       "      <td>False</td>\n",
       "      <td>False</td>\n",
       "      <td>False</td>\n",
       "      <td>False</td>\n",
       "      <td>False</td>\n",
       "      <td>True</td>\n",
       "      <td>False</td>\n",
       "      <td>False</td>\n",
       "      <td>False</td>\n",
       "      <td>...</td>\n",
       "      <td>False</td>\n",
       "      <td>False</td>\n",
       "      <td>False</td>\n",
       "      <td>False</td>\n",
       "      <td>False</td>\n",
       "      <td>False</td>\n",
       "      <td>False</td>\n",
       "      <td>False</td>\n",
       "      <td>False</td>\n",
       "      <td>False</td>\n",
       "    </tr>\n",
       "    <tr>\n",
       "      <th>8</th>\n",
       "      <td>False</td>\n",
       "      <td>False</td>\n",
       "      <td>False</td>\n",
       "      <td>False</td>\n",
       "      <td>False</td>\n",
       "      <td>False</td>\n",
       "      <td>False</td>\n",
       "      <td>True</td>\n",
       "      <td>False</td>\n",
       "      <td>False</td>\n",
       "      <td>...</td>\n",
       "      <td>False</td>\n",
       "      <td>False</td>\n",
       "      <td>False</td>\n",
       "      <td>False</td>\n",
       "      <td>False</td>\n",
       "      <td>False</td>\n",
       "      <td>False</td>\n",
       "      <td>False</td>\n",
       "      <td>False</td>\n",
       "      <td>False</td>\n",
       "    </tr>\n",
       "  </tbody>\n",
       "</table>\n",
       "<p>3 rows × 32 columns</p>\n",
       "</div>"
      ],
      "text/plain": [
       "   family_BABY CARE  family_BEAUTY  family_BEVERAGES  family_BOOKS  \\\n",
       "6             False          False             False         False   \n",
       "7             False          False             False         False   \n",
       "8             False          False             False         False   \n",
       "\n",
       "   family_BREAD/BAKERY  family_CELEBRATION  family_CLEANING  family_DAIRY  \\\n",
       "6                False                True            False         False   \n",
       "7                False               False             True         False   \n",
       "8                False               False            False          True   \n",
       "\n",
       "   family_DELI  family_EGGS  ...  family_MAGAZINES  family_MEATS  \\\n",
       "6        False        False  ...             False         False   \n",
       "7        False        False  ...             False         False   \n",
       "8        False        False  ...             False         False   \n",
       "\n",
       "   family_PERSONAL CARE  family_PET SUPPLIES  family_PLAYERS AND ELECTRONICS  \\\n",
       "6                 False                False                           False   \n",
       "7                 False                False                           False   \n",
       "8                 False                False                           False   \n",
       "\n",
       "   family_POULTRY  family_PREPARED FOODS  family_PRODUCE  \\\n",
       "6           False                  False           False   \n",
       "7           False                  False           False   \n",
       "8           False                  False           False   \n",
       "\n",
       "   family_SCHOOL AND OFFICE SUPPLIES  family_SEAFOOD  \n",
       "6                              False           False  \n",
       "7                              False           False  \n",
       "8                              False           False  \n",
       "\n",
       "[3 rows x 32 columns]"
      ]
     },
     "execution_count": 294,
     "metadata": {},
     "output_type": "execute_result"
    }
   ],
   "source": [
    "df_family_dummies.head(3)"
   ]
  },
  {
   "cell_type": "code",
   "execution_count": 295,
   "id": "f5285ab8",
   "metadata": {},
   "outputs": [],
   "source": [
    "# One-hot encoding for family column\n",
    "df_family_aggregated = pd.concat([df_family_aggregated, df_family_dummies], axis=1)\n",
    "\n",
    "# No need for family column anymore\n",
    "df_family_aggregated.drop('family', axis=1, inplace=True)"
   ]
  },
  {
   "cell_type": "markdown",
   "id": "af5588a7",
   "metadata": {},
   "source": [
    "### Feature Scaling"
   ]
  },
  {
   "cell_type": "code",
   "execution_count": 296,
   "id": "a8540442",
   "metadata": {},
   "outputs": [],
   "source": [
    "# These columns need to be scaled\n",
    "columns_to_scale = ['onpromotion', 'day_of_week', 'lag_1', 'rolling_mean', 'sales'] + list(df_family_dummies.columns)\n",
    "\n",
    "# Introduce MinMaxScaler\n",
    "scaler = MinMaxScaler()\n",
    "\n",
    "# Apply\n",
    "df_family_aggregated[columns_to_scale] = scaler.fit_transform(df_family_aggregated[columns_to_scale])"
   ]
  },
  {
   "cell_type": "code",
   "execution_count": 297,
   "id": "9cb75250",
   "metadata": {},
   "outputs": [],
   "source": [
    "# Sort by date\n",
    "df_family_aggregated = df_family_aggregated.sort_values('date')"
   ]
  },
  {
   "cell_type": "code",
   "execution_count": 356,
   "id": "2df11b5b",
   "metadata": {
    "scrolled": true
   },
   "outputs": [
    {
     "data": {
      "text/plain": [
       "(55566, 38)"
      ]
     },
     "execution_count": 356,
     "metadata": {},
     "output_type": "execute_result"
    }
   ],
   "source": [
    "df_family_aggregated.shape"
   ]
  },
  {
   "cell_type": "markdown",
   "id": "06fe14cc",
   "metadata": {},
   "source": [
    "### Train Test Split"
   ]
  },
  {
   "cell_type": "code",
   "execution_count": 299,
   "id": "fd7f4d6f",
   "metadata": {},
   "outputs": [],
   "source": [
    "train_size = int(0.8 * len(df_family_aggregated))\n",
    "train_data = df_family_aggregated[:train_size]\n",
    "test_data = df_family_aggregated[train_size:]"
   ]
  },
  {
   "cell_type": "code",
   "execution_count": 300,
   "id": "fd17c7d5",
   "metadata": {},
   "outputs": [
    {
     "data": {
      "text/plain": [
       "((44452, 38), (11114, 38))"
      ]
     },
     "execution_count": 300,
     "metadata": {},
     "output_type": "execute_result"
    }
   ],
   "source": [
    "train_data.shape, test_data.shape"
   ]
  },
  {
   "cell_type": "code",
   "execution_count": 301,
   "id": "402e8436",
   "metadata": {},
   "outputs": [],
   "source": [
    "# Set up training set\n",
    "X_train = train_data.drop(columns=['sales', 'date'])\n",
    "y_train = train_data['sales']"
   ]
  },
  {
   "cell_type": "code",
   "execution_count": 302,
   "id": "70f6f363",
   "metadata": {},
   "outputs": [],
   "source": [
    "# Set up test set\n",
    "X_test = test_data.drop(columns=['sales', 'date'])\n",
    "y_test = test_data['sales']"
   ]
  },
  {
   "cell_type": "markdown",
   "id": "1a061915",
   "metadata": {},
   "source": [
    "## Modeling ##"
   ]
  },
  {
   "cell_type": "code",
   "execution_count": 406,
   "id": "4227a6b8",
   "metadata": {},
   "outputs": [],
   "source": [
    "# Define a function to plot the predictions aganist the actuals\n",
    "def plot_predictions(date, y_test, y_pred, forecast_label, title):\n",
    "    \"\"\"\n",
    "    Plot the actual and predicted time series data.\n",
    "\n",
    "    Parameters:\n",
    "    date (array-like): Date or time index.\n",
    "    y_test (array-like): Actual values.\n",
    "    y_pred (array-like): Predicted values.\n",
    "    forecast_label (str): Label for the forecasted data.\n",
    "    title (str): Title for the plot.\n",
    "    \"\"\"\n",
    "    # Set the custom color palette\n",
    "    sns.set_palette(custom_palette)\n",
    "    \n",
    "    # Create a figure with specified dimensions\n",
    "    plt.figure(figsize=(10, 6))\n",
    "\n",
    "    # Plot the actual data in green\n",
    "    sns.lineplot(x=date, y=y_test, label='Actual', color=custom_palette[0])\n",
    "\n",
    "    # Plot the predicted data in blue with the specified label\n",
    "    sns.lineplot(x=date, y=y_pred, label=forecast_label, color=custom_palette[1])\n",
    "\n",
    "    # Add a legend to the plot\n",
    "    plt.legend()\n",
    "\n",
    "    # Set the title of the plot\n",
    "    plt.title(title)\n",
    "\n",
    "    # Display the plot\n",
    "    plt.show()"
   ]
  },
  {
   "cell_type": "code",
   "execution_count": 407,
   "id": "a3f08c83",
   "metadata": {},
   "outputs": [],
   "source": [
    "# Define a function to compute the evaluations metrics after the forecast\n",
    "def evaluate_forecast(y_test, forecast):\n",
    "    \"\"\"\n",
    "    Compute MSE, RMSE, and RMSLE for a forecast.\n",
    "\n",
    "    Parameters:\n",
    "    y_test (array-like): Actual values.\n",
    "    forecast (array-like): Predicted values.\n",
    "\n",
    "    Returns:\n",
    "    dict: Dictionary containing MSE, RMSE, and RMSLE.\n",
    "    \"\"\"\n",
    "    def rmsle(predicted, actual):\n",
    "        return np.sqrt(np.mean(np.square(np.log1p(predicted) - np.log1p(actual))))\n",
    "\n",
    "    # Compute Mean Squared Error (MSE)\n",
    "    mse = mean_squared_error(y_test, forecast)\n",
    "    \n",
    "    # Compute Root Mean Squared Error (RMSE)\n",
    "    rmse = np.sqrt(mse)\n",
    "    \n",
    "    # Compute Root Mean Squared Logarithmic Error (RMSLE)\n",
    "    rmsle_value = rmsle(forecast, y_test)\n",
    "    \n",
    "    # Return the evaluation metrics as a dictionary\n",
    "    metrics = {\n",
    "        'MSE': mse,\n",
    "        'RMSE': rmse,\n",
    "        'RMSLE': rmsle_value\n",
    "    }\n",
    "    \n",
    "    return metrics"
   ]
  },
  {
   "cell_type": "code",
   "execution_count": 309,
   "id": "145899ca",
   "metadata": {},
   "outputs": [],
   "source": [
    "# Exogenous variables to help predict sales\n",
    "#ex_variables = ['onpromotion', 'day_of_week', 'lag_1', 'rolling_mean']\n",
    "ex_variables = ['onpromotion', 'day_of_week']"
   ]
  },
  {
   "cell_type": "markdown",
   "id": "a633212c",
   "metadata": {},
   "source": [
    "### ARIMA Model"
   ]
  },
  {
   "cell_type": "code",
   "execution_count": 310,
   "id": "35ace9f6",
   "metadata": {},
   "outputs": [],
   "source": [
    "# Define instances\n",
    "model_arima = sm.tsa.ARIMA(y_train, exog=X_train[ex_variables], order=(1,0,0))\n",
    "\n",
    "# Fit the model\n",
    "results_arima = model_arima.fit()\n",
    "\n",
    "# Make predictions\n",
    "forecast_arima = results_arima.predict(start=len(train_data), end=len(train_data) + len(test_data) - 1, exog=X_test[ex_variables])"
   ]
  },
  {
   "cell_type": "code",
   "execution_count": 357,
   "id": "5ea941e1",
   "metadata": {},
   "outputs": [
    {
     "name": "stdout",
     "output_type": "stream",
     "text": [
      "(11114,) (11114,) (11114,)\n"
     ]
    }
   ],
   "source": [
    "print(test_data['date'].shape, y_test.shape, forecast_arima.shape)"
   ]
  },
  {
   "cell_type": "code",
   "execution_count": 358,
   "id": "65a0ff2a",
   "metadata": {},
   "outputs": [
    {
     "data": {
      "image/png": "[encoded data removed]",
      "text/plain": [
       "<Figure size 1000x600 with 1 Axes>"
      ]
     },
     "metadata": {},
     "output_type": "display_data"
    }
   ],
   "source": [
    "# Plot the predictions vs. actual\n",
    "plot_predictions(test_data['date'], y_test, forecast_arima, 'ARIMA Forecast', 'ARIMA Forecast vs Actual')"
   ]
  },
  {
   "cell_type": "code",
   "execution_count": null,
   "id": "517e7b28",
   "metadata": {},
   "outputs": [],
   "source": [
    "# Calculate metrics\n",
    "arima_metrics = evaluate_forecast(y_test, forecast_arima)\n",
    "\n",
    "arima_metrics"
   ]
  },
  {
   "cell_type": "markdown",
   "id": "0f3d3270",
   "metadata": {},
   "source": [
    "# SARIMA Model"
   ]
  },
  {
   "cell_type": "code",
   "execution_count": 313,
   "id": "7a612636",
   "metadata": {},
   "outputs": [],
   "source": [
    "# Define the instance\n",
    "model_sarima = sm.tsa.SARIMAX(y_train, exog=X_train[ex_variables], order=(1,1,0), seasonal_order=(1,0,0,12))\n",
    "\n",
    "# Fit the model\n",
    "results_sarima = model_sarima.fit(disp=False)\n",
    "\n",
    "# Make predictions\n",
    "forecast_sarima = results_sarima.predict(start=len(train_data), end=len(train_data) + len(test_data) - 1, exog=X_test[ex_variables])"
   ]
  },
  {
   "cell_type": "code",
   "execution_count": 351,
   "id": "b485758a",
   "metadata": {},
   "outputs": [
    {
     "data": {
      "image/png": "[encoded data removed]",
      "text/plain": [
       "<Figure size 1000x600 with 1 Axes>"
      ]
     },
     "metadata": {},
     "output_type": "display_data"
    }
   ],
   "source": [
    "# Plot the predictions vs. actual\n",
    "plot_predictions(test_data['date'], y_test, forecast_sarima, 'SARIMA Forecast', 'SARIMA Forecast vs Actual')"
   ]
  },
  {
   "cell_type": "code",
   "execution_count": 385,
   "id": "45174c69",
   "metadata": {},
   "outputs": [
    {
     "data": {
      "text/plain": [
       "{'MSE': 0.0016396057132856278,\n",
       " 'RMSE': 0.04049204506178501,\n",
       " 'RMSLE': 0.07599825085185964}"
      ]
     },
     "execution_count": 385,
     "metadata": {},
     "output_type": "execute_result"
    }
   ],
   "source": [
    "# Calculate metrics\n",
    "sarima_metrics = evaluate_forecast(y_test, forecast_sarima)\n",
    "\n",
    "sarima_metrics"
   ]
  },
  {
   "cell_type": "code",
   "execution_count": 348,
   "id": "f53cf9fc",
   "metadata": {},
   "outputs": [
    {
     "name": "stdout",
     "output_type": "stream",
     "text": [
      "<class 'pandas.core.series.Series'> <class 'pandas.core.series.Series'> <class 'pandas.core.series.Series'>\n"
     ]
    }
   ],
   "source": [
    "print(type(test_data['date']),type(y_test),type(forecast_sarima))"
   ]
  },
  {
   "cell_type": "code",
   "execution_count": 352,
   "id": "1df974d4",
   "metadata": {},
   "outputs": [
    {
     "data": {
      "text/plain": [
       "44452    0.008248\n",
       "44453    0.012522\n",
       "44454    0.008003\n",
       "44455    0.011585\n",
       "44456    0.011850\n",
       "           ...   \n",
       "55561    0.014478\n",
       "55562    0.140603\n",
       "55563    0.012299\n",
       "55564    0.012299\n",
       "55565    0.012299\n",
       "Name: predicted_mean, Length: 11114, dtype: float64"
      ]
     },
     "execution_count": 352,
     "metadata": {},
     "output_type": "execute_result"
    }
   ],
   "source": [
    "forecast_sarima"
   ]
  },
  {
   "cell_type": "code",
   "execution_count": 355,
   "id": "7acc2d0a",
   "metadata": {},
   "outputs": [
    {
     "data": {
      "text/plain": [
       "44468    0.000018\n",
       "44477    0.000366\n",
       "44478    0.000485\n",
       "44479    0.016969\n",
       "44480    0.005396\n",
       "           ...   \n",
       "55550    0.005573\n",
       "55551    0.235323\n",
       "55552    0.001364\n",
       "55545    0.000627\n",
       "55571    0.001018\n",
       "Name: sales, Length: 11114, dtype: float64"
      ]
     },
     "execution_count": 355,
     "metadata": {},
     "output_type": "execute_result"
    }
   ],
   "source": [
    "y_test"
   ]
  },
  {
   "cell_type": "code",
   "execution_count": null,
   "id": "97b87014",
   "metadata": {},
   "outputs": [],
   "source": []
  },
  {
   "cell_type": "markdown",
   "id": "5e28a2fd",
   "metadata": {},
   "source": [
    "## Exponential Smoothing Model ##"
   ]
  },
  {
   "cell_type": "code",
   "execution_count": null,
   "id": "88819f27",
   "metadata": {},
   "outputs": [],
   "source": [
    "# Define Instance of the Exponential Smoothing model\n",
    "model_ets = ExponentialSmoothing(y_train, seasonal='add', seasonal_periods=12)\n",
    "\n",
    "# Fit the Model\n",
    "results_ets = model_ets.fit()\n",
    "\n",
    "# Make Initial Forecast\n",
    "initial_forecast = results_ets.forecast(steps=len(y_test))"
   ]
  },
  {
   "cell_type": "code",
   "execution_count": null,
   "id": "3cfd260a",
   "metadata": {},
   "outputs": [],
   "source": [
    "# Use initial forecast obtained and exogenous Variables defined to predict y_test.\n",
    "X_adjust_train = pd.concat([y_train.shift(-1).dropna().rename(\"forecast\"), X_train[ex_variables].iloc[1:, :]], axis=1)\n",
    "X_adjust_test = pd.concat([pd.Series(initial_forecast, index=y_test.index).rename(\"forecast\"), X_test[ex_variables]], axis=1)\n",
    "\n",
    "# Drop rows with missing values from both the adjusted train and test\n",
    "X_adjust_train = X_adjust_train.dropna()\n",
    "y_adjust_train = y_train.loc[X_adjust_train.index]\n",
    "\n",
    "X_adjust_test = X_adjust_test.dropna()\n",
    "y_adjust_test = y_test.loc[X_adjust_test.index]\n",
    "\n",
    "# Convert feature names to strings\n",
    "X_adjust_train.columns = X_adjust_train.columns.astype(str)\n",
    "X_adjust_test.columns = X_adjust_test.columns.astype(str)"
   ]
  },
  {
   "cell_type": "code",
   "execution_count": null,
   "id": "44755e4c",
   "metadata": {},
   "outputs": [],
   "source": [
    "# Define linear regression model\n",
    "lr = LinearRegression()\n",
    "\n",
    "# Fit the lr model\n",
    "lr.fit(X_adjust_train, y_adjust_train)\n",
    "\n",
    "# Predict based on X_adjust_train\n",
    "forecast_ets = lr.predict(X_adjust_test)"
   ]
  },
  {
   "cell_type": "code",
   "execution_count": null,
   "id": "96367504",
   "metadata": {},
   "outputs": [],
   "source": [
    "# Use our function to plot predictions vs. actual\n",
    "plot_predictions(y_adjust_test.index, y_adjust_test, forecast_ets, 'Adjust ETS Forecast', 'Adjust ETS Forecast vs. Actual')"
   ]
  },
  {
   "cell_type": "code",
   "execution_count": null,
   "id": "3fdaa840",
   "metadata": {},
   "outputs": [],
   "source": [
    "# Calculate metrics \n",
    "ets_metrics = evaluate_forecast(y_adjust_test, forecast_ets)\n",
    "\n",
    "ets_metrics"
   ]
  },
  {
   "cell_type": "markdown",
   "id": "9a468d69",
   "metadata": {
    "jp-MarkdownHeadingCollapsed": true
   },
   "source": [
    "## XGBOOST Regressor Model"
   ]
  },
  {
   "cell_type": "code",
   "execution_count": null,
   "id": "6f6efe73",
   "metadata": {},
   "outputs": [],
   "source": [
    "# Define xgboost\n",
    "model_xgb = xgb.XGBRegressor(objective='reg:squarederror')\n",
    "\n",
    "# Fit model\n",
    "model_xgb.fit(X_train, y_train)\n",
    "\n",
    "# Predict\n",
    "forecast_xgb = model_xgb.predict(X_test)"
   ]
  },
  {
   "cell_type": "code",
   "execution_count": null,
   "id": "1e6fe27e",
   "metadata": {},
   "outputs": [],
   "source": [
    "# Plot predictions\n",
    "plot_predictions(test_data['date'], y_test, forecast_xgb, 'XGBoodt Forecast', 'XGBoost vs. Actual')"
   ]
  },
  {
   "cell_type": "code",
   "execution_count": null,
   "id": "78f64124",
   "metadata": {},
   "outputs": [],
   "source": [
    "# Metrics \n",
    "xgboost_metrics = evaluate_forecast(y_test, forecast_xgb)\n",
    "\n",
    "xgboost_metrics"
   ]
  },
  {
   "cell_type": "markdown",
   "id": "df6de57f",
   "metadata": {
    "jp-MarkdownHeadingCollapsed": true
   },
   "source": [
    "## Comparing Models"
   ]
  },
  {
   "cell_type": "code",
   "execution_count": null,
   "id": "8f5d3d7a",
   "metadata": {},
   "outputs": [],
   "source": [
    "# Make a dictionary to combine results\n",
    "data = {\n",
    "    'Model': ['ARIMA', 'SARIMA', 'ETS', 'XGBOOST'],\n",
    "    'MSE': [arima_metrics['MSE'], sarima_metrics['MSE'], ets_metrics['MSE'], xgboost_metrics['MSE']],\n",
    "    'RMSE': [arima_metrics['RMSE'], sarima_metrics['RMSE'], ets_metrics['RMSE'], xgboost_metrics['RMSE']],\n",
    "    'RMSLE': [arima_metrics['RMSLE'], sarima_metrics['RMSLE'], ets_metrics['RMSLE'], xgboost_metrics['RMSLE']]\n",
    "}\n",
    "\n",
    "# Set up performance df\n",
    "performance_df = pd.DataFrame(data)\n",
    "\n",
    "performance_df"
   ]
  },
  {
   "cell_type": "code",
   "execution_count": null,
   "id": "5eea15e9",
   "metadata": {},
   "outputs": [],
   "source": [
    "# Visual display of performance\n",
    "fig = px.bar(performance_df, x='Model', y='RMSLE', title='RMSLE by Model', height=600)\n",
    "fig.update_xaxes(title='Model')\n",
    "fig.update_yaxes(title='RMSLE')\n",
    "fig.update_xaxes(categoryorder='total ascending')\n",
    "\n",
    "# Data labels\n",
    "fig.update_traces(texttemplate='%{y}', textposition='outside')\n",
    "\n",
    "fig.show()"
   ]
  },
  {
   "cell_type": "markdown",
   "id": "592e51aa",
   "metadata": {},
   "source": [
    "XGBoost is the best model, let's move forward with hyperparameter tuning."
   ]
  },
  {
   "cell_type": "markdown",
   "id": "bb167ca1",
   "metadata": {
    "jp-MarkdownHeadingCollapsed": true
   },
   "source": [
    "## Hyperparameter Tuning\n",
    "\n",
    "Going to be implementing a randomized search to fine-tune our XGBoost model. "
   ]
  },
  {
   "cell_type": "code",
   "execution_count": null,
   "id": "584ed34f",
   "metadata": {},
   "outputs": [],
   "source": [
    "xgb_param_dist = {\n",
    "    'learning_rate': [0.01, 0.1, 0.3],\n",
    "    'n_estimators': [50, 100, 200],\n",
    "    'max_depth': [2, 4, 6]\n",
    "}\n",
    "\n",
    "# Instance of model\n",
    "model_xgb = xgb.XGBRegressor(objective='reg:squarederror')\n",
    "\n",
    "# Perform search\n",
    "random_search = RandomizedSearchCV(\n",
    "    model_xgb,\n",
    "    param_distributions = xgb_param_dist,\n",
    "    n_iter=10,\n",
    "    cv=5,\n",
    "    scoring='neg_mean_squared_error',\n",
    "    random_state=42\n",
    ")"
   ]
  },
  {
   "cell_type": "code",
   "execution_count": null,
   "id": "f341ce53",
   "metadata": {},
   "outputs": [],
   "source": [
    "# Fit model\n",
    "random_search.fit(X_train, y_train)\n",
    "\n",
    "# Get best parameters\n",
    "best_xgb_params = random_search.best_params_\n",
    "\n",
    "# Print\n",
    "print(\"Best XGBoost Parameters:\", best_xgb_params)\n",
    "\n",
    "# Get best estimator\n",
    "best_xgb_model = random_search.best_estimator_\n",
    "\n",
    "# Print out\n",
    "best_xgb_model"
   ]
  },
  {
   "cell_type": "code",
   "execution_count": null,
   "id": "cab34310",
   "metadata": {},
   "outputs": [],
   "source": [
    "# Make a prediction with the best model\n",
    "forecast_xgb_best = best_xgb_model.predict(X_test)"
   ]
  },
  {
   "cell_type": "code",
   "execution_count": null,
   "id": "ff6f7409",
   "metadata": {},
   "outputs": [],
   "source": [
    "# Calculate evaluation metrics\n",
    "xgb_best = evaluate_forecast(y_test, forecast_xgb_best)\n",
    "\n",
    "xgb_best"
   ]
  },
  {
   "cell_type": "code",
   "execution_count": null,
   "id": "bc50ff52-f997-4db5-9296-a9f57541db3a",
   "metadata": {},
   "outputs": [],
   "source": []
  },
  {
   "cell_type": "code",
   "execution_count": null,
   "id": "c6e5d8ae-4ab9-4d70-9c76-95852e654b9a",
   "metadata": {},
   "outputs": [],
   "source": []
  },
  {
   "cell_type": "code",
   "execution_count": null,
   "id": "1ecbec3b-d199-4f07-9c18-0368f912fd62",
   "metadata": {},
   "outputs": [],
   "source": []
  },
  {
   "cell_type": "markdown",
   "id": "aa0d72cc-2aab-4b9b-8547-4f490f3d2ca9",
   "metadata": {},
   "source": [
    "## OLS ##"
   ]
  },
  {
   "cell_type": "code",
   "execution_count": null,
   "id": "1b902d94-325d-43f3-a778-5a457bb7dbf8",
   "metadata": {},
   "outputs": [],
   "source": []
  },
  {
   "cell_type": "code",
   "execution_count": 408,
   "id": "6ffe1526-bcbe-42e9-983b-b1b412cd3aeb",
   "metadata": {},
   "outputs": [],
   "source": [
    "#val_data[val_data.isnull().any(axis=1)]"
   ]
  },
  {
   "cell_type": "code",
   "execution_count": 460,
   "id": "0b39c65b-44b8-4cd3-adb1-29580f5df7b6",
   "metadata": {},
   "outputs": [
    {
     "name": "stdout",
     "output_type": "stream",
     "text": [
      "(2212557, 47) (553140, 47)\n"
     ]
    }
   ],
   "source": [
    "print(train_data.shape, val_data.shape)"
   ]
  },
  {
   "cell_type": "code",
   "execution_count": 461,
   "id": "48fdd75c",
   "metadata": {},
   "outputs": [],
   "source": [
    "X_ols = train_data_ols.drop(columns=['date','sales'])\n",
    "# add constant for linear regression\n",
    "X_ols = sm.add_constant(X_ols)\n",
    "y_ols = train_data_ols['sales']"
   ]
  },
  {
   "cell_type": "code",
   "execution_count": null,
   "id": "33d3b6e1-2d2d-45a1-b604-f91852be9fa9",
   "metadata": {},
   "outputs": [],
   "source": []
  },
  {
   "cell_type": "code",
   "execution_count": 462,
   "id": "6d2ab8aa-2312-44e7-a155-dd52b6194da6",
   "metadata": {},
   "outputs": [],
   "source": [
    "X_val_ols = val_data_ols.drop(columns=['date','sales'])\n",
    "X_val_ols = sm.add_constant(X_val_ols)\n",
    "y_val_ols =  val_data_ols['sales']\n",
    "\n",
    "X_test_ols = test_data_ols.drop(columns=['date','sales'])\n",
    "X_test_ols = sm.add_constant(X_test_ols)\n",
    "y_test_ols =  test_data_ols['sales']"
   ]
  },
  {
   "cell_type": "code",
   "execution_count": null,
   "id": "2dd47625-aed1-4952-b67d-c2232cd438e8",
   "metadata": {},
   "outputs": [],
   "source": []
  },
  {
   "cell_type": "code",
   "execution_count": 464,
   "id": "593c35c3-fc19-400e-8d62-a61d1e53aa34",
   "metadata": {},
   "outputs": [],
   "source": [
    "model_OLS = sm.OLS(y_ols,X_ols).fit()\n",
    "model_summary = model_OLS.summary()"
   ]
  },
  {
   "cell_type": "code",
   "execution_count": 482,
   "id": "3d390911-ef8c-4921-8b5c-d31af5e31aad",
   "metadata": {},
   "outputs": [],
   "source": [
    "#model_summary"
   ]
  },
  {
   "cell_type": "code",
   "execution_count": null,
   "id": "fd431079-c114-44c4-8051-c72863fff3fe",
   "metadata": {},
   "outputs": [],
   "source": []
  },
  {
   "cell_type": "code",
   "execution_count": 474,
   "id": "7bfe3f40-745f-4bd0-ae59-d65dbbfd5b7d",
   "metadata": {},
   "outputs": [
    {
     "name": "stdout",
     "output_type": "stream",
     "text": [
      "(553140,) (553140,) (553140, 46) (553140,)\n"
     ]
    }
   ],
   "source": [
    "print(val_data['date'].shape,y_val.shape, X_val.shape, val_ols_predictions.shape)"
   ]
  },
  {
   "cell_type": "code",
   "execution_count": 476,
   "id": "2def4556-1334-4116-8ba2-702b07d7bf63",
   "metadata": {},
   "outputs": [],
   "source": [
    "val_ols_predictions = model_OLS.predict(X_val_ols)"
   ]
  },
  {
   "cell_type": "code",
   "execution_count": null,
   "id": "04106f18-d411-4560-8e83-a91f2c4b0c68",
   "metadata": {},
   "outputs": [],
   "source": []
  },
  {
   "cell_type": "markdown",
   "id": "524c557e-37aa-47ce-85df-2ecd2eaf7e74",
   "metadata": {},
   "source": [
    "aa= pd.concat([val_data_ols['date'],y_val_ols, val_ols_predictions], axis=1)\n",
    "#a[aa['date']\n",
    "bb = aa[aa[0]<0]\n",
    "#bb['date'].unique()\n",
    "bb"
   ]
  },
  {
   "cell_type": "code",
   "execution_count": null,
   "id": "42f3fcff-678c-4a42-be76-2990f6b62b38",
   "metadata": {},
   "outputs": [],
   "source": []
  },
  {
   "cell_type": "code",
   "execution_count": 479,
   "id": "182cc31e-5917-4c1e-b2dd-5c84df7de415",
   "metadata": {},
   "outputs": [],
   "source": [
    "#plot_predictions(val_data_ols['date'],y_val_ols, val_ols_predictions, 'OLS Forecast', 'OLS vs. Actual') #need toconvert series to dfs"
   ]
  },
  {
   "cell_type": "code",
   "execution_count": 477,
   "id": "9aba9cb4-23e6-437a-817b-86b10047da01",
   "metadata": {},
   "outputs": [
    {
     "name": "stdout",
     "output_type": "stream",
     "text": [
      "(276569,) (276569,)\n"
     ]
    }
   ],
   "source": [
    "print(y_val_ols.shape, val_ols_predictions.shape)"
   ]
  },
  {
   "cell_type": "code",
   "execution_count": 478,
   "id": "fa8dbe52-9f46-4c8e-b7bc-87dcaea51105",
   "metadata": {},
   "outputs": [
    {
     "data": {
      "text/plain": [
       "{'MSE': 1177334.9539224077,\n",
       " 'RMSE': 1085.0506688272246,\n",
       " 'RMSLE': 3.1491931332057232}"
      ]
     },
     "execution_count": 478,
     "metadata": {},
     "output_type": "execute_result"
    }
   ],
   "source": [
    "ols_metrics = evaluate_forecast(y_val_ols, val_ols_predictions)\n",
    "\n",
    "ols_metrics"
   ]
  },
  {
   "cell_type": "code",
   "execution_count": null,
   "id": "a59fb1c2-dc72-4dce-beaf-e1de705552f6",
   "metadata": {},
   "outputs": [],
   "source": []
  },
  {
   "cell_type": "code",
   "execution_count": null,
   "id": "1f42f4aa-0da3-4e0d-91cf-4c232b1220ec",
   "metadata": {},
   "outputs": [],
   "source": []
  },
  {
   "cell_type": "code",
   "execution_count": null,
   "id": "56c6ae8a-35f7-4eab-8fbb-bcdc6fe3ef25",
   "metadata": {},
   "outputs": [],
   "source": []
  },
  {
   "cell_type": "code",
   "execution_count": null,
   "id": "cf9a2434-bbe8-41d6-ab08-d25d4be32d70",
   "metadata": {},
   "outputs": [],
   "source": []
  },
  {
   "cell_type": "code",
   "execution_count": null,
   "id": "7b26935c-b451-449f-8a39-b9046dac4528",
   "metadata": {},
   "outputs": [],
   "source": []
  }
 ],
 "metadata": {
  "kernelspec": {
   "display_name": "Python 3 (ipykernel)",
   "language": "python",
   "name": "python3"
  },
  "language_info": {
   "codemirror_mode": {
    "name": "ipython",
    "version": 3
   },
   "file_extension": ".py",
   "mimetype": "text/x-python",
   "name": "python",
   "nbconvert_exporter": "python",
   "pygments_lexer": "ipython3",
   "version": "3.10.11"
  }
 },
 "nbformat": 4,
 "nbformat_minor": 5
}
