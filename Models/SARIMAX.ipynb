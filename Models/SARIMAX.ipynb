{
 "cells": [
  {
   "cell_type": "code",
   "execution_count": 165,
   "id": "1eda8177",
   "metadata": {},
   "outputs": [],
   "source": [
    "# Connect to server\n",
    "#import pyodbc\n",
    "#from dotenv import dotenv_values\n",
    "\n",
    "# Datetime\n",
    "from datetime import datetime\n",
    "\n",
    "# Data manipulation\n",
    "import numpy as np\n",
    "import pandas as pd\n",
    "\n",
    "# Visualization\n",
    "import matplotlib.pyplot as plt\n",
    "import plotly.graph_objects as go\n",
    "import plotly.express as px\n",
    "from plotly.subplots import make_subplots\n",
    "import seaborn as sns\n",
    "import missingno as msno\n",
    "\n",
    "# Decomposition\n",
    "from statsmodels.tsa.seasonal import seasonal_decompose\n",
    "\n",
    "# Statistical Analysis\n",
    "import scipy.stats as stats\n",
    "from statsmodels.stats.weightstats import ttest_ind\n",
    "import statsmodels.api as sm\n",
    "from pmdarima.arima import CHTest, nsdiffs\n",
    "from pmdarima.arima import auto_arima\n",
    "#from arch.unitroot import ADF, KPSS\n",
    "from statsmodels.stats.diagnostic import acorr_ljungbox\n",
    "#import phik\n",
    "from statsmodels.tsa.arima.model import ARIMA\n",
    "from statsmodels.tsa.statespace.sarimax import SARIMAX\n",
    "from statsmodels.tsa.holtwinters import ExponentialSmoothing\n",
    "from statsmodels.tsa.stattools import adfuller\n",
    "\n",
    "# Machine Learning Modeling\n",
    "from sklearn.preprocessing import StandardScaler, MinMaxScaler\n",
    "from sklearn.compose import ColumnTransformer\n",
    "from sklearn.linear_model import LinearRegression\n",
    "from sklearn.model_selection import RandomizedSearchCV\n",
    "#import xgboost as xgb\n",
    "from sklearn.metrics import mean_squared_error\n",
    "import joblib\n",
    "from sklearn.pipeline import Pipeline\n",
    "\n",
    "import os\n",
    "\n",
    "import random\n",
    "\n",
    "import warnings\n",
    "import time\n",
    "\n",
    "# ignore warnings\n",
    "warnings.filterwarnings('ignore')\n",
    "\n",
    "from pathlib import Path, PureWindowsPath\n",
    "import gzip, pickle, pickletools"
   ]
  },
  {
   "cell_type": "code",
   "execution_count": 166,
   "id": "10621111-ed45-40b4-beb8-7634047fe9a4",
   "metadata": {},
   "outputs": [],
   "source": [
    "#! pip install missingno\n",
    "#! pip install pmdarima"
   ]
  },
  {
   "cell_type": "markdown",
   "id": "c67ef79e",
   "metadata": {},
   "source": [
    "### Import data"
   ]
  },
  {
   "cell_type": "code",
   "execution_count": 193,
   "id": "13bda86b-5def-4708-b410-65d53a848eaa",
   "metadata": {},
   "outputs": [],
   "source": [
    "path_cwd = Path(PureWindowsPath(os.path.dirname(os.getcwd())))\n",
    "path_cwd\n",
    "path = path_cwd / 'data/processed/'"
   ]
  },
  {
   "cell_type": "code",
   "execution_count": 206,
   "id": "5feb5200-b9c6-4ef8-bf81-06c2c119e15d",
   "metadata": {},
   "outputs": [],
   "source": [
    "filepath = path / \"df_train.pkl\"\n",
    "with gzip.open(filepath, 'rb') as f:\n",
    "    p = pickle.Unpickler(f)\n",
    "    train_data = p.load()"
   ]
  },
  {
   "cell_type": "code",
   "execution_count": 207,
   "id": "645a5ff8-6d23-4eb8-bf1b-7ecb92da0d69",
   "metadata": {},
   "outputs": [],
   "source": [
    "#train_data = pd.read_pickle(path / 'df_train.pkl')\n",
    "val_data = pd.read_pickle(path / 'df_val.pkl')\n",
    "test_data = pd.read_pickle(path / 'df_test.pkl')"
   ]
  },
  {
   "cell_type": "code",
   "execution_count": 208,
   "id": "ce515507-d3e4-4607-9919-8880a9711c60",
   "metadata": {},
   "outputs": [
    {
     "data": {
      "text/html": [
       "<div>\n",
       "<style scoped>\n",
       "    .dataframe tbody tr th:only-of-type {\n",
       "        vertical-align: middle;\n",
       "    }\n",
       "\n",
       "    .dataframe tbody tr th {\n",
       "        vertical-align: top;\n",
       "    }\n",
       "\n",
       "    .dataframe thead th {\n",
       "        text-align: right;\n",
       "    }\n",
       "</style>\n",
       "<table border=\"1\" class=\"dataframe\">\n",
       "  <thead>\n",
       "    <tr style=\"text-align: right;\">\n",
       "      <th></th>\n",
       "      <th>id</th>\n",
       "      <th>date</th>\n",
       "      <th>store_nbr</th>\n",
       "      <th>family</th>\n",
       "      <th>sales</th>\n",
       "      <th>onpromotion</th>\n",
       "      <th>cluster</th>\n",
       "      <th>day_of_week</th>\n",
       "      <th>month</th>\n",
       "      <th>year</th>\n",
       "      <th>...</th>\n",
       "      <th>holiday_Navidad-2</th>\n",
       "      <th>holiday_Navidad-3</th>\n",
       "      <th>holiday_Navidad-4</th>\n",
       "      <th>holiday_Primer dia del ano</th>\n",
       "      <th>holiday_Terremoto Manabi+1</th>\n",
       "      <th>holiday_Terremoto Manabi+2</th>\n",
       "      <th>holiday_Terremoto Manabi+3</th>\n",
       "      <th>holiday_Terremoto Manabi+4</th>\n",
       "      <th>holiday_Terremoto Manabi+5</th>\n",
       "      <th>holiday_Traslado Primer dia del ano</th>\n",
       "    </tr>\n",
       "  </thead>\n",
       "  <tbody>\n",
       "    <tr>\n",
       "      <th>0</th>\n",
       "      <td>592</td>\n",
       "      <td>2013-01-01</td>\n",
       "      <td>25</td>\n",
       "      <td>SCHOOL AND OFFICE SUPPLIES</td>\n",
       "      <td>0.00</td>\n",
       "      <td>0.0</td>\n",
       "      <td>1</td>\n",
       "      <td>1</td>\n",
       "      <td>1</td>\n",
       "      <td>2013</td>\n",
       "      <td>...</td>\n",
       "      <td>False</td>\n",
       "      <td>False</td>\n",
       "      <td>False</td>\n",
       "      <td>True</td>\n",
       "      <td>False</td>\n",
       "      <td>False</td>\n",
       "      <td>False</td>\n",
       "      <td>False</td>\n",
       "      <td>False</td>\n",
       "      <td>False</td>\n",
       "    </tr>\n",
       "    <tr>\n",
       "      <th>1</th>\n",
       "      <td>568</td>\n",
       "      <td>2013-01-01</td>\n",
       "      <td>25</td>\n",
       "      <td>CLEANING</td>\n",
       "      <td>186.00</td>\n",
       "      <td>0.0</td>\n",
       "      <td>1</td>\n",
       "      <td>1</td>\n",
       "      <td>1</td>\n",
       "      <td>2013</td>\n",
       "      <td>...</td>\n",
       "      <td>False</td>\n",
       "      <td>False</td>\n",
       "      <td>False</td>\n",
       "      <td>True</td>\n",
       "      <td>False</td>\n",
       "      <td>False</td>\n",
       "      <td>False</td>\n",
       "      <td>False</td>\n",
       "      <td>False</td>\n",
       "      <td>False</td>\n",
       "    </tr>\n",
       "    <tr>\n",
       "      <th>2</th>\n",
       "      <td>569</td>\n",
       "      <td>2013-01-01</td>\n",
       "      <td>25</td>\n",
       "      <td>DAIRY</td>\n",
       "      <td>143.00</td>\n",
       "      <td>0.0</td>\n",
       "      <td>1</td>\n",
       "      <td>1</td>\n",
       "      <td>1</td>\n",
       "      <td>2013</td>\n",
       "      <td>...</td>\n",
       "      <td>False</td>\n",
       "      <td>False</td>\n",
       "      <td>False</td>\n",
       "      <td>True</td>\n",
       "      <td>False</td>\n",
       "      <td>False</td>\n",
       "      <td>False</td>\n",
       "      <td>False</td>\n",
       "      <td>False</td>\n",
       "      <td>False</td>\n",
       "    </tr>\n",
       "    <tr>\n",
       "      <th>3</th>\n",
       "      <td>570</td>\n",
       "      <td>2013-01-01</td>\n",
       "      <td>25</td>\n",
       "      <td>DELI</td>\n",
       "      <td>71.09</td>\n",
       "      <td>0.0</td>\n",
       "      <td>1</td>\n",
       "      <td>1</td>\n",
       "      <td>1</td>\n",
       "      <td>2013</td>\n",
       "      <td>...</td>\n",
       "      <td>False</td>\n",
       "      <td>False</td>\n",
       "      <td>False</td>\n",
       "      <td>True</td>\n",
       "      <td>False</td>\n",
       "      <td>False</td>\n",
       "      <td>False</td>\n",
       "      <td>False</td>\n",
       "      <td>False</td>\n",
       "      <td>False</td>\n",
       "    </tr>\n",
       "    <tr>\n",
       "      <th>4</th>\n",
       "      <td>571</td>\n",
       "      <td>2013-01-01</td>\n",
       "      <td>25</td>\n",
       "      <td>EGGS</td>\n",
       "      <td>46.00</td>\n",
       "      <td>0.0</td>\n",
       "      <td>1</td>\n",
       "      <td>1</td>\n",
       "      <td>1</td>\n",
       "      <td>2013</td>\n",
       "      <td>...</td>\n",
       "      <td>False</td>\n",
       "      <td>False</td>\n",
       "      <td>False</td>\n",
       "      <td>True</td>\n",
       "      <td>False</td>\n",
       "      <td>False</td>\n",
       "      <td>False</td>\n",
       "      <td>False</td>\n",
       "      <td>False</td>\n",
       "      <td>False</td>\n",
       "    </tr>\n",
       "    <tr>\n",
       "      <th>...</th>\n",
       "      <td>...</td>\n",
       "      <td>...</td>\n",
       "      <td>...</td>\n",
       "      <td>...</td>\n",
       "      <td>...</td>\n",
       "      <td>...</td>\n",
       "      <td>...</td>\n",
       "      <td>...</td>\n",
       "      <td>...</td>\n",
       "      <td>...</td>\n",
       "      <td>...</td>\n",
       "      <td>...</td>\n",
       "      <td>...</td>\n",
       "      <td>...</td>\n",
       "      <td>...</td>\n",
       "      <td>...</td>\n",
       "      <td>...</td>\n",
       "      <td>...</td>\n",
       "      <td>...</td>\n",
       "      <td>...</td>\n",
       "      <td>...</td>\n",
       "    </tr>\n",
       "    <tr>\n",
       "      <th>1935982</th>\n",
       "      <td>2153099</td>\n",
       "      <td>2016-04-26</td>\n",
       "      <td>21</td>\n",
       "      <td>HARDWARE</td>\n",
       "      <td>1.00</td>\n",
       "      <td>0.0</td>\n",
       "      <td>6</td>\n",
       "      <td>1</td>\n",
       "      <td>4</td>\n",
       "      <td>2016</td>\n",
       "      <td>...</td>\n",
       "      <td>False</td>\n",
       "      <td>False</td>\n",
       "      <td>False</td>\n",
       "      <td>False</td>\n",
       "      <td>False</td>\n",
       "      <td>False</td>\n",
       "      <td>False</td>\n",
       "      <td>False</td>\n",
       "      <td>False</td>\n",
       "      <td>False</td>\n",
       "    </tr>\n",
       "    <tr>\n",
       "      <th>1935983</th>\n",
       "      <td>2153248</td>\n",
       "      <td>2016-04-26</td>\n",
       "      <td>25</td>\n",
       "      <td>SCHOOL AND OFFICE SUPPLIES</td>\n",
       "      <td>0.00</td>\n",
       "      <td>0.0</td>\n",
       "      <td>1</td>\n",
       "      <td>1</td>\n",
       "      <td>4</td>\n",
       "      <td>2016</td>\n",
       "      <td>...</td>\n",
       "      <td>False</td>\n",
       "      <td>False</td>\n",
       "      <td>False</td>\n",
       "      <td>False</td>\n",
       "      <td>False</td>\n",
       "      <td>False</td>\n",
       "      <td>False</td>\n",
       "      <td>False</td>\n",
       "      <td>False</td>\n",
       "      <td>False</td>\n",
       "    </tr>\n",
       "    <tr>\n",
       "      <th>1935984</th>\n",
       "      <td>2153249</td>\n",
       "      <td>2016-04-26</td>\n",
       "      <td>25</td>\n",
       "      <td>SEAFOOD</td>\n",
       "      <td>0.00</td>\n",
       "      <td>0.0</td>\n",
       "      <td>1</td>\n",
       "      <td>1</td>\n",
       "      <td>4</td>\n",
       "      <td>2016</td>\n",
       "      <td>...</td>\n",
       "      <td>False</td>\n",
       "      <td>False</td>\n",
       "      <td>False</td>\n",
       "      <td>False</td>\n",
       "      <td>False</td>\n",
       "      <td>False</td>\n",
       "      <td>False</td>\n",
       "      <td>False</td>\n",
       "      <td>False</td>\n",
       "      <td>False</td>\n",
       "    </tr>\n",
       "    <tr>\n",
       "      <th>1935985</th>\n",
       "      <td>2153745</td>\n",
       "      <td>2016-04-26</td>\n",
       "      <td>4</td>\n",
       "      <td>AUTOMOTIVE</td>\n",
       "      <td>2.00</td>\n",
       "      <td>0.0</td>\n",
       "      <td>9</td>\n",
       "      <td>1</td>\n",
       "      <td>4</td>\n",
       "      <td>2016</td>\n",
       "      <td>...</td>\n",
       "      <td>False</td>\n",
       "      <td>False</td>\n",
       "      <td>False</td>\n",
       "      <td>False</td>\n",
       "      <td>False</td>\n",
       "      <td>False</td>\n",
       "      <td>False</td>\n",
       "      <td>False</td>\n",
       "      <td>False</td>\n",
       "      <td>False</td>\n",
       "    </tr>\n",
       "    <tr>\n",
       "      <th>1935986</th>\n",
       "      <td>2153746</td>\n",
       "      <td>2016-04-26</td>\n",
       "      <td>4</td>\n",
       "      <td>BABY CARE</td>\n",
       "      <td>0.00</td>\n",
       "      <td>0.0</td>\n",
       "      <td>9</td>\n",
       "      <td>1</td>\n",
       "      <td>4</td>\n",
       "      <td>2016</td>\n",
       "      <td>...</td>\n",
       "      <td>False</td>\n",
       "      <td>False</td>\n",
       "      <td>False</td>\n",
       "      <td>False</td>\n",
       "      <td>False</td>\n",
       "      <td>False</td>\n",
       "      <td>False</td>\n",
       "      <td>False</td>\n",
       "      <td>False</td>\n",
       "      <td>False</td>\n",
       "    </tr>\n",
       "  </tbody>\n",
       "</table>\n",
       "<p>1935987 rows × 29 columns</p>\n",
       "</div>"
      ],
      "text/plain": [
       "              id       date  store_nbr                      family   sales  \\\n",
       "0            592 2013-01-01         25  SCHOOL AND OFFICE SUPPLIES    0.00   \n",
       "1            568 2013-01-01         25                    CLEANING  186.00   \n",
       "2            569 2013-01-01         25                       DAIRY  143.00   \n",
       "3            570 2013-01-01         25                        DELI   71.09   \n",
       "4            571 2013-01-01         25                        EGGS   46.00   \n",
       "...          ...        ...        ...                         ...     ...   \n",
       "1935982  2153099 2016-04-26         21                    HARDWARE    1.00   \n",
       "1935983  2153248 2016-04-26         25  SCHOOL AND OFFICE SUPPLIES    0.00   \n",
       "1935984  2153249 2016-04-26         25                     SEAFOOD    0.00   \n",
       "1935985  2153745 2016-04-26          4                  AUTOMOTIVE    2.00   \n",
       "1935986  2153746 2016-04-26          4                   BABY CARE    0.00   \n",
       "\n",
       "         onpromotion  cluster  day_of_week  month  year  ...  \\\n",
       "0                0.0        1            1      1  2013  ...   \n",
       "1                0.0        1            1      1  2013  ...   \n",
       "2                0.0        1            1      1  2013  ...   \n",
       "3                0.0        1            1      1  2013  ...   \n",
       "4                0.0        1            1      1  2013  ...   \n",
       "...              ...      ...          ...    ...   ...  ...   \n",
       "1935982          0.0        6            1      4  2016  ...   \n",
       "1935983          0.0        1            1      4  2016  ...   \n",
       "1935984          0.0        1            1      4  2016  ...   \n",
       "1935985          0.0        9            1      4  2016  ...   \n",
       "1935986          0.0        9            1      4  2016  ...   \n",
       "\n",
       "         holiday_Navidad-2  holiday_Navidad-3  holiday_Navidad-4  \\\n",
       "0                    False              False              False   \n",
       "1                    False              False              False   \n",
       "2                    False              False              False   \n",
       "3                    False              False              False   \n",
       "4                    False              False              False   \n",
       "...                    ...                ...                ...   \n",
       "1935982              False              False              False   \n",
       "1935983              False              False              False   \n",
       "1935984              False              False              False   \n",
       "1935985              False              False              False   \n",
       "1935986              False              False              False   \n",
       "\n",
       "         holiday_Primer dia del ano  holiday_Terremoto Manabi+1  \\\n",
       "0                              True                       False   \n",
       "1                              True                       False   \n",
       "2                              True                       False   \n",
       "3                              True                       False   \n",
       "4                              True                       False   \n",
       "...                             ...                         ...   \n",
       "1935982                       False                       False   \n",
       "1935983                       False                       False   \n",
       "1935984                       False                       False   \n",
       "1935985                       False                       False   \n",
       "1935986                       False                       False   \n",
       "\n",
       "         holiday_Terremoto Manabi+2  holiday_Terremoto Manabi+3  \\\n",
       "0                             False                       False   \n",
       "1                             False                       False   \n",
       "2                             False                       False   \n",
       "3                             False                       False   \n",
       "4                             False                       False   \n",
       "...                             ...                         ...   \n",
       "1935982                       False                       False   \n",
       "1935983                       False                       False   \n",
       "1935984                       False                       False   \n",
       "1935985                       False                       False   \n",
       "1935986                       False                       False   \n",
       "\n",
       "         holiday_Terremoto Manabi+4  holiday_Terremoto Manabi+5  \\\n",
       "0                             False                       False   \n",
       "1                             False                       False   \n",
       "2                             False                       False   \n",
       "3                             False                       False   \n",
       "4                             False                       False   \n",
       "...                             ...                         ...   \n",
       "1935982                       False                       False   \n",
       "1935983                       False                       False   \n",
       "1935984                       False                       False   \n",
       "1935985                       False                       False   \n",
       "1935986                       False                       False   \n",
       "\n",
       "         holiday_Traslado Primer dia del ano  \n",
       "0                                      False  \n",
       "1                                      False  \n",
       "2                                      False  \n",
       "3                                      False  \n",
       "4                                      False  \n",
       "...                                      ...  \n",
       "1935982                                False  \n",
       "1935983                                False  \n",
       "1935984                                False  \n",
       "1935985                                False  \n",
       "1935986                                False  \n",
       "\n",
       "[1935987 rows x 29 columns]"
      ]
     },
     "execution_count": 208,
     "metadata": {},
     "output_type": "execute_result"
    }
   ],
   "source": [
    "train_data"
   ]
  },
  {
   "cell_type": "code",
   "execution_count": 202,
   "id": "14510c5b-4758-4558-86a5-e69bc8d895e2",
   "metadata": {},
   "outputs": [
    {
     "data": {
      "text/plain": [
       "(276569, 29)"
      ]
     },
     "execution_count": 202,
     "metadata": {},
     "output_type": "execute_result"
    }
   ],
   "source": [
    "val_data.shape"
   ]
  },
  {
   "cell_type": "code",
   "execution_count": 203,
   "id": "6732f736-a3a1-44cb-b0fc-29b404998b3f",
   "metadata": {},
   "outputs": [],
   "source": [
    "train_data=train_data.groupby('date').agg({'sales':'sum'}).reset_index()\n",
    "val_data=val_data.groupby('date').agg({'sales':'sum'}).reset_index()\n",
    "test_data=test_data.groupby('date').agg({'sales':'sum'}).reset_index()"
   ]
  },
  {
   "cell_type": "code",
   "execution_count": 204,
   "id": "6b0706bd-134a-45e0-856a-9506d3bad866",
   "metadata": {},
   "outputs": [
    {
     "data": {
      "text/plain": [
       "(1209, 2)"
      ]
     },
     "execution_count": 204,
     "metadata": {},
     "output_type": "execute_result"
    }
   ],
   "source": [
    "train_data.shape"
   ]
  },
  {
   "cell_type": "code",
   "execution_count": null,
   "id": "942b5ae2-71bb-410b-ac71-c325ce026a49",
   "metadata": {},
   "outputs": [],
   "source": []
  },
  {
   "cell_type": "code",
   "execution_count": null,
   "id": "84f44ff2-23a6-4e4d-99c2-4fcb15f2fcfa",
   "metadata": {},
   "outputs": [],
   "source": []
  },
  {
   "cell_type": "code",
   "execution_count": null,
   "id": "bdf6fe65-ae27-41a8-90aa-c96538832551",
   "metadata": {},
   "outputs": [],
   "source": []
  },
  {
   "cell_type": "code",
   "execution_count": null,
   "id": "75d9f948-a75d-427f-9dd5-78fa299502f5",
   "metadata": {},
   "outputs": [],
   "source": []
  },
  {
   "cell_type": "markdown",
   "id": "1a061915",
   "metadata": {},
   "source": [
    "## Modeling ##"
   ]
  },
  {
   "cell_type": "code",
   "execution_count": null,
   "id": "7cf809de-224b-4285-b4ff-c789d5b12f85",
   "metadata": {},
   "outputs": [],
   "source": []
  },
  {
   "cell_type": "code",
   "execution_count": null,
   "id": "008bfebf-eeac-4b84-975a-a6f185cab571",
   "metadata": {},
   "outputs": [],
   "source": []
  },
  {
   "cell_type": "code",
   "execution_count": 173,
   "id": "4227a6b8",
   "metadata": {},
   "outputs": [],
   "source": [
    "# Updated plot_predictions to work with dataframes where the date is not already aggregated\n",
    "# This simply aggregates the dates inside the function\n",
    "def plot_predictions(date, y_test, y_pred, forecast_label, title):\n",
    "    \"\"\"\n",
    "    Plot the actual and predicted time series data.\n",
    "\n",
    "    Parameters:\n",
    "    date (array-like): Date or time index.\n",
    "    y_test (array-like): Actual values.\n",
    "    y_pred (array-like): Predicted values.\n",
    "    forecast_label (str): Label for the forecasted data.\n",
    "    title (str): Title for the plot.\n",
    "    \"\"\"\n",
    "    # Combine the data into a DataFrame\n",
    "    data = pd.DataFrame({'Date': date, 'Actual': y_test, 'Predicted': y_pred})\n",
    "    \n",
    "    # Aggregate the data by date, taking the mean of the values for each day\n",
    "    data = data.groupby('Date').mean().reset_index()\n",
    "    \n",
    "    # Set the custom color palette\n",
    "    custom_palette = sns.color_palette(\"husl\", 2)\n",
    "    sns.set_palette(custom_palette)\n",
    "    \n",
    "    # Create a figure with specified dimensions\n",
    "    plt.figure(figsize=(10, 6))\n",
    "\n",
    "    # Plot the actual data in green\n",
    "    sns.lineplot(data=data, x='Date', y='Actual', label='Actual', color=custom_palette[0])\n",
    "\n",
    "    # Plot the predicted data in blue with the specified label\n",
    "    sns.lineplot(data=data, x='Date', y='Predicted', label=forecast_label, color=custom_palette[1])\n",
    "\n",
    "    # Add a legend to the plot\n",
    "    plt.legend()\n",
    "\n",
    "    # Set the title of the plot\n",
    "    plt.title(title)\n",
    "\n",
    "    # Rotate x-axis labels for better readability\n",
    "    plt.xticks(rotation=45)\n",
    "\n",
    "    # Display the plot\n",
    "    plt.show()"
   ]
  },
  {
   "cell_type": "code",
   "execution_count": 174,
   "id": "a3f08c83",
   "metadata": {},
   "outputs": [],
   "source": [
    "# Define a function to compute the evaluations metrics after the forecast\n",
    "def evaluate_forecast(y_test, forecast):\n",
    "    \"\"\"\n",
    "    Compute MSE, RMSE, and RMSLE for a forecast.\n",
    "\n",
    "    Parameters:\n",
    "    y_test (array-like): Actual values.\n",
    "    forecast (array-like): Predicted values.\n",
    "\n",
    "    Returns:\n",
    "    dict: Dictionary containing MSE, RMSE, and RMSLE.\n",
    "    \"\"\"\n",
    "    def rmsle(predicted, actual):\n",
    "    # replace 0s so no longer get NaN values\n",
    "        actual = np.where(actual <= 0, 1, actual)\n",
    "        predicted = np.where(predicted <= 0, 1, predicted)\n",
    "        return np.sqrt(np.mean(np.square(np.log1p(predicted) - np.log1p(actual))))\n",
    "\n",
    "    # Compute Mean Squared Error (MSE)\n",
    "    mse = mean_squared_error(y_test, forecast)\n",
    "    \n",
    "    # Compute Root Mean Squared Error (RMSE)\n",
    "    rmse = np.sqrt(mse)\n",
    "    \n",
    "    # Compute Root Mean Squared Logarithmic Error (RMSLE)\n",
    "    rmsle_value = rmsle(forecast, y_test)\n",
    "    \n",
    "    # Return the evaluation metrics as a dictionary\n",
    "    metrics = {\n",
    "        'MSE': mse,\n",
    "        'RMSE': rmse,\n",
    "        'RMSLE': rmsle_value\n",
    "    }\n",
    "    \n",
    "    return metrics"
   ]
  },
  {
   "cell_type": "code",
   "execution_count": null,
   "id": "145899ca",
   "metadata": {},
   "outputs": [],
   "source": []
  },
  {
   "cell_type": "code",
   "execution_count": null,
   "id": "d52ce732-404c-4686-a085-c077bf169178",
   "metadata": {},
   "outputs": [],
   "source": []
  },
  {
   "cell_type": "code",
   "execution_count": null,
   "id": "ca05f016-a843-4ed3-81df-ba37ec6b7426",
   "metadata": {},
   "outputs": [],
   "source": []
  },
  {
   "cell_type": "code",
   "execution_count": null,
   "id": "a59fb1c2-dc72-4dce-beaf-e1de705552f6",
   "metadata": {},
   "outputs": [],
   "source": []
  },
  {
   "cell_type": "markdown",
   "id": "4d5283b2-533f-4c7e-9a15-16c1f58cf7db",
   "metadata": {},
   "source": [
    "## SARIMA ##"
   ]
  },
  {
   "cell_type": "code",
   "execution_count": 175,
   "id": "00557f07-b9a0-4b47-b837-bdfc22589b53",
   "metadata": {
    "scrolled": true
   },
   "outputs": [
    {
     "data": {
      "text/plain": [
       "Index(['date', 'sales'], dtype='object')"
      ]
     },
     "execution_count": 175,
     "metadata": {},
     "output_type": "execute_result"
    }
   ],
   "source": [
    "train_data.columns"
   ]
  },
  {
   "cell_type": "code",
   "execution_count": 176,
   "id": "d75c4c3f-92fa-4d9d-b688-4a97b10a1616",
   "metadata": {},
   "outputs": [
    {
     "data": {
      "text/plain": [
       "Timestamp('2016-04-26 00:00:00')"
      ]
     },
     "execution_count": 176,
     "metadata": {},
     "output_type": "execute_result"
    }
   ],
   "source": [
    "train_data['date'].max()"
   ]
  },
  {
   "cell_type": "code",
   "execution_count": 177,
   "id": "cffb0ce0-017e-4aec-9ccf-e2b55b82b7be",
   "metadata": {},
   "outputs": [],
   "source": [
    "#shorten train for testing\n",
    "train_data_sarima = train_data.set_index('date')\n",
    "#shorten the train to help with training time\n",
    "train_data_sarima = train_data_sarima[train_data_sarima.index > '2015-01-01']"
   ]
  },
  {
   "cell_type": "code",
   "execution_count": null,
   "id": "12f608e7-512b-4719-a788-7897e9b199b3",
   "metadata": {},
   "outputs": [],
   "source": []
  },
  {
   "cell_type": "code",
   "execution_count": null,
   "id": "13858330-2be0-4428-bb25-a869fb92d08f",
   "metadata": {},
   "outputs": [],
   "source": []
  },
  {
   "cell_type": "code",
   "execution_count": 178,
   "id": "3ba899fa-0aa7-4a17-a1bd-23da67827339",
   "metadata": {},
   "outputs": [],
   "source": [
    "#train_data_sarima = train_data_s[train_data_s['date']=='2015-09-01']\n",
    "#train_data_sarima = train_data_s.set_index('date')\n",
    "#val_data_sarima = val_data_s.set_index('date')"
   ]
  },
  {
   "cell_type": "code",
   "execution_count": 179,
   "id": "e758a725-be92-4d29-a424-0163cc7a6882",
   "metadata": {
    "scrolled": true
   },
   "outputs": [],
   "source": [
    "#train_data_sarima_exog = train_data_sarima.drop(columns=['sales'])\n",
    "y_train_sarima_endog = train_data_sarima['sales']\n",
    "\n",
    "#val_data_sarima_exog = val_data_sarima[['familycluster','cluster']]\n",
    "#y_val_sarima_endog = val_data_sarima['sales']"
   ]
  },
  {
   "cell_type": "code",
   "execution_count": null,
   "id": "5fd33d9b-314d-4744-acd6-319f2f306684",
   "metadata": {},
   "outputs": [],
   "source": []
  },
  {
   "cell_type": "code",
   "execution_count": null,
   "id": "2a56c261-b9ee-4201-94dd-37ab297b5c7a",
   "metadata": {},
   "outputs": [],
   "source": []
  },
  {
   "cell_type": "code",
   "execution_count": 180,
   "id": "77994262-39df-4f74-ab96-fc5972c1a4bd",
   "metadata": {},
   "outputs": [],
   "source": [
    "val_data_sarima = val_data.set_index('date')\n",
    "\n",
    "val_data_sarima_exog = val_data_sarima.drop(columns=['sales'])\n",
    "y_val_sarima =  val_data_sarima[['sales']]"
   ]
  },
  {
   "cell_type": "code",
   "execution_count": null,
   "id": "1656e3d5-e8f5-4c33-a2cf-557d69fd7268",
   "metadata": {},
   "outputs": [],
   "source": []
  },
  {
   "cell_type": "code",
   "execution_count": null,
   "id": "20d02db2-e82c-49cb-8c13-0d59d2c933f1",
   "metadata": {},
   "outputs": [],
   "source": []
  },
  {
   "cell_type": "code",
   "execution_count": 181,
   "id": "563e3384-801c-4b2c-86f5-ce8da115155e",
   "metadata": {},
   "outputs": [],
   "source": [
    "test_data_sarima = test_data.set_index('date')\n",
    "\n",
    "test_data_sarima_exog = test_data_sarima.drop(columns=['sales'])\n",
    "y_test_sarima =  test_data_sarima[['sales']]"
   ]
  },
  {
   "cell_type": "code",
   "execution_count": null,
   "id": "f6ac0e90-331e-43f8-9b2c-64ff65a3d540",
   "metadata": {},
   "outputs": [],
   "source": []
  },
  {
   "cell_type": "code",
   "execution_count": 182,
   "id": "da62496e-ce25-48ce-be39-3063bc595745",
   "metadata": {},
   "outputs": [
    {
     "data": {
      "image/png": "[encoded data removed]",
      "text/plain": [
       "<Figure size 600x600 with 2 Axes>"
      ]
     },
     "metadata": {},
     "output_type": "display_data"
    }
   ],
   "source": [
    "# Group by date to sum sales. USE IF CANT GET ANYTHING RUNNING\n",
    "\n",
    "#ts = train_data_sarima.groupby(train_data_sarima['date'])['sales'].sum()\n",
    "\n",
    "fig, (ax1,ax2) = plt.subplots(2, 1, figsize=(6,6))\n",
    "\n",
    "# Plot ACF\n",
    "sm.graphics.tsa.plot_acf(train_data_sarima, lags=30, ax=ax1)\n",
    "ax1.set_title('ACF')\n",
    "plt.xlabel('Lags', fontsize=14)\n",
    "ax1.set_ylabel('Autocorrelation', fontsize=12)\n",
    "\n",
    "# Plot PACF\n",
    "sm.graphics.tsa.plot_pacf(train_data_sarima, lags=30, ax=ax2)\n",
    "ax2.set_title('PACF')\n",
    "ax2.set_ylabel('Partial Autocorrelation', fontsize=12)\n",
    "plt.tight_layout(pad=2.0)\n",
    "\n",
    "plt.show()"
   ]
  },
  {
   "cell_type": "code",
   "execution_count": null,
   "id": "bacb2581-c2c4-42ad-98bd-eb416f5c6f2d",
   "metadata": {},
   "outputs": [],
   "source": []
  },
  {
   "cell_type": "code",
   "execution_count": 183,
   "id": "1db6529c-5926-4015-bb9e-db0401d0509a",
   "metadata": {},
   "outputs": [],
   "source": [
    "# Define the instance\n",
    "model_sarima = sm.tsa.SARIMAX(endog=y_train_sarima_endog,  order=(1,1,1), seasonal_order=(0,1,1,7))\n",
    "\n"
   ]
  },
  {
   "cell_type": "code",
   "execution_count": 184,
   "id": "3126952f-5ccb-4b2a-a158-2444b40d2c7a",
   "metadata": {
    "scrolled": true
   },
   "outputs": [],
   "source": [
    "# Fit the model. started at 11:48\n",
    "results_sarima = model_sarima.fit()\n",
    "\n"
   ]
  },
  {
   "cell_type": "code",
   "execution_count": null,
   "id": "381d053c-2b4f-406e-a9c4-4690b573d076",
   "metadata": {},
   "outputs": [],
   "source": [
    "\n"
   ]
  },
  {
   "cell_type": "code",
   "execution_count": 185,
   "id": "317d7d52-49dc-44e1-abd2-57c017db4bd8",
   "metadata": {},
   "outputs": [],
   "source": [
    "# Make predictions\n",
    "#forecast_sarima = results_sarima.predict(start=len(train_data_sarima), end=len(train_data_sarima) + len(val_data_sarima) - 1, dynamic=False)\n",
    "\n",
    "#val_forecast_sarima = results_sarima.predict(steps=pd.date_range(start=start_date_val, end=end_date_val), exog=val_data_sarima_exog)\n",
    "val_forecast_sarima = results_sarima.predict(start=len(train_data_sarima), end=len(train_data_sarima) + len(val_data_sarima) - 1)\n"
   ]
  },
  {
   "cell_type": "code",
   "execution_count": 186,
   "id": "43bb5f3f-6a6c-4001-adbc-d07d79ef76a4",
   "metadata": {},
   "outputs": [
    {
     "data": {
      "text/plain": [
       "{'MSE': 31085763958.29182,\n",
       " 'RMSE': 176311.55367216244,\n",
       " 'RMSLE': 0.2932699651708731}"
      ]
     },
     "execution_count": 186,
     "metadata": {},
     "output_type": "execute_result"
    }
   ],
   "source": [
    "sarima_metrics = evaluate_forecast(y_val_sarima, val_forecast_sarima)\n",
    "\n",
    "sarima_metrics"
   ]
  },
  {
   "cell_type": "code",
   "execution_count": null,
   "id": "87e513cf-d5b5-47e6-bada-0141fbc1625d",
   "metadata": {},
   "outputs": [],
   "source": []
  },
  {
   "cell_type": "code",
   "execution_count": 187,
   "id": "d1e6f8fc-ba5f-4ad4-a76c-b8e9ddbaff2d",
   "metadata": {},
   "outputs": [],
   "source": [
    "test_forecast_sarima = results_sarima.predict(start=len(train_data_sarima) + len(val_data_sarima) , end=len(train_data_sarima) + len(val_data_sarima) +len(test_data_sarima)- 1)"
   ]
  },
  {
   "cell_type": "code",
   "execution_count": 188,
   "id": "c07ecf72-906b-4ead-9d62-f7c0a628aa7d",
   "metadata": {},
   "outputs": [
    {
     "name": "stdout",
     "output_type": "stream",
     "text": [
      "(316,) (316, 1)\n"
     ]
    }
   ],
   "source": [
    "print(test_forecast_sarima.shape, test_data_sarima.shape)"
   ]
  },
  {
   "cell_type": "code",
   "execution_count": 189,
   "id": "3508e61f-e014-46f6-a30c-ce8a0d41bed7",
   "metadata": {},
   "outputs": [
    {
     "data": {
      "text/plain": [
       "{'MSE': 43076546430.019646,\n",
       " 'RMSE': 207548.9012980306,\n",
       " 'RMSLE': 0.3539196048673369}"
      ]
     },
     "execution_count": 189,
     "metadata": {},
     "output_type": "execute_result"
    }
   ],
   "source": [
    "sarima_metrics = evaluate_forecast(test_data_sarima, test_forecast_sarima)\n",
    "\n",
    "sarima_metrics"
   ]
  },
  {
   "cell_type": "code",
   "execution_count": null,
   "id": "55a946cb-3475-4a94-9b84-ef8a6d656544",
   "metadata": {},
   "outputs": [],
   "source": []
  },
  {
   "cell_type": "code",
   "execution_count": 190,
   "id": "64bcf854-06f0-42b6-9ebe-daf5783ff430",
   "metadata": {},
   "outputs": [],
   "source": [
    "a = test_data_sarima.reset_index().drop(columns=['date']).squeeze()\n"
   ]
  },
  {
   "cell_type": "code",
   "execution_count": null,
   "id": "7d51d2e1-5ad6-4164-a81f-be64a94e9574",
   "metadata": {},
   "outputs": [],
   "source": []
  },
  {
   "cell_type": "code",
   "execution_count": 191,
   "id": "eeb74242-c171-4ab4-9cd5-495bedbf20eb",
   "metadata": {},
   "outputs": [
    {
     "data": {
      "image/png": "[encoded data removed]",
      "text/plain": [
       "<Figure size 800x600 with 1 Axes>"
      ]
     },
     "metadata": {},
     "output_type": "display_data"
    }
   ],
   "source": [
    "# Plot the data\n",
    "plt.figure(figsize=(8, 6))\n",
    "plt.plot(test_data['date'], a, label='Actual')\n",
    "plt.plot(test_data['date'], test_forecast_sarima, label='Predicted')\n",
    "plt.xlabel('Date')\n",
    "plt.ylabel('Sales')\n",
    "plt.title('Actual vs Predicted Sales')\n",
    "plt.xticks(rotation=45)\n",
    "plt.legend()\n",
    "plt.tight_layout()\n",
    "plt.show()"
   ]
  },
  {
   "cell_type": "code",
   "execution_count": 192,
   "id": "c8dcbc1d-e444-4ac9-83eb-cddead8e13bd",
   "metadata": {},
   "outputs": [
    {
     "data": {
      "text/plain": [
       "date\n",
       "2015-01-02    6.577634e+05\n",
       "2015-01-03    6.488807e+05\n",
       "2015-01-04    7.309238e+05\n",
       "2015-01-05    5.692673e+05\n",
       "2015-01-06    4.778867e+05\n",
       "                  ...     \n",
       "2016-04-22    8.570592e+05\n",
       "2016-04-23    1.022143e+06\n",
       "2016-04-24    1.039370e+06\n",
       "2016-04-25    6.800008e+05\n",
       "2016-04-26    4.125245e+05\n",
       "Name: sales, Length: 480, dtype: float64"
      ]
     },
     "execution_count": 192,
     "metadata": {},
     "output_type": "execute_result"
    }
   ],
   "source": [
    "y_train_sarima_endog"
   ]
  },
  {
   "cell_type": "markdown",
   "id": "0a9cf150-d936-4997-b273-a287fe818136",
   "metadata": {},
   "source": [
    "\n",
    "sarima_model = auto_arima(y_train_sarima_endog\n",
    "                          #, exogenous=train_data_s[['familycluster', 'onpromotion','holiday']]\n",
    "                          #, exogenous=train_data_s[['familycluster']]\n",
    "                          , start_p=0 , max_p=3, start_P=0 , max_P=3 \n",
    "                          , d=1 , D=1 #not sure this is a good value for d\n",
    "                          , start_q=0 , max_q= 3 , start_Q=0 , max_Q=3\n",
    "                          , random=True, n_fits=2\n",
    "                          , seasonal=True, m=7, random_state=21, trace=True )\n"
   ]
  },
  {
   "cell_type": "code",
   "execution_count": null,
   "id": "f752f474-b158-4fba-8f5e-79182200d40e",
   "metadata": {},
   "outputs": [],
   "source": []
  },
  {
   "cell_type": "code",
   "execution_count": null,
   "id": "b71fd4e0-dfc7-4120-bbe2-d66102d6be25",
   "metadata": {},
   "outputs": [],
   "source": []
  },
  {
   "cell_type": "code",
   "execution_count": null,
   "id": "59c406a5-9e2d-48bf-ad19-7d273bc9efac",
   "metadata": {},
   "outputs": [],
   "source": []
  },
  {
   "cell_type": "code",
   "execution_count": null,
   "id": "c6238194-f528-4cc9-a61e-6514307660e8",
   "metadata": {},
   "outputs": [],
   "source": []
  }
 ],
 "metadata": {
  "kernelspec": {
   "display_name": "Python 3 (ipykernel)",
   "language": "python",
   "name": "python3"
  },
  "language_info": {
   "codemirror_mode": {
    "name": "ipython",
    "version": 3
   },
   "file_extension": ".py",
   "mimetype": "text/x-python",
   "name": "python",
   "nbconvert_exporter": "python",
   "pygments_lexer": "ipython3",
   "version": "3.10.11"
  }
 },
 "nbformat": 4,
 "nbformat_minor": 5
}
