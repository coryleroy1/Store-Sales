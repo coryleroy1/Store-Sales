{
 "cells": [
  {
   "cell_type": "code",
   "execution_count": 13,
   "id": "55aa66c0",
   "metadata": {
    "scrolled": true
   },
   "outputs": [],
   "source": [
    "# Connect to server\n",
    "#import pyodbc\n",
    "#from dotenv import dotenv_values\n",
    "\n",
    "# Datetime\n",
    "from datetime import datetime\n",
    "\n",
    "# Data manipulation\n",
    "import numpy as np\n",
    "import pandas as pd\n",
    "\n",
    "# Visualization\n",
    "import matplotlib.pyplot as plt\n",
    "import plotly.graph_objects as go\n",
    "import plotly.express as px\n",
    "from plotly.subplots import make_subplots\n",
    "import seaborn as sns\n",
    "import missingno as msno\n",
    "\n",
    "# Decomposition\n",
    "from statsmodels.tsa.seasonal import seasonal_decompose\n",
    "\n",
    "# Statistical Analysis\n",
    "import scipy.stats as stats\n",
    "from statsmodels.stats.weightstats import ttest_ind\n",
    "import statsmodels.api as sm\n",
    "from pmdarima.arima import CHTest, nsdiffs\n",
    "from arch.unitroot import ADF, KPSS\n",
    "from statsmodels.stats.diagnostic import acorr_ljungbox\n",
    "import phik\n",
    "from statsmodels.tsa.arima.model import ARIMA\n",
    "from statsmodels.tsa.statespace.sarimax import SARIMAX\n",
    "from statsmodels.tsa.holtwinters import ExponentialSmoothing\n",
    "\n",
    "# Machine Learning Modeling\n",
    "from sklearn.preprocessing import StandardScaler, MinMaxScaler\n",
    "from sklearn.compose import ColumnTransformer\n",
    "from sklearn.linear_model import LinearRegression\n",
    "from sklearn.model_selection import RandomizedSearchCV\n",
    "import xgboost as xgb\n",
    "from sklearn.metrics import mean_squared_error\n",
    "import joblib\n",
    "from sklearn.pipeline import Pipeline\n",
    "\n",
    "import os\n",
    "\n",
    "import random\n",
    "\n",
    "import warnings\n",
    "\n",
    "from pathlib import Path, PureWindowsPath\n",
    "\n",
    "# ignore warnings\n",
    "warnings.filterwarnings('ignore')"
   ]
  },
  {
   "cell_type": "markdown",
   "id": "ac679c18",
   "metadata": {},
   "source": [
    "### Import data"
   ]
  },
  {
   "cell_type": "code",
   "execution_count": 14,
   "id": "ebcfc747",
   "metadata": {},
   "outputs": [],
   "source": [
    "def parser(s):\n",
    "    return datetime.strptime(s, '%Y-%m-%d')"
   ]
  },
  {
   "cell_type": "code",
   "execution_count": 15,
   "id": "697315d4",
   "metadata": {},
   "outputs": [],
   "source": [
    "#path = \"/Users/williamearley/Quarter 5/Capstone/Data\"\n",
    "path_cwd = Path(PureWindowsPath(os.path.dirname(os.getcwd())))\n",
    "path_cwd\n",
    "path = path_cwd / 'data'"
   ]
  },
  {
   "cell_type": "code",
   "execution_count": 16,
   "id": "98739f1b",
   "metadata": {},
   "outputs": [],
   "source": [
    "df_train = pd.read_csv(os.path.join(path, 'train.csv'))\n",
    "df_transaction = pd.read_csv(os.path.join(path, 'transactions.csv'))\n",
    "df_holidays = pd.read_csv(os.path.join(path, 'holidays_events.csv'))\n",
    "df_oil = pd.read_csv(os.path.join(path, 'oil.csv'))\n",
    "df_stores = pd.read_csv(os.path.join(path, 'stores.csv'))\n",
    "df_test = pd.read_csv(os.path.join(path, 'test.csv'))"
   ]
  },
  {
   "cell_type": "code",
   "execution_count": null,
   "id": "c69d27ca",
   "metadata": {},
   "outputs": [],
   "source": []
  },
  {
   "cell_type": "code",
   "execution_count": 17,
   "id": "e580f784",
   "metadata": {},
   "outputs": [],
   "source": [
    "dtypes = {'id': 'int64', 'store_nbr':'int8', 'onpromotion': str}"
   ]
  },
  {
   "cell_type": "code",
   "execution_count": 18,
   "id": "a79fb3bb",
   "metadata": {},
   "outputs": [
    {
     "data": {
      "text/html": [
       "<div>\n",
       "<style scoped>\n",
       "    .dataframe tbody tr th:only-of-type {\n",
       "        vertical-align: middle;\n",
       "    }\n",
       "\n",
       "    .dataframe tbody tr th {\n",
       "        vertical-align: top;\n",
       "    }\n",
       "\n",
       "    .dataframe thead th {\n",
       "        text-align: right;\n",
       "    }\n",
       "</style>\n",
       "<table border=\"1\" class=\"dataframe\">\n",
       "  <thead>\n",
       "    <tr style=\"text-align: right;\">\n",
       "      <th></th>\n",
       "      <th>store_nbr</th>\n",
       "      <th>city</th>\n",
       "      <th>state</th>\n",
       "      <th>type</th>\n",
       "      <th>cluster</th>\n",
       "    </tr>\n",
       "  </thead>\n",
       "  <tbody>\n",
       "    <tr>\n",
       "      <th>0</th>\n",
       "      <td>1</td>\n",
       "      <td>Quito</td>\n",
       "      <td>Pichincha</td>\n",
       "      <td>D</td>\n",
       "      <td>13</td>\n",
       "    </tr>\n",
       "    <tr>\n",
       "      <th>1</th>\n",
       "      <td>2</td>\n",
       "      <td>Quito</td>\n",
       "      <td>Pichincha</td>\n",
       "      <td>D</td>\n",
       "      <td>13</td>\n",
       "    </tr>\n",
       "    <tr>\n",
       "      <th>2</th>\n",
       "      <td>3</td>\n",
       "      <td>Quito</td>\n",
       "      <td>Pichincha</td>\n",
       "      <td>D</td>\n",
       "      <td>8</td>\n",
       "    </tr>\n",
       "    <tr>\n",
       "      <th>3</th>\n",
       "      <td>4</td>\n",
       "      <td>Quito</td>\n",
       "      <td>Pichincha</td>\n",
       "      <td>D</td>\n",
       "      <td>9</td>\n",
       "    </tr>\n",
       "  </tbody>\n",
       "</table>\n",
       "</div>"
      ],
      "text/plain": [
       "   store_nbr   city      state type  cluster\n",
       "0          1  Quito  Pichincha    D       13\n",
       "1          2  Quito  Pichincha    D       13\n",
       "2          3  Quito  Pichincha    D        8\n",
       "3          4  Quito  Pichincha    D        9"
      ]
     },
     "execution_count": 18,
     "metadata": {},
     "output_type": "execute_result"
    }
   ],
   "source": [
    "df_stores.head(4)"
   ]
  },
  {
   "cell_type": "markdown",
   "id": "daf2614c",
   "metadata": {},
   "source": [
    "# Data Cleaning"
   ]
  },
  {
   "cell_type": "code",
   "execution_count": 19,
   "id": "f06d01df",
   "metadata": {},
   "outputs": [],
   "source": [
    "# Just renaming the price column of the oil df\n",
    "\n",
    "new_oil = df_oil.copy()\n",
    "\n",
    "new_oil.rename(columns={'dcoilwtico': 'price'}, inplace=True)"
   ]
  },
  {
   "cell_type": "markdown",
   "id": "994ad633",
   "metadata": {},
   "source": [
    "# Data Merging"
   ]
  },
  {
   "cell_type": "code",
   "execution_count": 20,
   "id": "ac061b41",
   "metadata": {},
   "outputs": [],
   "source": [
    "# Here we write a function that checks the matching columns across all datasets\n",
    "\n",
    "# Need a class to assign names to the datasets\n",
    "class NamedDataFrame(pd.DataFrame):\n",
    "    def __init__(self, *args, name=None, **kwargs):\n",
    "        super().__init__(*args, **kwargs)\n",
    "        self.name = name\n",
    "        \n",
    "# Function to output the matching pairs\n",
    "def matching_pairs(df:list):\n",
    "    for df1_idx, (df1, df1_name) in enumerate(df):\n",
    "        for df2_idx, (df2, df2_name) in enumerate(df):\n",
    "            if df1_idx < df2_idx:\n",
    "                common_columns = [i for i in df1.columns if any(i in j for j in df2.columns)]\n",
    "                \n",
    "                print(f\"Matching columns between {df1_name} and {df2_name}: {common_columns}\")"
   ]
  },
  {
   "cell_type": "code",
   "execution_count": 21,
   "id": "ec4315dd",
   "metadata": {},
   "outputs": [],
   "source": [
    "# name the datasets\n",
    "datasets = [\n",
    "    (df_oil, 'Oil'),\n",
    "    (df_holidays, 'Holidays'),\n",
    "    (df_stores, 'Stores'),\n",
    "    (df_transaction, 'Transactions'),\n",
    "    (df_train, 'Train'),\n",
    "    (df_test, 'Test')\n",
    "]"
   ]
  },
  {
   "cell_type": "code",
   "execution_count": 22,
   "id": "e4837a90",
   "metadata": {
    "scrolled": true
   },
   "outputs": [
    {
     "name": "stdout",
     "output_type": "stream",
     "text": [
      "Matching columns between Oil and Holidays: ['date']\n",
      "Matching columns between Oil and Stores: []\n",
      "Matching columns between Oil and Transactions: ['date']\n",
      "Matching columns between Oil and Train: ['date']\n",
      "Matching columns between Oil and Test: ['date']\n",
      "Matching columns between Holidays and Stores: ['type']\n",
      "Matching columns between Holidays and Transactions: ['date']\n",
      "Matching columns between Holidays and Train: ['date']\n",
      "Matching columns between Holidays and Test: ['date']\n",
      "Matching columns between Stores and Transactions: ['store_nbr']\n",
      "Matching columns between Stores and Train: ['store_nbr']\n",
      "Matching columns between Stores and Test: ['store_nbr']\n",
      "Matching columns between Transactions and Train: ['date', 'store_nbr']\n",
      "Matching columns between Transactions and Test: ['date', 'store_nbr']\n",
      "Matching columns between Train and Test: ['id', 'date', 'store_nbr', 'family', 'onpromotion']\n"
     ]
    }
   ],
   "source": [
    "# Use our function to check pairs\n",
    "matching_pairs(datasets)"
   ]
  },
  {
   "cell_type": "code",
   "execution_count": 23,
   "id": "adf43685",
   "metadata": {},
   "outputs": [],
   "source": [
    "# make a function that compares two dates and checks the date range\n",
    "def date_comparison(date_column1, date_column2):\n",
    "    \"\"\"\n",
    "    Compare two date columns and print counts and date ranges.\n",
    "    \n",
    "    Parameters:\n",
    "    - date_column1: The first date column (as a pandas Series).\n",
    "    - date_column2: The second date column (as a pandas Series).\n",
    "\n",
    "    Returns:\n",
    "    - A dictionary containing the count of common and uncommon dates, as well as date ranges.\n",
    "    \"\"\"\n",
    "    # Convert date columns to sets for faster set operations\n",
    "    dates1 = set(date_column1)\n",
    "    dates2 = set(date_column2)\n",
    "\n",
    "    # Find common dates\n",
    "    common_dates = dates1.intersection(dates2)\n",
    "    count_common = len(common_dates)\n",
    "\n",
    "    # Find uncommon dates\n",
    "    uncommon_dates = dates1.symmetric_difference(dates2)\n",
    "    count_uncommon = len(uncommon_dates)\n",
    "\n",
    "    # Find date range for dates1 dataset\n",
    "    date_range1 = (min(dates1), max(dates1))\n",
    "\n",
    "    # Find date range for dates2 dataset\n",
    "    date_range2 = (min(dates2), max(dates2))\n",
    "\n",
    "    # Store the counts and date ranges in a dictionary\n",
    "    results = {\n",
    "        'Common': count_common,\n",
    "        'Uncommon': count_uncommon,\n",
    "        'Date Range 1': date_range1,\n",
    "        'Date Range 2': date_range2\n",
    "    }\n",
    "\n",
    "    return results"
   ]
  },
  {
   "cell_type": "code",
   "execution_count": 24,
   "id": "f5511e5b",
   "metadata": {},
   "outputs": [
    {
     "data": {
      "text/html": [
       "<div>\n",
       "<style scoped>\n",
       "    .dataframe tbody tr th:only-of-type {\n",
       "        vertical-align: middle;\n",
       "    }\n",
       "\n",
       "    .dataframe tbody tr th {\n",
       "        vertical-align: top;\n",
       "    }\n",
       "\n",
       "    .dataframe thead th {\n",
       "        text-align: right;\n",
       "    }\n",
       "</style>\n",
       "<table border=\"1\" class=\"dataframe\">\n",
       "  <thead>\n",
       "    <tr style=\"text-align: right;\">\n",
       "      <th></th>\n",
       "      <th>Common</th>\n",
       "      <th>Uncommon</th>\n",
       "      <th>Date Range 1</th>\n",
       "      <th>Date Range 2</th>\n",
       "    </tr>\n",
       "  </thead>\n",
       "  <tbody>\n",
       "    <tr>\n",
       "      <th>0</th>\n",
       "      <td>1682</td>\n",
       "      <td>2</td>\n",
       "      <td>2013-01-01</td>\n",
       "      <td>2013-01-01</td>\n",
       "    </tr>\n",
       "    <tr>\n",
       "      <th>1</th>\n",
       "      <td>1682</td>\n",
       "      <td>2</td>\n",
       "      <td>2017-08-15</td>\n",
       "      <td>2017-08-15</td>\n",
       "    </tr>\n",
       "  </tbody>\n",
       "</table>\n",
       "</div>"
      ],
      "text/plain": [
       "   Common  Uncommon Date Range 1 Date Range 2\n",
       "0    1682         2   2013-01-01   2013-01-01\n",
       "1    1682         2   2017-08-15   2017-08-15"
      ]
     },
     "execution_count": 24,
     "metadata": {},
     "output_type": "execute_result"
    }
   ],
   "source": [
    "# Compare transaction and train\n",
    "compare_result_train=date_comparison(df_transaction['date'], df_train['date'])\n",
    "\n",
    "pd.DataFrame(compare_result_train)"
   ]
  },
  {
   "cell_type": "code",
   "execution_count": 25,
   "id": "d63d1252",
   "metadata": {},
   "outputs": [
    {
     "data": {
      "text/html": [
       "<div>\n",
       "<style scoped>\n",
       "    .dataframe tbody tr th:only-of-type {\n",
       "        vertical-align: middle;\n",
       "    }\n",
       "\n",
       "    .dataframe tbody tr th {\n",
       "        vertical-align: top;\n",
       "    }\n",
       "\n",
       "    .dataframe thead th {\n",
       "        text-align: right;\n",
       "    }\n",
       "</style>\n",
       "<table border=\"1\" class=\"dataframe\">\n",
       "  <thead>\n",
       "    <tr style=\"text-align: right;\">\n",
       "      <th></th>\n",
       "      <th>Common</th>\n",
       "      <th>Uncommon</th>\n",
       "      <th>Date Range 1</th>\n",
       "      <th>Date Range 2</th>\n",
       "    </tr>\n",
       "  </thead>\n",
       "  <tbody>\n",
       "    <tr>\n",
       "      <th>0</th>\n",
       "      <td>0</td>\n",
       "      <td>1698</td>\n",
       "      <td>2013-01-01</td>\n",
       "      <td>2017-08-16</td>\n",
       "    </tr>\n",
       "    <tr>\n",
       "      <th>1</th>\n",
       "      <td>0</td>\n",
       "      <td>1698</td>\n",
       "      <td>2017-08-15</td>\n",
       "      <td>2017-08-31</td>\n",
       "    </tr>\n",
       "  </tbody>\n",
       "</table>\n",
       "</div>"
      ],
      "text/plain": [
       "   Common  Uncommon Date Range 1 Date Range 2\n",
       "0       0      1698   2013-01-01   2017-08-16\n",
       "1       0      1698   2017-08-15   2017-08-31"
      ]
     },
     "execution_count": 25,
     "metadata": {},
     "output_type": "execute_result"
    }
   ],
   "source": [
    "# Compare transaction and test\n",
    "compare_result_test=date_comparison(df_transaction['date'], df_test['date'])\n",
    "\n",
    "pd.DataFrame(compare_result_test)"
   ]
  },
  {
   "cell_type": "code",
   "execution_count": 26,
   "id": "45995da3",
   "metadata": {},
   "outputs": [
    {
     "data": {
      "text/plain": [
       "(3000888, 6)"
      ]
     },
     "execution_count": 26,
     "metadata": {},
     "output_type": "execute_result"
    }
   ],
   "source": [
    "df_train.shape"
   ]
  },
  {
   "cell_type": "code",
   "execution_count": 27,
   "id": "4283393c",
   "metadata": {},
   "outputs": [],
   "source": [
    "# Merge oil and train\n",
    "new_train = df_train.copy()\n",
    "new_train = pd.merge(df_train, new_oil, on=['date'], how='left')"
   ]
  },
  {
   "cell_type": "code",
   "execution_count": 28,
   "id": "34da0cb3",
   "metadata": {},
   "outputs": [
    {
     "data": {
      "text/plain": [
       "(1218, 2)"
      ]
     },
     "execution_count": 28,
     "metadata": {},
     "output_type": "execute_result"
    }
   ],
   "source": [
    "new_oil.shape"
   ]
  },
  {
   "cell_type": "code",
   "execution_count": 29,
   "id": "87b78603",
   "metadata": {},
   "outputs": [
    {
     "data": {
      "text/plain": [
       "(3000888, 7)"
      ]
     },
     "execution_count": 29,
     "metadata": {},
     "output_type": "execute_result"
    }
   ],
   "source": [
    "new_train.shape"
   ]
  },
  {
   "cell_type": "code",
   "execution_count": 30,
   "id": "c55a5c08",
   "metadata": {},
   "outputs": [],
   "source": [
    "# Merge holidays, stores, and transactions to new_train\n",
    "new_train = pd.merge(new_train, df_holidays, on=[\"date\"], how='left')\n",
    "new_train = pd.merge(new_train, df_stores, on=[\"store_nbr\"], how='left')\n",
    "new_train = pd.merge(new_train, df_transaction, on=[\"date\", 'store_nbr'], how='left')"
   ]
  },
  {
   "cell_type": "code",
   "execution_count": 31,
   "id": "3d19775d",
   "metadata": {},
   "outputs": [],
   "source": [
    "# Doing some renaming\n",
    "new_train.rename(columns={'type_x':'holiday_type', 'type_y': 'store_type'}, inplace=True)"
   ]
  },
  {
   "cell_type": "code",
   "execution_count": 32,
   "id": "d6da9848",
   "metadata": {},
   "outputs": [],
   "source": [
    "new_train['date'] = pd.to_datetime(new_train['date'])"
   ]
  },
  {
   "cell_type": "code",
   "execution_count": 33,
   "id": "840d9220",
   "metadata": {},
   "outputs": [],
   "source": [
    "# it will be helpful later if we have the date features in different amounts. Year, year-month, month and day\n",
    "\n",
    "new_train['year'] = new_train.date.dt.year\n",
    "\n",
    "new_train['year-month'] = new_train['date'].apply(lambda x : x.strftime('%Y-%m'))\n",
    "\n",
    "new_train['month'] = new_train.date.dt.month\n",
    "\n",
    "new_train['day'] = new_train.date.dt.day"
   ]
  },
  {
   "cell_type": "code",
   "execution_count": 34,
   "id": "787e123b",
   "metadata": {},
   "outputs": [
    {
     "data": {
      "text/plain": [
       "[1, 2, 3, 4, 5, 6, 7, 8, 9, 10, 11, 12]"
      ]
     },
     "execution_count": 34,
     "metadata": {},
     "output_type": "execute_result"
    }
   ],
   "source": [
    "# See if all months are there\n",
    "sorted(new_train['month'].unique())"
   ]
  },
  {
   "cell_type": "code",
   "execution_count": 35,
   "id": "99e0498a",
   "metadata": {},
   "outputs": [],
   "source": [
    "# Make date the index\n",
    "new_train.set_index('date', inplace=True)"
   ]
  },
  {
   "cell_type": "code",
   "execution_count": 36,
   "id": "9fa6ea55",
   "metadata": {},
   "outputs": [],
   "source": [
    "# Convert onpromotion to int\n",
    "new_train['onpromotion'] = new_train['onpromotion'].astype('int')"
   ]
  },
  {
   "cell_type": "code",
   "execution_count": 37,
   "id": "be44d28d",
   "metadata": {},
   "outputs": [
    {
     "data": {
      "text/plain": [
       "(3054348, 20)"
      ]
     },
     "execution_count": 37,
     "metadata": {},
     "output_type": "execute_result"
    }
   ],
   "source": [
    "new_train.shape"
   ]
  },
  {
   "cell_type": "markdown",
   "id": "f528de3a",
   "metadata": {},
   "source": [
    "### Time series Interpolation"
   ]
  },
  {
   "cell_type": "code",
   "execution_count": 38,
   "id": "158a417f",
   "metadata": {},
   "outputs": [],
   "source": [
    "oil_price = new_train['price']"
   ]
  },
  {
   "cell_type": "code",
   "execution_count": 39,
   "id": "e8329ab3",
   "metadata": {},
   "outputs": [],
   "source": [
    "oil_price_interpolated = oil_price.interpolate(method='index')"
   ]
  },
  {
   "cell_type": "markdown",
   "id": "02848ffa",
   "metadata": {},
   "source": [
    "### Data Merging"
   ]
  },
  {
   "cell_type": "code",
   "execution_count": 40,
   "id": "0f324abd",
   "metadata": {},
   "outputs": [
    {
     "data": {
      "text/html": [
       "<div>\n",
       "<style scoped>\n",
       "    .dataframe tbody tr th:only-of-type {\n",
       "        vertical-align: middle;\n",
       "    }\n",
       "\n",
       "    .dataframe tbody tr th {\n",
       "        vertical-align: top;\n",
       "    }\n",
       "\n",
       "    .dataframe thead th {\n",
       "        text-align: right;\n",
       "    }\n",
       "</style>\n",
       "<table border=\"1\" class=\"dataframe\">\n",
       "  <thead>\n",
       "    <tr style=\"text-align: right;\">\n",
       "      <th></th>\n",
       "      <th>id</th>\n",
       "      <th>store_nbr</th>\n",
       "      <th>family</th>\n",
       "      <th>sales</th>\n",
       "      <th>onpromotion</th>\n",
       "      <th>price</th>\n",
       "      <th>holiday_type</th>\n",
       "      <th>locale</th>\n",
       "      <th>locale_name</th>\n",
       "      <th>description</th>\n",
       "      <th>transferred</th>\n",
       "      <th>city</th>\n",
       "      <th>state</th>\n",
       "      <th>store_type</th>\n",
       "      <th>cluster</th>\n",
       "      <th>transactions</th>\n",
       "      <th>year</th>\n",
       "      <th>year-month</th>\n",
       "      <th>month</th>\n",
       "      <th>day</th>\n",
       "    </tr>\n",
       "    <tr>\n",
       "      <th>date</th>\n",
       "      <th></th>\n",
       "      <th></th>\n",
       "      <th></th>\n",
       "      <th></th>\n",
       "      <th></th>\n",
       "      <th></th>\n",
       "      <th></th>\n",
       "      <th></th>\n",
       "      <th></th>\n",
       "      <th></th>\n",
       "      <th></th>\n",
       "      <th></th>\n",
       "      <th></th>\n",
       "      <th></th>\n",
       "      <th></th>\n",
       "      <th></th>\n",
       "      <th></th>\n",
       "      <th></th>\n",
       "      <th></th>\n",
       "      <th></th>\n",
       "    </tr>\n",
       "  </thead>\n",
       "  <tbody>\n",
       "    <tr>\n",
       "      <th>2013-01-01</th>\n",
       "      <td>0</td>\n",
       "      <td>1</td>\n",
       "      <td>AUTOMOTIVE</td>\n",
       "      <td>0.0</td>\n",
       "      <td>0</td>\n",
       "      <td>NaN</td>\n",
       "      <td>Holiday</td>\n",
       "      <td>National</td>\n",
       "      <td>Ecuador</td>\n",
       "      <td>Primer dia del ano</td>\n",
       "      <td>False</td>\n",
       "      <td>Quito</td>\n",
       "      <td>Pichincha</td>\n",
       "      <td>D</td>\n",
       "      <td>13</td>\n",
       "      <td>NaN</td>\n",
       "      <td>2013</td>\n",
       "      <td>2013-01</td>\n",
       "      <td>1</td>\n",
       "      <td>1</td>\n",
       "    </tr>\n",
       "    <tr>\n",
       "      <th>2013-01-01</th>\n",
       "      <td>1</td>\n",
       "      <td>1</td>\n",
       "      <td>BABY CARE</td>\n",
       "      <td>0.0</td>\n",
       "      <td>0</td>\n",
       "      <td>NaN</td>\n",
       "      <td>Holiday</td>\n",
       "      <td>National</td>\n",
       "      <td>Ecuador</td>\n",
       "      <td>Primer dia del ano</td>\n",
       "      <td>False</td>\n",
       "      <td>Quito</td>\n",
       "      <td>Pichincha</td>\n",
       "      <td>D</td>\n",
       "      <td>13</td>\n",
       "      <td>NaN</td>\n",
       "      <td>2013</td>\n",
       "      <td>2013-01</td>\n",
       "      <td>1</td>\n",
       "      <td>1</td>\n",
       "    </tr>\n",
       "    <tr>\n",
       "      <th>2013-01-01</th>\n",
       "      <td>2</td>\n",
       "      <td>1</td>\n",
       "      <td>BEAUTY</td>\n",
       "      <td>0.0</td>\n",
       "      <td>0</td>\n",
       "      <td>NaN</td>\n",
       "      <td>Holiday</td>\n",
       "      <td>National</td>\n",
       "      <td>Ecuador</td>\n",
       "      <td>Primer dia del ano</td>\n",
       "      <td>False</td>\n",
       "      <td>Quito</td>\n",
       "      <td>Pichincha</td>\n",
       "      <td>D</td>\n",
       "      <td>13</td>\n",
       "      <td>NaN</td>\n",
       "      <td>2013</td>\n",
       "      <td>2013-01</td>\n",
       "      <td>1</td>\n",
       "      <td>1</td>\n",
       "    </tr>\n",
       "  </tbody>\n",
       "</table>\n",
       "</div>"
      ],
      "text/plain": [
       "            id  store_nbr      family  sales  onpromotion  price holiday_type  \\\n",
       "date                                                                            \n",
       "2013-01-01   0          1  AUTOMOTIVE    0.0            0    NaN      Holiday   \n",
       "2013-01-01   1          1   BABY CARE    0.0            0    NaN      Holiday   \n",
       "2013-01-01   2          1      BEAUTY    0.0            0    NaN      Holiday   \n",
       "\n",
       "              locale locale_name         description transferred   city  \\\n",
       "date                                                                      \n",
       "2013-01-01  National     Ecuador  Primer dia del ano       False  Quito   \n",
       "2013-01-01  National     Ecuador  Primer dia del ano       False  Quito   \n",
       "2013-01-01  National     Ecuador  Primer dia del ano       False  Quito   \n",
       "\n",
       "                state store_type  cluster  transactions  year year-month  \\\n",
       "date                                                                       \n",
       "2013-01-01  Pichincha          D       13           NaN  2013    2013-01   \n",
       "2013-01-01  Pichincha          D       13           NaN  2013    2013-01   \n",
       "2013-01-01  Pichincha          D       13           NaN  2013    2013-01   \n",
       "\n",
       "            month  day  \n",
       "date                    \n",
       "2013-01-01      1    1  \n",
       "2013-01-01      1    1  \n",
       "2013-01-01      1    1  "
      ]
     },
     "execution_count": 40,
     "metadata": {},
     "output_type": "execute_result"
    }
   ],
   "source": [
    "new_train.head(3)"
   ]
  },
  {
   "cell_type": "code",
   "execution_count": 41,
   "id": "35849cbe",
   "metadata": {},
   "outputs": [],
   "source": [
    "df_merged = df_train.merge(df_stores, on='store_nbr', how='left')"
   ]
  },
  {
   "cell_type": "code",
   "execution_count": 42,
   "id": "d48a99eb",
   "metadata": {},
   "outputs": [],
   "source": [
    "df_merged = df_merged.merge(df_oil, on='date', how='left')"
   ]
  },
  {
   "cell_type": "code",
   "execution_count": 43,
   "id": "27686f6d",
   "metadata": {},
   "outputs": [],
   "source": [
    "df_merged = df_merged.merge(df_holidays, on='date', how='left')"
   ]
  },
  {
   "cell_type": "code",
   "execution_count": 44,
   "id": "bf131235",
   "metadata": {},
   "outputs": [],
   "source": [
    "# Fill in missing values introduced by merging\n",
    "df_merged[['type_y', 'locale', 'locale_name']] = df_merged[['type_y', 'locale', 'locale_name']].fillna('NoHoliday')\n",
    "df_merged['transferred'] = df_merged['transferred'].fillna(False)"
   ]
  },
  {
   "cell_type": "code",
   "execution_count": 45,
   "id": "ac67ade3",
   "metadata": {},
   "outputs": [],
   "source": [
    "df_merged['onpromotion'] = pd.to_numeric(df_merged['onpromotion'], errors='coerce')"
   ]
  },
  {
   "cell_type": "code",
   "execution_count": 46,
   "id": "b352bfb3",
   "metadata": {},
   "outputs": [],
   "source": [
    "# Setting id as index\n",
    "df_merged.set_index('id', inplace=True)"
   ]
  },
  {
   "cell_type": "code",
   "execution_count": 47,
   "id": "c39be8d3",
   "metadata": {},
   "outputs": [
    {
     "data": {
      "text/plain": [
       "(3054348, 15)"
      ]
     },
     "execution_count": 47,
     "metadata": {},
     "output_type": "execute_result"
    }
   ],
   "source": [
    "df_merged.shape"
   ]
  },
  {
   "cell_type": "code",
   "execution_count": 48,
   "id": "571eb158",
   "metadata": {},
   "outputs": [],
   "source": [
    "# Columns we don't need so we can drop\n",
    "cols_drop = ['city', 'state', 'type_x', 'dcoilwtico', 'type_y', 'locale', 'locale_name', 'transferred']\n",
    "\n",
    "# Drop the columns\n",
    "df_merged = df_merged.drop(columns=cols_drop)"
   ]
  },
  {
   "cell_type": "code",
   "execution_count": 49,
   "id": "398d10d0",
   "metadata": {},
   "outputs": [],
   "source": [
    "# Put sales last\n",
    "cols = [col for col in df_merged.columns if col != 'sales'] + ['sales']\n",
    "df_merged = df_merged[cols]"
   ]
  },
  {
   "cell_type": "code",
   "execution_count": 50,
   "id": "4d330a1a",
   "metadata": {},
   "outputs": [
    {
     "data": {
      "text/html": [
       "<div>\n",
       "<style scoped>\n",
       "    .dataframe tbody tr th:only-of-type {\n",
       "        vertical-align: middle;\n",
       "    }\n",
       "\n",
       "    .dataframe tbody tr th {\n",
       "        vertical-align: top;\n",
       "    }\n",
       "\n",
       "    .dataframe thead th {\n",
       "        text-align: right;\n",
       "    }\n",
       "</style>\n",
       "<table border=\"1\" class=\"dataframe\">\n",
       "  <thead>\n",
       "    <tr style=\"text-align: right;\">\n",
       "      <th></th>\n",
       "      <th>id</th>\n",
       "      <th>date</th>\n",
       "      <th>store_nbr</th>\n",
       "      <th>family</th>\n",
       "      <th>sales</th>\n",
       "      <th>onpromotion</th>\n",
       "    </tr>\n",
       "  </thead>\n",
       "  <tbody>\n",
       "    <tr>\n",
       "      <th>0</th>\n",
       "      <td>0</td>\n",
       "      <td>2013-01-01</td>\n",
       "      <td>1</td>\n",
       "      <td>AUTOMOTIVE</td>\n",
       "      <td>0.0</td>\n",
       "      <td>0</td>\n",
       "    </tr>\n",
       "    <tr>\n",
       "      <th>1</th>\n",
       "      <td>1</td>\n",
       "      <td>2013-01-01</td>\n",
       "      <td>1</td>\n",
       "      <td>BABY CARE</td>\n",
       "      <td>0.0</td>\n",
       "      <td>0</td>\n",
       "    </tr>\n",
       "    <tr>\n",
       "      <th>2</th>\n",
       "      <td>2</td>\n",
       "      <td>2013-01-01</td>\n",
       "      <td>1</td>\n",
       "      <td>BEAUTY</td>\n",
       "      <td>0.0</td>\n",
       "      <td>0</td>\n",
       "    </tr>\n",
       "    <tr>\n",
       "      <th>3</th>\n",
       "      <td>3</td>\n",
       "      <td>2013-01-01</td>\n",
       "      <td>1</td>\n",
       "      <td>BEVERAGES</td>\n",
       "      <td>0.0</td>\n",
       "      <td>0</td>\n",
       "    </tr>\n",
       "  </tbody>\n",
       "</table>\n",
       "</div>"
      ],
      "text/plain": [
       "   id        date  store_nbr      family  sales  onpromotion\n",
       "0   0  2013-01-01          1  AUTOMOTIVE    0.0            0\n",
       "1   1  2013-01-01          1   BABY CARE    0.0            0\n",
       "2   2  2013-01-01          1      BEAUTY    0.0            0\n",
       "3   3  2013-01-01          1   BEVERAGES    0.0            0"
      ]
     },
     "execution_count": 50,
     "metadata": {},
     "output_type": "execute_result"
    }
   ],
   "source": [
    "df_train.head(4)"
   ]
  },
  {
   "cell_type": "code",
   "execution_count": 51,
   "id": "a1cffa8a",
   "metadata": {},
   "outputs": [],
   "source": [
    "# This is where I would aggregate data but going to skip it here\n",
    "df_family_aggregated = df_merged"
   ]
  },
  {
   "cell_type": "code",
   "execution_count": 52,
   "id": "ca85ea69",
   "metadata": {},
   "outputs": [
    {
     "data": {
      "text/plain": [
       "(3054348, 7)"
      ]
     },
     "execution_count": 52,
     "metadata": {},
     "output_type": "execute_result"
    }
   ],
   "source": [
    "df_family_aggregated.shape"
   ]
  },
  {
   "cell_type": "markdown",
   "id": "80123a03",
   "metadata": {},
   "source": [
    "### Feature Engineering"
   ]
  },
  {
   "cell_type": "code",
   "execution_count": 53,
   "id": "55a5742c",
   "metadata": {},
   "outputs": [],
   "source": [
    "df_family_aggregated['date'] = pd.to_datetime(df_family_aggregated['date'])"
   ]
  },
  {
   "cell_type": "code",
   "execution_count": 54,
   "id": "143bc5cb",
   "metadata": {},
   "outputs": [
    {
     "data": {
      "text/plain": [
       "(3054348, 7)"
      ]
     },
     "execution_count": 54,
     "metadata": {},
     "output_type": "execute_result"
    }
   ],
   "source": [
    "df_family_aggregated.shape"
   ]
  },
  {
   "cell_type": "code",
   "execution_count": 55,
   "id": "5b5b2de5",
   "metadata": {},
   "outputs": [],
   "source": [
    "# Create day of week feature\n",
    "df_family_aggregated['day_of_week'] = df_family_aggregated['date'].dt.dayofweek\n",
    "\n",
    "# Lag sales by 1 to get previous day of sales value\n",
    "df_family_aggregated['lag_1'] = df_family_aggregated['sales'].shift(1)\n",
    "\n",
    "# Add rolling mean for 7-day window\n",
    "df_family_aggregated['rolling_mean'] = df_family_aggregated['sales'].rolling(window=7).mean()"
   ]
  },
  {
   "cell_type": "code",
   "execution_count": 56,
   "id": "4385b8c9",
   "metadata": {},
   "outputs": [
    {
     "data": {
      "text/plain": [
       "(3054348, 10)"
      ]
     },
     "execution_count": 56,
     "metadata": {},
     "output_type": "execute_result"
    }
   ],
   "source": [
    "df_family_aggregated.shape"
   ]
  },
  {
   "cell_type": "code",
   "execution_count": 57,
   "id": "aaa5934a",
   "metadata": {},
   "outputs": [],
   "source": [
    "# Drop the missing values **DID NOT RUN THIS***\n",
    "df_family_aggregated.dropna(inplace=True)"
   ]
  },
  {
   "cell_type": "code",
   "execution_count": 58,
   "id": "81f64977",
   "metadata": {},
   "outputs": [
    {
     "data": {
      "text/plain": [
       "(502518, 10)"
      ]
     },
     "execution_count": 58,
     "metadata": {},
     "output_type": "execute_result"
    }
   ],
   "source": [
    "# Find shape\n",
    "df_family_aggregated.shape"
   ]
  },
  {
   "cell_type": "markdown",
   "id": "da078f23",
   "metadata": {},
   "source": [
    "# Feature Encoding"
   ]
  },
  {
   "cell_type": "code",
   "execution_count": 59,
   "id": "ec477d9b",
   "metadata": {},
   "outputs": [],
   "source": [
    "# One-hot encoding for family column\n",
    "df_family_dummies = pd.get_dummies(df_family_aggregated['family'], drop_first=True, prefix='family')"
   ]
  },
  {
   "cell_type": "code",
   "execution_count": 60,
   "id": "2a678fbe",
   "metadata": {},
   "outputs": [],
   "source": [
    "# One-hot encoding for family column\n",
    "df_family_aggregated = pd.concat([df_family_aggregated, df_family_dummies], axis=1)\n",
    "\n",
    "# No need for family column anymore\n",
    "df_family_aggregated.drop('family', axis=1, inplace=True)"
   ]
  },
  {
   "cell_type": "markdown",
   "id": "eb35243a",
   "metadata": {},
   "source": [
    "### Feature Scaling"
   ]
  },
  {
   "cell_type": "code",
   "execution_count": 61,
   "id": "1aae0e47",
   "metadata": {},
   "outputs": [],
   "source": [
    "# These columns need to be scaled, ***NOT scaling sales here***\n",
    "columns_to_scale = ['onpromotion', 'day_of_week', 'lag_1', 'rolling_mean'] + list(df_family_dummies.columns)\n",
    "\n",
    "# Introduce MinMaxScaler\n",
    "scaler = MinMaxScaler()\n",
    "\n",
    "# Apply\n",
    "df_family_aggregated[columns_to_scale] = scaler.fit_transform(df_family_aggregated[columns_to_scale])"
   ]
  },
  {
   "cell_type": "code",
   "execution_count": 62,
   "id": "5b429fcf",
   "metadata": {},
   "outputs": [],
   "source": [
    "# Sort by date\n",
    "df_family_aggregated = df_family_aggregated.sort_values('date')"
   ]
  },
  {
   "cell_type": "code",
   "execution_count": 63,
   "id": "50450454",
   "metadata": {},
   "outputs": [
    {
     "data": {
      "text/plain": [
       "(502518, 41)"
      ]
     },
     "execution_count": 63,
     "metadata": {},
     "output_type": "execute_result"
    }
   ],
   "source": [
    "df_family_aggregated.shape"
   ]
  },
  {
   "cell_type": "code",
   "execution_count": 64,
   "id": "c0de2a6b",
   "metadata": {},
   "outputs": [
    {
     "data": {
      "text/plain": [
       "(3000888, 6)"
      ]
     },
     "execution_count": 64,
     "metadata": {},
     "output_type": "execute_result"
    }
   ],
   "source": [
    "df_train.shape"
   ]
  },
  {
   "cell_type": "code",
   "execution_count": 65,
   "id": "b39bcb5c",
   "metadata": {},
   "outputs": [],
   "source": [
    "df_family_aggregated.to_pickle('will_225_features.pkl')"
   ]
  },
  {
   "cell_type": "code",
   "execution_count": 66,
   "id": "e28b81e6",
   "metadata": {},
   "outputs": [
    {
     "data": {
      "text/html": [
       "<div>\n",
       "<style scoped>\n",
       "    .dataframe tbody tr th:only-of-type {\n",
       "        vertical-align: middle;\n",
       "    }\n",
       "\n",
       "    .dataframe tbody tr th {\n",
       "        vertical-align: top;\n",
       "    }\n",
       "\n",
       "    .dataframe thead th {\n",
       "        text-align: right;\n",
       "    }\n",
       "</style>\n",
       "<table border=\"1\" class=\"dataframe\">\n",
       "  <thead>\n",
       "    <tr style=\"text-align: right;\">\n",
       "      <th></th>\n",
       "      <th>date</th>\n",
       "      <th>store_nbr</th>\n",
       "      <th>onpromotion</th>\n",
       "      <th>cluster</th>\n",
       "      <th>description</th>\n",
       "      <th>sales</th>\n",
       "      <th>day_of_week</th>\n",
       "      <th>lag_1</th>\n",
       "      <th>rolling_mean</th>\n",
       "      <th>family_BABY CARE</th>\n",
       "      <th>...</th>\n",
       "      <th>family_MAGAZINES</th>\n",
       "      <th>family_MEATS</th>\n",
       "      <th>family_PERSONAL CARE</th>\n",
       "      <th>family_PET SUPPLIES</th>\n",
       "      <th>family_PLAYERS AND ELECTRONICS</th>\n",
       "      <th>family_POULTRY</th>\n",
       "      <th>family_PREPARED FOODS</th>\n",
       "      <th>family_PRODUCE</th>\n",
       "      <th>family_SCHOOL AND OFFICE SUPPLIES</th>\n",
       "      <th>family_SEAFOOD</th>\n",
       "    </tr>\n",
       "    <tr>\n",
       "      <th>id</th>\n",
       "      <th></th>\n",
       "      <th></th>\n",
       "      <th></th>\n",
       "      <th></th>\n",
       "      <th></th>\n",
       "      <th></th>\n",
       "      <th></th>\n",
       "      <th></th>\n",
       "      <th></th>\n",
       "      <th></th>\n",
       "      <th></th>\n",
       "      <th></th>\n",
       "      <th></th>\n",
       "      <th></th>\n",
       "      <th></th>\n",
       "      <th></th>\n",
       "      <th></th>\n",
       "      <th></th>\n",
       "      <th></th>\n",
       "      <th></th>\n",
       "      <th></th>\n",
       "    </tr>\n",
       "  </thead>\n",
       "  <tbody>\n",
       "    <tr>\n",
       "      <th>6</th>\n",
       "      <td>2013-01-01</td>\n",
       "      <td>1</td>\n",
       "      <td>0.0</td>\n",
       "      <td>13</td>\n",
       "      <td>Primer dia del ano</td>\n",
       "      <td>0.0</td>\n",
       "      <td>0.166667</td>\n",
       "      <td>0.0</td>\n",
       "      <td>0.0</td>\n",
       "      <td>0.0</td>\n",
       "      <td>...</td>\n",
       "      <td>0.0</td>\n",
       "      <td>0.0</td>\n",
       "      <td>0.0</td>\n",
       "      <td>0.0</td>\n",
       "      <td>0.0</td>\n",
       "      <td>0.0</td>\n",
       "      <td>0.0</td>\n",
       "      <td>0.0</td>\n",
       "      <td>0.0</td>\n",
       "      <td>0.0</td>\n",
       "    </tr>\n",
       "    <tr>\n",
       "      <th>1196</th>\n",
       "      <td>2013-01-01</td>\n",
       "      <td>42</td>\n",
       "      <td>0.0</td>\n",
       "      <td>2</td>\n",
       "      <td>Primer dia del ano</td>\n",
       "      <td>0.0</td>\n",
       "      <td>0.166667</td>\n",
       "      <td>0.0</td>\n",
       "      <td>0.0</td>\n",
       "      <td>0.0</td>\n",
       "      <td>...</td>\n",
       "      <td>0.0</td>\n",
       "      <td>0.0</td>\n",
       "      <td>0.0</td>\n",
       "      <td>0.0</td>\n",
       "      <td>0.0</td>\n",
       "      <td>0.0</td>\n",
       "      <td>0.0</td>\n",
       "      <td>0.0</td>\n",
       "      <td>0.0</td>\n",
       "      <td>0.0</td>\n",
       "    </tr>\n",
       "    <tr>\n",
       "      <th>1195</th>\n",
       "      <td>2013-01-01</td>\n",
       "      <td>42</td>\n",
       "      <td>0.0</td>\n",
       "      <td>2</td>\n",
       "      <td>Primer dia del ano</td>\n",
       "      <td>0.0</td>\n",
       "      <td>0.166667</td>\n",
       "      <td>0.0</td>\n",
       "      <td>0.0</td>\n",
       "      <td>0.0</td>\n",
       "      <td>...</td>\n",
       "      <td>0.0</td>\n",
       "      <td>0.0</td>\n",
       "      <td>0.0</td>\n",
       "      <td>0.0</td>\n",
       "      <td>0.0</td>\n",
       "      <td>0.0</td>\n",
       "      <td>0.0</td>\n",
       "      <td>0.0</td>\n",
       "      <td>0.0</td>\n",
       "      <td>0.0</td>\n",
       "    </tr>\n",
       "    <tr>\n",
       "      <th>1194</th>\n",
       "      <td>2013-01-01</td>\n",
       "      <td>42</td>\n",
       "      <td>0.0</td>\n",
       "      <td>2</td>\n",
       "      <td>Primer dia del ano</td>\n",
       "      <td>0.0</td>\n",
       "      <td>0.166667</td>\n",
       "      <td>0.0</td>\n",
       "      <td>0.0</td>\n",
       "      <td>0.0</td>\n",
       "      <td>...</td>\n",
       "      <td>0.0</td>\n",
       "      <td>0.0</td>\n",
       "      <td>0.0</td>\n",
       "      <td>0.0</td>\n",
       "      <td>0.0</td>\n",
       "      <td>0.0</td>\n",
       "      <td>0.0</td>\n",
       "      <td>0.0</td>\n",
       "      <td>0.0</td>\n",
       "      <td>0.0</td>\n",
       "    </tr>\n",
       "    <tr>\n",
       "      <th>1193</th>\n",
       "      <td>2013-01-01</td>\n",
       "      <td>42</td>\n",
       "      <td>0.0</td>\n",
       "      <td>2</td>\n",
       "      <td>Primer dia del ano</td>\n",
       "      <td>0.0</td>\n",
       "      <td>0.166667</td>\n",
       "      <td>0.0</td>\n",
       "      <td>0.0</td>\n",
       "      <td>0.0</td>\n",
       "      <td>...</td>\n",
       "      <td>0.0</td>\n",
       "      <td>0.0</td>\n",
       "      <td>0.0</td>\n",
       "      <td>0.0</td>\n",
       "      <td>0.0</td>\n",
       "      <td>0.0</td>\n",
       "      <td>0.0</td>\n",
       "      <td>0.0</td>\n",
       "      <td>0.0</td>\n",
       "      <td>0.0</td>\n",
       "    </tr>\n",
       "  </tbody>\n",
       "</table>\n",
       "<p>5 rows × 41 columns</p>\n",
       "</div>"
      ],
      "text/plain": [
       "           date  store_nbr  onpromotion  cluster         description  sales  \\\n",
       "id                                                                            \n",
       "6    2013-01-01          1          0.0       13  Primer dia del ano    0.0   \n",
       "1196 2013-01-01         42          0.0        2  Primer dia del ano    0.0   \n",
       "1195 2013-01-01         42          0.0        2  Primer dia del ano    0.0   \n",
       "1194 2013-01-01         42          0.0        2  Primer dia del ano    0.0   \n",
       "1193 2013-01-01         42          0.0        2  Primer dia del ano    0.0   \n",
       "\n",
       "      day_of_week  lag_1  rolling_mean  family_BABY CARE  ...  \\\n",
       "id                                                        ...   \n",
       "6        0.166667    0.0           0.0               0.0  ...   \n",
       "1196     0.166667    0.0           0.0               0.0  ...   \n",
       "1195     0.166667    0.0           0.0               0.0  ...   \n",
       "1194     0.166667    0.0           0.0               0.0  ...   \n",
       "1193     0.166667    0.0           0.0               0.0  ...   \n",
       "\n",
       "      family_MAGAZINES  family_MEATS  family_PERSONAL CARE  \\\n",
       "id                                                           \n",
       "6                  0.0           0.0                   0.0   \n",
       "1196               0.0           0.0                   0.0   \n",
       "1195               0.0           0.0                   0.0   \n",
       "1194               0.0           0.0                   0.0   \n",
       "1193               0.0           0.0                   0.0   \n",
       "\n",
       "      family_PET SUPPLIES  family_PLAYERS AND ELECTRONICS  family_POULTRY  \\\n",
       "id                                                                          \n",
       "6                     0.0                             0.0             0.0   \n",
       "1196                  0.0                             0.0             0.0   \n",
       "1195                  0.0                             0.0             0.0   \n",
       "1194                  0.0                             0.0             0.0   \n",
       "1193                  0.0                             0.0             0.0   \n",
       "\n",
       "      family_PREPARED FOODS  family_PRODUCE  \\\n",
       "id                                            \n",
       "6                       0.0             0.0   \n",
       "1196                    0.0             0.0   \n",
       "1195                    0.0             0.0   \n",
       "1194                    0.0             0.0   \n",
       "1193                    0.0             0.0   \n",
       "\n",
       "      family_SCHOOL AND OFFICE SUPPLIES  family_SEAFOOD  \n",
       "id                                                       \n",
       "6                                   0.0             0.0  \n",
       "1196                                0.0             0.0  \n",
       "1195                                0.0             0.0  \n",
       "1194                                0.0             0.0  \n",
       "1193                                0.0             0.0  \n",
       "\n",
       "[5 rows x 41 columns]"
      ]
     },
     "execution_count": 66,
     "metadata": {},
     "output_type": "execute_result"
    }
   ],
   "source": [
    "df_family_aggregated.head(5)"
   ]
  },
  {
   "cell_type": "code",
   "execution_count": 67,
   "id": "85ec3e65",
   "metadata": {},
   "outputs": [],
   "source": [
    "df_family_aggregated.drop(columns=['cluster'], inplace=True)"
   ]
  },
  {
   "cell_type": "markdown",
   "id": "24b410c9",
   "metadata": {},
   "source": [
    "### Train Test Split"
   ]
  },
  {
   "cell_type": "code",
   "execution_count": 68,
   "id": "00100614",
   "metadata": {},
   "outputs": [],
   "source": [
    "train_size = int(0.8 * len(df_family_aggregated))\n",
    "train_data = df_family_aggregated[:train_size]\n",
    "test_data = df_family_aggregated[train_size:]"
   ]
  },
  {
   "cell_type": "code",
   "execution_count": 69,
   "id": "ee146069",
   "metadata": {},
   "outputs": [
    {
     "data": {
      "text/plain": [
       "((402014, 40), (100504, 40))"
      ]
     },
     "execution_count": 69,
     "metadata": {},
     "output_type": "execute_result"
    }
   ],
   "source": [
    "train_data.shape, test_data.shape"
   ]
  },
  {
   "cell_type": "code",
   "execution_count": 70,
   "id": "efa7caa3",
   "metadata": {},
   "outputs": [],
   "source": [
    "# Set up training set\n",
    "X_train = train_data.drop(columns=['sales', 'date'])\n",
    "y_train = train_data['sales']"
   ]
  },
  {
   "cell_type": "code",
   "execution_count": 71,
   "id": "c7d745c7",
   "metadata": {},
   "outputs": [],
   "source": [
    "# Set up test set\n",
    "X_test = test_data.drop(columns=['sales', 'date'])\n",
    "y_test = test_data['sales']"
   ]
  },
  {
   "cell_type": "markdown",
   "id": "a4a667fa",
   "metadata": {},
   "source": [
    "### Using the updated pickle files to model"
   ]
  },
  {
   "cell_type": "code",
   "execution_count": 73,
   "id": "ad9eee91",
   "metadata": {},
   "outputs": [],
   "source": [
    "df_train = pd.read_pickle(path /'df_train.pkl')\n",
    "df_test = pd.read_pickle(path /'df_test.pkl')\n",
    "df_val = pd.read_pickle(path /'df_val.pkl')"
   ]
  },
  {
   "cell_type": "code",
   "execution_count": 74,
   "id": "1451ade8",
   "metadata": {},
   "outputs": [
    {
     "data": {
      "text/plain": [
       "(1935987, 29)"
      ]
     },
     "execution_count": 74,
     "metadata": {},
     "output_type": "execute_result"
    }
   ],
   "source": [
    "df_train.shape"
   ]
  },
  {
   "cell_type": "code",
   "execution_count": 75,
   "id": "f655976a",
   "metadata": {},
   "outputs": [
    {
     "data": {
      "text/plain": [
       "(553141, 29)"
      ]
     },
     "execution_count": 75,
     "metadata": {},
     "output_type": "execute_result"
    }
   ],
   "source": [
    "df_test.shape"
   ]
  },
  {
   "cell_type": "code",
   "execution_count": 76,
   "id": "8234c1cd",
   "metadata": {},
   "outputs": [
    {
     "data": {
      "text/plain": [
       "(276569, 29)"
      ]
     },
     "execution_count": 76,
     "metadata": {},
     "output_type": "execute_result"
    }
   ],
   "source": [
    "df_val.shape"
   ]
  },
  {
   "cell_type": "markdown",
   "id": "417da449",
   "metadata": {},
   "source": [
    "### Need to do some feature engineering first"
   ]
  },
  {
   "cell_type": "markdown",
   "id": "c1445967",
   "metadata": {},
   "source": [
    "On this train set we will implement dummy variables for the families"
   ]
  },
  {
   "cell_type": "code",
   "execution_count": 77,
   "id": "4afbc5c0",
   "metadata": {},
   "outputs": [
    {
     "data": {
      "text/plain": [
       "['id',\n",
       " 'date',\n",
       " 'store_nbr',\n",
       " 'family',\n",
       " 'sales',\n",
       " 'onpromotion',\n",
       " 'cluster',\n",
       " 'familycluster',\n",
       " 'day_of_week',\n",
       " 'month',\n",
       " 'year',\n",
       " 'oil_price',\n",
       " 'holiday_Carnaval',\n",
       " 'holiday_Dia de la Madre',\n",
       " 'holiday_Dia del Trabajo',\n",
       " 'holiday_Fundacion de Quito',\n",
       " 'holiday_Independencia de Cuenca',\n",
       " 'holiday_Mundial de futbol Brasil: Ecuador-Suiza',\n",
       " 'holiday_Navidad-1',\n",
       " 'holiday_Navidad-2',\n",
       " 'holiday_Navidad-3',\n",
       " 'holiday_Navidad-4',\n",
       " 'holiday_Primer dia del ano',\n",
       " 'holiday_Terremoto Manabi+1',\n",
       " 'holiday_Terremoto Manabi+2',\n",
       " 'holiday_Terremoto Manabi+3',\n",
       " 'holiday_Terremoto Manabi+4',\n",
       " 'holiday_Terremoto Manabi+5',\n",
       " 'holiday_Traslado Primer dia del ano']"
      ]
     },
     "execution_count": 77,
     "metadata": {},
     "output_type": "execute_result"
    }
   ],
   "source": [
    "df_train.columns.tolist()"
   ]
  },
  {
   "cell_type": "code",
   "execution_count": 78,
   "id": "ac77e679",
   "metadata": {},
   "outputs": [],
   "source": [
    "# One-hot encoding for family column\n",
    "df_family_dummies_train = pd.get_dummies(df_train['family'], drop_first=True, prefix='family')\n",
    "df_family_dummies_test = pd.get_dummies(df_test['family'], drop_first=True, prefix='family')\n",
    "df_family_dummies_val = pd.get_dummies(df_val['family'], drop_first=True, prefix='family')"
   ]
  },
  {
   "cell_type": "code",
   "execution_count": 79,
   "id": "bf245653",
   "metadata": {},
   "outputs": [
    {
     "data": {
      "text/plain": [
       "(276569, 32)"
      ]
     },
     "execution_count": 79,
     "metadata": {},
     "output_type": "execute_result"
    }
   ],
   "source": [
    "df_family_dummies_val.shape"
   ]
  },
  {
   "cell_type": "code",
   "execution_count": 80,
   "id": "853b5a52",
   "metadata": {},
   "outputs": [],
   "source": [
    "# One-hot encoding for family column\n",
    "df_train = pd.concat([df_train, df_family_dummies_train], axis=1)\n",
    "df_test = pd.concat([df_test, df_family_dummies_test], axis=1)\n",
    "df_val = pd.concat([df_val, df_family_dummies_val], axis=1)\n",
    "# No need for family column anymore\n",
    "#df_family_aggregated.drop('family', axis=1, inplace=True)"
   ]
  },
  {
   "cell_type": "code",
   "execution_count": 81,
   "id": "279a72c7",
   "metadata": {},
   "outputs": [
    {
     "data": {
      "text/plain": [
       "(276569, 61)"
      ]
     },
     "execution_count": 81,
     "metadata": {},
     "output_type": "execute_result"
    }
   ],
   "source": [
    "df_val.shape"
   ]
  },
  {
   "cell_type": "code",
   "execution_count": 82,
   "id": "4d3a03dc",
   "metadata": {},
   "outputs": [],
   "source": [
    "# Replace False with 0.0 and True with 1.0\n",
    "df_train.replace({False: 0.0, True: 1.0}, inplace=True)\n",
    "df_test.replace({False: 0.0, True: 1.0}, inplace=True)\n",
    "df_val.replace({False: 0.0, True: 1.0}, inplace=True)"
   ]
  },
  {
   "cell_type": "code",
   "execution_count": 83,
   "id": "4d1e7cf7",
   "metadata": {},
   "outputs": [],
   "source": [
    "df_train = df_train.drop(columns=['family'])\n",
    "df_test = df_test.drop(columns=['family'])\n",
    "df_val = df_val.drop(columns=['family'])"
   ]
  },
  {
   "cell_type": "code",
   "execution_count": 84,
   "id": "34a0e6be",
   "metadata": {},
   "outputs": [],
   "source": [
    "# Set up training set\n",
    "X_train = df_train.drop(columns=['sales', 'date'])\n",
    "y_train = df_train['sales']\n",
    "\n",
    "# Val set\n",
    "X_val = df_val.drop(columns=['sales', 'date'])\n",
    "y_val = df_val['sales']\n",
    "\n",
    "# Test set\n",
    "X_test = df_test.drop(columns=['sales', 'date'])\n",
    "y_test = df_test['sales']"
   ]
  },
  {
   "cell_type": "code",
   "execution_count": 85,
   "id": "f5508c03",
   "metadata": {},
   "outputs": [
    {
     "data": {
      "text/html": [
       "<div>\n",
       "<style scoped>\n",
       "    .dataframe tbody tr th:only-of-type {\n",
       "        vertical-align: middle;\n",
       "    }\n",
       "\n",
       "    .dataframe tbody tr th {\n",
       "        vertical-align: top;\n",
       "    }\n",
       "\n",
       "    .dataframe thead th {\n",
       "        text-align: right;\n",
       "    }\n",
       "</style>\n",
       "<table border=\"1\" class=\"dataframe\">\n",
       "  <thead>\n",
       "    <tr style=\"text-align: right;\">\n",
       "      <th></th>\n",
       "      <th>id</th>\n",
       "      <th>date</th>\n",
       "      <th>store_nbr</th>\n",
       "      <th>sales</th>\n",
       "      <th>onpromotion</th>\n",
       "      <th>cluster</th>\n",
       "      <th>familycluster</th>\n",
       "      <th>day_of_week</th>\n",
       "      <th>month</th>\n",
       "      <th>year</th>\n",
       "      <th>...</th>\n",
       "      <th>family_MAGAZINES</th>\n",
       "      <th>family_MEATS</th>\n",
       "      <th>family_PERSONAL CARE</th>\n",
       "      <th>family_PET SUPPLIES</th>\n",
       "      <th>family_PLAYERS AND ELECTRONICS</th>\n",
       "      <th>family_POULTRY</th>\n",
       "      <th>family_PREPARED FOODS</th>\n",
       "      <th>family_PRODUCE</th>\n",
       "      <th>family_SCHOOL AND OFFICE SUPPLIES</th>\n",
       "      <th>family_SEAFOOD</th>\n",
       "    </tr>\n",
       "  </thead>\n",
       "  <tbody>\n",
       "    <tr>\n",
       "      <th>0</th>\n",
       "      <td>592</td>\n",
       "      <td>2013-01-01</td>\n",
       "      <td>25</td>\n",
       "      <td>0.0</td>\n",
       "      <td>0.0</td>\n",
       "      <td>1</td>\n",
       "      <td>5</td>\n",
       "      <td>1</td>\n",
       "      <td>1</td>\n",
       "      <td>2013</td>\n",
       "      <td>...</td>\n",
       "      <td>0.0</td>\n",
       "      <td>0.0</td>\n",
       "      <td>0.0</td>\n",
       "      <td>0.0</td>\n",
       "      <td>0.0</td>\n",
       "      <td>0.0</td>\n",
       "      <td>0.0</td>\n",
       "      <td>0.0</td>\n",
       "      <td>1.0</td>\n",
       "      <td>0.0</td>\n",
       "    </tr>\n",
       "    <tr>\n",
       "      <th>1</th>\n",
       "      <td>568</td>\n",
       "      <td>2013-01-01</td>\n",
       "      <td>25</td>\n",
       "      <td>186.0</td>\n",
       "      <td>0.0</td>\n",
       "      <td>1</td>\n",
       "      <td>5</td>\n",
       "      <td>1</td>\n",
       "      <td>1</td>\n",
       "      <td>2013</td>\n",
       "      <td>...</td>\n",
       "      <td>0.0</td>\n",
       "      <td>0.0</td>\n",
       "      <td>0.0</td>\n",
       "      <td>0.0</td>\n",
       "      <td>0.0</td>\n",
       "      <td>0.0</td>\n",
       "      <td>0.0</td>\n",
       "      <td>0.0</td>\n",
       "      <td>0.0</td>\n",
       "      <td>0.0</td>\n",
       "    </tr>\n",
       "    <tr>\n",
       "      <th>2</th>\n",
       "      <td>569</td>\n",
       "      <td>2013-01-01</td>\n",
       "      <td>25</td>\n",
       "      <td>143.0</td>\n",
       "      <td>0.0</td>\n",
       "      <td>1</td>\n",
       "      <td>5</td>\n",
       "      <td>1</td>\n",
       "      <td>1</td>\n",
       "      <td>2013</td>\n",
       "      <td>...</td>\n",
       "      <td>0.0</td>\n",
       "      <td>0.0</td>\n",
       "      <td>0.0</td>\n",
       "      <td>0.0</td>\n",
       "      <td>0.0</td>\n",
       "      <td>0.0</td>\n",
       "      <td>0.0</td>\n",
       "      <td>0.0</td>\n",
       "      <td>0.0</td>\n",
       "      <td>0.0</td>\n",
       "    </tr>\n",
       "  </tbody>\n",
       "</table>\n",
       "<p>3 rows × 60 columns</p>\n",
       "</div>"
      ],
      "text/plain": [
       "    id       date  store_nbr  sales  onpromotion  cluster  familycluster  \\\n",
       "0  592 2013-01-01         25    0.0          0.0        1              5   \n",
       "1  568 2013-01-01         25  186.0          0.0        1              5   \n",
       "2  569 2013-01-01         25  143.0          0.0        1              5   \n",
       "\n",
       "   day_of_week  month  year  ...  family_MAGAZINES  family_MEATS  \\\n",
       "0            1      1  2013  ...               0.0           0.0   \n",
       "1            1      1  2013  ...               0.0           0.0   \n",
       "2            1      1  2013  ...               0.0           0.0   \n",
       "\n",
       "   family_PERSONAL CARE  family_PET SUPPLIES  family_PLAYERS AND ELECTRONICS  \\\n",
       "0                   0.0                  0.0                             0.0   \n",
       "1                   0.0                  0.0                             0.0   \n",
       "2                   0.0                  0.0                             0.0   \n",
       "\n",
       "   family_POULTRY  family_PREPARED FOODS  family_PRODUCE  \\\n",
       "0             0.0                    0.0             0.0   \n",
       "1             0.0                    0.0             0.0   \n",
       "2             0.0                    0.0             0.0   \n",
       "\n",
       "   family_SCHOOL AND OFFICE SUPPLIES  family_SEAFOOD  \n",
       "0                                1.0             0.0  \n",
       "1                                0.0             0.0  \n",
       "2                                0.0             0.0  \n",
       "\n",
       "[3 rows x 60 columns]"
      ]
     },
     "execution_count": 85,
     "metadata": {},
     "output_type": "execute_result"
    }
   ],
   "source": [
    "df_train.head(3)"
   ]
  },
  {
   "cell_type": "markdown",
   "id": "534d8b79",
   "metadata": {},
   "source": [
    "### Modeling"
   ]
  },
  {
   "cell_type": "code",
   "execution_count": 86,
   "id": "31d15c6a",
   "metadata": {},
   "outputs": [],
   "source": [
    "# Updated plot_predictions to work with dataframes where the date is not already aggregated\n",
    "# This simply aggregates the dates inside the function\n",
    "def plot_predictions(date, y_test, y_pred, forecast_label, title):\n",
    "    \"\"\"\n",
    "    Plot the actual and predicted time series data.\n",
    "\n",
    "    Parameters:\n",
    "    date (array-like): Date or time index.\n",
    "    y_test (array-like): Actual values.\n",
    "    y_pred (array-like): Predicted values.\n",
    "    forecast_label (str): Label for the forecasted data.\n",
    "    title (str): Title for the plot.\n",
    "    \"\"\"\n",
    "    # Combine the data into a DataFrame\n",
    "    data = pd.DataFrame({'Date': date, 'Actual': y_test, 'Predicted': y_pred})\n",
    "    \n",
    "    # Aggregate the data by date, taking the mean of the values for each day\n",
    "    data = data.groupby('Date').mean().reset_index()\n",
    "    \n",
    "    # Set the custom color palette\n",
    "    custom_palette = sns.color_palette(\"husl\", 2)\n",
    "    sns.set_palette(custom_palette)\n",
    "    \n",
    "    # Create a figure with specified dimensions\n",
    "    plt.figure(figsize=(10, 6))\n",
    "\n",
    "    # Plot the actual data in green\n",
    "    sns.lineplot(data=data, x='Date', y='Actual', label='Actual', color=custom_palette[0])\n",
    "\n",
    "    # Plot the predicted data in blue with the specified label\n",
    "    sns.lineplot(data=data, x='Date', y='Predicted', label=forecast_label, color=custom_palette[1])\n",
    "\n",
    "    # Add a legend to the plot\n",
    "    plt.legend()\n",
    "\n",
    "    # Set the title of the plot\n",
    "    plt.title(title)\n",
    "\n",
    "    # Rotate x-axis labels for better readability\n",
    "    plt.xticks(rotation=45)\n",
    "\n",
    "    # Display the plot\n",
    "    plt.show()"
   ]
  },
  {
   "cell_type": "code",
   "execution_count": 87,
   "id": "14327bf0",
   "metadata": {},
   "outputs": [],
   "source": [
    "# Define a function to compute the evaluations metrics after the forecast\n",
    "def evaluate_forecast(y_test, forecast):\n",
    "    \"\"\"\n",
    "    Compute MSE, RMSE, and RMSLE for a forecast.\n",
    "\n",
    "    Parameters:\n",
    "    y_test (array-like): Actual values.\n",
    "    forecast (array-like): Predicted values.\n",
    "\n",
    "    Returns:\n",
    "    dict: Dictionary containing MSE, RMSE, and RMSLE.\n",
    "    \"\"\"\n",
    "    def rmsle(predicted, actual):\n",
    "        return np.sqrt(np.mean(np.square(np.log1p(predicted) - np.log1p(actual))))\n",
    "\n",
    "    # Compute Mean Squared Error (MSE)\n",
    "    mse = mean_squared_error(y_test, forecast)\n",
    "    \n",
    "    # Compute Root Mean Squared Error (RMSE)\n",
    "    rmse = np.sqrt(mse)\n",
    "    \n",
    "    # Compute Root Mean Squared Logarithmic Error (RMSLE)\n",
    "    rmsle_value = rmsle(forecast, y_test)\n",
    "    \n",
    "    # Return the evaluation metrics as a dictionary\n",
    "    metrics = {\n",
    "        'MSE': mse,\n",
    "        'RMSE': rmse,\n",
    "        'RMSLE': rmsle_value\n",
    "    }\n",
    "    \n",
    "    return metrics"
   ]
  },
  {
   "cell_type": "code",
   "execution_count": 88,
   "id": "ff50dbd1",
   "metadata": {},
   "outputs": [],
   "source": [
    "# Exogenous variables to help predict sales\n",
    "ex_variables = ['onpromotion', 'day_of_week', 'lag_1', 'rolling_mean']"
   ]
  },
  {
   "cell_type": "code",
   "execution_count": 89,
   "id": "e1fdb312",
   "metadata": {},
   "outputs": [
    {
     "data": {
      "text/html": [
       "<div>\n",
       "<style scoped>\n",
       "    .dataframe tbody tr th:only-of-type {\n",
       "        vertical-align: middle;\n",
       "    }\n",
       "\n",
       "    .dataframe tbody tr th {\n",
       "        vertical-align: top;\n",
       "    }\n",
       "\n",
       "    .dataframe thead th {\n",
       "        text-align: right;\n",
       "    }\n",
       "</style>\n",
       "<table border=\"1\" class=\"dataframe\">\n",
       "  <thead>\n",
       "    <tr style=\"text-align: right;\">\n",
       "      <th></th>\n",
       "      <th>id</th>\n",
       "      <th>store_nbr</th>\n",
       "      <th>onpromotion</th>\n",
       "      <th>cluster</th>\n",
       "      <th>familycluster</th>\n",
       "      <th>day_of_week</th>\n",
       "      <th>month</th>\n",
       "      <th>year</th>\n",
       "      <th>oil_price</th>\n",
       "      <th>holiday_Carnaval</th>\n",
       "      <th>...</th>\n",
       "      <th>family_MAGAZINES</th>\n",
       "      <th>family_MEATS</th>\n",
       "      <th>family_PERSONAL CARE</th>\n",
       "      <th>family_PET SUPPLIES</th>\n",
       "      <th>family_PLAYERS AND ELECTRONICS</th>\n",
       "      <th>family_POULTRY</th>\n",
       "      <th>family_PREPARED FOODS</th>\n",
       "      <th>family_PRODUCE</th>\n",
       "      <th>family_SCHOOL AND OFFICE SUPPLIES</th>\n",
       "      <th>family_SEAFOOD</th>\n",
       "    </tr>\n",
       "  </thead>\n",
       "  <tbody>\n",
       "    <tr>\n",
       "      <th>0</th>\n",
       "      <td>592</td>\n",
       "      <td>25</td>\n",
       "      <td>0.0</td>\n",
       "      <td>1</td>\n",
       "      <td>5</td>\n",
       "      <td>1</td>\n",
       "      <td>1</td>\n",
       "      <td>2013</td>\n",
       "      <td>0.792965</td>\n",
       "      <td>0.0</td>\n",
       "      <td>...</td>\n",
       "      <td>0.0</td>\n",
       "      <td>0.0</td>\n",
       "      <td>0.0</td>\n",
       "      <td>0.0</td>\n",
       "      <td>0.0</td>\n",
       "      <td>0.0</td>\n",
       "      <td>0.0</td>\n",
       "      <td>0.0</td>\n",
       "      <td>1.0</td>\n",
       "      <td>0.0</td>\n",
       "    </tr>\n",
       "    <tr>\n",
       "      <th>1</th>\n",
       "      <td>568</td>\n",
       "      <td>25</td>\n",
       "      <td>0.0</td>\n",
       "      <td>1</td>\n",
       "      <td>5</td>\n",
       "      <td>1</td>\n",
       "      <td>1</td>\n",
       "      <td>2013</td>\n",
       "      <td>0.792965</td>\n",
       "      <td>0.0</td>\n",
       "      <td>...</td>\n",
       "      <td>0.0</td>\n",
       "      <td>0.0</td>\n",
       "      <td>0.0</td>\n",
       "      <td>0.0</td>\n",
       "      <td>0.0</td>\n",
       "      <td>0.0</td>\n",
       "      <td>0.0</td>\n",
       "      <td>0.0</td>\n",
       "      <td>0.0</td>\n",
       "      <td>0.0</td>\n",
       "    </tr>\n",
       "    <tr>\n",
       "      <th>2</th>\n",
       "      <td>569</td>\n",
       "      <td>25</td>\n",
       "      <td>0.0</td>\n",
       "      <td>1</td>\n",
       "      <td>5</td>\n",
       "      <td>1</td>\n",
       "      <td>1</td>\n",
       "      <td>2013</td>\n",
       "      <td>0.792965</td>\n",
       "      <td>0.0</td>\n",
       "      <td>...</td>\n",
       "      <td>0.0</td>\n",
       "      <td>0.0</td>\n",
       "      <td>0.0</td>\n",
       "      <td>0.0</td>\n",
       "      <td>0.0</td>\n",
       "      <td>0.0</td>\n",
       "      <td>0.0</td>\n",
       "      <td>0.0</td>\n",
       "      <td>0.0</td>\n",
       "      <td>0.0</td>\n",
       "    </tr>\n",
       "    <tr>\n",
       "      <th>3</th>\n",
       "      <td>570</td>\n",
       "      <td>25</td>\n",
       "      <td>0.0</td>\n",
       "      <td>1</td>\n",
       "      <td>5</td>\n",
       "      <td>1</td>\n",
       "      <td>1</td>\n",
       "      <td>2013</td>\n",
       "      <td>0.792965</td>\n",
       "      <td>0.0</td>\n",
       "      <td>...</td>\n",
       "      <td>0.0</td>\n",
       "      <td>0.0</td>\n",
       "      <td>0.0</td>\n",
       "      <td>0.0</td>\n",
       "      <td>0.0</td>\n",
       "      <td>0.0</td>\n",
       "      <td>0.0</td>\n",
       "      <td>0.0</td>\n",
       "      <td>0.0</td>\n",
       "      <td>0.0</td>\n",
       "    </tr>\n",
       "  </tbody>\n",
       "</table>\n",
       "<p>4 rows × 58 columns</p>\n",
       "</div>"
      ],
      "text/plain": [
       "    id  store_nbr  onpromotion  cluster  familycluster  day_of_week  month  \\\n",
       "0  592         25          0.0        1              5            1      1   \n",
       "1  568         25          0.0        1              5            1      1   \n",
       "2  569         25          0.0        1              5            1      1   \n",
       "3  570         25          0.0        1              5            1      1   \n",
       "\n",
       "   year  oil_price  holiday_Carnaval  ...  family_MAGAZINES  family_MEATS  \\\n",
       "0  2013   0.792965               0.0  ...               0.0           0.0   \n",
       "1  2013   0.792965               0.0  ...               0.0           0.0   \n",
       "2  2013   0.792965               0.0  ...               0.0           0.0   \n",
       "3  2013   0.792965               0.0  ...               0.0           0.0   \n",
       "\n",
       "   family_PERSONAL CARE  family_PET SUPPLIES  family_PLAYERS AND ELECTRONICS  \\\n",
       "0                   0.0                  0.0                             0.0   \n",
       "1                   0.0                  0.0                             0.0   \n",
       "2                   0.0                  0.0                             0.0   \n",
       "3                   0.0                  0.0                             0.0   \n",
       "\n",
       "   family_POULTRY  family_PREPARED FOODS  family_PRODUCE  \\\n",
       "0             0.0                    0.0             0.0   \n",
       "1             0.0                    0.0             0.0   \n",
       "2             0.0                    0.0             0.0   \n",
       "3             0.0                    0.0             0.0   \n",
       "\n",
       "   family_SCHOOL AND OFFICE SUPPLIES  family_SEAFOOD  \n",
       "0                                1.0             0.0  \n",
       "1                                0.0             0.0  \n",
       "2                                0.0             0.0  \n",
       "3                                0.0             0.0  \n",
       "\n",
       "[4 rows x 58 columns]"
      ]
     },
     "execution_count": 89,
     "metadata": {},
     "output_type": "execute_result"
    }
   ],
   "source": [
    "X_train.head(4)"
   ]
  },
  {
   "cell_type": "markdown",
   "id": "67648a76",
   "metadata": {},
   "source": [
    "## XGBOOST Regressor Model"
   ]
  },
  {
   "cell_type": "code",
   "execution_count": 90,
   "id": "45e3cfd3",
   "metadata": {},
   "outputs": [],
   "source": [
    "# Define xgboost\n",
    "model_xgb = xgb.XGBRegressor(objective='reg:squarederror')\n",
    "\n",
    "# Fit model\n",
    "model_xgb.fit(X_train, y_train)\n",
    "\n",
    "# Predict\n",
    "forecast_xgb = model_xgb.predict(X_test)"
   ]
  },
  {
   "cell_type": "code",
   "execution_count": 91,
   "id": "0b6a2f56",
   "metadata": {},
   "outputs": [
    {
     "data": {
      "text/plain": [
       "553141"
      ]
     },
     "execution_count": 91,
     "metadata": {},
     "output_type": "execute_result"
    }
   ],
   "source": [
    "len(forecast_xgb)"
   ]
  },
  {
   "cell_type": "code",
   "execution_count": 92,
   "id": "7b7f1671",
   "metadata": {},
   "outputs": [
    {
     "data": {
      "image/png": "[encoded data removed]",
      "text/plain": [
       "<Figure size 1000x600 with 1 Axes>"
      ]
     },
     "metadata": {},
     "output_type": "display_data"
    }
   ],
   "source": [
    "# Plot predictions\n",
    "plot_predictions(df_test['date'], y_test, forecast_xgb, 'XGBoost Forecast', 'XGBoost vs. Actual')"
   ]
  },
  {
   "cell_type": "code",
   "execution_count": 93,
   "id": "71ceb3f1",
   "metadata": {},
   "outputs": [
    {
     "data": {
      "text/plain": [
       "{'MSE': 497038.6890617026,\n",
       " 'RMSE': 705.0097084875516,\n",
       " 'RMSLE': 1.448618091866696}"
      ]
     },
     "execution_count": 93,
     "metadata": {},
     "output_type": "execute_result"
    }
   ],
   "source": [
    "# Metrics \n",
    "xgboost_metrics = evaluate_forecast(y_test, forecast_xgb)\n",
    "\n",
    "xgboost_metrics"
   ]
  },
  {
   "cell_type": "markdown",
   "id": "4896587f",
   "metadata": {},
   "source": [
    "## Hyperparameter Tuning\n",
    "\n",
    "Going to be implementing a randomized search to fine-tune our XGBoost model. "
   ]
  },
  {
   "cell_type": "code",
   "execution_count": 94,
   "id": "6925ca8b",
   "metadata": {},
   "outputs": [
    {
     "name": "stdout",
     "output_type": "stream",
     "text": [
      "Best XGBoost parameters: {'n_estimators': 200, 'max_depth': 8, 'learning_rate': 0.1}\n"
     ]
    },
    {
     "data": {
      "text/html": [
       "<style>#sk-container-id-1 {color: black;}#sk-container-id-1 pre{padding: 0;}#sk-container-id-1 div.sk-toggleable {background-color: white;}#sk-container-id-1 label.sk-toggleable__label {cursor: pointer;display: block;width: 100%;margin-bottom: 0;padding: 0.3em;box-sizing: border-box;text-align: center;}#sk-container-id-1 label.sk-toggleable__label-arrow:before {content: \"▸\";float: left;margin-right: 0.25em;color: #696969;}#sk-container-id-1 label.sk-toggleable__label-arrow:hover:before {color: black;}#sk-container-id-1 div.sk-estimator:hover label.sk-toggleable__label-arrow:before {color: black;}#sk-container-id-1 div.sk-toggleable__content {max-height: 0;max-width: 0;overflow: hidden;text-align: left;background-color: #f0f8ff;}#sk-container-id-1 div.sk-toggleable__content pre {margin: 0.2em;color: black;border-radius: 0.25em;background-color: #f0f8ff;}#sk-container-id-1 input.sk-toggleable__control:checked~div.sk-toggleable__content {max-height: 200px;max-width: 100%;overflow: auto;}#sk-container-id-1 input.sk-toggleable__control:checked~label.sk-toggleable__label-arrow:before {content: \"▾\";}#sk-container-id-1 div.sk-estimator input.sk-toggleable__control:checked~label.sk-toggleable__label {background-color: #d4ebff;}#sk-container-id-1 div.sk-label input.sk-toggleable__control:checked~label.sk-toggleable__label {background-color: #d4ebff;}#sk-container-id-1 input.sk-hidden--visually {border: 0;clip: rect(1px 1px 1px 1px);clip: rect(1px, 1px, 1px, 1px);height: 1px;margin: -1px;overflow: hidden;padding: 0;position: absolute;width: 1px;}#sk-container-id-1 div.sk-estimator {font-family: monospace;background-color: #f0f8ff;border: 1px dotted black;border-radius: 0.25em;box-sizing: border-box;margin-bottom: 0.5em;}#sk-container-id-1 div.sk-estimator:hover {background-color: #d4ebff;}#sk-container-id-1 div.sk-parallel-item::after {content: \"\";width: 100%;border-bottom: 1px solid gray;flex-grow: 1;}#sk-container-id-1 div.sk-label:hover label.sk-toggleable__label {background-color: #d4ebff;}#sk-container-id-1 div.sk-serial::before {content: \"\";position: absolute;border-left: 1px solid gray;box-sizing: border-box;top: 0;bottom: 0;left: 50%;z-index: 0;}#sk-container-id-1 div.sk-serial {display: flex;flex-direction: column;align-items: center;background-color: white;padding-right: 0.2em;padding-left: 0.2em;position: relative;}#sk-container-id-1 div.sk-item {position: relative;z-index: 1;}#sk-container-id-1 div.sk-parallel {display: flex;align-items: stretch;justify-content: center;background-color: white;position: relative;}#sk-container-id-1 div.sk-item::before, #sk-container-id-1 div.sk-parallel-item::before {content: \"\";position: absolute;border-left: 1px solid gray;box-sizing: border-box;top: 0;bottom: 0;left: 50%;z-index: -1;}#sk-container-id-1 div.sk-parallel-item {display: flex;flex-direction: column;z-index: 1;position: relative;background-color: white;}#sk-container-id-1 div.sk-parallel-item:first-child::after {align-self: flex-end;width: 50%;}#sk-container-id-1 div.sk-parallel-item:last-child::after {align-self: flex-start;width: 50%;}#sk-container-id-1 div.sk-parallel-item:only-child::after {width: 0;}#sk-container-id-1 div.sk-dashed-wrapped {border: 1px dashed gray;margin: 0 0.4em 0.5em 0.4em;box-sizing: border-box;padding-bottom: 0.4em;background-color: white;}#sk-container-id-1 div.sk-label label {font-family: monospace;font-weight: bold;display: inline-block;line-height: 1.2em;}#sk-container-id-1 div.sk-label-container {text-align: center;}#sk-container-id-1 div.sk-container {/* jupyter's `normalize.less` sets `[hidden] { display: none; }` but bootstrap.min.css set `[hidden] { display: none !important; }` so we also need the `!important` here to be able to override the default hidden behavior on the sphinx rendered scikit-learn.org. See: https://github.com/scikit-learn/scikit-learn/issues/21755 */display: inline-block !important;position: relative;}#sk-container-id-1 div.sk-text-repr-fallback {display: none;}</style><div id=\"sk-container-id-1\" class=\"sk-top-container\"><div class=\"sk-text-repr-fallback\"><pre>XGBRegressor(base_score=None, booster=None, callbacks=None,\n",
       "             colsample_bylevel=None, colsample_bynode=None,\n",
       "             colsample_bytree=None, device=None, early_stopping_rounds=None,\n",
       "             enable_categorical=False, eval_metric=None, feature_types=None,\n",
       "             gamma=None, grow_policy=None, importance_type=None,\n",
       "             interaction_constraints=None, learning_rate=0.1, max_bin=None,\n",
       "             max_cat_threshold=None, max_cat_to_onehot=None,\n",
       "             max_delta_step=None, max_depth=8, max_leaves=None,\n",
       "             min_child_weight=None, missing=nan, monotone_constraints=None,\n",
       "             multi_strategy=None, n_estimators=200, n_jobs=None,\n",
       "             num_parallel_tree=None, random_state=None, ...)</pre><b>In a Jupyter environment, please rerun this cell to show the HTML representation or trust the notebook. <br />On GitHub, the HTML representation is unable to render, please try loading this page with nbviewer.org.</b></div><div class=\"sk-container\" hidden><div class=\"sk-item\"><div class=\"sk-estimator sk-toggleable\"><input class=\"sk-toggleable__control sk-hidden--visually\" id=\"sk-estimator-id-1\" type=\"checkbox\" checked><label for=\"sk-estimator-id-1\" class=\"sk-toggleable__label sk-toggleable__label-arrow\">XGBRegressor</label><div class=\"sk-toggleable__content\"><pre>XGBRegressor(base_score=None, booster=None, callbacks=None,\n",
       "             colsample_bylevel=None, colsample_bynode=None,\n",
       "             colsample_bytree=None, device=None, early_stopping_rounds=None,\n",
       "             enable_categorical=False, eval_metric=None, feature_types=None,\n",
       "             gamma=None, grow_policy=None, importance_type=None,\n",
       "             interaction_constraints=None, learning_rate=0.1, max_bin=None,\n",
       "             max_cat_threshold=None, max_cat_to_onehot=None,\n",
       "             max_delta_step=None, max_depth=8, max_leaves=None,\n",
       "             min_child_weight=None, missing=nan, monotone_constraints=None,\n",
       "             multi_strategy=None, n_estimators=200, n_jobs=None,\n",
       "             num_parallel_tree=None, random_state=None, ...)</pre></div></div></div></div></div>"
      ],
      "text/plain": [
       "XGBRegressor(base_score=None, booster=None, callbacks=None,\n",
       "             colsample_bylevel=None, colsample_bynode=None,\n",
       "             colsample_bytree=None, device=None, early_stopping_rounds=None,\n",
       "             enable_categorical=False, eval_metric=None, feature_types=None,\n",
       "             gamma=None, grow_policy=None, importance_type=None,\n",
       "             interaction_constraints=None, learning_rate=0.1, max_bin=None,\n",
       "             max_cat_threshold=None, max_cat_to_onehot=None,\n",
       "             max_delta_step=None, max_depth=8, max_leaves=None,\n",
       "             min_child_weight=None, missing=nan, monotone_constraints=None,\n",
       "             multi_strategy=None, n_estimators=200, n_jobs=None,\n",
       "             num_parallel_tree=None, random_state=None, ...)"
      ]
     },
     "execution_count": 94,
     "metadata": {},
     "output_type": "execute_result"
    }
   ],
   "source": [
    "xgb_param_dist = {\n",
    "    'learning_rate': [0.01, 0.1, 0.3],\n",
    "    'n_estimators': [100, 200, 400],\n",
    "    'max_depth': [4, 6, 8]\n",
    "}\n",
    "\n",
    "# Instance of model\n",
    "model_xgb = xgb.XGBRegressor(objective='reg:squarederror')\n",
    "\n",
    "# Perform search\n",
    "random_search = RandomizedSearchCV(\n",
    "    model_xgb,\n",
    "    param_distributions = xgb_param_dist,\n",
    "    n_iter=10,\n",
    "    cv=5,\n",
    "    scoring='neg_mean_squared_error',\n",
    "    random_state=42\n",
    ")\n",
    "\n",
    "# Fit the model\n",
    "random_search.fit(X_train, y_train)\n",
    "\n",
    "# Get the best params\n",
    "best_xgb_params = random_search.best_params_\n",
    "\n",
    "# Print out\n",
    "print(\"Best XGBoost parameters:\", best_xgb_params)\n",
    "\n",
    "# Get best estimator\n",
    "best_xgb_model = random_search.best_estimator_\n",
    "\n",
    "# Print out\n",
    "best_xgb_model"
   ]
  },
  {
   "cell_type": "code",
   "execution_count": 95,
   "id": "2a9adabe",
   "metadata": {},
   "outputs": [],
   "source": [
    "# Make a prediction with the best model\n",
    "forecast_xgb_best = best_xgb_model.predict(X_test)"
   ]
  },
  {
   "cell_type": "code",
   "execution_count": 96,
   "id": "c32f39f6",
   "metadata": {},
   "outputs": [
    {
     "data": {
      "text/plain": [
       "{'MSE': 9845276.676318033,\n",
       " 'RMSE': 3137.7183870318945,\n",
       " 'RMSLE': 1.2729576311874131}"
      ]
     },
     "execution_count": 96,
     "metadata": {},
     "output_type": "execute_result"
    }
   ],
   "source": [
    "# Calculate evaluation metrics\n",
    "xgb_best = evaluate_forecast(y_test, forecast_xgb_best)\n",
    "\n",
    "xgb_best"
   ]
  },
  {
   "cell_type": "markdown",
   "id": "3594a6c1",
   "metadata": {},
   "source": [
    "### Trying to make future predictions on actual kaggle supplied test set"
   ]
  },
  {
   "cell_type": "code",
   "execution_count": 97,
   "id": "fa1caa05",
   "metadata": {},
   "outputs": [
    {
     "data": {
      "text/html": [
       "<div>\n",
       "<style scoped>\n",
       "    .dataframe tbody tr th:only-of-type {\n",
       "        vertical-align: middle;\n",
       "    }\n",
       "\n",
       "    .dataframe tbody tr th {\n",
       "        vertical-align: top;\n",
       "    }\n",
       "\n",
       "    .dataframe thead th {\n",
       "        text-align: right;\n",
       "    }\n",
       "</style>\n",
       "<table border=\"1\" class=\"dataframe\">\n",
       "  <thead>\n",
       "    <tr style=\"text-align: right;\">\n",
       "      <th></th>\n",
       "      <th>id</th>\n",
       "      <th>date</th>\n",
       "      <th>store_nbr</th>\n",
       "      <th>sales</th>\n",
       "      <th>onpromotion</th>\n",
       "      <th>cluster</th>\n",
       "      <th>familycluster</th>\n",
       "      <th>day_of_week</th>\n",
       "      <th>month</th>\n",
       "      <th>year</th>\n",
       "      <th>...</th>\n",
       "      <th>family_MAGAZINES</th>\n",
       "      <th>family_MEATS</th>\n",
       "      <th>family_PERSONAL CARE</th>\n",
       "      <th>family_PET SUPPLIES</th>\n",
       "      <th>family_PLAYERS AND ELECTRONICS</th>\n",
       "      <th>family_POULTRY</th>\n",
       "      <th>family_PREPARED FOODS</th>\n",
       "      <th>family_PRODUCE</th>\n",
       "      <th>family_SCHOOL AND OFFICE SUPPLIES</th>\n",
       "      <th>family_SEAFOOD</th>\n",
       "    </tr>\n",
       "  </thead>\n",
       "  <tbody>\n",
       "    <tr>\n",
       "      <th>0</th>\n",
       "      <td>2438817</td>\n",
       "      <td>2016-10-03</td>\n",
       "      <td>38</td>\n",
       "      <td>377.0</td>\n",
       "      <td>0.010796</td>\n",
       "      <td>4</td>\n",
       "      <td>0</td>\n",
       "      <td>0</td>\n",
       "      <td>10</td>\n",
       "      <td>2016</td>\n",
       "      <td>...</td>\n",
       "      <td>0.0</td>\n",
       "      <td>0.0</td>\n",
       "      <td>0.0</td>\n",
       "      <td>0.0</td>\n",
       "      <td>0.0</td>\n",
       "      <td>0.0</td>\n",
       "      <td>0.0</td>\n",
       "      <td>0.0</td>\n",
       "      <td>0.0</td>\n",
       "      <td>0.0</td>\n",
       "    </tr>\n",
       "    <tr>\n",
       "      <th>1</th>\n",
       "      <td>2438818</td>\n",
       "      <td>2016-10-03</td>\n",
       "      <td>38</td>\n",
       "      <td>25.0</td>\n",
       "      <td>0.000000</td>\n",
       "      <td>4</td>\n",
       "      <td>0</td>\n",
       "      <td>0</td>\n",
       "      <td>10</td>\n",
       "      <td>2016</td>\n",
       "      <td>...</td>\n",
       "      <td>0.0</td>\n",
       "      <td>0.0</td>\n",
       "      <td>0.0</td>\n",
       "      <td>0.0</td>\n",
       "      <td>0.0</td>\n",
       "      <td>0.0</td>\n",
       "      <td>0.0</td>\n",
       "      <td>0.0</td>\n",
       "      <td>0.0</td>\n",
       "      <td>0.0</td>\n",
       "    </tr>\n",
       "    <tr>\n",
       "      <th>2</th>\n",
       "      <td>2438819</td>\n",
       "      <td>2016-10-03</td>\n",
       "      <td>38</td>\n",
       "      <td>0.0</td>\n",
       "      <td>0.000000</td>\n",
       "      <td>4</td>\n",
       "      <td>5</td>\n",
       "      <td>0</td>\n",
       "      <td>10</td>\n",
       "      <td>2016</td>\n",
       "      <td>...</td>\n",
       "      <td>0.0</td>\n",
       "      <td>0.0</td>\n",
       "      <td>0.0</td>\n",
       "      <td>0.0</td>\n",
       "      <td>0.0</td>\n",
       "      <td>0.0</td>\n",
       "      <td>0.0</td>\n",
       "      <td>0.0</td>\n",
       "      <td>0.0</td>\n",
       "      <td>0.0</td>\n",
       "    </tr>\n",
       "  </tbody>\n",
       "</table>\n",
       "<p>3 rows × 60 columns</p>\n",
       "</div>"
      ],
      "text/plain": [
       "        id       date  store_nbr  sales  onpromotion  cluster  familycluster  \\\n",
       "0  2438817 2016-10-03         38  377.0     0.010796        4              0   \n",
       "1  2438818 2016-10-03         38   25.0     0.000000        4              0   \n",
       "2  2438819 2016-10-03         38    0.0     0.000000        4              5   \n",
       "\n",
       "   day_of_week  month  year  ...  family_MAGAZINES  family_MEATS  \\\n",
       "0            0     10  2016  ...               0.0           0.0   \n",
       "1            0     10  2016  ...               0.0           0.0   \n",
       "2            0     10  2016  ...               0.0           0.0   \n",
       "\n",
       "   family_PERSONAL CARE  family_PET SUPPLIES  family_PLAYERS AND ELECTRONICS  \\\n",
       "0                   0.0                  0.0                             0.0   \n",
       "1                   0.0                  0.0                             0.0   \n",
       "2                   0.0                  0.0                             0.0   \n",
       "\n",
       "   family_POULTRY  family_PREPARED FOODS  family_PRODUCE  \\\n",
       "0             0.0                    0.0             0.0   \n",
       "1             0.0                    0.0             0.0   \n",
       "2             0.0                    0.0             0.0   \n",
       "\n",
       "   family_SCHOOL AND OFFICE SUPPLIES  family_SEAFOOD  \n",
       "0                                0.0             0.0  \n",
       "1                                0.0             0.0  \n",
       "2                                0.0             0.0  \n",
       "\n",
       "[3 rows x 60 columns]"
      ]
     },
     "execution_count": 97,
     "metadata": {},
     "output_type": "execute_result"
    }
   ],
   "source": [
    "df_test.head(3)"
   ]
  },
  {
   "cell_type": "markdown",
   "id": "3888821e",
   "metadata": {},
   "source": [
    "Need to start by doing the same pre processing steps"
   ]
  },
  {
   "cell_type": "code",
   "execution_count": 98,
   "id": "069b2631",
   "metadata": {},
   "outputs": [],
   "source": [
    "test_aggregated = df_test.copy()"
   ]
  },
  {
   "cell_type": "code",
   "execution_count": 99,
   "id": "6b2adffa",
   "metadata": {},
   "outputs": [],
   "source": [
    "test_aggregated['date'] = pd.to_datetime(test_aggregated['date'])"
   ]
  },
  {
   "cell_type": "code",
   "execution_count": 100,
   "id": "8004e169",
   "metadata": {},
   "outputs": [
    {
     "data": {
      "text/html": [
       "<div>\n",
       "<style scoped>\n",
       "    .dataframe tbody tr th:only-of-type {\n",
       "        vertical-align: middle;\n",
       "    }\n",
       "\n",
       "    .dataframe tbody tr th {\n",
       "        vertical-align: top;\n",
       "    }\n",
       "\n",
       "    .dataframe thead th {\n",
       "        text-align: right;\n",
       "    }\n",
       "</style>\n",
       "<table border=\"1\" class=\"dataframe\">\n",
       "  <thead>\n",
       "    <tr style=\"text-align: right;\">\n",
       "      <th></th>\n",
       "      <th>id</th>\n",
       "      <th>date</th>\n",
       "      <th>store_nbr</th>\n",
       "      <th>sales</th>\n",
       "      <th>onpromotion</th>\n",
       "      <th>cluster</th>\n",
       "      <th>familycluster</th>\n",
       "      <th>day_of_week</th>\n",
       "      <th>month</th>\n",
       "      <th>year</th>\n",
       "      <th>...</th>\n",
       "      <th>family_MAGAZINES</th>\n",
       "      <th>family_MEATS</th>\n",
       "      <th>family_PERSONAL CARE</th>\n",
       "      <th>family_PET SUPPLIES</th>\n",
       "      <th>family_PLAYERS AND ELECTRONICS</th>\n",
       "      <th>family_POULTRY</th>\n",
       "      <th>family_PREPARED FOODS</th>\n",
       "      <th>family_PRODUCE</th>\n",
       "      <th>family_SCHOOL AND OFFICE SUPPLIES</th>\n",
       "      <th>family_SEAFOOD</th>\n",
       "    </tr>\n",
       "  </thead>\n",
       "  <tbody>\n",
       "    <tr>\n",
       "      <th>0</th>\n",
       "      <td>2438817</td>\n",
       "      <td>2016-10-03</td>\n",
       "      <td>38</td>\n",
       "      <td>377.0</td>\n",
       "      <td>0.010796</td>\n",
       "      <td>4</td>\n",
       "      <td>0</td>\n",
       "      <td>0</td>\n",
       "      <td>10</td>\n",
       "      <td>2016</td>\n",
       "      <td>...</td>\n",
       "      <td>0.0</td>\n",
       "      <td>0.0</td>\n",
       "      <td>0.0</td>\n",
       "      <td>0.0</td>\n",
       "      <td>0.0</td>\n",
       "      <td>0.0</td>\n",
       "      <td>0.0</td>\n",
       "      <td>0.0</td>\n",
       "      <td>0.0</td>\n",
       "      <td>0.0</td>\n",
       "    </tr>\n",
       "    <tr>\n",
       "      <th>1</th>\n",
       "      <td>2438818</td>\n",
       "      <td>2016-10-03</td>\n",
       "      <td>38</td>\n",
       "      <td>25.0</td>\n",
       "      <td>0.000000</td>\n",
       "      <td>4</td>\n",
       "      <td>0</td>\n",
       "      <td>0</td>\n",
       "      <td>10</td>\n",
       "      <td>2016</td>\n",
       "      <td>...</td>\n",
       "      <td>0.0</td>\n",
       "      <td>0.0</td>\n",
       "      <td>0.0</td>\n",
       "      <td>0.0</td>\n",
       "      <td>0.0</td>\n",
       "      <td>0.0</td>\n",
       "      <td>0.0</td>\n",
       "      <td>0.0</td>\n",
       "      <td>0.0</td>\n",
       "      <td>0.0</td>\n",
       "    </tr>\n",
       "    <tr>\n",
       "      <th>2</th>\n",
       "      <td>2438819</td>\n",
       "      <td>2016-10-03</td>\n",
       "      <td>38</td>\n",
       "      <td>0.0</td>\n",
       "      <td>0.000000</td>\n",
       "      <td>4</td>\n",
       "      <td>5</td>\n",
       "      <td>0</td>\n",
       "      <td>10</td>\n",
       "      <td>2016</td>\n",
       "      <td>...</td>\n",
       "      <td>0.0</td>\n",
       "      <td>0.0</td>\n",
       "      <td>0.0</td>\n",
       "      <td>0.0</td>\n",
       "      <td>0.0</td>\n",
       "      <td>0.0</td>\n",
       "      <td>0.0</td>\n",
       "      <td>0.0</td>\n",
       "      <td>0.0</td>\n",
       "      <td>0.0</td>\n",
       "    </tr>\n",
       "    <tr>\n",
       "      <th>3</th>\n",
       "      <td>2438820</td>\n",
       "      <td>2016-10-03</td>\n",
       "      <td>38</td>\n",
       "      <td>6.0</td>\n",
       "      <td>0.000000</td>\n",
       "      <td>4</td>\n",
       "      <td>2</td>\n",
       "      <td>0</td>\n",
       "      <td>10</td>\n",
       "      <td>2016</td>\n",
       "      <td>...</td>\n",
       "      <td>0.0</td>\n",
       "      <td>0.0</td>\n",
       "      <td>0.0</td>\n",
       "      <td>0.0</td>\n",
       "      <td>0.0</td>\n",
       "      <td>0.0</td>\n",
       "      <td>0.0</td>\n",
       "      <td>0.0</td>\n",
       "      <td>0.0</td>\n",
       "      <td>0.0</td>\n",
       "    </tr>\n",
       "    <tr>\n",
       "      <th>4</th>\n",
       "      <td>2438821</td>\n",
       "      <td>2016-10-03</td>\n",
       "      <td>38</td>\n",
       "      <td>44.0</td>\n",
       "      <td>0.000000</td>\n",
       "      <td>4</td>\n",
       "      <td>1</td>\n",
       "      <td>0</td>\n",
       "      <td>10</td>\n",
       "      <td>2016</td>\n",
       "      <td>...</td>\n",
       "      <td>0.0</td>\n",
       "      <td>0.0</td>\n",
       "      <td>0.0</td>\n",
       "      <td>0.0</td>\n",
       "      <td>0.0</td>\n",
       "      <td>0.0</td>\n",
       "      <td>0.0</td>\n",
       "      <td>0.0</td>\n",
       "      <td>0.0</td>\n",
       "      <td>0.0</td>\n",
       "    </tr>\n",
       "  </tbody>\n",
       "</table>\n",
       "<p>5 rows × 60 columns</p>\n",
       "</div>"
      ],
      "text/plain": [
       "        id       date  store_nbr  sales  onpromotion  cluster  familycluster  \\\n",
       "0  2438817 2016-10-03         38  377.0     0.010796        4              0   \n",
       "1  2438818 2016-10-03         38   25.0     0.000000        4              0   \n",
       "2  2438819 2016-10-03         38    0.0     0.000000        4              5   \n",
       "3  2438820 2016-10-03         38    6.0     0.000000        4              2   \n",
       "4  2438821 2016-10-03         38   44.0     0.000000        4              1   \n",
       "\n",
       "   day_of_week  month  year  ...  family_MAGAZINES  family_MEATS  \\\n",
       "0            0     10  2016  ...               0.0           0.0   \n",
       "1            0     10  2016  ...               0.0           0.0   \n",
       "2            0     10  2016  ...               0.0           0.0   \n",
       "3            0     10  2016  ...               0.0           0.0   \n",
       "4            0     10  2016  ...               0.0           0.0   \n",
       "\n",
       "   family_PERSONAL CARE  family_PET SUPPLIES  family_PLAYERS AND ELECTRONICS  \\\n",
       "0                   0.0                  0.0                             0.0   \n",
       "1                   0.0                  0.0                             0.0   \n",
       "2                   0.0                  0.0                             0.0   \n",
       "3                   0.0                  0.0                             0.0   \n",
       "4                   0.0                  0.0                             0.0   \n",
       "\n",
       "   family_POULTRY  family_PREPARED FOODS  family_PRODUCE  \\\n",
       "0             0.0                    0.0             0.0   \n",
       "1             0.0                    0.0             0.0   \n",
       "2             0.0                    0.0             0.0   \n",
       "3             0.0                    0.0             0.0   \n",
       "4             0.0                    0.0             0.0   \n",
       "\n",
       "   family_SCHOOL AND OFFICE SUPPLIES  family_SEAFOOD  \n",
       "0                                0.0             0.0  \n",
       "1                                0.0             0.0  \n",
       "2                                0.0             0.0  \n",
       "3                                0.0             0.0  \n",
       "4                                0.0             0.0  \n",
       "\n",
       "[5 rows x 60 columns]"
      ]
     },
     "execution_count": 100,
     "metadata": {},
     "output_type": "execute_result"
    }
   ],
   "source": [
    "test_aggregated.head(5)"
   ]
  },
  {
   "cell_type": "code",
   "execution_count": 101,
   "id": "e683bad9",
   "metadata": {},
   "outputs": [],
   "source": [
    "# Get the day of the week feature and add it\n",
    "test_aggregated['day_of_week'] = test_aggregated['date'].dt.dayofweek"
   ]
  },
  {
   "cell_type": "code",
   "execution_count": 102,
   "id": "5b864d92",
   "metadata": {},
   "outputs": [],
   "source": [
    "# The lag cannot be computed here because there is no previous data\n",
    "test_aggregated['lag_1'] = 0\n",
    "\n",
    "# Same applies to the rolling mean\n",
    "test_aggregated['rolling_mean'] = 0"
   ]
  },
  {
   "cell_type": "code",
   "execution_count": 103,
   "id": "79bf8eae",
   "metadata": {},
   "outputs": [
    {
     "ename": "KeyError",
     "evalue": "'family'",
     "output_type": "error",
     "traceback": [
      "\u001b[1;31m---------------------------------------------------------------------------\u001b[0m",
      "\u001b[1;31mKeyError\u001b[0m                                  Traceback (most recent call last)",
      "File \u001b[1;32m~\\venv2\\lib\\site-packages\\pandas\\core\\indexes\\base.py:3790\u001b[0m, in \u001b[0;36mIndex.get_loc\u001b[1;34m(self, key)\u001b[0m\n\u001b[0;32m   3789\u001b[0m \u001b[38;5;28;01mtry\u001b[39;00m:\n\u001b[1;32m-> 3790\u001b[0m     \u001b[38;5;28;01mreturn\u001b[39;00m \u001b[38;5;28;43mself\u001b[39;49m\u001b[38;5;241;43m.\u001b[39;49m\u001b[43m_engine\u001b[49m\u001b[38;5;241;43m.\u001b[39;49m\u001b[43mget_loc\u001b[49m\u001b[43m(\u001b[49m\u001b[43mcasted_key\u001b[49m\u001b[43m)\u001b[49m\n\u001b[0;32m   3791\u001b[0m \u001b[38;5;28;01mexcept\u001b[39;00m \u001b[38;5;167;01mKeyError\u001b[39;00m \u001b[38;5;28;01mas\u001b[39;00m err:\n",
      "File \u001b[1;32mindex.pyx:152\u001b[0m, in \u001b[0;36mpandas._libs.index.IndexEngine.get_loc\u001b[1;34m()\u001b[0m\n",
      "File \u001b[1;32mindex.pyx:181\u001b[0m, in \u001b[0;36mpandas._libs.index.IndexEngine.get_loc\u001b[1;34m()\u001b[0m\n",
      "File \u001b[1;32mpandas\\_libs\\hashtable_class_helper.pxi:7080\u001b[0m, in \u001b[0;36mpandas._libs.hashtable.PyObjectHashTable.get_item\u001b[1;34m()\u001b[0m\n",
      "File \u001b[1;32mpandas\\_libs\\hashtable_class_helper.pxi:7088\u001b[0m, in \u001b[0;36mpandas._libs.hashtable.PyObjectHashTable.get_item\u001b[1;34m()\u001b[0m\n",
      "\u001b[1;31mKeyError\u001b[0m: 'family'",
      "\nThe above exception was the direct cause of the following exception:\n",
      "\u001b[1;31mKeyError\u001b[0m                                  Traceback (most recent call last)",
      "Cell \u001b[1;32mIn[103], line 2\u001b[0m\n\u001b[0;32m      1\u001b[0m \u001b[38;5;66;03m# Apply the preprocessing steps done with the train on the test too\u001b[39;00m\n\u001b[1;32m----> 2\u001b[0m df_test_dummies \u001b[38;5;241m=\u001b[39m pd\u001b[38;5;241m.\u001b[39mget_dummies(\u001b[43mtest_aggregated\u001b[49m\u001b[43m[\u001b[49m\u001b[38;5;124;43m'\u001b[39;49m\u001b[38;5;124;43mfamily\u001b[39;49m\u001b[38;5;124;43m'\u001b[39;49m\u001b[43m]\u001b[49m, drop_first\u001b[38;5;241m=\u001b[39m\u001b[38;5;28;01mTrue\u001b[39;00m, prefix\u001b[38;5;241m=\u001b[39m\u001b[38;5;124m'\u001b[39m\u001b[38;5;124mfamily\u001b[39m\u001b[38;5;124m'\u001b[39m)\n\u001b[0;32m      4\u001b[0m \u001b[38;5;66;03m# Apply to concatenate the dummies\u001b[39;00m\n\u001b[0;32m      5\u001b[0m test_aggregated \u001b[38;5;241m=\u001b[39m pd\u001b[38;5;241m.\u001b[39mconcat([test_aggregated, df_test_dummies], axis\u001b[38;5;241m=\u001b[39m\u001b[38;5;241m1\u001b[39m)\n",
      "File \u001b[1;32m~\\venv2\\lib\\site-packages\\pandas\\core\\frame.py:3893\u001b[0m, in \u001b[0;36mDataFrame.__getitem__\u001b[1;34m(self, key)\u001b[0m\n\u001b[0;32m   3891\u001b[0m \u001b[38;5;28;01mif\u001b[39;00m \u001b[38;5;28mself\u001b[39m\u001b[38;5;241m.\u001b[39mcolumns\u001b[38;5;241m.\u001b[39mnlevels \u001b[38;5;241m>\u001b[39m \u001b[38;5;241m1\u001b[39m:\n\u001b[0;32m   3892\u001b[0m     \u001b[38;5;28;01mreturn\u001b[39;00m \u001b[38;5;28mself\u001b[39m\u001b[38;5;241m.\u001b[39m_getitem_multilevel(key)\n\u001b[1;32m-> 3893\u001b[0m indexer \u001b[38;5;241m=\u001b[39m \u001b[38;5;28;43mself\u001b[39;49m\u001b[38;5;241;43m.\u001b[39;49m\u001b[43mcolumns\u001b[49m\u001b[38;5;241;43m.\u001b[39;49m\u001b[43mget_loc\u001b[49m\u001b[43m(\u001b[49m\u001b[43mkey\u001b[49m\u001b[43m)\u001b[49m\n\u001b[0;32m   3894\u001b[0m \u001b[38;5;28;01mif\u001b[39;00m is_integer(indexer):\n\u001b[0;32m   3895\u001b[0m     indexer \u001b[38;5;241m=\u001b[39m [indexer]\n",
      "File \u001b[1;32m~\\venv2\\lib\\site-packages\\pandas\\core\\indexes\\base.py:3797\u001b[0m, in \u001b[0;36mIndex.get_loc\u001b[1;34m(self, key)\u001b[0m\n\u001b[0;32m   3792\u001b[0m     \u001b[38;5;28;01mif\u001b[39;00m \u001b[38;5;28misinstance\u001b[39m(casted_key, \u001b[38;5;28mslice\u001b[39m) \u001b[38;5;129;01mor\u001b[39;00m (\n\u001b[0;32m   3793\u001b[0m         \u001b[38;5;28misinstance\u001b[39m(casted_key, abc\u001b[38;5;241m.\u001b[39mIterable)\n\u001b[0;32m   3794\u001b[0m         \u001b[38;5;129;01mand\u001b[39;00m \u001b[38;5;28many\u001b[39m(\u001b[38;5;28misinstance\u001b[39m(x, \u001b[38;5;28mslice\u001b[39m) \u001b[38;5;28;01mfor\u001b[39;00m x \u001b[38;5;129;01min\u001b[39;00m casted_key)\n\u001b[0;32m   3795\u001b[0m     ):\n\u001b[0;32m   3796\u001b[0m         \u001b[38;5;28;01mraise\u001b[39;00m InvalidIndexError(key)\n\u001b[1;32m-> 3797\u001b[0m     \u001b[38;5;28;01mraise\u001b[39;00m \u001b[38;5;167;01mKeyError\u001b[39;00m(key) \u001b[38;5;28;01mfrom\u001b[39;00m \u001b[38;5;21;01merr\u001b[39;00m\n\u001b[0;32m   3798\u001b[0m \u001b[38;5;28;01mexcept\u001b[39;00m \u001b[38;5;167;01mTypeError\u001b[39;00m:\n\u001b[0;32m   3799\u001b[0m     \u001b[38;5;66;03m# If we have a listlike key, _check_indexing_error will raise\u001b[39;00m\n\u001b[0;32m   3800\u001b[0m     \u001b[38;5;66;03m#  InvalidIndexError. Otherwise we fall through and re-raise\u001b[39;00m\n\u001b[0;32m   3801\u001b[0m     \u001b[38;5;66;03m#  the TypeError.\u001b[39;00m\n\u001b[0;32m   3802\u001b[0m     \u001b[38;5;28mself\u001b[39m\u001b[38;5;241m.\u001b[39m_check_indexing_error(key)\n",
      "\u001b[1;31mKeyError\u001b[0m: 'family'"
     ]
    }
   ],
   "source": [
    "# Apply the preprocessing steps done with the train on the test too\n",
    "df_test_dummies = pd.get_dummies(test_aggregated['family'], drop_first=True, prefix='family')\n",
    "\n",
    "# Apply to concatenate the dummies\n",
    "test_aggregated = pd.concat([test_aggregated, df_test_dummies], axis=1)\n",
    "\n",
    "# Drop the family column as it has already been processed\n",
    "test_aggregated.drop('family', axis=1, inplace=True)"
   ]
  },
  {
   "cell_type": "code",
   "execution_count": null,
   "id": "19f361aa",
   "metadata": {},
   "outputs": [],
   "source": [
    "#  Apply the scaling\n",
    "columns_to_scale_test = ['onpromotion', 'day_of_week', 'lag_1', 'rolling_mean'] + list(df_test_dummies.columns)\n",
    "\n",
    "min_max_scaler = MinMaxScaler()\n",
    "min_max_scaler.fit(df_family_aggregated[columns_to_scale_test])\n",
    "\n",
    "# Now, use this new scaler to transform the test set\n",
    "test_aggregated[columns_to_scale_test] = min_max_scaler.transform(test_aggregated[columns_to_scale_test])\n",
    "\n",
    "# Sort the values by date\n",
    "test_aggregated = test_aggregated.sort_values('date')"
   ]
  },
  {
   "cell_type": "code",
   "execution_count": null,
   "id": "241dc391",
   "metadata": {},
   "outputs": [],
   "source": [
    "test_aggregated.drop(columns=['date'], inplace=True)"
   ]
  },
  {
   "cell_type": "code",
   "execution_count": null,
   "id": "3112cb23",
   "metadata": {},
   "outputs": [],
   "source": [
    "test_aggregated.head(3)"
   ]
  },
  {
   "cell_type": "code",
   "execution_count": null,
   "id": "48e14502",
   "metadata": {},
   "outputs": [],
   "source": [
    "# Features to use to forecast\n",
    "\n",
    "# X_train features \n",
    "X_train_features = X_train.columns.to_list()\n",
    "\n",
    "# Values to forecast\n",
    "X_test_to_forecast = test_aggregated[X_train_features]"
   ]
  },
  {
   "cell_type": "code",
   "execution_count": null,
   "id": "9afd13e0",
   "metadata": {},
   "outputs": [],
   "source": [
    "# Apply the best model to forecast\n",
    "forecast = model_xgb.predict(X_test_to_forecast)"
   ]
  },
  {
   "cell_type": "code",
   "execution_count": null,
   "id": "0f0f4b68",
   "metadata": {},
   "outputs": [],
   "source": [
    "len(forecast)"
   ]
  },
  {
   "cell_type": "code",
   "execution_count": null,
   "id": "42ffe578",
   "metadata": {},
   "outputs": [],
   "source": [
    "test_aggregated['sales'] = forecast"
   ]
  },
  {
   "cell_type": "code",
   "execution_count": null,
   "id": "0e68a2bc",
   "metadata": {},
   "outputs": [],
   "source": [
    "test_aggregated = test_aggregated.sort_values('id')"
   ]
  },
  {
   "cell_type": "code",
   "execution_count": null,
   "id": "427fb9e5",
   "metadata": {},
   "outputs": [],
   "source": [
    "test_aggregated.columns.tolist()"
   ]
  },
  {
   "cell_type": "code",
   "execution_count": null,
   "id": "36249b0b",
   "metadata": {},
   "outputs": [],
   "source": [
    "df_sample_sub = pd.read_csv(os.path.join(path, 'sample_submission.csv'))"
   ]
  },
  {
   "cell_type": "code",
   "execution_count": null,
   "id": "1394586e",
   "metadata": {},
   "outputs": [],
   "source": [
    "df_sample_sub['sales'] = test_aggregated['sales']"
   ]
  },
  {
   "cell_type": "code",
   "execution_count": null,
   "id": "a76b2d88",
   "metadata": {},
   "outputs": [],
   "source": [
    "df_sample_sub.loc[df_sample_sub['sales'] < 0, 'sales'] = 0"
   ]
  },
  {
   "cell_type": "code",
   "execution_count": null,
   "id": "8a79b514",
   "metadata": {},
   "outputs": [],
   "source": [
    "df_sample_sub.head()"
   ]
  },
  {
   "cell_type": "code",
   "execution_count": null,
   "id": "c0953d34",
   "metadata": {},
   "outputs": [],
   "source": [
    "df_sample_sub.to_csv('submission225.csv', index=False)"
   ]
  },
  {
   "cell_type": "markdown",
   "id": "cefb2659",
   "metadata": {},
   "source": [
    "# Trying to reproduce results with FE data"
   ]
  },
  {
   "cell_type": "code",
   "execution_count": null,
   "id": "78a09c85",
   "metadata": {},
   "outputs": [],
   "source": [
    "df_train.columns.tolist()"
   ]
  },
  {
   "cell_type": "code",
   "execution_count": null,
   "id": "a74fde5e",
   "metadata": {},
   "outputs": [],
   "source": [
    "df_test = pd.read_pickle('df_test.pkl')\n",
    "df_train = pd.read_pickle('df_train.pkl')\n",
    "df_val = pd.read_pickle('df_val.pkl')"
   ]
  },
  {
   "cell_type": "code",
   "execution_count": null,
   "id": "ab224cc5",
   "metadata": {},
   "outputs": [],
   "source": [
    "# Set up training set\n",
    "X_train = df_train.drop(columns=['sales', 'date'])\n",
    "y_train = df_train['sales']"
   ]
  },
  {
   "cell_type": "code",
   "execution_count": null,
   "id": "4a8c356a",
   "metadata": {},
   "outputs": [],
   "source": [
    "# Set up test set\n",
    "X_test = df_test.drop(columns=['sales', 'date'])\n",
    "y_test = df_test['sales']"
   ]
  },
  {
   "cell_type": "code",
   "execution_count": null,
   "id": "3655d98c",
   "metadata": {},
   "outputs": [],
   "source": [
    "# Define xgboost\n",
    "model_xgb = xgb.XGBRegressor(objective='reg:squarederror')\n",
    "\n",
    "# Fit model\n",
    "model_xgb.fit(X_train, y_train)\n",
    "\n",
    "# Predict\n",
    "forecast_xgb = model_xgb.predict(X_test)"
   ]
  },
  {
   "cell_type": "code",
   "execution_count": null,
   "id": "3502964c",
   "metadata": {},
   "outputs": [],
   "source": [
    "# Metrics \n",
    "xgboost_metrics = evaluate_forecast(y_test, forecast_xgb)\n",
    "\n",
    "xgboost_metrics"
   ]
  },
  {
   "cell_type": "code",
   "execution_count": null,
   "id": "1462dcc1",
   "metadata": {},
   "outputs": [],
   "source": []
  }
 ],
 "metadata": {
  "kernelspec": {
   "display_name": "Python 3 (ipykernel)",
   "language": "python",
   "name": "python3"
  },
  "language_info": {
   "codemirror_mode": {
    "name": "ipython",
    "version": 3
   },
   "file_extension": ".py",
   "mimetype": "text/x-python",
   "name": "python",
   "nbconvert_exporter": "python",
   "pygments_lexer": "ipython3",
   "version": "3.10.11"
  }
 },
 "nbformat": 4,
 "nbformat_minor": 5
}
