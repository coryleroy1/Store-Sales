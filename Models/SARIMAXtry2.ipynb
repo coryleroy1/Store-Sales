{
 "cells": [
  {
   "cell_type": "code",
   "execution_count": 1,
   "id": "1eda8177",
   "metadata": {},
   "outputs": [],
   "source": [
    "# Connect to server\n",
    "#import pyodbc\n",
    "#from dotenv import dotenv_values\n",
    "\n",
    "# Datetime\n",
    "from datetime import datetime\n",
    "\n",
    "# Data manipulation\n",
    "import numpy as np\n",
    "import pandas as pd\n",
    "\n",
    "# Visualization\n",
    "import matplotlib.pyplot as plt\n",
    "import plotly.graph_objects as go\n",
    "import plotly.express as px\n",
    "from plotly.subplots import make_subplots\n",
    "import seaborn as sns\n",
    "import missingno as msno\n",
    "\n",
    "# Decomposition\n",
    "from statsmodels.tsa.seasonal import seasonal_decompose\n",
    "\n",
    "# Statistical Analysis\n",
    "import scipy.stats as stats\n",
    "from statsmodels.stats.weightstats import ttest_ind\n",
    "import statsmodels.api as sm\n",
    "from pmdarima.arima import CHTest, nsdiffs\n",
    "from pmdarima.arima import auto_arima\n",
    "#from arch.unitroot import ADF, KPSS\n",
    "from statsmodels.stats.diagnostic import acorr_ljungbox\n",
    "#import phik\n",
    "from statsmodels.tsa.arima.model import ARIMA\n",
    "from statsmodels.tsa.statespace.sarimax import SARIMAX\n",
    "from statsmodels.tsa.holtwinters import ExponentialSmoothing\n",
    "from statsmodels.tsa.stattools import adfuller\n",
    "\n",
    "# Machine Learning Modeling\n",
    "from sklearn.preprocessing import StandardScaler, MinMaxScaler\n",
    "from sklearn.compose import ColumnTransformer\n",
    "from sklearn.linear_model import LinearRegression\n",
    "from sklearn.model_selection import RandomizedSearchCV\n",
    "#import xgboost as xgb\n",
    "from sklearn.metrics import mean_squared_error\n",
    "import joblib\n",
    "from sklearn.pipeline import Pipeline\n",
    "\n",
    "import os\n",
    "\n",
    "import random\n",
    "\n",
    "import warnings\n",
    "import time\n",
    "\n",
    "# ignore warnings\n",
    "warnings.filterwarnings('ignore')\n",
    "\n",
    "from pathlib import Path, PureWindowsPath"
   ]
  },
  {
   "cell_type": "code",
   "execution_count": 2,
   "id": "10621111-ed45-40b4-beb8-7634047fe9a4",
   "metadata": {},
   "outputs": [],
   "source": [
    "#! pip install missingno\n",
    "#! pip install pmdarima"
   ]
  },
  {
   "cell_type": "markdown",
   "id": "c67ef79e",
   "metadata": {},
   "source": [
    "### Import data"
   ]
  },
  {
   "cell_type": "code",
   "execution_count": 3,
   "id": "13bda86b-5def-4708-b410-65d53a848eaa",
   "metadata": {},
   "outputs": [],
   "source": [
    "path_cwd = Path(PureWindowsPath(os.path.dirname(os.getcwd())))\n",
    "path_cwd\n",
    "path = path_cwd / 'data/processed/'"
   ]
  },
  {
   "cell_type": "code",
   "execution_count": null,
   "id": "5feb5200-b9c6-4ef8-bf81-06c2c119e15d",
   "metadata": {},
   "outputs": [],
   "source": []
  },
  {
   "cell_type": "code",
   "execution_count": 4,
   "id": "645a5ff8-6d23-4eb8-bf1b-7ecb92da0d69",
   "metadata": {},
   "outputs": [],
   "source": [
    "train_data = pd.read_pickle(path / 'df_train.pkl')\n",
    "val_data = pd.read_pickle(path / 'df_val.pkl')\n",
    "test_data = pd.read_pickle(path / 'df_test.pkl')"
   ]
  },
  {
   "cell_type": "code",
   "execution_count": 5,
   "id": "942b5ae2-71bb-410b-ac71-c325ce026a49",
   "metadata": {},
   "outputs": [
    {
     "data": {
      "text/plain": [
       "Index(['id', 'date', 'store_nbr', 'family', 'sales', 'onpromotion', 'cluster',\n",
       "       'day_of_week', 'month', 'year', 'oil_price', 'familycluster',\n",
       "       'holiday_Carnaval', 'holiday_Dia de la Madre',\n",
       "       'holiday_Dia del Trabajo', 'holiday_Fundacion de Quito',\n",
       "       'holiday_Independencia de Cuenca',\n",
       "       'holiday_Mundial de futbol Brasil: Ecuador-Suiza', 'holiday_Navidad-1',\n",
       "       'holiday_Navidad-2', 'holiday_Navidad-3', 'holiday_Navidad-4',\n",
       "       'holiday_Primer dia del ano', 'holiday_Terremoto Manabi+1',\n",
       "       'holiday_Terremoto Manabi+2', 'holiday_Terremoto Manabi+3',\n",
       "       'holiday_Terremoto Manabi+4', 'holiday_Terremoto Manabi+5',\n",
       "       'holiday_Traslado Primer dia del ano'],\n",
       "      dtype='object')"
      ]
     },
     "execution_count": 5,
     "metadata": {},
     "output_type": "execute_result"
    }
   ],
   "source": [
    "train_data.columns"
   ]
  },
  {
   "cell_type": "code",
   "execution_count": 6,
   "id": "84f44ff2-23a6-4e4d-99c2-4fcb15f2fcfa",
   "metadata": {},
   "outputs": [
    {
     "data": {
      "text/plain": [
       "array([ 6,  2, 13, 10, 17, 11, 18, 19,  5,  0,  7,  8,  1, 12, 15, 14, 20,\n",
       "        3,  4, 16,  9], dtype=int64)"
      ]
     },
     "execution_count": 6,
     "metadata": {},
     "output_type": "execute_result"
    }
   ],
   "source": [
    "train_data['familycluster'].unique()"
   ]
  },
  {
   "cell_type": "code",
   "execution_count": 7,
   "id": "75d9f948-a75d-427f-9dd5-78fa299502f5",
   "metadata": {},
   "outputs": [
    {
     "data": {
      "text/plain": [
       "0        2016-04-26\n",
       "1        2016-04-26\n",
       "2        2016-04-26\n",
       "3        2016-04-26\n",
       "4        2016-04-26\n",
       "            ...    \n",
       "276564   2016-10-03\n",
       "276565   2016-10-03\n",
       "276566   2016-10-03\n",
       "276567   2016-10-03\n",
       "276568   2016-10-03\n",
       "Name: date, Length: 276569, dtype: datetime64[ns]"
      ]
     },
     "execution_count": 7,
     "metadata": {},
     "output_type": "execute_result"
    }
   ],
   "source": [
    "val_data['date']"
   ]
  },
  {
   "cell_type": "markdown",
   "id": "1a061915",
   "metadata": {},
   "source": [
    "## Modeling ##"
   ]
  },
  {
   "cell_type": "code",
   "execution_count": 8,
   "id": "4227a6b8",
   "metadata": {},
   "outputs": [],
   "source": [
    "# Updated plot_predictions to work with dataframes where the date is not already aggregated\n",
    "# This simply aggregates the dates inside the function\n",
    "def plot_predictions(date, y_test, y_pred, forecast_label, title):\n",
    "    \"\"\"\n",
    "    Plot the actual and predicted time series data.\n",
    "\n",
    "    Parameters:\n",
    "    date (array-like): Date or time index.\n",
    "    y_test (array-like): Actual values.\n",
    "    y_pred (array-like): Predicted values.\n",
    "    forecast_label (str): Label for the forecasted data.\n",
    "    title (str): Title for the plot.\n",
    "    \"\"\"\n",
    "    # Combine the data into a DataFrame\n",
    "    data = pd.DataFrame({'Date': date, 'Actual': y_test, 'Predicted': y_pred})\n",
    "    \n",
    "    # Aggregate the data by date, taking the mean of the values for each day\n",
    "    data = data.groupby('Date').mean().reset_index()\n",
    "    \n",
    "    # Set the custom color palette\n",
    "    custom_palette = sns.color_palette(\"husl\", 2)\n",
    "    sns.set_palette(custom_palette)\n",
    "    \n",
    "    # Create a figure with specified dimensions\n",
    "    plt.figure(figsize=(10, 6))\n",
    "\n",
    "    # Plot the actual data in green\n",
    "    sns.lineplot(data=data, x='Date', y='Actual', label='Actual', color=custom_palette[0])\n",
    "\n",
    "    # Plot the predicted data in blue with the specified label\n",
    "    sns.lineplot(data=data, x='Date', y='Predicted', label=forecast_label, color=custom_palette[1])\n",
    "\n",
    "    # Add a legend to the plot\n",
    "    plt.legend()\n",
    "\n",
    "    # Set the title of the plot\n",
    "    plt.title(title)\n",
    "\n",
    "    # Rotate x-axis labels for better readability\n",
    "    plt.xticks(rotation=45)\n",
    "\n",
    "    # Display the plot\n",
    "    plt.show()"
   ]
  },
  {
   "cell_type": "code",
   "execution_count": 9,
   "id": "a3f08c83",
   "metadata": {},
   "outputs": [],
   "source": [
    "# Define a function to compute the evaluations metrics after the forecast\n",
    "def evaluate_forecast(y_test, forecast):\n",
    "    \"\"\"\n",
    "    Compute MSE, RMSE, and RMSLE for a forecast.\n",
    "\n",
    "    Parameters:\n",
    "    y_test (array-like): Actual values.\n",
    "    forecast (array-like): Predicted values.\n",
    "\n",
    "    Returns:\n",
    "    dict: Dictionary containing MSE, RMSE, and RMSLE.\n",
    "    \"\"\"\n",
    "    def rmsle(predicted, actual):\n",
    "        return np.sqrt(np.mean(np.square(np.log1p(predicted) - np.log1p(actual))))\n",
    "\n",
    "    # Compute Mean Squared Error (MSE)\n",
    "    mse = mean_squared_error(y_test, forecast)\n",
    "    \n",
    "    # Compute Root Mean Squared Error (RMSE)\n",
    "    rmse = np.sqrt(mse)\n",
    "    \n",
    "    # Compute Root Mean Squared Logarithmic Error (RMSLE)\n",
    "    rmsle_value = rmsle(forecast, y_test)\n",
    "    \n",
    "    # Return the evaluation metrics as a dictionary\n",
    "    metrics = {\n",
    "        'MSE': mse,\n",
    "        'RMSE': rmse,\n",
    "        'RMSLE': rmsle_value\n",
    "    }\n",
    "    \n",
    "    return metrics"
   ]
  },
  {
   "cell_type": "code",
   "execution_count": 10,
   "id": "145899ca",
   "metadata": {},
   "outputs": [],
   "source": [
    "# Exogenous variables to help predict sales\n",
    "#ex_variables = ['onpromotion', 'day_of_week', 'lag_1', 'rolling_mean']\n",
    "ex_variables = ['onpromotion', 'day_of_week']"
   ]
  },
  {
   "cell_type": "code",
   "execution_count": null,
   "id": "d52ce732-404c-4686-a085-c077bf169178",
   "metadata": {},
   "outputs": [],
   "source": []
  },
  {
   "cell_type": "code",
   "execution_count": null,
   "id": "ca05f016-a843-4ed3-81df-ba37ec6b7426",
   "metadata": {},
   "outputs": [],
   "source": []
  },
  {
   "cell_type": "code",
   "execution_count": null,
   "id": "a59fb1c2-dc72-4dce-beaf-e1de705552f6",
   "metadata": {},
   "outputs": [],
   "source": []
  },
  {
   "cell_type": "markdown",
   "id": "4d5283b2-533f-4c7e-9a15-16c1f58cf7db",
   "metadata": {},
   "source": [
    "## SARIMA ##"
   ]
  },
  {
   "cell_type": "code",
   "execution_count": 37,
   "id": "00557f07-b9a0-4b47-b837-bdfc22589b53",
   "metadata": {
    "scrolled": true
   },
   "outputs": [
    {
     "data": {
      "text/plain": [
       "Index(['id', 'date', 'store_nbr', 'family', 'sales', 'onpromotion', 'cluster',\n",
       "       'day_of_week', 'month', 'year', 'oil_price', 'familycluster',\n",
       "       'holiday_Carnaval', 'holiday_Dia de la Madre',\n",
       "       'holiday_Dia del Trabajo', 'holiday_Fundacion de Quito',\n",
       "       'holiday_Independencia de Cuenca',\n",
       "       'holiday_Mundial de futbol Brasil: Ecuador-Suiza', 'holiday_Navidad-1',\n",
       "       'holiday_Navidad-2', 'holiday_Navidad-3', 'holiday_Navidad-4',\n",
       "       'holiday_Primer dia del ano', 'holiday_Terremoto Manabi+1',\n",
       "       'holiday_Terremoto Manabi+2', 'holiday_Terremoto Manabi+3',\n",
       "       'holiday_Terremoto Manabi+4', 'holiday_Terremoto Manabi+5',\n",
       "       'holiday_Traslado Primer dia del ano'],\n",
       "      dtype='object')"
      ]
     },
     "execution_count": 37,
     "metadata": {},
     "output_type": "execute_result"
    }
   ],
   "source": [
    "train_data.columns"
   ]
  },
  {
   "cell_type": "code",
   "execution_count": 38,
   "id": "d75c4c3f-92fa-4d9d-b688-4a97b10a1616",
   "metadata": {},
   "outputs": [
    {
     "data": {
      "text/plain": [
       "Timestamp('2016-04-26 00:00:00')"
      ]
     },
     "execution_count": 38,
     "metadata": {},
     "output_type": "execute_result"
    }
   ],
   "source": [
    "train_data['date'].max()"
   ]
  },
  {
   "cell_type": "code",
   "execution_count": 42,
   "id": "cffb0ce0-017e-4aec-9ccf-e2b55b82b7be",
   "metadata": {},
   "outputs": [],
   "source": [
    "#shorten train for testing\n",
    "train_data_sarima = train_data[train_data['date']>'2016-04-01']"
   ]
  },
  {
   "cell_type": "code",
   "execution_count": 43,
   "id": "13858330-2be0-4428-bb25-a869fb92d08f",
   "metadata": {},
   "outputs": [],
   "source": [
    "train_data_sarima = train_data[['date','cluster','familycluster','sales']]"
   ]
  },
  {
   "cell_type": "code",
   "execution_count": 44,
   "id": "3ba899fa-0aa7-4a17-a1bd-23da67827339",
   "metadata": {},
   "outputs": [],
   "source": [
    "#train_data_sarima = train_data_s[train_data_s['date']=='2015-09-01']\n",
    "#train_data_sarima = train_data_s.set_index('date')\n",
    "#val_data_sarima = val_data_s.set_index('date')"
   ]
  },
  {
   "cell_type": "code",
   "execution_count": null,
   "id": "da98fe0b-1bd4-4337-820b-5a1afbe35725",
   "metadata": {},
   "outputs": [],
   "source": []
  },
  {
   "cell_type": "code",
   "execution_count": 45,
   "id": "e758a725-be92-4d29-a424-0163cc7a6882",
   "metadata": {
    "scrolled": true
   },
   "outputs": [],
   "source": [
    "train_data_sarima_exog = train_data_sarima[['familycluster','cluster']]\n",
    "y_train_sarima_endog = train_data_sarima['sales']\n",
    "\n",
    "#val_data_sarima_exog = val_data_sarima[['familycluster','cluster']]\n",
    "#y_val_sarima_endog = val_data_sarima['sales']"
   ]
  },
  {
   "cell_type": "code",
   "execution_count": null,
   "id": "f6ac0e90-331e-43f8-9b2c-64ff65a3d540",
   "metadata": {},
   "outputs": [],
   "source": []
  },
  {
   "cell_type": "markdown",
   "id": "28103f9a-5b61-4588-901c-1d1990b70c43",
   "metadata": {},
   "source": [
    "# Group by date to sum sales. USE IF CANT GET ANYTHING RUNNING\n",
    "\n",
    "ts = train_data_sarima.groupby(train_data_sarima['date'])['sales'].sum()\n",
    "#ts = train_data_sarima.groupby(train_data_sarima.index)['sales'].sum()\n",
    "fig, (ax1,ax2) = plt.subplots(2, 1, figsize=(12,6))\n",
    "\n",
    "# Plot ACF\n",
    "sm.graphics.tsa.plot_acf(ts, lags=40, ax=ax1)\n",
    "ax1.set_title('ACF')\n",
    "\n",
    "# Plot PACF\n",
    "sm.graphics.tsa.plot_pacf(ts, lags=40, ax=ax2)\n",
    "ax2.set_title('PACF')\n",
    "\n",
    "plt.tight_layout(pad=2.0)\n",
    "\n",
    "plt.show()"
   ]
  },
  {
   "cell_type": "markdown",
   "id": "32dfe0e9-476e-4eb4-9d3c-df4e49b5d25c",
   "metadata": {},
   "source": [
    "# auto_arima.  runs into memory error when trying to run. will have to manually find hyperparams\n",
    "start_time = time.time()\n",
    "sarima_model = auto_arima(train_data_sarima['sales']\n",
    "                          #, exogenous=train_data_s[['familycluster', 'onpromotion','holiday']]\n",
    "                          #, exogenous=train_data_s[['familycluster']]\n",
    "                          , start_p=0 , max_p=3, start_P=0 , max_P=3 \n",
    "                          , d=None , D=1 #not sure this is a good value for d\n",
    "                          , start_q=0 , max_q= 3 , start_Q=0 , max_Q=3\n",
    "                          , random=True, n_fits=2\n",
    "                          , seasonal=True, m=12, random_state=21, trace=True )\n",
    "\n",
    "end_time = time.time()\n",
    "elapsed_time = end_time - start_time"
   ]
  },
  {
   "cell_type": "markdown",
   "id": "6b6dce11-b996-419d-9542-c407663bff54",
   "metadata": {},
   "source": [
    "too slow to get results and do not need for model\n",
    "def ad_fuller(timeseries):\n",
    "    print ('Dickey-Fuller Test indicates:')\n",
    "    df_test = adfuller(timeseries, regression='ct', autolag='AIC')\n",
    "    output = pd.Series(df_test[0:4], index=['Test Statistic','p-value','#Lags Used','Number of Observations Used'])\n",
    "    print(output)\n",
    "\n",
    "print(ad_fuller(train_data_s['sales']))"
   ]
  },
  {
   "cell_type": "code",
   "execution_count": null,
   "id": "bacb2581-c2c4-42ad-98bd-eb416f5c6f2d",
   "metadata": {},
   "outputs": [],
   "source": []
  },
  {
   "cell_type": "code",
   "execution_count": 46,
   "id": "1db6529c-5926-4015-bb9e-db0401d0509a",
   "metadata": {},
   "outputs": [],
   "source": [
    "# Define the instance\n",
    "model_sarima = sm.tsa.SARIMAX(endog=y_train_sarima_endog, exog=train_data_sarima_exog, order=(1,1,1), seasonal_order=(1,1,1,12))\n",
    "\n"
   ]
  },
  {
   "cell_type": "code",
   "execution_count": null,
   "id": "3126952f-5ccb-4b2a-a158-2444b40d2c7a",
   "metadata": {},
   "outputs": [],
   "source": [
    "# Fit the model. started at 1:52\n",
    "results_sarima = model_sarima.fit()\n",
    "\n"
   ]
  },
  {
   "cell_type": "code",
   "execution_count": null,
   "id": "317d7d52-49dc-44e1-abd2-57c017db4bd8",
   "metadata": {},
   "outputs": [],
   "source": [
    "# Make predictions\n",
    "forecast_sarima = results_sarima.predict(start=len(train_data_sarima), end=len(train_data_sarima) + len(val_data_sarima) - 1, dynamic=False)"
   ]
  },
  {
   "cell_type": "code",
   "execution_count": null,
   "id": "43bb5f3f-6a6c-4001-adbc-d07d79ef76a4",
   "metadata": {},
   "outputs": [],
   "source": [
    "sarima_metrics = evaluate_forecast(y_val_sarima, forecast_sarima)\n",
    "\n",
    "sarima_metrics"
   ]
  },
  {
   "cell_type": "code",
   "execution_count": null,
   "id": "7b26935c-b451-449f-8a39-b9046dac4528",
   "metadata": {},
   "outputs": [],
   "source": []
  }
 ],
 "metadata": {
  "kernelspec": {
   "display_name": "Python 3 (ipykernel)",
   "language": "python",
   "name": "python3"
  },
  "language_info": {
   "codemirror_mode": {
    "name": "ipython",
    "version": 3
   },
   "file_extension": ".py",
   "mimetype": "text/x-python",
   "name": "python",
   "nbconvert_exporter": "python",
   "pygments_lexer": "ipython3",
   "version": "3.10.11"
  }
 },
 "nbformat": 4,
 "nbformat_minor": 5
}
