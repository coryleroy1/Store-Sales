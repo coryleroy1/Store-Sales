{
 "cells": [
  {
   "cell_type": "code",
   "execution_count": 187,
   "id": "1eda8177",
   "metadata": {},
   "outputs": [],
   "source": [
    "# Connect to server\n",
    "#import pyodbc\n",
    "#from dotenv import dotenv_values\n",
    "\n",
    "# Datetime\n",
    "from datetime import datetime\n",
    "\n",
    "# Data manipulation\n",
    "import numpy as np\n",
    "import pandas as pd\n",
    "\n",
    "# Visualization\n",
    "import matplotlib.pyplot as plt\n",
    "import plotly.graph_objects as go\n",
    "import plotly.express as px\n",
    "from plotly.subplots import make_subplots\n",
    "import seaborn as sns\n",
    "import missingno as msno\n",
    "\n",
    "# Decomposition\n",
    "from statsmodels.tsa.seasonal import seasonal_decompose\n",
    "\n",
    "# Statistical Analysis\n",
    "import scipy.stats as stats\n",
    "from statsmodels.stats.weightstats import ttest_ind\n",
    "import statsmodels.api as sm\n",
    "from pmdarima.arima import CHTest, nsdiffs\n",
    "from pmdarima.arima import auto_arima\n",
    "#from arch.unitroot import ADF, KPSS\n",
    "from statsmodels.stats.diagnostic import acorr_ljungbox\n",
    "#import phik\n",
    "from statsmodels.tsa.arima.model import ARIMA\n",
    "from statsmodels.tsa.statespace.sarimax import SARIMAX\n",
    "from statsmodels.tsa.holtwinters import ExponentialSmoothing\n",
    "from statsmodels.tsa.stattools import adfuller\n",
    "\n",
    "# Machine Learning Modeling\n",
    "from sklearn.preprocessing import StandardScaler, MinMaxScaler\n",
    "from sklearn.compose import ColumnTransformer\n",
    "from sklearn.linear_model import LinearRegression\n",
    "from sklearn.model_selection import RandomizedSearchCV\n",
    "#import xgboost as xgb\n",
    "from sklearn.metrics import mean_squared_error\n",
    "import joblib\n",
    "from sklearn.pipeline import Pipeline\n",
    "\n",
    "import os\n",
    "\n",
    "import random\n",
    "\n",
    "import warnings\n",
    "import time\n",
    "\n",
    "# ignore warnings\n",
    "warnings.filterwarnings('ignore')\n",
    "\n",
    "from pathlib import Path, PureWindowsPath"
   ]
  },
  {
   "cell_type": "code",
   "execution_count": 188,
   "id": "10621111-ed45-40b4-beb8-7634047fe9a4",
   "metadata": {},
   "outputs": [],
   "source": [
    "#! pip install missingno\n",
    "#! pip install pmdarima"
   ]
  },
  {
   "cell_type": "markdown",
   "id": "c67ef79e",
   "metadata": {},
   "source": [
    "### Import data"
   ]
  },
  {
   "cell_type": "code",
   "execution_count": 189,
   "id": "13bda86b-5def-4708-b410-65d53a848eaa",
   "metadata": {},
   "outputs": [],
   "source": [
    "path_cwd = Path(PureWindowsPath(os.path.dirname(os.getcwd())))\n",
    "path_cwd\n",
    "path = path_cwd / 'data/processed/'"
   ]
  },
  {
   "cell_type": "code",
   "execution_count": null,
   "id": "5feb5200-b9c6-4ef8-bf81-06c2c119e15d",
   "metadata": {},
   "outputs": [],
   "source": []
  },
  {
   "cell_type": "code",
   "execution_count": 224,
   "id": "645a5ff8-6d23-4eb8-bf1b-7ecb92da0d69",
   "metadata": {},
   "outputs": [],
   "source": [
    "train_data = pd.read_pickle(path / 'df_train.pkl')\n",
    "val_data = pd.read_pickle(path / 'df_val.pkl')\n",
    "test_data = pd.read_pickle(path / 'df_test.pkl')"
   ]
  },
  {
   "cell_type": "code",
   "execution_count": 225,
   "id": "942b5ae2-71bb-410b-ac71-c325ce026a49",
   "metadata": {},
   "outputs": [
    {
     "data": {
      "text/plain": [
       "Index(['id', 'date', 'store_nbr', 'family', 'sales', 'onpromotion', 'cluster',\n",
       "       'familycluster', 'day_of_week', 'month', 'year', 'oil_price',\n",
       "       'holiday_Carnaval', 'holiday_Dia de la Madre',\n",
       "       'holiday_Dia del Trabajo', 'holiday_Fundacion de Quito',\n",
       "       'holiday_Independencia de Cuenca',\n",
       "       'holiday_Mundial de futbol Brasil: Ecuador-Suiza', 'holiday_Navidad-1',\n",
       "       'holiday_Navidad-2', 'holiday_Navidad-3', 'holiday_Navidad-4',\n",
       "       'holiday_Primer dia del ano', 'holiday_Terremoto Manabi+1',\n",
       "       'holiday_Terremoto Manabi+2', 'holiday_Terremoto Manabi+3',\n",
       "       'holiday_Terremoto Manabi+4', 'holiday_Terremoto Manabi+5',\n",
       "       'holiday_Traslado Primer dia del ano'],\n",
       "      dtype='object')"
      ]
     },
     "execution_count": 225,
     "metadata": {},
     "output_type": "execute_result"
    }
   ],
   "source": [
    "train_data.columns"
   ]
  },
  {
   "cell_type": "code",
   "execution_count": 226,
   "id": "84f44ff2-23a6-4e4d-99c2-4fcb15f2fcfa",
   "metadata": {},
   "outputs": [
    {
     "data": {
      "text/plain": [
       "array([ 6,  2, 20,  0, 15, 16,  4,  9,  3, 13, 12, 14,  8, 19, 18, 11,  5,\n",
       "        7, 10,  1, 17], dtype=int64)"
      ]
     },
     "execution_count": 226,
     "metadata": {},
     "output_type": "execute_result"
    }
   ],
   "source": [
    "train_data['familycluster'].unique()"
   ]
  },
  {
   "cell_type": "code",
   "execution_count": 227,
   "id": "75d9f948-a75d-427f-9dd5-78fa299502f5",
   "metadata": {},
   "outputs": [
    {
     "data": {
      "text/plain": [
       "0        2016-04-26\n",
       "1        2016-04-26\n",
       "2        2016-04-26\n",
       "3        2016-04-26\n",
       "4        2016-04-26\n",
       "            ...    \n",
       "276564   2016-10-03\n",
       "276565   2016-10-03\n",
       "276566   2016-10-03\n",
       "276567   2016-10-03\n",
       "276568   2016-10-03\n",
       "Name: date, Length: 276569, dtype: datetime64[ns]"
      ]
     },
     "execution_count": 227,
     "metadata": {},
     "output_type": "execute_result"
    }
   ],
   "source": [
    "val_data['date']"
   ]
  },
  {
   "cell_type": "markdown",
   "id": "1a061915",
   "metadata": {},
   "source": [
    "## Modeling ##"
   ]
  },
  {
   "cell_type": "code",
   "execution_count": 228,
   "id": "4227a6b8",
   "metadata": {},
   "outputs": [],
   "source": [
    "# Updated plot_predictions to work with dataframes where the date is not already aggregated\n",
    "# This simply aggregates the dates inside the function\n",
    "def plot_predictions(date, y_test, y_pred, forecast_label, title):\n",
    "    \"\"\"\n",
    "    Plot the actual and predicted time series data.\n",
    "\n",
    "    Parameters:\n",
    "    date (array-like): Date or time index.\n",
    "    y_test (array-like): Actual values.\n",
    "    y_pred (array-like): Predicted values.\n",
    "    forecast_label (str): Label for the forecasted data.\n",
    "    title (str): Title for the plot.\n",
    "    \"\"\"\n",
    "    # Combine the data into a DataFrame\n",
    "    data = pd.DataFrame({'Date': date, 'Actual': y_test, 'Predicted': y_pred})\n",
    "    \n",
    "    # Aggregate the data by date, taking the mean of the values for each day\n",
    "    data = data.groupby('Date').mean().reset_index()\n",
    "    \n",
    "    # Set the custom color palette\n",
    "    custom_palette = sns.color_palette(\"husl\", 2)\n",
    "    sns.set_palette(custom_palette)\n",
    "    \n",
    "    # Create a figure with specified dimensions\n",
    "    plt.figure(figsize=(10, 6))\n",
    "\n",
    "    # Plot the actual data in green\n",
    "    sns.lineplot(data=data, x='Date', y='Actual', label='Actual', color=custom_palette[0])\n",
    "\n",
    "    # Plot the predicted data in blue with the specified label\n",
    "    sns.lineplot(data=data, x='Date', y='Predicted', label=forecast_label, color=custom_palette[1])\n",
    "\n",
    "    # Add a legend to the plot\n",
    "    plt.legend()\n",
    "\n",
    "    # Set the title of the plot\n",
    "    plt.title(title)\n",
    "\n",
    "    # Rotate x-axis labels for better readability\n",
    "    plt.xticks(rotation=45)\n",
    "\n",
    "    # Display the plot\n",
    "    plt.show()"
   ]
  },
  {
   "cell_type": "code",
   "execution_count": 229,
   "id": "a3f08c83",
   "metadata": {},
   "outputs": [],
   "source": [
    "# Define a function to compute the evaluations metrics after the forecast\n",
    "def evaluate_forecast(y_test, forecast):\n",
    "    \"\"\"\n",
    "    Compute MSE, RMSE, and RMSLE for a forecast.\n",
    "\n",
    "    Parameters:\n",
    "    y_test (array-like): Actual values.\n",
    "    forecast (array-like): Predicted values.\n",
    "\n",
    "    Returns:\n",
    "    dict: Dictionary containing MSE, RMSE, and RMSLE.\n",
    "    \"\"\"\n",
    "    def rmsle(predicted, actual):\n",
    "        return np.sqrt(np.mean(np.square(np.log1p(predicted) - np.log1p(actual))))\n",
    "\n",
    "    # Compute Mean Squared Error (MSE)\n",
    "    mse = mean_squared_error(y_test, forecast)\n",
    "    \n",
    "    # Compute Root Mean Squared Error (RMSE)\n",
    "    rmse = np.sqrt(mse)\n",
    "    \n",
    "    # Compute Root Mean Squared Logarithmic Error (RMSLE)\n",
    "    rmsle_value = rmsle(forecast, y_test)\n",
    "    \n",
    "    # Return the evaluation metrics as a dictionary\n",
    "    metrics = {\n",
    "        'MSE': mse,\n",
    "        'RMSE': rmse,\n",
    "        'RMSLE': rmsle_value\n",
    "    }\n",
    "    \n",
    "    return metrics"
   ]
  },
  {
   "cell_type": "code",
   "execution_count": 230,
   "id": "145899ca",
   "metadata": {},
   "outputs": [],
   "source": [
    "# Exogenous variables to help predict sales\n",
    "#ex_variables = ['onpromotion', 'day_of_week', 'lag_1', 'rolling_mean']\n",
    "ex_variables = ['onpromotion', 'day_of_week']"
   ]
  },
  {
   "cell_type": "code",
   "execution_count": null,
   "id": "1ecbec3b-d199-4f07-9c18-0368f912fd62",
   "metadata": {},
   "outputs": [],
   "source": []
  },
  {
   "cell_type": "markdown",
   "id": "aa0d72cc-2aab-4b9b-8547-4f490f3d2ca9",
   "metadata": {},
   "source": [
    "## OLS ##"
   ]
  },
  {
   "cell_type": "markdown",
   "id": "d342da0a-8378-4130-8168-c4d7a823c037",
   "metadata": {},
   "source": [
    "### create dummy variables ###"
   ]
  },
  {
   "cell_type": "code",
   "execution_count": 231,
   "id": "bd752e31-0bed-4f59-a63e-be27332759b3",
   "metadata": {},
   "outputs": [
    {
     "data": {
      "text/plain": [
       "Index(['id', 'date', 'store_nbr', 'family', 'sales', 'onpromotion', 'cluster',\n",
       "       'familycluster', 'day_of_week', 'month', 'year', 'oil_price',\n",
       "       'holiday_Carnaval', 'holiday_Dia de la Madre',\n",
       "       'holiday_Dia del Trabajo', 'holiday_Fundacion de Quito',\n",
       "       'holiday_Independencia de Cuenca',\n",
       "       'holiday_Mundial de futbol Brasil: Ecuador-Suiza', 'holiday_Navidad-1',\n",
       "       'holiday_Navidad-2', 'holiday_Navidad-3', 'holiday_Navidad-4',\n",
       "       'holiday_Primer dia del ano', 'holiday_Terremoto Manabi+1',\n",
       "       'holiday_Terremoto Manabi+2', 'holiday_Terremoto Manabi+3',\n",
       "       'holiday_Terremoto Manabi+4', 'holiday_Terremoto Manabi+5',\n",
       "       'holiday_Traslado Primer dia del ano'],\n",
       "      dtype='object')"
      ]
     },
     "execution_count": 231,
     "metadata": {},
     "output_type": "execute_result"
    }
   ],
   "source": [
    "train_data.columns"
   ]
  },
  {
   "cell_type": "code",
   "execution_count": 232,
   "id": "e56467c6-7eb8-4859-997f-0bcffcbbf8c7",
   "metadata": {},
   "outputs": [],
   "source": [
    "def create_dummy_fam_cluster(df):\n",
    "    df2 = df.drop(columns=['store_nbr','family','id','date'])\n",
    "    df2  = pd.get_dummies(df2, columns=['familycluster','cluster']) \n",
    "    return df2\n",
    "\n",
    "def create_dummy(df):\n",
    "    df2 = df.drop(columns=['store_nbr','familycluster','id','date'])\n",
    "    df2  = pd.get_dummies(df2, columns=['family','cluster']) \n",
    "    return df2\n"
   ]
  },
  {
   "cell_type": "code",
   "execution_count": 233,
   "id": "eedeab52-09c4-497c-807a-31d8813d7638",
   "metadata": {},
   "outputs": [],
   "source": [
    "df_train_ols = create_dummy(train_data)\n",
    "df_val_ols = create_dummy(val_data)\n",
    "df_test_ols = create_dummy(test_data)"
   ]
  },
  {
   "cell_type": "code",
   "execution_count": null,
   "id": "da7ca7bb-3216-406f-8331-816b376dd1db",
   "metadata": {},
   "outputs": [],
   "source": []
  },
  {
   "cell_type": "code",
   "execution_count": null,
   "id": "f754169b-9ff4-4dc9-ad43-297485dc13f5",
   "metadata": {},
   "outputs": [],
   "source": []
  },
  {
   "cell_type": "markdown",
   "id": "3a633374-5c8a-47f0-87f6-64adec0e40d7",
   "metadata": {},
   "source": [
    "### scale df ###"
   ]
  },
  {
   "cell_type": "code",
   "execution_count": 234,
   "id": "4659be35-b100-4c98-b05a-710fdbf1fcac",
   "metadata": {},
   "outputs": [],
   "source": [
    "def scale_df(df, colums_to_scale):\n",
    "    # Introduce MinMaxScaler for primary FE \n",
    "    scaler = MinMaxScaler()\n",
    "    # Apply\n",
    "    df[columns_to_scale] = scaler.fit_transform(df[columns_to_scale])\n",
    "    return df"
   ]
  },
  {
   "cell_type": "code",
   "execution_count": null,
   "id": "a014b79a-309b-49de-b64d-48d12a8832ef",
   "metadata": {},
   "outputs": [],
   "source": []
  },
  {
   "cell_type": "code",
   "execution_count": 235,
   "id": "44945907-74c7-4d69-a74b-9846a5b46c09",
   "metadata": {},
   "outputs": [],
   "source": [
    "columns_to_scale =  list(df_train_ols.columns)\n",
    "columns_to_scale.remove('sales')\n",
    "columns_to_scale.remove('onpromotion')\n",
    "columns_to_scale.remove('day_of_week')\n",
    "columns_to_scale.remove('month')\n",
    "columns_to_scale.remove('year')\n",
    "columns_to_scale.remove('oil_price')\n"
   ]
  },
  {
   "cell_type": "code",
   "execution_count": 236,
   "id": "54dc497a-c1b0-4294-b04d-5963e240f4d3",
   "metadata": {},
   "outputs": [],
   "source": [
    "df_train_ols = scale_df(df_train_ols, columns_to_scale)\n",
    "df_val_ols = scale_df(df_val_ols, columns_to_scale)\n",
    "df_test_ols = scale_df(df_test_ols, columns_to_scale)"
   ]
  },
  {
   "cell_type": "code",
   "execution_count": null,
   "id": "2c52c60e-8557-4845-a91e-48ae293a4f08",
   "metadata": {},
   "outputs": [],
   "source": []
  },
  {
   "cell_type": "markdown",
   "id": "41249eb7-34b3-4175-a9da-89a78ff31546",
   "metadata": {},
   "source": [
    "### add constant ###"
   ]
  },
  {
   "cell_type": "code",
   "execution_count": 237,
   "id": "48fdd75c",
   "metadata": {},
   "outputs": [],
   "source": [
    "X_ols = df_train_ols.drop(columns=['sales'])\n",
    "# add constant for linear regression\n",
    "\n",
    "X_ols.insert(0, 'const',1)\n",
    "\n",
    "\n",
    "#X_ols = sm.add_constant(X_ols)\n",
    "y_ols = train_data['sales']\n",
    "y_ols = df_train_ols['sales']"
   ]
  },
  {
   "cell_type": "code",
   "execution_count": null,
   "id": "33d3b6e1-2d2d-45a1-b604-f91852be9fa9",
   "metadata": {
    "scrolled": true
   },
   "outputs": [],
   "source": []
  },
  {
   "cell_type": "code",
   "execution_count": 238,
   "id": "e68de4e4-98e4-4fc2-918a-35c062369eab",
   "metadata": {},
   "outputs": [],
   "source": [
    "X_val_ols = df_val_ols.drop(columns=['sales'])\n",
    "# add constant for linear regression\n",
    "X_val_ols.insert(0, 'const',1)\n",
    "y_val_ols = df_val_ols['sales']"
   ]
  },
  {
   "cell_type": "code",
   "execution_count": null,
   "id": "e2fa47fb-45e5-4d5e-a248-f8f9d5a22c20",
   "metadata": {},
   "outputs": [],
   "source": []
  },
  {
   "cell_type": "code",
   "execution_count": 239,
   "id": "5072d211-9482-4445-a640-369133f15ac6",
   "metadata": {},
   "outputs": [],
   "source": [
    "X_test_ols = df_test_ols.drop(columns=['sales'])\n",
    "# add constant for linear regression\n",
    "X_test_ols.insert(0, 'const',1)\n",
    "y_test_ols = df_test_ols['sales']"
   ]
  },
  {
   "cell_type": "code",
   "execution_count": 240,
   "id": "0464dc8a-e620-411d-8737-069b2ed036bf",
   "metadata": {},
   "outputs": [
    {
     "name": "stdout",
     "output_type": "stream",
     "text": [
      "(276569, 73) (276569,) (553141, 73) (553141,)\n"
     ]
    }
   ],
   "source": [
    "print(X_val_ols.shape,y_val_ols.shape, X_test_ols.shape, y_test_ols.shape)"
   ]
  },
  {
   "cell_type": "code",
   "execution_count": null,
   "id": "b5715d17-d65e-47ea-bc32-1f5daf644ed7",
   "metadata": {},
   "outputs": [],
   "source": []
  },
  {
   "cell_type": "code",
   "execution_count": 241,
   "id": "593c35c3-fc19-400e-8d62-a61d1e53aa34",
   "metadata": {},
   "outputs": [],
   "source": [
    "model_OLS = sm.OLS(y_ols,X_ols).fit()\n",
    "model_summary = model_OLS.summary()"
   ]
  },
  {
   "cell_type": "code",
   "execution_count": 242,
   "id": "3d390911-ef8c-4921-8b5c-d31af5e31aad",
   "metadata": {},
   "outputs": [],
   "source": [
    "#model_summary"
   ]
  },
  {
   "cell_type": "code",
   "execution_count": 243,
   "id": "fd431079-c114-44c4-8051-c72863fff3fe",
   "metadata": {},
   "outputs": [
    {
     "name": "stdout",
     "output_type": "stream",
     "text": [
      "(276569, 73) (1935987, 73)\n"
     ]
    }
   ],
   "source": [
    "print(X_val_ols.shape, X_ols.shape)"
   ]
  },
  {
   "cell_type": "code",
   "execution_count": null,
   "id": "c3f7f6f3-388f-4c3c-a18d-78b612723a09",
   "metadata": {},
   "outputs": [],
   "source": []
  },
  {
   "cell_type": "code",
   "execution_count": 244,
   "id": "2def4556-1334-4116-8ba2-702b07d7bf63",
   "metadata": {},
   "outputs": [
    {
     "data": {
      "text/plain": [
       "{'MSE': 637028.8208558713,\n",
       " 'RMSE': 798.1408527671487,\n",
       " 'RMSLE': 2.2725945479839083}"
      ]
     },
     "execution_count": 244,
     "metadata": {},
     "output_type": "execute_result"
    }
   ],
   "source": [
    "# validation metrics\n",
    "val_ols_predictions = model_OLS.predict(X_val_ols)\n",
    "ols_metrics = evaluate_forecast(y_val_ols, val_ols_predictions)\n",
    "\n",
    "ols_metrics"
   ]
  },
  {
   "cell_type": "code",
   "execution_count": 245,
   "id": "fa8dbe52-9f46-4c8e-b7bc-87dcaea51105",
   "metadata": {},
   "outputs": [
    {
     "data": {
      "text/plain": [
       "{'MSE': 745707.7296348342,\n",
       " 'RMSE': 863.5437045308328,\n",
       " 'RMSLE': 2.4677592937172315}"
      ]
     },
     "execution_count": 245,
     "metadata": {},
     "output_type": "execute_result"
    }
   ],
   "source": [
    "# test metrics\n",
    "test_ols_predictions = model_OLS.predict(X_test_ols)\n",
    "ols_metrics_test = evaluate_forecast(y_test_ols, test_ols_predictions)\n",
    "\n",
    "ols_metrics_test"
   ]
  },
  {
   "cell_type": "code",
   "execution_count": null,
   "id": "bf971e5e-6e56-4623-9855-fbfede072de9",
   "metadata": {},
   "outputs": [],
   "source": []
  },
  {
   "cell_type": "code",
   "execution_count": null,
   "id": "98d2f837-5d15-4601-b0c4-8cadebcd389b",
   "metadata": {},
   "outputs": [],
   "source": []
  },
  {
   "cell_type": "code",
   "execution_count": 246,
   "id": "8abf4da6-5833-451c-8b5e-363af1203ea9",
   "metadata": {},
   "outputs": [
    {
     "data": {
      "image/png": "[encoded data removed]",
      "text/plain": [
       "<Figure size 1000x600 with 1 Axes>"
      ]
     },
     "metadata": {},
     "output_type": "display_data"
    }
   ],
   "source": [
    "plot_predictions(test_data['date'],y_test_ols, test_ols_predictions, 'OLS Forecast', 'OLS vs. Actual') #need toconvert series to dfs"
   ]
  },
  {
   "cell_type": "code",
   "execution_count": null,
   "id": "c6a63fe8-08f3-46c4-afbf-9f11d7f46cbc",
   "metadata": {},
   "outputs": [],
   "source": []
  },
  {
   "cell_type": "markdown",
   "id": "76837761-b314-49ba-bf65-93dfebfe6f9b",
   "metadata": {},
   "source": [
    "## OLS with family cluster ##"
   ]
  },
  {
   "cell_type": "code",
   "execution_count": 247,
   "id": "d76326ab-5a25-4dcc-9161-29e047f90057",
   "metadata": {},
   "outputs": [],
   "source": [
    "df_train_ols = create_dummy_fam_cluster(train_data)\n",
    "df_val_ols = create_dummy_fam_cluster(val_data)\n",
    "df_test_ols = create_dummy_fam_cluster(test_data)"
   ]
  },
  {
   "cell_type": "code",
   "execution_count": 248,
   "id": "8ed0e03c-061b-432c-83cc-e3be624b72cc",
   "metadata": {},
   "outputs": [],
   "source": [
    "columns_to_scale =  list(df_train_ols.columns)\n",
    "columns_to_scale.remove('sales')\n",
    "columns_to_scale.remove('onpromotion')\n",
    "columns_to_scale.remove('day_of_week')\n",
    "columns_to_scale.remove('month')\n",
    "columns_to_scale.remove('year')\n",
    "columns_to_scale.remove('oil_price')\n"
   ]
  },
  {
   "cell_type": "code",
   "execution_count": 249,
   "id": "b9eecc68-1fd6-49f6-8ec1-fbface3dd191",
   "metadata": {},
   "outputs": [],
   "source": [
    "df_train_ols = scale_df(df_train_ols, columns_to_scale)\n",
    "df_val_ols = scale_df(df_val_ols, columns_to_scale)\n",
    "df_test_ols = scale_df(df_test_ols, columns_to_scale)"
   ]
  },
  {
   "cell_type": "code",
   "execution_count": 250,
   "id": "47131dfc-f005-4bc2-ac04-41e65b594899",
   "metadata": {},
   "outputs": [],
   "source": [
    "X_ols = df_train_ols.drop(columns=['sales'])\n",
    "# add constant for linear regression\n",
    "\n",
    "X_ols.insert(0, 'const',1)\n",
    "\n",
    "\n",
    "#X_ols = sm.add_constant(X_ols)\n",
    "y_ols = train_data['sales']\n",
    "y_ols = df_train_ols['sales']"
   ]
  },
  {
   "cell_type": "code",
   "execution_count": 251,
   "id": "f7732c3c-d07f-4333-afd9-ff10c94574e3",
   "metadata": {},
   "outputs": [],
   "source": [
    "X_val_ols = df_val_ols.drop(columns=['sales'])\n",
    "# add constant for linear regression\n",
    "X_val_ols.insert(0, 'const',1)\n",
    "y_val_ols = df_val_ols['sales']"
   ]
  },
  {
   "cell_type": "code",
   "execution_count": 252,
   "id": "bd5d13ac-397e-499a-98e1-0808b3dc98db",
   "metadata": {},
   "outputs": [],
   "source": [
    "X_test_ols = df_test_ols.drop(columns=['sales'])\n",
    "# add constant for linear regression\n",
    "X_test_ols.insert(0, 'const',1)\n",
    "y_test_ols = df_test_ols['sales']"
   ]
  },
  {
   "cell_type": "code",
   "execution_count": 253,
   "id": "0b0862a2-8b4a-4414-ba82-9d14c075e44c",
   "metadata": {},
   "outputs": [],
   "source": [
    "model_OLS = sm.OLS(y_ols,X_ols).fit()\n",
    "model_summary = model_OLS.summary()"
   ]
  },
  {
   "cell_type": "code",
   "execution_count": 254,
   "id": "896970ab-b660-4378-a751-fb20eb1e3045",
   "metadata": {},
   "outputs": [
    {
     "data": {
      "text/plain": [
       "{'MSE': 1046472.4465467597,\n",
       " 'RMSE': 1022.9723586425782,\n",
       " 'RMSLE': 2.781766685975577}"
      ]
     },
     "execution_count": 254,
     "metadata": {},
     "output_type": "execute_result"
    }
   ],
   "source": [
    "# validation metrics\n",
    "val_ols_predictions = model_OLS.predict(X_val_ols)\n",
    "ols_metrics = evaluate_forecast(y_val_ols, val_ols_predictions)\n",
    "\n",
    "ols_metrics"
   ]
  },
  {
   "cell_type": "code",
   "execution_count": 255,
   "id": "53a17923-cee4-482e-8270-f5382534da05",
   "metadata": {},
   "outputs": [
    {
     "data": {
      "text/plain": [
       "{'MSE': 1156891.5104809164,\n",
       " 'RMSE': 1075.588913331165,\n",
       " 'RMSLE': 2.8356245755285134}"
      ]
     },
     "execution_count": 255,
     "metadata": {},
     "output_type": "execute_result"
    }
   ],
   "source": [
    "# test metrics\n",
    "test_ols_predictions = model_OLS.predict(X_test_ols)\n",
    "ols_metrics_test = evaluate_forecast(y_test_ols, test_ols_predictions)\n",
    "\n",
    "ols_metrics_test"
   ]
  },
  {
   "cell_type": "code",
   "execution_count": null,
   "id": "3e2addce-1ad5-4a89-a55c-3b6fd38238d3",
   "metadata": {},
   "outputs": [],
   "source": []
  },
  {
   "cell_type": "code",
   "execution_count": null,
   "id": "8c5c060a-dfdc-4afd-a63f-b4093bb870a6",
   "metadata": {},
   "outputs": [],
   "source": []
  },
  {
   "cell_type": "code",
   "execution_count": null,
   "id": "7b1f9d40-fa4f-4eb1-a652-2fddaba8b177",
   "metadata": {},
   "outputs": [],
   "source": []
  },
  {
   "cell_type": "code",
   "execution_count": null,
   "id": "d52ce732-404c-4686-a085-c077bf169178",
   "metadata": {},
   "outputs": [],
   "source": []
  },
  {
   "cell_type": "code",
   "execution_count": null,
   "id": "ca05f016-a843-4ed3-81df-ba37ec6b7426",
   "metadata": {},
   "outputs": [],
   "source": []
  },
  {
   "cell_type": "code",
   "execution_count": null,
   "id": "a59fb1c2-dc72-4dce-beaf-e1de705552f6",
   "metadata": {},
   "outputs": [],
   "source": []
  },
  {
   "cell_type": "markdown",
   "id": "4d5283b2-533f-4c7e-9a15-16c1f58cf7db",
   "metadata": {
    "jp-MarkdownHeadingCollapsed": true
   },
   "source": [
    "## SARIMA ##"
   ]
  },
  {
   "cell_type": "code",
   "execution_count": null,
   "id": "00557f07-b9a0-4b47-b837-bdfc22589b53",
   "metadata": {},
   "outputs": [],
   "source": []
  },
  {
   "cell_type": "code",
   "execution_count": 222,
   "id": "3ba899fa-0aa7-4a17-a1bd-23da67827339",
   "metadata": {},
   "outputs": [
    {
     "ename": "NameError",
     "evalue": "name 'train_data_s' is not defined",
     "output_type": "error",
     "traceback": [
      "\u001b[1;31m---------------------------------------------------------------------------\u001b[0m",
      "\u001b[1;31mNameError\u001b[0m                                 Traceback (most recent call last)",
      "Cell \u001b[1;32mIn[222], line 1\u001b[0m\n\u001b[1;32m----> 1\u001b[0m train_data_sarima \u001b[38;5;241m=\u001b[39m \u001b[43mtrain_data_s\u001b[49m[train_data_s[\u001b[38;5;124m'\u001b[39m\u001b[38;5;124mdate\u001b[39m\u001b[38;5;124m'\u001b[39m]\u001b[38;5;241m==\u001b[39m\u001b[38;5;124m'\u001b[39m\u001b[38;5;124m2015-09-01\u001b[39m\u001b[38;5;124m'\u001b[39m]\n\u001b[0;32m      2\u001b[0m train_data_sarima \u001b[38;5;241m=\u001b[39m train_data_s\u001b[38;5;241m.\u001b[39mset_index(\u001b[38;5;124m'\u001b[39m\u001b[38;5;124mdate\u001b[39m\u001b[38;5;124m'\u001b[39m)\n\u001b[0;32m      3\u001b[0m val_data_sarima \u001b[38;5;241m=\u001b[39m val_data_s\u001b[38;5;241m.\u001b[39mset_index(\u001b[38;5;124m'\u001b[39m\u001b[38;5;124mdate\u001b[39m\u001b[38;5;124m'\u001b[39m)\n",
      "\u001b[1;31mNameError\u001b[0m: name 'train_data_s' is not defined"
     ]
    }
   ],
   "source": [
    "train_data_sarima = train_data_s[train_data_s['date']=='2015-09-01']\n",
    "train_data_sarima = train_data_s.set_index('date')\n",
    "val_data_sarima = val_data_s.set_index('date')"
   ]
  },
  {
   "cell_type": "code",
   "execution_count": null,
   "id": "da98fe0b-1bd4-4337-820b-5a1afbe35725",
   "metadata": {},
   "outputs": [],
   "source": []
  },
  {
   "cell_type": "code",
   "execution_count": null,
   "id": "e758a725-be92-4d29-a424-0163cc7a6882",
   "metadata": {
    "scrolled": true
   },
   "outputs": [],
   "source": [
    "train_data_sarima_exog = train_data_sarima[['familycluster','cluster']]\n",
    "y_train_sarima_endog = train_data_sarima['sales']\n",
    "\n",
    "val_data_sarima_exog = val_data_sarima[['familycluster','cluster']]\n",
    "y_val_sarima_endog = val_data_sarima['sales']"
   ]
  },
  {
   "cell_type": "code",
   "execution_count": null,
   "id": "f6ac0e90-331e-43f8-9b2c-64ff65a3d540",
   "metadata": {},
   "outputs": [],
   "source": [
    "val_data_sarima_exog"
   ]
  },
  {
   "cell_type": "code",
   "execution_count": null,
   "id": "7358480b-7a24-466b-98d0-506d0fc122b8",
   "metadata": {},
   "outputs": [],
   "source": [
    "# Group by date to sum sales\n",
    "\n",
    "ts = train_data_sarima.groupby(train_data_sarima['date'])['sales'].sum()\n",
    "#ts = train_data_sarima.groupby(train_data_sarima.index)['sales'].sum()\n",
    "fig, (ax1,ax2) = plt.subplots(2, 1, figsize=(12,6))\n",
    "\n",
    "# Plot ACF\n",
    "sm.graphics.tsa.plot_acf(ts, lags=40, ax=ax1)\n",
    "ax1.set_title('ACF')\n",
    "\n",
    "# Plot PACF\n",
    "sm.graphics.tsa.plot_pacf(ts, lags=40, ax=ax2)\n",
    "ax2.set_title('PACF')\n",
    "\n",
    "plt.tight_layout(pad=2.0)\n",
    "\n",
    "plt.show()"
   ]
  },
  {
   "cell_type": "markdown",
   "id": "024305e3-25b1-427c-ba43-cef07099ba1c",
   "metadata": {},
   "source": [
    "# runs into memory error when trying to run. will have to manually find hyperparams\n",
    "start_time = time.time()\n",
    "sarima_model = auto_arima(train_data_sarima['sales']\n",
    "                          #, exogenous=train_data_s[['familycluster', 'onpromotion','holiday']]\n",
    "                          #, exogenous=train_data_s[['familycluster']]\n",
    "                          , start_p=0 , max_p=3, start_P=0 , max_P=3 \n",
    "                          , d=None , D=1 #not sure this is a good value for d\n",
    "                          , start_q=0 , max_q= 3 , start_Q=0 , max_Q=3\n",
    "                          , random=True, n_fits=2\n",
    "                          , seasonal=True, m=12, random_state=21, trace=True )\n",
    "\n",
    "end_time = time.time()\n",
    "elapsed_time = end_time - start_time"
   ]
  },
  {
   "cell_type": "markdown",
   "id": "6b6dce11-b996-419d-9542-c407663bff54",
   "metadata": {},
   "source": [
    "# too slow to get results\n",
    "def ad_fuller(timeseries):\n",
    "    print ('Dickey-Fuller Test indicates:')\n",
    "    df_test = adfuller(timeseries, regression='ct', autolag='AIC')\n",
    "    output = pd.Series(df_test[0:4], index=['Test Statistic','p-value','#Lags Used','Number of Observations Used'])\n",
    "    print(output)\n",
    "\n",
    "print(ad_fuller(train_data_s['sales']))"
   ]
  },
  {
   "cell_type": "code",
   "execution_count": null,
   "id": "bacb2581-c2c4-42ad-98bd-eb416f5c6f2d",
   "metadata": {},
   "outputs": [],
   "source": []
  },
  {
   "cell_type": "code",
   "execution_count": null,
   "id": "1db6529c-5926-4015-bb9e-db0401d0509a",
   "metadata": {},
   "outputs": [],
   "source": [
    "# Define the instance\n",
    "model_sarima = sm.tsa.SARIMAX(endog=y_train_sarima_endog, exog=train_data_sarima_exog, order=(1,1,1), seasonal_order=(1,1,1,12))\n",
    "\n"
   ]
  },
  {
   "cell_type": "code",
   "execution_count": null,
   "id": "3126952f-5ccb-4b2a-a158-2444b40d2c7a",
   "metadata": {},
   "outputs": [],
   "source": [
    "# Fit the model\n",
    "results_sarima = model_sarima.fit()\n",
    "\n"
   ]
  },
  {
   "cell_type": "code",
   "execution_count": null,
   "id": "317d7d52-49dc-44e1-abd2-57c017db4bd8",
   "metadata": {},
   "outputs": [],
   "source": [
    "# Make predictions\n",
    "forecast_sarima = results_sarima.predict(start=len(train_data_sarima), end=len(train_data_sarima) + len(val_data_sarima) - 1, dynamic=False)"
   ]
  },
  {
   "cell_type": "code",
   "execution_count": null,
   "id": "43bb5f3f-6a6c-4001-adbc-d07d79ef76a4",
   "metadata": {},
   "outputs": [],
   "source": [
    "sarima_metrics = evaluate_forecast(y_val_sarima, forecast_sarima)\n",
    "\n",
    "sarima_metrics"
   ]
  },
  {
   "cell_type": "code",
   "execution_count": null,
   "id": "7b26935c-b451-449f-8a39-b9046dac4528",
   "metadata": {},
   "outputs": [],
   "source": []
  }
 ],
 "metadata": {
  "kernelspec": {
   "display_name": "Python 3 (ipykernel)",
   "language": "python",
   "name": "python3"
  },
  "language_info": {
   "codemirror_mode": {
    "name": "ipython",
    "version": 3
   },
   "file_extension": ".py",
   "mimetype": "text/x-python",
   "name": "python",
   "nbconvert_exporter": "python",
   "pygments_lexer": "ipython3",
   "version": "3.9.18"
  }
 },
 "nbformat": 4,
 "nbformat_minor": 5
}
