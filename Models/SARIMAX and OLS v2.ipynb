{
 "cells": [
  {
   "cell_type": "code",
   "execution_count": 1,
   "id": "1eda8177",
   "metadata": {},
   "outputs": [],
   "source": [
    "# Connect to server\n",
    "#import pyodbc\n",
    "#from dotenv import dotenv_values\n",
    "\n",
    "# Datetime\n",
    "from datetime import datetime\n",
    "\n",
    "# Data manipulation\n",
    "import numpy as np\n",
    "import pandas as pd\n",
    "\n",
    "# Visualization\n",
    "import matplotlib.pyplot as plt\n",
    "import plotly.graph_objects as go\n",
    "import plotly.express as px\n",
    "from plotly.subplots import make_subplots\n",
    "import seaborn as sns\n",
    "import missingno as msno\n",
    "\n",
    "# Decomposition\n",
    "from statsmodels.tsa.seasonal import seasonal_decompose\n",
    "\n",
    "# Statistical Analysis\n",
    "import scipy.stats as stats\n",
    "from statsmodels.stats.weightstats import ttest_ind\n",
    "import statsmodels.api as sm\n",
    "from pmdarima.arima import CHTest, nsdiffs\n",
    "from pmdarima.arima import auto_arima\n",
    "#from arch.unitroot import ADF, KPSS\n",
    "from statsmodels.stats.diagnostic import acorr_ljungbox\n",
    "#import phik\n",
    "from statsmodels.tsa.arima.model import ARIMA\n",
    "from statsmodels.tsa.statespace.sarimax import SARIMAX\n",
    "from statsmodels.tsa.holtwinters import ExponentialSmoothing\n",
    "from statsmodels.tsa.stattools import adfuller\n",
    "\n",
    "# Machine Learning Modeling\n",
    "from sklearn.preprocessing import StandardScaler, MinMaxScaler\n",
    "from sklearn.compose import ColumnTransformer\n",
    "from sklearn.linear_model import LinearRegression\n",
    "from sklearn.model_selection import RandomizedSearchCV\n",
    "#import xgboost as xgb\n",
    "from sklearn.metrics import mean_squared_error\n",
    "import joblib\n",
    "from sklearn.pipeline import Pipeline\n",
    "\n",
    "import os\n",
    "\n",
    "import random\n",
    "\n",
    "import warnings\n",
    "import time\n",
    "\n",
    "# ignore warnings\n",
    "warnings.filterwarnings('ignore')\n",
    "\n",
    "from pathlib import Path, PureWindowsPath"
   ]
  },
  {
   "cell_type": "code",
   "execution_count": 2,
   "id": "10621111-ed45-40b4-beb8-7634047fe9a4",
   "metadata": {},
   "outputs": [],
   "source": [
    "#! pip install missingno\n",
    "#! pip install pmdarima"
   ]
  },
  {
   "cell_type": "markdown",
   "id": "c67ef79e",
   "metadata": {},
   "source": [
    "### Import data"
   ]
  },
  {
   "cell_type": "code",
   "execution_count": 4,
   "id": "13bda86b-5def-4708-b410-65d53a848eaa",
   "metadata": {},
   "outputs": [],
   "source": [
    "path_cwd = Path(PureWindowsPath(os.path.dirname(os.getcwd())))\n",
    "path_cwd\n",
    "path = path_cwd / 'data/processed/'"
   ]
  },
  {
   "cell_type": "code",
   "execution_count": null,
   "id": "5feb5200-b9c6-4ef8-bf81-06c2c119e15d",
   "metadata": {},
   "outputs": [],
   "source": []
  },
  {
   "cell_type": "code",
   "execution_count": 5,
   "id": "645a5ff8-6d23-4eb8-bf1b-7ecb92da0d69",
   "metadata": {},
   "outputs": [],
   "source": [
    "train_data = pd.read_pickle(path / 'df_train.pkl')\n",
    "val_data = pd.read_pickle(path / 'df_val.pkl')\n",
    "test_data = pd.read_pickle(path / 'df_test.pkl')"
   ]
  },
  {
   "cell_type": "code",
   "execution_count": 6,
   "id": "942b5ae2-71bb-410b-ac71-c325ce026a49",
   "metadata": {},
   "outputs": [],
   "source": [
    "#import sarima fe data\n",
    "train_data_s = pd.read_pickle(path / 'df_train_s.pkl')\n",
    "val_data_s = pd.read_pickle(path / 'df_val_s.pkl')\n",
    "test_data_s = pd.read_pickle(path / 'df_test_s.pkl')"
   ]
  },
  {
   "cell_type": "code",
   "execution_count": 7,
   "id": "84f44ff2-23a6-4e4d-99c2-4fcb15f2fcfa",
   "metadata": {},
   "outputs": [
    {
     "data": {
      "text/html": [
       "<div>\n",
       "<style scoped>\n",
       "    .dataframe tbody tr th:only-of-type {\n",
       "        vertical-align: middle;\n",
       "    }\n",
       "\n",
       "    .dataframe tbody tr th {\n",
       "        vertical-align: top;\n",
       "    }\n",
       "\n",
       "    .dataframe thead th {\n",
       "        text-align: right;\n",
       "    }\n",
       "</style>\n",
       "<table border=\"1\" class=\"dataframe\">\n",
       "  <thead>\n",
       "    <tr style=\"text-align: right;\">\n",
       "      <th></th>\n",
       "      <th>id</th>\n",
       "      <th>date</th>\n",
       "      <th>store_nbr</th>\n",
       "      <th>family</th>\n",
       "      <th>sales</th>\n",
       "      <th>onpromotion</th>\n",
       "      <th>cluster</th>\n",
       "      <th>familycluster</th>\n",
       "      <th>day_of_week</th>\n",
       "      <th>month</th>\n",
       "      <th>...</th>\n",
       "      <th>holiday_Navidad-2</th>\n",
       "      <th>holiday_Navidad-3</th>\n",
       "      <th>holiday_Navidad-4</th>\n",
       "      <th>holiday_Primer dia del ano</th>\n",
       "      <th>holiday_Terremoto Manabi+1</th>\n",
       "      <th>holiday_Terremoto Manabi+2</th>\n",
       "      <th>holiday_Terremoto Manabi+3</th>\n",
       "      <th>holiday_Terremoto Manabi+4</th>\n",
       "      <th>holiday_Terremoto Manabi+5</th>\n",
       "      <th>holiday_Traslado Primer dia del ano</th>\n",
       "    </tr>\n",
       "  </thead>\n",
       "  <tbody>\n",
       "    <tr>\n",
       "      <th>1125201</th>\n",
       "      <td>1298293</td>\n",
       "      <td>2015-01-01</td>\n",
       "      <td>37</td>\n",
       "      <td>CLEANING</td>\n",
       "      <td>0.0</td>\n",
       "      <td>0.000000</td>\n",
       "      <td>2</td>\n",
       "      <td>5</td>\n",
       "      <td>3</td>\n",
       "      <td>1</td>\n",
       "      <td>...</td>\n",
       "      <td>False</td>\n",
       "      <td>False</td>\n",
       "      <td>False</td>\n",
       "      <td>True</td>\n",
       "      <td>False</td>\n",
       "      <td>False</td>\n",
       "      <td>False</td>\n",
       "      <td>False</td>\n",
       "      <td>False</td>\n",
       "      <td>False</td>\n",
       "    </tr>\n",
       "    <tr>\n",
       "      <th>1125202</th>\n",
       "      <td>1298518</td>\n",
       "      <td>2015-01-01</td>\n",
       "      <td>43</td>\n",
       "      <td>BABY CARE</td>\n",
       "      <td>0.0</td>\n",
       "      <td>0.000000</td>\n",
       "      <td>10</td>\n",
       "      <td>0</td>\n",
       "      <td>3</td>\n",
       "      <td>1</td>\n",
       "      <td>...</td>\n",
       "      <td>False</td>\n",
       "      <td>False</td>\n",
       "      <td>False</td>\n",
       "      <td>True</td>\n",
       "      <td>False</td>\n",
       "      <td>False</td>\n",
       "      <td>False</td>\n",
       "      <td>False</td>\n",
       "      <td>False</td>\n",
       "      <td>False</td>\n",
       "    </tr>\n",
       "    <tr>\n",
       "      <th>1125203</th>\n",
       "      <td>1298517</td>\n",
       "      <td>2015-01-01</td>\n",
       "      <td>43</td>\n",
       "      <td>AUTOMOTIVE</td>\n",
       "      <td>0.0</td>\n",
       "      <td>0.000000</td>\n",
       "      <td>10</td>\n",
       "      <td>5</td>\n",
       "      <td>3</td>\n",
       "      <td>1</td>\n",
       "      <td>...</td>\n",
       "      <td>False</td>\n",
       "      <td>False</td>\n",
       "      <td>False</td>\n",
       "      <td>True</td>\n",
       "      <td>False</td>\n",
       "      <td>False</td>\n",
       "      <td>False</td>\n",
       "      <td>False</td>\n",
       "      <td>False</td>\n",
       "      <td>False</td>\n",
       "    </tr>\n",
       "    <tr>\n",
       "      <th>1125204</th>\n",
       "      <td>1299045</td>\n",
       "      <td>2015-01-01</td>\n",
       "      <td>9</td>\n",
       "      <td>AUTOMOTIVE</td>\n",
       "      <td>0.0</td>\n",
       "      <td>0.000000</td>\n",
       "      <td>6</td>\n",
       "      <td>5</td>\n",
       "      <td>3</td>\n",
       "      <td>1</td>\n",
       "      <td>...</td>\n",
       "      <td>False</td>\n",
       "      <td>False</td>\n",
       "      <td>False</td>\n",
       "      <td>True</td>\n",
       "      <td>False</td>\n",
       "      <td>False</td>\n",
       "      <td>False</td>\n",
       "      <td>False</td>\n",
       "      <td>False</td>\n",
       "      <td>False</td>\n",
       "    </tr>\n",
       "    <tr>\n",
       "      <th>1125205</th>\n",
       "      <td>1298298</td>\n",
       "      <td>2015-01-01</td>\n",
       "      <td>37</td>\n",
       "      <td>GROCERY I</td>\n",
       "      <td>0.0</td>\n",
       "      <td>0.000000</td>\n",
       "      <td>2</td>\n",
       "      <td>5</td>\n",
       "      <td>3</td>\n",
       "      <td>1</td>\n",
       "      <td>...</td>\n",
       "      <td>False</td>\n",
       "      <td>False</td>\n",
       "      <td>False</td>\n",
       "      <td>True</td>\n",
       "      <td>False</td>\n",
       "      <td>False</td>\n",
       "      <td>False</td>\n",
       "      <td>False</td>\n",
       "      <td>False</td>\n",
       "      <td>False</td>\n",
       "    </tr>\n",
       "    <tr>\n",
       "      <th>...</th>\n",
       "      <td>...</td>\n",
       "      <td>...</td>\n",
       "      <td>...</td>\n",
       "      <td>...</td>\n",
       "      <td>...</td>\n",
       "      <td>...</td>\n",
       "      <td>...</td>\n",
       "      <td>...</td>\n",
       "      <td>...</td>\n",
       "      <td>...</td>\n",
       "      <td>...</td>\n",
       "      <td>...</td>\n",
       "      <td>...</td>\n",
       "      <td>...</td>\n",
       "      <td>...</td>\n",
       "      <td>...</td>\n",
       "      <td>...</td>\n",
       "      <td>...</td>\n",
       "      <td>...</td>\n",
       "      <td>...</td>\n",
       "      <td>...</td>\n",
       "    </tr>\n",
       "    <tr>\n",
       "      <th>1318147</th>\n",
       "      <td>1510489</td>\n",
       "      <td>2015-04-30</td>\n",
       "      <td>40</td>\n",
       "      <td>GROCERY II</td>\n",
       "      <td>13.0</td>\n",
       "      <td>0.000000</td>\n",
       "      <td>3</td>\n",
       "      <td>1</td>\n",
       "      <td>3</td>\n",
       "      <td>4</td>\n",
       "      <td>...</td>\n",
       "      <td>False</td>\n",
       "      <td>False</td>\n",
       "      <td>False</td>\n",
       "      <td>False</td>\n",
       "      <td>False</td>\n",
       "      <td>False</td>\n",
       "      <td>False</td>\n",
       "      <td>False</td>\n",
       "      <td>False</td>\n",
       "      <td>False</td>\n",
       "    </tr>\n",
       "    <tr>\n",
       "      <th>1318148</th>\n",
       "      <td>1510485</td>\n",
       "      <td>2015-04-30</td>\n",
       "      <td>40</td>\n",
       "      <td>DELI</td>\n",
       "      <td>303.0</td>\n",
       "      <td>0.067476</td>\n",
       "      <td>3</td>\n",
       "      <td>5</td>\n",
       "      <td>3</td>\n",
       "      <td>4</td>\n",
       "      <td>...</td>\n",
       "      <td>False</td>\n",
       "      <td>False</td>\n",
       "      <td>False</td>\n",
       "      <td>False</td>\n",
       "      <td>False</td>\n",
       "      <td>False</td>\n",
       "      <td>False</td>\n",
       "      <td>False</td>\n",
       "      <td>False</td>\n",
       "      <td>False</td>\n",
       "    </tr>\n",
       "    <tr>\n",
       "      <th>1318149</th>\n",
       "      <td>1510508</td>\n",
       "      <td>2015-04-30</td>\n",
       "      <td>40</td>\n",
       "      <td>SEAFOOD</td>\n",
       "      <td>1.0</td>\n",
       "      <td>0.001350</td>\n",
       "      <td>3</td>\n",
       "      <td>3</td>\n",
       "      <td>3</td>\n",
       "      <td>4</td>\n",
       "      <td>...</td>\n",
       "      <td>False</td>\n",
       "      <td>False</td>\n",
       "      <td>False</td>\n",
       "      <td>False</td>\n",
       "      <td>False</td>\n",
       "      <td>False</td>\n",
       "      <td>False</td>\n",
       "      <td>False</td>\n",
       "      <td>False</td>\n",
       "      <td>False</td>\n",
       "    </tr>\n",
       "    <tr>\n",
       "      <th>1318150</th>\n",
       "      <td>1510491</td>\n",
       "      <td>2015-04-30</td>\n",
       "      <td>40</td>\n",
       "      <td>HOME AND KITCHEN I</td>\n",
       "      <td>67.0</td>\n",
       "      <td>0.001350</td>\n",
       "      <td>3</td>\n",
       "      <td>0</td>\n",
       "      <td>3</td>\n",
       "      <td>4</td>\n",
       "      <td>...</td>\n",
       "      <td>False</td>\n",
       "      <td>False</td>\n",
       "      <td>False</td>\n",
       "      <td>False</td>\n",
       "      <td>False</td>\n",
       "      <td>False</td>\n",
       "      <td>False</td>\n",
       "      <td>False</td>\n",
       "      <td>False</td>\n",
       "      <td>False</td>\n",
       "    </tr>\n",
       "    <tr>\n",
       "      <th>1318151</th>\n",
       "      <td>1510490</td>\n",
       "      <td>2015-04-30</td>\n",
       "      <td>40</td>\n",
       "      <td>HARDWARE</td>\n",
       "      <td>0.0</td>\n",
       "      <td>0.000000</td>\n",
       "      <td>3</td>\n",
       "      <td>4</td>\n",
       "      <td>3</td>\n",
       "      <td>4</td>\n",
       "      <td>...</td>\n",
       "      <td>False</td>\n",
       "      <td>False</td>\n",
       "      <td>False</td>\n",
       "      <td>False</td>\n",
       "      <td>False</td>\n",
       "      <td>False</td>\n",
       "      <td>False</td>\n",
       "      <td>False</td>\n",
       "      <td>False</td>\n",
       "      <td>False</td>\n",
       "    </tr>\n",
       "  </tbody>\n",
       "</table>\n",
       "<p>192951 rows × 29 columns</p>\n",
       "</div>"
      ],
      "text/plain": [
       "              id       date  store_nbr              family  sales  \\\n",
       "1125201  1298293 2015-01-01         37            CLEANING    0.0   \n",
       "1125202  1298518 2015-01-01         43           BABY CARE    0.0   \n",
       "1125203  1298517 2015-01-01         43          AUTOMOTIVE    0.0   \n",
       "1125204  1299045 2015-01-01          9          AUTOMOTIVE    0.0   \n",
       "1125205  1298298 2015-01-01         37           GROCERY I    0.0   \n",
       "...          ...        ...        ...                 ...    ...   \n",
       "1318147  1510489 2015-04-30         40          GROCERY II   13.0   \n",
       "1318148  1510485 2015-04-30         40                DELI  303.0   \n",
       "1318149  1510508 2015-04-30         40             SEAFOOD    1.0   \n",
       "1318150  1510491 2015-04-30         40  HOME AND KITCHEN I   67.0   \n",
       "1318151  1510490 2015-04-30         40            HARDWARE    0.0   \n",
       "\n",
       "         onpromotion  cluster  familycluster  day_of_week  month  ...  \\\n",
       "1125201     0.000000        2              5            3      1  ...   \n",
       "1125202     0.000000       10              0            3      1  ...   \n",
       "1125203     0.000000       10              5            3      1  ...   \n",
       "1125204     0.000000        6              5            3      1  ...   \n",
       "1125205     0.000000        2              5            3      1  ...   \n",
       "...              ...      ...            ...          ...    ...  ...   \n",
       "1318147     0.000000        3              1            3      4  ...   \n",
       "1318148     0.067476        3              5            3      4  ...   \n",
       "1318149     0.001350        3              3            3      4  ...   \n",
       "1318150     0.001350        3              0            3      4  ...   \n",
       "1318151     0.000000        3              4            3      4  ...   \n",
       "\n",
       "         holiday_Navidad-2  holiday_Navidad-3  holiday_Navidad-4  \\\n",
       "1125201              False              False              False   \n",
       "1125202              False              False              False   \n",
       "1125203              False              False              False   \n",
       "1125204              False              False              False   \n",
       "1125205              False              False              False   \n",
       "...                    ...                ...                ...   \n",
       "1318147              False              False              False   \n",
       "1318148              False              False              False   \n",
       "1318149              False              False              False   \n",
       "1318150              False              False              False   \n",
       "1318151              False              False              False   \n",
       "\n",
       "         holiday_Primer dia del ano  holiday_Terremoto Manabi+1  \\\n",
       "1125201                        True                       False   \n",
       "1125202                        True                       False   \n",
       "1125203                        True                       False   \n",
       "1125204                        True                       False   \n",
       "1125205                        True                       False   \n",
       "...                             ...                         ...   \n",
       "1318147                       False                       False   \n",
       "1318148                       False                       False   \n",
       "1318149                       False                       False   \n",
       "1318150                       False                       False   \n",
       "1318151                       False                       False   \n",
       "\n",
       "         holiday_Terremoto Manabi+2  holiday_Terremoto Manabi+3  \\\n",
       "1125201                       False                       False   \n",
       "1125202                       False                       False   \n",
       "1125203                       False                       False   \n",
       "1125204                       False                       False   \n",
       "1125205                       False                       False   \n",
       "...                             ...                         ...   \n",
       "1318147                       False                       False   \n",
       "1318148                       False                       False   \n",
       "1318149                       False                       False   \n",
       "1318150                       False                       False   \n",
       "1318151                       False                       False   \n",
       "\n",
       "         holiday_Terremoto Manabi+4  holiday_Terremoto Manabi+5  \\\n",
       "1125201                       False                       False   \n",
       "1125202                       False                       False   \n",
       "1125203                       False                       False   \n",
       "1125204                       False                       False   \n",
       "1125205                       False                       False   \n",
       "...                             ...                         ...   \n",
       "1318147                       False                       False   \n",
       "1318148                       False                       False   \n",
       "1318149                       False                       False   \n",
       "1318150                       False                       False   \n",
       "1318151                       False                       False   \n",
       "\n",
       "         holiday_Traslado Primer dia del ano  \n",
       "1125201                                False  \n",
       "1125202                                False  \n",
       "1125203                                False  \n",
       "1125204                                False  \n",
       "1125205                                False  \n",
       "...                                      ...  \n",
       "1318147                                False  \n",
       "1318148                                False  \n",
       "1318149                                False  \n",
       "1318150                                False  \n",
       "1318151                                False  \n",
       "\n",
       "[192951 rows x 29 columns]"
      ]
     },
     "execution_count": 7,
     "metadata": {},
     "output_type": "execute_result"
    }
   ],
   "source": [
    "train_data"
   ]
  },
  {
   "cell_type": "markdown",
   "id": "1a061915",
   "metadata": {},
   "source": [
    "## Modeling ##"
   ]
  },
  {
   "cell_type": "code",
   "execution_count": 8,
   "id": "4227a6b8",
   "metadata": {},
   "outputs": [],
   "source": [
    "# Updated plot_predictions to work with dataframes where the date is not already aggregated\n",
    "# This simply aggregates the dates inside the function\n",
    "def plot_predictions(date, y_test, y_pred, forecast_label, title):\n",
    "    \"\"\"\n",
    "    Plot the actual and predicted time series data.\n",
    "\n",
    "    Parameters:\n",
    "    date (array-like): Date or time index.\n",
    "    y_test (array-like): Actual values.\n",
    "    y_pred (array-like): Predicted values.\n",
    "    forecast_label (str): Label for the forecasted data.\n",
    "    title (str): Title for the plot.\n",
    "    \"\"\"\n",
    "    # Combine the data into a DataFrame\n",
    "    data = pd.DataFrame({'Date': date, 'Actual': y_test, 'Predicted': y_pred})\n",
    "    \n",
    "    # Aggregate the data by date, taking the mean of the values for each day\n",
    "    data = data.groupby('Date').mean().reset_index()\n",
    "    \n",
    "    # Set the custom color palette\n",
    "    custom_palette = sns.color_palette(\"husl\", 2)\n",
    "    sns.set_palette(custom_palette)\n",
    "    \n",
    "    # Create a figure with specified dimensions\n",
    "    plt.figure(figsize=(10, 6))\n",
    "\n",
    "    # Plot the actual data in green\n",
    "    sns.lineplot(data=data, x='Date', y='Actual', label='Actual', color=custom_palette[0])\n",
    "\n",
    "    # Plot the predicted data in blue with the specified label\n",
    "    sns.lineplot(data=data, x='Date', y='Predicted', label=forecast_label, color=custom_palette[1])\n",
    "\n",
    "    # Add a legend to the plot\n",
    "    plt.legend()\n",
    "\n",
    "    # Set the title of the plot\n",
    "    plt.title(title)\n",
    "\n",
    "    # Rotate x-axis labels for better readability\n",
    "    plt.xticks(rotation=45)\n",
    "\n",
    "    # Display the plot\n",
    "    plt.show()"
   ]
  },
  {
   "cell_type": "code",
   "execution_count": 9,
   "id": "a3f08c83",
   "metadata": {},
   "outputs": [],
   "source": [
    "# Define a function to compute the evaluations metrics after the forecast\n",
    "def evaluate_forecast(y_test, forecast):\n",
    "    \"\"\"\n",
    "    Compute MSE, RMSE, and RMSLE for a forecast.\n",
    "\n",
    "    Parameters:\n",
    "    y_test (array-like): Actual values.\n",
    "    forecast (array-like): Predicted values.\n",
    "\n",
    "    Returns:\n",
    "    dict: Dictionary containing MSE, RMSE, and RMSLE.\n",
    "    \"\"\"\n",
    "    def rmsle(predicted, actual):\n",
    "        return np.sqrt(np.mean(np.square(np.log1p(predicted) - np.log1p(actual))))\n",
    "\n",
    "    # Compute Mean Squared Error (MSE)\n",
    "    mse = mean_squared_error(y_test, forecast)\n",
    "    \n",
    "    # Compute Root Mean Squared Error (RMSE)\n",
    "    rmse = np.sqrt(mse)\n",
    "    \n",
    "    # Compute Root Mean Squared Logarithmic Error (RMSLE)\n",
    "    rmsle_value = rmsle(forecast, y_test)\n",
    "    \n",
    "    # Return the evaluation metrics as a dictionary\n",
    "    metrics = {\n",
    "        'MSE': mse,\n",
    "        'RMSE': rmse,\n",
    "        'RMSLE': rmsle_value\n",
    "    }\n",
    "    \n",
    "    return metrics"
   ]
  },
  {
   "cell_type": "code",
   "execution_count": 10,
   "id": "145899ca",
   "metadata": {},
   "outputs": [],
   "source": [
    "# Exogenous variables to help predict sales\n",
    "#ex_variables = ['onpromotion', 'day_of_week', 'lag_1', 'rolling_mean']\n",
    "ex_variables = ['onpromotion', 'day_of_week']"
   ]
  },
  {
   "cell_type": "code",
   "execution_count": null,
   "id": "1ecbec3b-d199-4f07-9c18-0368f912fd62",
   "metadata": {},
   "outputs": [],
   "source": []
  },
  {
   "cell_type": "markdown",
   "id": "aa0d72cc-2aab-4b9b-8547-4f490f3d2ca9",
   "metadata": {},
   "source": [
    "## OLS ##"
   ]
  },
  {
   "cell_type": "markdown",
   "id": "d342da0a-8378-4130-8168-c4d7a823c037",
   "metadata": {},
   "source": [
    "### create dummy variables ###"
   ]
  },
  {
   "cell_type": "code",
   "execution_count": 11,
   "id": "bd752e31-0bed-4f59-a63e-be27332759b3",
   "metadata": {},
   "outputs": [
    {
     "data": {
      "text/plain": [
       "Index(['id', 'date', 'store_nbr', 'family', 'sales', 'onpromotion', 'cluster',\n",
       "       'familycluster', 'day_of_week', 'month', 'year', 'oil_price',\n",
       "       'holiday_Carnaval', 'holiday_Dia de la Madre',\n",
       "       'holiday_Dia del Trabajo', 'holiday_Fundacion de Quito',\n",
       "       'holiday_Independencia de Cuenca',\n",
       "       'holiday_Mundial de futbol Brasil: Ecuador-Suiza', 'holiday_Navidad-1',\n",
       "       'holiday_Navidad-2', 'holiday_Navidad-3', 'holiday_Navidad-4',\n",
       "       'holiday_Primer dia del ano', 'holiday_Terremoto Manabi+1',\n",
       "       'holiday_Terremoto Manabi+2', 'holiday_Terremoto Manabi+3',\n",
       "       'holiday_Terremoto Manabi+4', 'holiday_Terremoto Manabi+5',\n",
       "       'holiday_Traslado Primer dia del ano'],\n",
       "      dtype='object')"
      ]
     },
     "execution_count": 11,
     "metadata": {},
     "output_type": "execute_result"
    }
   ],
   "source": [
    "train_data.columns"
   ]
  },
  {
   "cell_type": "code",
   "execution_count": 12,
   "id": "e56467c6-7eb8-4859-997f-0bcffcbbf8c7",
   "metadata": {},
   "outputs": [],
   "source": [
    "def create_dummy(df):\n",
    "    df2 = df.drop(columns=['store_nbr','family','id','date'])\n",
    "    df2  = pd.get_dummies(df2, columns=['familycluster','cluster']) \n",
    "    return df2\n",
    "\n",
    "def create_dummy(df):\n",
    "    df2 = df.drop(columns=['store_nbr','familycluster','id','date'])\n",
    "    df2  = pd.get_dummies(df2, columns=['family','cluster']) \n",
    "    return df2\n"
   ]
  },
  {
   "cell_type": "code",
   "execution_count": 13,
   "id": "eedeab52-09c4-497c-807a-31d8813d7638",
   "metadata": {},
   "outputs": [],
   "source": [
    "df_train_ols = create_dummy(train_data)\n",
    "df_val_ols = create_dummy(val_data)\n",
    "df_test_ols = create_dummy(test_data)"
   ]
  },
  {
   "cell_type": "code",
   "execution_count": null,
   "id": "da7ca7bb-3216-406f-8331-816b376dd1db",
   "metadata": {},
   "outputs": [],
   "source": []
  },
  {
   "cell_type": "code",
   "execution_count": null,
   "id": "f754169b-9ff4-4dc9-ad43-297485dc13f5",
   "metadata": {},
   "outputs": [],
   "source": []
  },
  {
   "cell_type": "markdown",
   "id": "3a633374-5c8a-47f0-87f6-64adec0e40d7",
   "metadata": {},
   "source": [
    "### scale df ###"
   ]
  },
  {
   "cell_type": "code",
   "execution_count": 14,
   "id": "4659be35-b100-4c98-b05a-710fdbf1fcac",
   "metadata": {},
   "outputs": [],
   "source": [
    "def scale_df(df, colums_to_scale):\n",
    "    # Introduce MinMaxScaler for primary FE \n",
    "    scaler = MinMaxScaler()\n",
    "    # Apply\n",
    "    df[columns_to_scale] = scaler.fit_transform(df[columns_to_scale])\n",
    "    return df"
   ]
  },
  {
   "cell_type": "code",
   "execution_count": null,
   "id": "a014b79a-309b-49de-b64d-48d12a8832ef",
   "metadata": {},
   "outputs": [],
   "source": []
  },
  {
   "cell_type": "code",
   "execution_count": 15,
   "id": "44945907-74c7-4d69-a74b-9846a5b46c09",
   "metadata": {},
   "outputs": [],
   "source": [
    "columns_to_scale =  list(df_train_ols.columns)\n",
    "columns_to_scale.remove('sales')\n",
    "columns_to_scale.remove('onpromotion')\n",
    "columns_to_scale.remove('day_of_week')\n",
    "columns_to_scale.remove('month')\n",
    "columns_to_scale.remove('year')\n",
    "columns_to_scale.remove('oil_price')\n"
   ]
  },
  {
   "cell_type": "code",
   "execution_count": 16,
   "id": "54dc497a-c1b0-4294-b04d-5963e240f4d3",
   "metadata": {},
   "outputs": [],
   "source": [
    "df_train_ols = scale_df(df_train_ols, columns_to_scale)\n",
    "df_val_ols = scale_df(df_val_ols, columns_to_scale)\n",
    "df_test_ols = scale_df(df_test_ols, columns_to_scale)"
   ]
  },
  {
   "cell_type": "code",
   "execution_count": null,
   "id": "2c52c60e-8557-4845-a91e-48ae293a4f08",
   "metadata": {},
   "outputs": [],
   "source": []
  },
  {
   "cell_type": "markdown",
   "id": "41249eb7-34b3-4175-a9da-89a78ff31546",
   "metadata": {},
   "source": [
    "### add constant ###"
   ]
  },
  {
   "cell_type": "code",
   "execution_count": 30,
   "id": "48fdd75c",
   "metadata": {},
   "outputs": [],
   "source": [
    "X_ols = df_train_ols.drop(columns=['sales'])\n",
    "# add constant for linear regression\n",
    "\n",
    "X_ols.insert(0, 'const',1)\n",
    "\n",
    "\n",
    "#X_ols = sm.add_constant(X_ols)\n",
    "y_ols = train_data['sales']\n",
    "y_ols = df_train_ols['sales']"
   ]
  },
  {
   "cell_type": "code",
   "execution_count": null,
   "id": "33d3b6e1-2d2d-45a1-b604-f91852be9fa9",
   "metadata": {
    "scrolled": true
   },
   "outputs": [],
   "source": []
  },
  {
   "cell_type": "code",
   "execution_count": 31,
   "id": "e68de4e4-98e4-4fc2-918a-35c062369eab",
   "metadata": {},
   "outputs": [],
   "source": [
    "X_val_ols = df_val_ols.drop(columns=['sales'])\n",
    "# add constant for linear regression\n",
    "X_val_ols.insert(0, 'const',1)\n",
    "y_val_ols = df_val_ols['sales']"
   ]
  },
  {
   "cell_type": "code",
   "execution_count": null,
   "id": "e2fa47fb-45e5-4d5e-a248-f8f9d5a22c20",
   "metadata": {},
   "outputs": [],
   "source": []
  },
  {
   "cell_type": "code",
   "execution_count": 32,
   "id": "5072d211-9482-4445-a640-369133f15ac6",
   "metadata": {},
   "outputs": [],
   "source": [
    "X_test_ols = df_test_ols.drop(columns=['sales'])\n",
    "# add constant for linear regression\n",
    "X_test_ols.insert(0, 'const',1)\n",
    "y_test_ols = df_test_ols['sales']"
   ]
  },
  {
   "cell_type": "code",
   "execution_count": 33,
   "id": "0464dc8a-e620-411d-8737-069b2ed036bf",
   "metadata": {},
   "outputs": [
    {
     "name": "stdout",
     "output_type": "stream",
     "text": [
      "(32340, 73) (32340,) (40986, 73) (40986,)\n"
     ]
    }
   ],
   "source": [
    "print(X_val_ols.shape,y_val_ols.shape, X_test_ols.shape, y_test_ols.shape)"
   ]
  },
  {
   "cell_type": "code",
   "execution_count": null,
   "id": "b5715d17-d65e-47ea-bc32-1f5daf644ed7",
   "metadata": {},
   "outputs": [],
   "source": []
  },
  {
   "cell_type": "code",
   "execution_count": 34,
   "id": "593c35c3-fc19-400e-8d62-a61d1e53aa34",
   "metadata": {},
   "outputs": [],
   "source": [
    "model_OLS = sm.OLS(y_ols,X_ols).fit()\n",
    "model_summary = model_OLS.summary()"
   ]
  },
  {
   "cell_type": "code",
   "execution_count": 35,
   "id": "3d390911-ef8c-4921-8b5c-d31af5e31aad",
   "metadata": {},
   "outputs": [],
   "source": [
    "#model_summary"
   ]
  },
  {
   "cell_type": "code",
   "execution_count": 36,
   "id": "fd431079-c114-44c4-8051-c72863fff3fe",
   "metadata": {},
   "outputs": [
    {
     "name": "stdout",
     "output_type": "stream",
     "text": [
      "(32340, 73) (192951, 73)\n"
     ]
    }
   ],
   "source": [
    "print(X_val_ols.shape, X_ols.shape)"
   ]
  },
  {
   "cell_type": "code",
   "execution_count": null,
   "id": "c3f7f6f3-388f-4c3c-a18d-78b612723a09",
   "metadata": {},
   "outputs": [],
   "source": []
  },
  {
   "cell_type": "code",
   "execution_count": 39,
   "id": "2def4556-1334-4116-8ba2-702b07d7bf63",
   "metadata": {},
   "outputs": [
    {
     "data": {
      "text/plain": [
       "{'MSE': 299766.58094312425,\n",
       " 'RMSE': 547.5094345699663,\n",
       " 'RMSLE': 2.3634026066847333}"
      ]
     },
     "execution_count": 39,
     "metadata": {},
     "output_type": "execute_result"
    }
   ],
   "source": [
    "# validation metrics\n",
    "val_ols_predictions = model_OLS.predict(X_val_ols)\n",
    "ols_metrics = evaluate_forecast(y_val_ols, val_ols_predictions)\n",
    "\n",
    "ols_metrics"
   ]
  },
  {
   "cell_type": "code",
   "execution_count": 40,
   "id": "fa8dbe52-9f46-4c8e-b7bc-87dcaea51105",
   "metadata": {},
   "outputs": [
    {
     "data": {
      "text/plain": [
       "{'MSE': 631900.2483227658,\n",
       " 'RMSE': 794.9215359535592,\n",
       " 'RMSLE': 2.185603756248407}"
      ]
     },
     "execution_count": 40,
     "metadata": {},
     "output_type": "execute_result"
    }
   ],
   "source": [
    "# test metrics\n",
    "test_ols_predictions = model_OLS.predict(X_test_ols)\n",
    "ols_metrics_test = evaluate_forecast(y_test_ols, test_ols_predictions)\n",
    "\n",
    "ols_metrics_test"
   ]
  },
  {
   "cell_type": "code",
   "execution_count": null,
   "id": "bf971e5e-6e56-4623-9855-fbfede072de9",
   "metadata": {},
   "outputs": [],
   "source": []
  },
  {
   "cell_type": "code",
   "execution_count": null,
   "id": "98d2f837-5d15-4601-b0c4-8cadebcd389b",
   "metadata": {},
   "outputs": [],
   "source": []
  },
  {
   "cell_type": "code",
   "execution_count": 43,
   "id": "8abf4da6-5833-451c-8b5e-363af1203ea9",
   "metadata": {},
   "outputs": [
    {
     "data": {
      "image/png": "[encoded data removed]",
      "text/plain": [
       "<Figure size 1000x600 with 1 Axes>"
      ]
     },
     "metadata": {},
     "output_type": "display_data"
    }
   ],
   "source": [
    "plot_predictions(test_data['date'],y_test_ols, test_ols_predictions, 'OLS Forecast', 'OLS vs. Actual') #need toconvert series to dfs"
   ]
  },
  {
   "cell_type": "code",
   "execution_count": null,
   "id": "c6a63fe8-08f3-46c4-afbf-9f11d7f46cbc",
   "metadata": {},
   "outputs": [],
   "source": []
  },
  {
   "cell_type": "code",
   "execution_count": null,
   "id": "9c042114-4946-4dc4-a6ca-bb58fd4f9d64",
   "metadata": {},
   "outputs": [],
   "source": []
  },
  {
   "cell_type": "code",
   "execution_count": null,
   "id": "d76326ab-5a25-4dcc-9161-29e047f90057",
   "metadata": {},
   "outputs": [],
   "source": []
  },
  {
   "cell_type": "code",
   "execution_count": null,
   "id": "a59fb1c2-dc72-4dce-beaf-e1de705552f6",
   "metadata": {},
   "outputs": [],
   "source": []
  },
  {
   "cell_type": "markdown",
   "id": "4d5283b2-533f-4c7e-9a15-16c1f58cf7db",
   "metadata": {},
   "source": [
    "## SARIMA ##"
   ]
  },
  {
   "cell_type": "code",
   "execution_count": null,
   "id": "00557f07-b9a0-4b47-b837-bdfc22589b53",
   "metadata": {},
   "outputs": [],
   "source": []
  },
  {
   "cell_type": "code",
   "execution_count": 189,
   "id": "3ba899fa-0aa7-4a17-a1bd-23da67827339",
   "metadata": {},
   "outputs": [
    {
     "ename": "NameError",
     "evalue": "name 'train_data_s' is not defined",
     "output_type": "error",
     "traceback": [
      "\u001b[1;31m---------------------------------------------------------------------------\u001b[0m",
      "\u001b[1;31mNameError\u001b[0m                                 Traceback (most recent call last)",
      "Cell \u001b[1;32mIn[189], line 1\u001b[0m\n\u001b[1;32m----> 1\u001b[0m train_data_sarima \u001b[38;5;241m=\u001b[39m \u001b[43mtrain_data_s\u001b[49m[train_data_s[\u001b[38;5;124m'\u001b[39m\u001b[38;5;124mdate\u001b[39m\u001b[38;5;124m'\u001b[39m]\u001b[38;5;241m==\u001b[39m\u001b[38;5;124m'\u001b[39m\u001b[38;5;124m2015-09-01\u001b[39m\u001b[38;5;124m'\u001b[39m]\n\u001b[0;32m      2\u001b[0m train_data_sarima \u001b[38;5;241m=\u001b[39m train_data_s\u001b[38;5;241m.\u001b[39mset_index(\u001b[38;5;124m'\u001b[39m\u001b[38;5;124mdate\u001b[39m\u001b[38;5;124m'\u001b[39m)\n\u001b[0;32m      3\u001b[0m val_data_sarima \u001b[38;5;241m=\u001b[39m val_data_s\u001b[38;5;241m.\u001b[39mset_index(\u001b[38;5;124m'\u001b[39m\u001b[38;5;124mdate\u001b[39m\u001b[38;5;124m'\u001b[39m)\n",
      "\u001b[1;31mNameError\u001b[0m: name 'train_data_s' is not defined"
     ]
    }
   ],
   "source": [
    "train_data_sarima = train_data_s[train_data_s['date']=='2015-09-01']\n",
    "train_data_sarima = train_data_s.set_index('date')\n",
    "val_data_sarima = val_data_s.set_index('date')"
   ]
  },
  {
   "cell_type": "code",
   "execution_count": null,
   "id": "da98fe0b-1bd4-4337-820b-5a1afbe35725",
   "metadata": {},
   "outputs": [],
   "source": []
  },
  {
   "cell_type": "code",
   "execution_count": 60,
   "id": "e758a725-be92-4d29-a424-0163cc7a6882",
   "metadata": {
    "scrolled": true
   },
   "outputs": [],
   "source": [
    "train_data_sarima_exog = train_data_sarima[['familycluster','cluster']]\n",
    "y_train_sarima_endog = train_data_sarima['sales']\n",
    "\n",
    "val_data_sarima_exog = val_data_sarima[['familycluster','cluster']]\n",
    "y_val_sarima_endog = val_data_sarima['sales']"
   ]
  },
  {
   "cell_type": "code",
   "execution_count": 61,
   "id": "f6ac0e90-331e-43f8-9b2c-64ff65a3d540",
   "metadata": {},
   "outputs": [
    {
     "data": {
      "text/html": [
       "<div>\n",
       "<style scoped>\n",
       "    .dataframe tbody tr th:only-of-type {\n",
       "        vertical-align: middle;\n",
       "    }\n",
       "\n",
       "    .dataframe tbody tr th {\n",
       "        vertical-align: top;\n",
       "    }\n",
       "\n",
       "    .dataframe thead th {\n",
       "        text-align: right;\n",
       "    }\n",
       "</style>\n",
       "<table border=\"1\" class=\"dataframe\">\n",
       "  <thead>\n",
       "    <tr style=\"text-align: right;\">\n",
       "      <th></th>\n",
       "      <th>familycluster</th>\n",
       "      <th>cluster</th>\n",
       "    </tr>\n",
       "    <tr>\n",
       "      <th>date</th>\n",
       "      <th></th>\n",
       "      <th></th>\n",
       "    </tr>\n",
       "  </thead>\n",
       "  <tbody>\n",
       "    <tr>\n",
       "      <th>2016-10-03</th>\n",
       "      <td>0</td>\n",
       "      <td>4</td>\n",
       "    </tr>\n",
       "    <tr>\n",
       "      <th>2016-10-03</th>\n",
       "      <td>5</td>\n",
       "      <td>4</td>\n",
       "    </tr>\n",
       "    <tr>\n",
       "      <th>2016-10-03</th>\n",
       "      <td>2</td>\n",
       "      <td>4</td>\n",
       "    </tr>\n",
       "    <tr>\n",
       "      <th>2016-10-03</th>\n",
       "      <td>1</td>\n",
       "      <td>4</td>\n",
       "    </tr>\n",
       "    <tr>\n",
       "      <th>2016-10-03</th>\n",
       "      <td>0</td>\n",
       "      <td>15</td>\n",
       "    </tr>\n",
       "    <tr>\n",
       "      <th>...</th>\n",
       "      <td>...</td>\n",
       "      <td>...</td>\n",
       "    </tr>\n",
       "    <tr>\n",
       "      <th>2017-03-13</th>\n",
       "      <td>5</td>\n",
       "      <td>14</td>\n",
       "    </tr>\n",
       "    <tr>\n",
       "      <th>2017-03-13</th>\n",
       "      <td>0</td>\n",
       "      <td>3</td>\n",
       "    </tr>\n",
       "    <tr>\n",
       "      <th>2017-03-13</th>\n",
       "      <td>5</td>\n",
       "      <td>3</td>\n",
       "    </tr>\n",
       "    <tr>\n",
       "      <th>2017-03-13</th>\n",
       "      <td>3</td>\n",
       "      <td>3</td>\n",
       "    </tr>\n",
       "    <tr>\n",
       "      <th>2017-03-13</th>\n",
       "      <td>0</td>\n",
       "      <td>3</td>\n",
       "    </tr>\n",
       "  </tbody>\n",
       "</table>\n",
       "<p>276569 rows × 2 columns</p>\n",
       "</div>"
      ],
      "text/plain": [
       "            familycluster  cluster\n",
       "date                              \n",
       "2016-10-03              0        4\n",
       "2016-10-03              5        4\n",
       "2016-10-03              2        4\n",
       "2016-10-03              1        4\n",
       "2016-10-03              0       15\n",
       "...                   ...      ...\n",
       "2017-03-13              5       14\n",
       "2017-03-13              0        3\n",
       "2017-03-13              5        3\n",
       "2017-03-13              3        3\n",
       "2017-03-13              0        3\n",
       "\n",
       "[276569 rows x 2 columns]"
      ]
     },
     "execution_count": 61,
     "metadata": {},
     "output_type": "execute_result"
    }
   ],
   "source": [
    "val_data_sarima_exog"
   ]
  },
  {
   "cell_type": "code",
   "execution_count": 22,
   "id": "7358480b-7a24-466b-98d0-506d0fc122b8",
   "metadata": {},
   "outputs": [
    {
     "data": {
      "image/png": "[encoded data removed]",
      "text/plain": [
       "<Figure size 1200x600 with 2 Axes>"
      ]
     },
     "metadata": {},
     "output_type": "display_data"
    }
   ],
   "source": [
    "# Group by date to sum sales\n",
    "\n",
    "ts = train_data_sarima.groupby(train_data_sarima['date'])['sales'].sum()\n",
    "#ts = train_data_sarima.groupby(train_data_sarima.index)['sales'].sum()\n",
    "fig, (ax1,ax2) = plt.subplots(2, 1, figsize=(12,6))\n",
    "\n",
    "# Plot ACF\n",
    "sm.graphics.tsa.plot_acf(ts, lags=40, ax=ax1)\n",
    "ax1.set_title('ACF')\n",
    "\n",
    "# Plot PACF\n",
    "sm.graphics.tsa.plot_pacf(ts, lags=40, ax=ax2)\n",
    "ax2.set_title('PACF')\n",
    "\n",
    "plt.tight_layout(pad=2.0)\n",
    "\n",
    "plt.show()"
   ]
  },
  {
   "cell_type": "markdown",
   "id": "024305e3-25b1-427c-ba43-cef07099ba1c",
   "metadata": {},
   "source": [
    "# runs into memory error when trying to run. will have to manually find hyperparams\n",
    "start_time = time.time()\n",
    "sarima_model = auto_arima(train_data_sarima['sales']\n",
    "                          #, exogenous=train_data_s[['familycluster', 'onpromotion','holiday']]\n",
    "                          #, exogenous=train_data_s[['familycluster']]\n",
    "                          , start_p=0 , max_p=3, start_P=0 , max_P=3 \n",
    "                          , d=None , D=1 #not sure this is a good value for d\n",
    "                          , start_q=0 , max_q= 3 , start_Q=0 , max_Q=3\n",
    "                          , random=True, n_fits=2\n",
    "                          , seasonal=True, m=12, random_state=21, trace=True )\n",
    "\n",
    "end_time = time.time()\n",
    "elapsed_time = end_time - start_time"
   ]
  },
  {
   "cell_type": "markdown",
   "id": "6b6dce11-b996-419d-9542-c407663bff54",
   "metadata": {},
   "source": [
    "# too slow to get results\n",
    "def ad_fuller(timeseries):\n",
    "    print ('Dickey-Fuller Test indicates:')\n",
    "    df_test = adfuller(timeseries, regression='ct', autolag='AIC')\n",
    "    output = pd.Series(df_test[0:4], index=['Test Statistic','p-value','#Lags Used','Number of Observations Used'])\n",
    "    print(output)\n",
    "\n",
    "print(ad_fuller(train_data_s['sales']))"
   ]
  },
  {
   "cell_type": "code",
   "execution_count": 37,
   "id": "bacb2581-c2c4-42ad-98bd-eb416f5c6f2d",
   "metadata": {},
   "outputs": [
    {
     "data": {
      "text/plain": [
       "0            0.000\n",
       "1          186.000\n",
       "2          143.000\n",
       "3           71.090\n",
       "4           46.000\n",
       "            ...   \n",
       "2212552    214.000\n",
       "2212553     13.000\n",
       "2212554    786.588\n",
       "2212555    610.000\n",
       "2212556    377.000\n",
       "Name: sales, Length: 2212557, dtype: float64"
      ]
     },
     "execution_count": 37,
     "metadata": {},
     "output_type": "execute_result"
    }
   ],
   "source": []
  },
  {
   "cell_type": "code",
   "execution_count": 62,
   "id": "1db6529c-5926-4015-bb9e-db0401d0509a",
   "metadata": {},
   "outputs": [],
   "source": [
    "# Define the instance\n",
    "model_sarima = sm.tsa.SARIMAX(endog=y_train_sarima_endog, exog=train_data_sarima_exog, order=(1,1,1), seasonal_order=(1,1,1,12))\n",
    "\n"
   ]
  },
  {
   "cell_type": "code",
   "execution_count": 63,
   "id": "3126952f-5ccb-4b2a-a158-2444b40d2c7a",
   "metadata": {},
   "outputs": [
    {
     "ename": "MemoryError",
     "evalue": "Unable to allocate 12.0 GiB for an array with shape (27, 27, 2212557) and data type float64",
     "output_type": "error",
     "traceback": [
      "\u001b[1;31m---------------------------------------------------------------------------\u001b[0m",
      "\u001b[1;31mMemoryError\u001b[0m                               Traceback (most recent call last)",
      "File \u001b[1;32mstatsmodels\\tsa\\statespace\\_kalman_smoother.pyx:1000\u001b[0m, in \u001b[0;36mstatsmodels.tsa.statespace._kalman_smoother.dKalmanSmoother.allocate_arrays\u001b[1;34m()\u001b[0m\n",
      "\u001b[1;31mMemoryError\u001b[0m: Unable to allocate 12.0 GiB for an array with shape (27, 27, 2212557) and data type float64"
     ]
    },
    {
     "name": "stderr",
     "output_type": "stream",
     "text": [
      "Exception ignored in: 'statsmodels.tsa.statespace._kalman_smoother.dKalmanSmoother.reset_filter_method'\n",
      "Traceback (most recent call last):\n",
      "  File \"statsmodels\\tsa\\statespace\\_kalman_smoother.pyx\", line 1000, in statsmodels.tsa.statespace._kalman_smoother.dKalmanSmoother.allocate_arrays\n",
      "numpy.core._exceptions._ArrayMemoryError: Unable to allocate 12.0 GiB for an array with shape (27, 27, 2212557) and data type float64\n"
     ]
    },
    {
     "ename": "AttributeError",
     "evalue": "Memoryview is not initialized",
     "output_type": "error",
     "traceback": [
      "\u001b[1;31m---------------------------------------------------------------------------\u001b[0m",
      "\u001b[1;31mAttributeError\u001b[0m                            Traceback (most recent call last)",
      "Cell \u001b[1;32mIn[63], line 2\u001b[0m\n\u001b[0;32m      1\u001b[0m \u001b[38;5;66;03m# Fit the model\u001b[39;00m\n\u001b[1;32m----> 2\u001b[0m results_sarima \u001b[38;5;241m=\u001b[39m \u001b[43mmodel_sarima\u001b[49m\u001b[38;5;241;43m.\u001b[39;49m\u001b[43mfit\u001b[49m\u001b[43m(\u001b[49m\u001b[43m)\u001b[49m\n",
      "File \u001b[1;32m~\\venv2\\lib\\site-packages\\statsmodels\\tsa\\statespace\\mlemodel.py:728\u001b[0m, in \u001b[0;36mMLEModel.fit\u001b[1;34m(self, start_params, transformed, includes_fixed, cov_type, cov_kwds, method, maxiter, full_output, disp, callback, return_params, optim_score, optim_complex_step, optim_hessian, flags, low_memory, **kwargs)\u001b[0m\n\u001b[0;32m    726\u001b[0m \u001b[38;5;28;01melse\u001b[39;00m:\n\u001b[0;32m    727\u001b[0m     func \u001b[38;5;241m=\u001b[39m \u001b[38;5;28mself\u001b[39m\u001b[38;5;241m.\u001b[39msmooth\n\u001b[1;32m--> 728\u001b[0m res \u001b[38;5;241m=\u001b[39m \u001b[43mfunc\u001b[49m\u001b[43m(\u001b[49m\u001b[43mmlefit\u001b[49m\u001b[38;5;241;43m.\u001b[39;49m\u001b[43mparams\u001b[49m\u001b[43m,\u001b[49m\u001b[43m \u001b[49m\u001b[43mtransformed\u001b[49m\u001b[38;5;241;43m=\u001b[39;49m\u001b[38;5;28;43;01mFalse\u001b[39;49;00m\u001b[43m,\u001b[49m\u001b[43m \u001b[49m\u001b[43mincludes_fixed\u001b[49m\u001b[38;5;241;43m=\u001b[39;49m\u001b[38;5;28;43;01mFalse\u001b[39;49;00m\u001b[43m,\u001b[49m\n\u001b[0;32m    729\u001b[0m \u001b[43m           \u001b[49m\u001b[43mcov_type\u001b[49m\u001b[38;5;241;43m=\u001b[39;49m\u001b[43mcov_type\u001b[49m\u001b[43m,\u001b[49m\u001b[43m \u001b[49m\u001b[43mcov_kwds\u001b[49m\u001b[38;5;241;43m=\u001b[39;49m\u001b[43mcov_kwds\u001b[49m\u001b[43m)\u001b[49m\n\u001b[0;32m    731\u001b[0m res\u001b[38;5;241m.\u001b[39mmlefit \u001b[38;5;241m=\u001b[39m mlefit\n\u001b[0;32m    732\u001b[0m res\u001b[38;5;241m.\u001b[39mmle_retvals \u001b[38;5;241m=\u001b[39m mlefit\u001b[38;5;241m.\u001b[39mmle_retvals\n",
      "File \u001b[1;32m~\\venv2\\lib\\site-packages\\statsmodels\\tsa\\statespace\\mlemodel.py:886\u001b[0m, in \u001b[0;36mMLEModel.smooth\u001b[1;34m(self, params, transformed, includes_fixed, complex_step, cov_type, cov_kwds, return_ssm, results_class, results_wrapper_class, **kwargs)\u001b[0m\n\u001b[0;32m    883\u001b[0m     kwargs[\u001b[38;5;124m'\u001b[39m\u001b[38;5;124minversion_method\u001b[39m\u001b[38;5;124m'\u001b[39m] \u001b[38;5;241m=\u001b[39m INVERT_UNIVARIATE \u001b[38;5;241m|\u001b[39m SOLVE_LU\n\u001b[0;32m    885\u001b[0m \u001b[38;5;66;03m# Get the state space output\u001b[39;00m\n\u001b[1;32m--> 886\u001b[0m result \u001b[38;5;241m=\u001b[39m \u001b[38;5;28mself\u001b[39m\u001b[38;5;241m.\u001b[39mssm\u001b[38;5;241m.\u001b[39msmooth(complex_step\u001b[38;5;241m=\u001b[39mcomplex_step, \u001b[38;5;241m*\u001b[39m\u001b[38;5;241m*\u001b[39mkwargs)\n\u001b[0;32m    888\u001b[0m \u001b[38;5;66;03m# Wrap in a results object\u001b[39;00m\n\u001b[0;32m    889\u001b[0m \u001b[38;5;28;01mreturn\u001b[39;00m \u001b[38;5;28mself\u001b[39m\u001b[38;5;241m.\u001b[39m_wrap_results(params, result, return_ssm, cov_type,\n\u001b[0;32m    890\u001b[0m                           cov_kwds, results_class,\n\u001b[0;32m    891\u001b[0m                           results_wrapper_class)\n",
      "File \u001b[1;32m~\\venv2\\lib\\site-packages\\statsmodels\\tsa\\statespace\\kalman_smoother.py:419\u001b[0m, in \u001b[0;36mKalmanSmoother.smooth\u001b[1;34m(self, smoother_output, smooth_method, results, run_filter, prefix, complex_step, update_representation, update_filter, update_smoother, **kwargs)\u001b[0m\n\u001b[0;32m    417\u001b[0m \u001b[38;5;28;01mif\u001b[39;00m smoother_output \u001b[38;5;129;01mis\u001b[39;00m \u001b[38;5;28;01mNone\u001b[39;00m:\n\u001b[0;32m    418\u001b[0m     smoother_output \u001b[38;5;241m=\u001b[39m \u001b[38;5;28mself\u001b[39m\u001b[38;5;241m.\u001b[39msmoother_output\n\u001b[1;32m--> 419\u001b[0m smoother \u001b[38;5;241m=\u001b[39m \u001b[38;5;28mself\u001b[39m\u001b[38;5;241m.\u001b[39m_smooth(smoother_output, results\u001b[38;5;241m=\u001b[39mresults, \u001b[38;5;241m*\u001b[39m\u001b[38;5;241m*\u001b[39mkwargs)\n\u001b[0;32m    421\u001b[0m \u001b[38;5;66;03m# Update the results\u001b[39;00m\n\u001b[0;32m    422\u001b[0m \u001b[38;5;28;01mif\u001b[39;00m update_smoother:\n",
      "File \u001b[1;32m~\\venv2\\lib\\site-packages\\statsmodels\\tsa\\statespace\\kalman_smoother.py:369\u001b[0m, in \u001b[0;36mKalmanSmoother._smooth\u001b[1;34m(self, smoother_output, smooth_method, prefix, complex_step, results, **kwargs)\u001b[0m\n\u001b[0;32m    366\u001b[0m smoother \u001b[38;5;241m=\u001b[39m \u001b[38;5;28mself\u001b[39m\u001b[38;5;241m.\u001b[39m_kalman_smoothers[prefix]\n\u001b[0;32m    368\u001b[0m \u001b[38;5;66;03m# Run the smoother\u001b[39;00m\n\u001b[1;32m--> 369\u001b[0m \u001b[43msmoother\u001b[49m\u001b[43m(\u001b[49m\u001b[43m)\u001b[49m\n\u001b[0;32m    371\u001b[0m \u001b[38;5;28;01mreturn\u001b[39;00m smoother\n",
      "File \u001b[1;32mstatsmodels\\tsa\\statespace\\_kalman_smoother.pyx:1214\u001b[0m, in \u001b[0;36mstatsmodels.tsa.statespace._kalman_smoother.dKalmanSmoother.__call__\u001b[1;34m()\u001b[0m\n",
      "File \u001b[1;32mstatsmodels\\tsa\\statespace\\_kalman_smoother.pyx:1239\u001b[0m, in \u001b[0;36mstatsmodels.tsa.statespace._kalman_smoother.dKalmanSmoother.__next__\u001b[1;34m()\u001b[0m\n",
      "File \u001b[1;32mstatsmodels\\tsa\\statespace\\_kalman_smoother.pyx:1435\u001b[0m, in \u001b[0;36mstatsmodels.tsa.statespace._kalman_smoother.dKalmanSmoother.initialize_smoother_object_pointers\u001b[1;34m()\u001b[0m\n",
      "\u001b[1;31mAttributeError\u001b[0m: Memoryview is not initialized"
     ]
    }
   ],
   "source": [
    "# Fit the model\n",
    "results_sarima = model_sarima.fit()\n",
    "\n"
   ]
  },
  {
   "cell_type": "code",
   "execution_count": null,
   "id": "317d7d52-49dc-44e1-abd2-57c017db4bd8",
   "metadata": {},
   "outputs": [],
   "source": [
    "# Make predictions\n",
    "forecast_sarima = results_sarima.predict(start=len(train_data_sarima), end=len(train_data_sarima) + len(val_data_sarima) - 1, dynamic=False)"
   ]
  },
  {
   "cell_type": "code",
   "execution_count": null,
   "id": "43bb5f3f-6a6c-4001-adbc-d07d79ef76a4",
   "metadata": {},
   "outputs": [],
   "source": [
    "sarima_metrics = evaluate_forecast(y_val_sarima, forecast_sarima)\n",
    "\n",
    "sarima_metrics"
   ]
  },
  {
   "cell_type": "code",
   "execution_count": null,
   "id": "7b26935c-b451-449f-8a39-b9046dac4528",
   "metadata": {},
   "outputs": [],
   "source": []
  }
 ],
 "metadata": {
  "kernelspec": {
   "display_name": "Python 3 (ipykernel)",
   "language": "python",
   "name": "python3"
  },
  "language_info": {
   "codemirror_mode": {
    "name": "ipython",
    "version": 3
   },
   "file_extension": ".py",
   "mimetype": "text/x-python",
   "name": "python",
   "nbconvert_exporter": "python",
   "pygments_lexer": "ipython3",
   "version": "3.10.11"
  }
 },
 "nbformat": 4,
 "nbformat_minor": 5
}
