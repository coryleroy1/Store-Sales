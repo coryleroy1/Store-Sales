{
 "cells": [
  {
   "cell_type": "code",
   "execution_count": 2,
   "id": "af84f484-27be-4e37-ae54-c6f69d7631f5",
   "metadata": {},
   "outputs": [
    {
     "name": "stdout",
     "output_type": "stream",
     "text": [
      "Requirement already satisfied: prophet in c:\\python310\\lib\\site-packages (1.1.5)\n",
      "Requirement already satisfied: cmdstanpy>=1.0.4 in c:\\python310\\lib\\site-packages (from prophet) (1.2.1)\n",
      "Requirement already satisfied: numpy>=1.15.4 in c:\\python310\\lib\\site-packages (from prophet) (1.23.3)\n",
      "Requirement already satisfied: matplotlib>=2.0.0 in c:\\python310\\lib\\site-packages (from prophet) (3.6.0)\n",
      "Requirement already satisfied: pandas>=1.0.4 in c:\\python310\\lib\\site-packages (from prophet) (1.5.0)\n",
      "Requirement already satisfied: holidays>=0.25 in c:\\python310\\lib\\site-packages (from prophet) (0.43)\n",
      "Requirement already satisfied: tqdm>=4.36.1 in c:\\python310\\lib\\site-packages (from prophet) (4.64.1)\n",
      "Requirement already satisfied: importlib-resources in c:\\python310\\lib\\site-packages (from prophet) (6.1.1)\n",
      "Requirement already satisfied: stanio~=0.3.0 in c:\\python310\\lib\\site-packages (from cmdstanpy>=1.0.4->prophet) (0.3.0)\n",
      "Requirement already satisfied: python-dateutil in c:\\python310\\lib\\site-packages (from holidays>=0.25->prophet) (2.8.2)\n",
      "Requirement already satisfied: contourpy>=1.0.1 in c:\\python310\\lib\\site-packages (from matplotlib>=2.0.0->prophet) (1.0.5)\n",
      "Requirement already satisfied: cycler>=0.10 in c:\\python310\\lib\\site-packages (from matplotlib>=2.0.0->prophet) (0.11.0)\n",
      "Requirement already satisfied: fonttools>=4.22.0 in c:\\python310\\lib\\site-packages (from matplotlib>=2.0.0->prophet) (4.38.0)\n",
      "Requirement already satisfied: kiwisolver>=1.0.1 in c:\\python310\\lib\\site-packages (from matplotlib>=2.0.0->prophet) (1.4.4)\n",
      "Requirement already satisfied: packaging>=20.0 in c:\\users\\alecb\\appdata\\roaming\\python\\python310\\site-packages (from matplotlib>=2.0.0->prophet) (21.3)\n",
      "Requirement already satisfied: pillow>=6.2.0 in c:\\python310\\lib\\site-packages (from matplotlib>=2.0.0->prophet) (9.2.0)\n",
      "Requirement already satisfied: pyparsing>=2.2.1 in c:\\users\\alecb\\appdata\\roaming\\python\\python310\\site-packages (from matplotlib>=2.0.0->prophet) (3.0.9)\n",
      "Requirement already satisfied: pytz>=2020.1 in c:\\python310\\lib\\site-packages (from pandas>=1.0.4->prophet) (2022.2.1)\n",
      "Requirement already satisfied: colorama in c:\\users\\alecb\\appdata\\roaming\\python\\python310\\site-packages (from tqdm>=4.36.1->prophet) (0.4.5)\n",
      "Requirement already satisfied: six>=1.5 in c:\\python310\\lib\\site-packages (from python-dateutil->holidays>=0.25->prophet) (1.12.0)\n",
      "Note: you may need to restart the kernel to use updated packages.\n"
     ]
    }
   ],
   "source": [
    "pip install prophet"
   ]
  },
  {
   "cell_type": "code",
   "execution_count": 1,
   "id": "1eda8177",
   "metadata": {},
   "outputs": [
    {
     "name": "stderr",
     "output_type": "stream",
     "text": [
      "C:\\Python310\\lib\\site-packages\\tqdm\\auto.py:22: TqdmWarning: IProgress not found. Please update jupyter and ipywidgets. See https://ipywidgets.readthedocs.io/en/stable/user_install.html\n",
      "  from .autonotebook import tqdm as notebook_tqdm\n"
     ]
    }
   ],
   "source": [
    "# Connect to server\n",
    "#import pyodbc\n",
    "#from dotenv import dotenv_values\n",
    "\n",
    "# Datetime\n",
    "from datetime import datetime\n",
    "\n",
    "# Data manipulation\n",
    "import numpy as np\n",
    "import pandas as pd\n",
    "\n",
    "# Visualization\n",
    "import matplotlib.pyplot as plt\n",
    "import plotly.graph_objects as go\n",
    "import plotly.express as px\n",
    "from plotly.subplots import make_subplots\n",
    "import seaborn as sns\n",
    "import missingno as msno\n",
    "from prophet.plot import plot_plotly, plot_components_plotly\n",
    "\n",
    "# Decomposition\n",
    "from statsmodels.tsa.seasonal import seasonal_decompose\n",
    "\n",
    "# Statistical Analysis\n",
    "import scipy.stats as stats\n",
    "from statsmodels.stats.weightstats import ttest_ind\n",
    "import statsmodels.api as sm\n",
    "#from pmdarima.arima import CHTest, nsdiffs\n",
    "#from arch.unitroot import ADF, KPSS\n",
    "from statsmodels.stats.diagnostic import acorr_ljungbox\n",
    "#import phik\n",
    "from statsmodels.tsa.arima.model import ARIMA\n",
    "from statsmodels.tsa.statespace.sarimax import SARIMAX\n",
    "from statsmodels.tsa.holtwinters import ExponentialSmoothing\n",
    "\n",
    "# Machine Learning Modeling\n",
    "from sklearn.preprocessing import StandardScaler, MinMaxScaler\n",
    "from sklearn.compose import ColumnTransformer\n",
    "from sklearn.linear_model import LinearRegression\n",
    "from sklearn.model_selection import RandomizedSearchCV\n",
    "#import xgboost as xgb\n",
    "from sklearn.metrics import mean_squared_error\n",
    "import joblib\n",
    "from sklearn.pipeline import Pipeline\n",
    "from prophet import Prophet\n",
    "\n",
    "import os\n",
    "\n",
    "import random\n",
    "\n",
    "import warnings\n",
    "\n",
    "# ignore warnings\n",
    "warnings.filterwarnings('ignore')\n",
    "\n",
    "from pathlib import Path, PureWindowsPath"
   ]
  },
  {
   "cell_type": "markdown",
   "id": "94593278-9c7d-4d76-88b1-27765ce16116",
   "metadata": {},
   "source": [
    "# Methods to support"
   ]
  },
  {
   "cell_type": "code",
   "execution_count": 2,
   "id": "20fab993-5e50-4d47-ab57-48fdef7fcb3e",
   "metadata": {},
   "outputs": [],
   "source": [
    "import numpy as np\n",
    "from sklearn.metrics import mean_squared_error\n",
    "\n",
    "def evaluate_forecast(y_test, forecast):\n",
    "    \"\"\"\n",
    "    Compute MSE, RMSE, and RMSLE for a forecast.\n",
    "\n",
    "    Parameters:\n",
    "    y_test (array-like): Actual values.\n",
    "    forecast (array-like): Predicted values.\n",
    "\n",
    "    Returns:\n",
    "    dict: Dictionary containing MSE, RMSE, and RMSLE.\n",
    "    \"\"\"\n",
    "    def rmsle(predicted, actual):\n",
    "        return np.sqrt(np.mean(np.square(np.log1p(predicted) - np.log1p(actual))))\n",
    "\n",
    "    # Ensure both forecast and y_test are numpy arrays\n",
    "    y_test = np.array(y_test)\n",
    "    forecast = np.array(forecast)\n",
    "\n",
    "    # Remove any NaN values from the arrays\n",
    "    y_test = y_test[~np.isnan(y_test)]\n",
    "    forecast = forecast[~np.isnan(forecast)]\n",
    "\n",
    "    # Compute Mean Squared Error (MSE)\n",
    "    mse = mean_squared_error(y_test, forecast)\n",
    "    \n",
    "    # Compute Root Mean Squared Error (RMSE)\n",
    "    rmse = np.sqrt(mse)\n",
    "    \n",
    "    # Compute Root Mean Squared Logarithmic Error (RMSLE)\n",
    "    rmsle_value = rmsle(forecast, y_test)\n",
    "    \n",
    "    # Return the evaluation metrics as a dictionary\n",
    "    metrics = {\n",
    "        'MSE': mse,\n",
    "        'RMSE': rmse,\n",
    "        'RMSLE': rmsle_value\n",
    "    }\n",
    "    \n",
    "    return metrics\n"
   ]
  },
  {
   "cell_type": "code",
   "execution_count": 23,
   "id": "87100e6b-4fea-4b58-929a-e54fea9d73f3",
   "metadata": {},
   "outputs": [],
   "source": [
    "# Updated plot_predictions to work with dataframes where the date is not already aggregated\n",
    "# This simply aggregates the dates inside the function\n",
    "def plot_predictions(date, y_test, y_pred, forecast_label, title):\n",
    "    \"\"\"\n",
    "    Plot the actual and predicted time series data.\n",
    "\n",
    "    Parameters:\n",
    "    date (array-like): Date or time index.\n",
    "    y_test (array-like): Actual values.\n",
    "    y_pred (array-like): Predicted values.\n",
    "    forecast_label (str): Label for the forecasted data.\n",
    "    title (str): Title for the plot.\n",
    "    \"\"\"\n",
    "    # Combine the data into a DataFrame\n",
    "    data = pd.DataFrame({'Date': date, 'Actual': y_test, 'Predicted': y_pred})\n",
    "    \n",
    "    # Aggregate the data by date, taking the mean of the values for each day\n",
    "    data = data.groupby('Date').mean().reset_index()\n",
    "    \n",
    "    # Set the custom color palette\n",
    "    custom_palette = sns.color_palette(\"husl\", 2)\n",
    "    sns.set_palette(custom_palette)\n",
    "    \n",
    "    # Create a figure with specified dimensions\n",
    "    plt.figure(figsize=(10, 6))\n",
    "\n",
    "    # Plot the actual data in green\n",
    "    sns.lineplot(data=data, x='Date', y='Actual', label='Actual', color=custom_palette[0])\n",
    "\n",
    "    # Plot the predicted data in blue with the specified label\n",
    "    sns.lineplot(data=data, x='Date', y='Predicted', label=forecast_label, color=custom_palette[1])\n",
    "\n",
    "    # Add a legend to the plot\n",
    "    plt.legend()\n",
    "\n",
    "    # Set the title of the plot\n",
    "    plt.title(title)\n",
    "\n",
    "    # Rotate x-axis labels for better readability\n",
    "    plt.xticks(rotation=45)\n",
    "\n",
    "    # Display the plot\n",
    "    plt.show()"
   ]
  },
  {
   "cell_type": "code",
   "execution_count": 4,
   "id": "13bda86b-5def-4708-b410-65d53a848eaa",
   "metadata": {},
   "outputs": [],
   "source": [
    "path_cwd = Path(PureWindowsPath(os.path.dirname(os.getcwd())))\n",
    "path_cwd\n",
    "path = path_cwd / 'Feature Engineering'"
   ]
  },
  {
   "cell_type": "markdown",
   "id": "c67ef79e",
   "metadata": {},
   "source": [
    "# Prophet Model w/ family cat"
   ]
  },
  {
   "cell_type": "code",
   "execution_count": null,
   "id": "0eb20536-4954-43d3-b2c0-2e6c955bd546",
   "metadata": {},
   "outputs": [],
   "source": [
    "df_test_p = pd.read_pickle(path / 'df_test_fb.pkl')\n",
    "df_train_p = pd.read_pickle(path / 'df_train_fb.pkl')\n",
    "\n",
    "from sklearn.preprocessing import LabelEncoder\n",
    "\n",
    "# Create an instance of LabelEncoder\n",
    "label_encoder = LabelEncoder()\n",
    "\n",
    "# Apply label encoding to the 'family' column\n",
    "df_train_p['family_enc'] = label_encoder.fit_transform(df_train_p['family'])\n",
    "df_test_p['family_enc'] = label_encoder.fit_transform(df_test_p['family'])\n",
    "\n",
    "model_df = df_train_p[['date', 'sales', 'family_enc']]\n",
    "model_df.columns = ['ds', 'y', 'family_enc']\n",
    "model_df['ds'] = pd.to_datetime(model_df['ds'])\n",
    "\n",
    "model_df_test = df_test_p[['date', 'sales', 'family_enc']]\n",
    "model_df_test.columns = ['ds', 'y', 'family_enc']\n",
    "model_df_test['ds'] = pd.to_datetime(model_df_test['ds'])"
   ]
  },
  {
   "cell_type": "code",
   "execution_count": 8,
   "id": "bfeb0963-76e2-4301-ad4b-f342e70e9b11",
   "metadata": {},
   "outputs": [
    {
     "name": "stderr",
     "output_type": "stream",
     "text": [
      "16:11:22 - cmdstanpy - INFO - Chain [1] start processing\n",
      "16:14:33 - cmdstanpy - INFO - Chain [1] done processing\n"
     ]
    },
    {
     "data": {
      "text/plain": [
       "<prophet.forecaster.Prophet at 0x2925609a890>"
      ]
     },
     "execution_count": 8,
     "metadata": {},
     "output_type": "execute_result"
    }
   ],
   "source": [
    "m = Prophet()\n",
    "m.add_regressor('family_enc')\n",
    "m.fit(model_df)\n",
    "\n",
    "forecast = m.predict(model_df_test.drop(columns=\"y\"))\n",
    "\n",
    "evaluate_forecast(model_df_test['y'], forecast['yhat'])"
   ]
  },
  {
   "cell_type": "markdown",
   "id": "691cc522-8f76-4d81-8cc0-f9d0a551ed4a",
   "metadata": {},
   "source": [
    "* RMSLE - 3.72\n",
    "* Features - Timestamp, Family (Encoded w/ Label Encoder)"
   ]
  },
  {
   "cell_type": "code",
   "execution_count": 24,
   "id": "4ad78b18-c5ff-4a80-b624-65fb3e98e999",
   "metadata": {},
   "outputs": [
    {
     "data": {
      "image/png": "[encoded data removed]",
      "text/plain": [
       "<Figure size 1000x600 with 1 Axes>"
      ]
     },
     "metadata": {},
     "output_type": "display_data"
    }
   ],
   "source": [
    "plot_predictions(model_df_test['ds'], model_df_test['y'], forecast['yhat'], 'Prophet Forecast', 'Prophet Model Forecasting')"
   ]
  },
  {
   "cell_type": "markdown",
   "id": "95805d63-b474-4129-8d27-5dc4eaf30f7c",
   "metadata": {},
   "source": [
    "# Prophet Model w/ all one hot encoded features"
   ]
  },
  {
   "cell_type": "code",
   "execution_count": 11,
   "id": "5feb5200-b9c6-4ef8-bf81-06c2c119e15d",
   "metadata": {},
   "outputs": [],
   "source": [
    "df_test_all = pd.read_pickle(path / 'df_test.pkl')\n",
    "df_train_all = pd.read_pickle(path / 'df_train.pkl')"
   ]
  },
  {
   "cell_type": "code",
   "execution_count": 48,
   "id": "8a342122-cd22-4d4d-8025-3eded5eca9d1",
   "metadata": {},
   "outputs": [
    {
     "data": {
      "text/plain": [
       "Index(['date', 'sales', 'onpromotion', 'day_of_week', 'month', 'year',\n",
       "       'oil_price', 'cluster_1', 'cluster_2', 'cluster_3', 'cluster_4',\n",
       "       'cluster_5', 'cluster_6', 'cluster_7', 'cluster_8', 'cluster_9',\n",
       "       'cluster_10', 'cluster_11', 'cluster_12', 'cluster_13', 'cluster_14',\n",
       "       'cluster_15', 'cluster_16', 'cluster_17', 'holiday_Carnaval',\n",
       "       'holiday_Dia de la Madre', 'holiday_Dia del Trabajo',\n",
       "       'holiday_Fundacion de Quito', 'holiday_Independencia de Cuenca',\n",
       "       'holiday_Mundial de futbol Brasil: Ecuador-Suiza', 'holiday_Navidad-1',\n",
       "       'holiday_Navidad-2', 'holiday_Navidad-3', 'holiday_Navidad-4',\n",
       "       'holiday_Primer dia del ano', 'holiday_Terremoto Manabi+1',\n",
       "       'holiday_Terremoto Manabi+2', 'holiday_Terremoto Manabi+3',\n",
       "       'holiday_Terremoto Manabi+4', 'holiday_Terremoto Manabi+5',\n",
       "       'holiday_Traslado Primer dia del ano', 'familycluster_0',\n",
       "       'familycluster_1', 'familycluster_2', 'familycluster_3',\n",
       "       'familycluster_4', 'familycluster_5'],\n",
       "      dtype='object')"
      ]
     },
     "execution_count": 48,
     "metadata": {},
     "output_type": "execute_result"
    }
   ],
   "source": [
    "df_test_all.columns"
   ]
  },
  {
   "cell_type": "code",
   "execution_count": 12,
   "id": "bb00f650-ef66-46f1-872c-e7d7568a4f49",
   "metadata": {},
   "outputs": [],
   "source": [
    "model_df_all = df_train_all\n",
    "model_df_test_all = df_test_all\n",
    "model_df_all.rename(columns = {'date':'ds'}, inplace = True)\n",
    "model_df_all.rename(columns = {'sales':'y'}, inplace = True)\n",
    "model_df_all['ds'] = pd.to_datetime(model_df_all['ds'])\n",
    "model_df_test_all.rename(columns = {'date':'ds'}, inplace = True)\n",
    "model_df_test_all.rename(columns = {'sales':'y'}, inplace = True)\n",
    "model_df_test_all['ds'] = pd.to_datetime(model_df_test_all['ds'])"
   ]
  },
  {
   "cell_type": "code",
   "execution_count": 13,
   "id": "ee3fda9b-b194-4d0d-98b4-cd3b08b184e8",
   "metadata": {},
   "outputs": [
    {
     "data": {
      "text/html": [
       "<div>\n",
       "<style scoped>\n",
       "    .dataframe tbody tr th:only-of-type {\n",
       "        vertical-align: middle;\n",
       "    }\n",
       "\n",
       "    .dataframe tbody tr th {\n",
       "        vertical-align: top;\n",
       "    }\n",
       "\n",
       "    .dataframe thead th {\n",
       "        text-align: right;\n",
       "    }\n",
       "</style>\n",
       "<table border=\"1\" class=\"dataframe\">\n",
       "  <thead>\n",
       "    <tr style=\"text-align: right;\">\n",
       "      <th></th>\n",
       "      <th>ds</th>\n",
       "      <th>y</th>\n",
       "      <th>onpromotion</th>\n",
       "      <th>day_of_week</th>\n",
       "      <th>month</th>\n",
       "      <th>year</th>\n",
       "      <th>oil_price</th>\n",
       "      <th>cluster_1</th>\n",
       "      <th>cluster_2</th>\n",
       "      <th>cluster_3</th>\n",
       "      <th>...</th>\n",
       "      <th>holiday_Terremoto Manabi+3</th>\n",
       "      <th>holiday_Terremoto Manabi+4</th>\n",
       "      <th>holiday_Terremoto Manabi+5</th>\n",
       "      <th>holiday_Traslado Primer dia del ano</th>\n",
       "      <th>familycluster_0</th>\n",
       "      <th>familycluster_1</th>\n",
       "      <th>familycluster_2</th>\n",
       "      <th>familycluster_3</th>\n",
       "      <th>familycluster_4</th>\n",
       "      <th>familycluster_5</th>\n",
       "    </tr>\n",
       "  </thead>\n",
       "  <tbody>\n",
       "    <tr>\n",
       "      <th>844600</th>\n",
       "      <td>2013-01-01</td>\n",
       "      <td>0.000</td>\n",
       "      <td>0.000000</td>\n",
       "      <td>0.166667</td>\n",
       "      <td>0.000000</td>\n",
       "      <td>0.00</td>\n",
       "      <td>0.792965</td>\n",
       "      <td>1.0</td>\n",
       "      <td>0.0</td>\n",
       "      <td>0.0</td>\n",
       "      <td>...</td>\n",
       "      <td>0.0</td>\n",
       "      <td>0.0</td>\n",
       "      <td>0.0</td>\n",
       "      <td>0.0</td>\n",
       "      <td>0.0</td>\n",
       "      <td>0.0</td>\n",
       "      <td>0.0</td>\n",
       "      <td>0.0</td>\n",
       "      <td>0.0</td>\n",
       "      <td>1.0</td>\n",
       "    </tr>\n",
       "    <tr>\n",
       "      <th>844576</th>\n",
       "      <td>2013-01-01</td>\n",
       "      <td>186.000</td>\n",
       "      <td>0.000000</td>\n",
       "      <td>0.166667</td>\n",
       "      <td>0.000000</td>\n",
       "      <td>0.00</td>\n",
       "      <td>0.792965</td>\n",
       "      <td>1.0</td>\n",
       "      <td>0.0</td>\n",
       "      <td>0.0</td>\n",
       "      <td>...</td>\n",
       "      <td>0.0</td>\n",
       "      <td>0.0</td>\n",
       "      <td>0.0</td>\n",
       "      <td>0.0</td>\n",
       "      <td>0.0</td>\n",
       "      <td>0.0</td>\n",
       "      <td>0.0</td>\n",
       "      <td>0.0</td>\n",
       "      <td>0.0</td>\n",
       "      <td>1.0</td>\n",
       "    </tr>\n",
       "    <tr>\n",
       "      <th>844577</th>\n",
       "      <td>2013-01-01</td>\n",
       "      <td>143.000</td>\n",
       "      <td>0.000000</td>\n",
       "      <td>0.166667</td>\n",
       "      <td>0.000000</td>\n",
       "      <td>0.00</td>\n",
       "      <td>0.792965</td>\n",
       "      <td>1.0</td>\n",
       "      <td>0.0</td>\n",
       "      <td>0.0</td>\n",
       "      <td>...</td>\n",
       "      <td>0.0</td>\n",
       "      <td>0.0</td>\n",
       "      <td>0.0</td>\n",
       "      <td>0.0</td>\n",
       "      <td>0.0</td>\n",
       "      <td>0.0</td>\n",
       "      <td>0.0</td>\n",
       "      <td>0.0</td>\n",
       "      <td>0.0</td>\n",
       "      <td>1.0</td>\n",
       "    </tr>\n",
       "    <tr>\n",
       "      <th>844578</th>\n",
       "      <td>2013-01-01</td>\n",
       "      <td>71.090</td>\n",
       "      <td>0.000000</td>\n",
       "      <td>0.166667</td>\n",
       "      <td>0.000000</td>\n",
       "      <td>0.00</td>\n",
       "      <td>0.792965</td>\n",
       "      <td>1.0</td>\n",
       "      <td>0.0</td>\n",
       "      <td>0.0</td>\n",
       "      <td>...</td>\n",
       "      <td>0.0</td>\n",
       "      <td>0.0</td>\n",
       "      <td>0.0</td>\n",
       "      <td>0.0</td>\n",
       "      <td>0.0</td>\n",
       "      <td>0.0</td>\n",
       "      <td>0.0</td>\n",
       "      <td>0.0</td>\n",
       "      <td>0.0</td>\n",
       "      <td>1.0</td>\n",
       "    </tr>\n",
       "    <tr>\n",
       "      <th>844579</th>\n",
       "      <td>2013-01-01</td>\n",
       "      <td>46.000</td>\n",
       "      <td>0.000000</td>\n",
       "      <td>0.166667</td>\n",
       "      <td>0.000000</td>\n",
       "      <td>0.00</td>\n",
       "      <td>0.792965</td>\n",
       "      <td>1.0</td>\n",
       "      <td>0.0</td>\n",
       "      <td>0.0</td>\n",
       "      <td>...</td>\n",
       "      <td>0.0</td>\n",
       "      <td>0.0</td>\n",
       "      <td>0.0</td>\n",
       "      <td>0.0</td>\n",
       "      <td>0.0</td>\n",
       "      <td>0.0</td>\n",
       "      <td>0.0</td>\n",
       "      <td>0.0</td>\n",
       "      <td>0.0</td>\n",
       "      <td>1.0</td>\n",
       "    </tr>\n",
       "    <tr>\n",
       "      <th>...</th>\n",
       "      <td>...</td>\n",
       "      <td>...</td>\n",
       "      <td>...</td>\n",
       "      <td>...</td>\n",
       "      <td>...</td>\n",
       "      <td>...</td>\n",
       "      <td>...</td>\n",
       "      <td>...</td>\n",
       "      <td>...</td>\n",
       "      <td>...</td>\n",
       "      <td>...</td>\n",
       "      <td>...</td>\n",
       "      <td>...</td>\n",
       "      <td>...</td>\n",
       "      <td>...</td>\n",
       "      <td>...</td>\n",
       "      <td>...</td>\n",
       "      <td>...</td>\n",
       "      <td>...</td>\n",
       "      <td>...</td>\n",
       "      <td>...</td>\n",
       "    </tr>\n",
       "    <tr>\n",
       "      <th>1990714</th>\n",
       "      <td>2016-10-03</td>\n",
       "      <td>214.000</td>\n",
       "      <td>0.000000</td>\n",
       "      <td>0.000000</td>\n",
       "      <td>0.818182</td>\n",
       "      <td>0.75</td>\n",
       "      <td>0.267796</td>\n",
       "      <td>0.0</td>\n",
       "      <td>0.0</td>\n",
       "      <td>0.0</td>\n",
       "      <td>...</td>\n",
       "      <td>0.0</td>\n",
       "      <td>0.0</td>\n",
       "      <td>0.0</td>\n",
       "      <td>0.0</td>\n",
       "      <td>0.0</td>\n",
       "      <td>1.0</td>\n",
       "      <td>0.0</td>\n",
       "      <td>0.0</td>\n",
       "      <td>0.0</td>\n",
       "      <td>0.0</td>\n",
       "    </tr>\n",
       "    <tr>\n",
       "      <th>1990715</th>\n",
       "      <td>2016-10-03</td>\n",
       "      <td>13.000</td>\n",
       "      <td>0.000000</td>\n",
       "      <td>0.000000</td>\n",
       "      <td>0.818182</td>\n",
       "      <td>0.75</td>\n",
       "      <td>0.267796</td>\n",
       "      <td>0.0</td>\n",
       "      <td>0.0</td>\n",
       "      <td>0.0</td>\n",
       "      <td>...</td>\n",
       "      <td>0.0</td>\n",
       "      <td>0.0</td>\n",
       "      <td>0.0</td>\n",
       "      <td>0.0</td>\n",
       "      <td>1.0</td>\n",
       "      <td>0.0</td>\n",
       "      <td>0.0</td>\n",
       "      <td>0.0</td>\n",
       "      <td>0.0</td>\n",
       "      <td>0.0</td>\n",
       "    </tr>\n",
       "    <tr>\n",
       "      <th>1990716</th>\n",
       "      <td>2016-10-03</td>\n",
       "      <td>786.588</td>\n",
       "      <td>0.001350</td>\n",
       "      <td>0.000000</td>\n",
       "      <td>0.818182</td>\n",
       "      <td>0.75</td>\n",
       "      <td>0.267796</td>\n",
       "      <td>0.0</td>\n",
       "      <td>0.0</td>\n",
       "      <td>0.0</td>\n",
       "      <td>...</td>\n",
       "      <td>0.0</td>\n",
       "      <td>0.0</td>\n",
       "      <td>0.0</td>\n",
       "      <td>0.0</td>\n",
       "      <td>0.0</td>\n",
       "      <td>0.0</td>\n",
       "      <td>0.0</td>\n",
       "      <td>1.0</td>\n",
       "      <td>0.0</td>\n",
       "      <td>0.0</td>\n",
       "    </tr>\n",
       "    <tr>\n",
       "      <th>1990717</th>\n",
       "      <td>2016-10-03</td>\n",
       "      <td>610.000</td>\n",
       "      <td>0.012146</td>\n",
       "      <td>0.000000</td>\n",
       "      <td>0.818182</td>\n",
       "      <td>0.75</td>\n",
       "      <td>0.267796</td>\n",
       "      <td>0.0</td>\n",
       "      <td>0.0</td>\n",
       "      <td>0.0</td>\n",
       "      <td>...</td>\n",
       "      <td>0.0</td>\n",
       "      <td>0.0</td>\n",
       "      <td>0.0</td>\n",
       "      <td>0.0</td>\n",
       "      <td>0.0</td>\n",
       "      <td>0.0</td>\n",
       "      <td>0.0</td>\n",
       "      <td>0.0</td>\n",
       "      <td>0.0</td>\n",
       "      <td>1.0</td>\n",
       "    </tr>\n",
       "    <tr>\n",
       "      <th>1633584</th>\n",
       "      <td>2016-10-03</td>\n",
       "      <td>377.000</td>\n",
       "      <td>0.010796</td>\n",
       "      <td>0.000000</td>\n",
       "      <td>0.818182</td>\n",
       "      <td>0.75</td>\n",
       "      <td>0.267796</td>\n",
       "      <td>0.0</td>\n",
       "      <td>0.0</td>\n",
       "      <td>0.0</td>\n",
       "      <td>...</td>\n",
       "      <td>0.0</td>\n",
       "      <td>0.0</td>\n",
       "      <td>0.0</td>\n",
       "      <td>0.0</td>\n",
       "      <td>1.0</td>\n",
       "      <td>0.0</td>\n",
       "      <td>0.0</td>\n",
       "      <td>0.0</td>\n",
       "      <td>0.0</td>\n",
       "      <td>0.0</td>\n",
       "    </tr>\n",
       "  </tbody>\n",
       "</table>\n",
       "<p>2212557 rows × 47 columns</p>\n",
       "</div>"
      ],
      "text/plain": [
       "                ds        y  onpromotion  day_of_week     month  year  \\\n",
       "844600  2013-01-01    0.000     0.000000     0.166667  0.000000  0.00   \n",
       "844576  2013-01-01  186.000     0.000000     0.166667  0.000000  0.00   \n",
       "844577  2013-01-01  143.000     0.000000     0.166667  0.000000  0.00   \n",
       "844578  2013-01-01   71.090     0.000000     0.166667  0.000000  0.00   \n",
       "844579  2013-01-01   46.000     0.000000     0.166667  0.000000  0.00   \n",
       "...            ...      ...          ...          ...       ...   ...   \n",
       "1990714 2016-10-03  214.000     0.000000     0.000000  0.818182  0.75   \n",
       "1990715 2016-10-03   13.000     0.000000     0.000000  0.818182  0.75   \n",
       "1990716 2016-10-03  786.588     0.001350     0.000000  0.818182  0.75   \n",
       "1990717 2016-10-03  610.000     0.012146     0.000000  0.818182  0.75   \n",
       "1633584 2016-10-03  377.000     0.010796     0.000000  0.818182  0.75   \n",
       "\n",
       "         oil_price  cluster_1  cluster_2  cluster_3  ...  \\\n",
       "844600    0.792965        1.0        0.0        0.0  ...   \n",
       "844576    0.792965        1.0        0.0        0.0  ...   \n",
       "844577    0.792965        1.0        0.0        0.0  ...   \n",
       "844578    0.792965        1.0        0.0        0.0  ...   \n",
       "844579    0.792965        1.0        0.0        0.0  ...   \n",
       "...            ...        ...        ...        ...  ...   \n",
       "1990714   0.267796        0.0        0.0        0.0  ...   \n",
       "1990715   0.267796        0.0        0.0        0.0  ...   \n",
       "1990716   0.267796        0.0        0.0        0.0  ...   \n",
       "1990717   0.267796        0.0        0.0        0.0  ...   \n",
       "1633584   0.267796        0.0        0.0        0.0  ...   \n",
       "\n",
       "         holiday_Terremoto Manabi+3  holiday_Terremoto Manabi+4  \\\n",
       "844600                          0.0                         0.0   \n",
       "844576                          0.0                         0.0   \n",
       "844577                          0.0                         0.0   \n",
       "844578                          0.0                         0.0   \n",
       "844579                          0.0                         0.0   \n",
       "...                             ...                         ...   \n",
       "1990714                         0.0                         0.0   \n",
       "1990715                         0.0                         0.0   \n",
       "1990716                         0.0                         0.0   \n",
       "1990717                         0.0                         0.0   \n",
       "1633584                         0.0                         0.0   \n",
       "\n",
       "         holiday_Terremoto Manabi+5  holiday_Traslado Primer dia del ano  \\\n",
       "844600                          0.0                                  0.0   \n",
       "844576                          0.0                                  0.0   \n",
       "844577                          0.0                                  0.0   \n",
       "844578                          0.0                                  0.0   \n",
       "844579                          0.0                                  0.0   \n",
       "...                             ...                                  ...   \n",
       "1990714                         0.0                                  0.0   \n",
       "1990715                         0.0                                  0.0   \n",
       "1990716                         0.0                                  0.0   \n",
       "1990717                         0.0                                  0.0   \n",
       "1633584                         0.0                                  0.0   \n",
       "\n",
       "         familycluster_0  familycluster_1  familycluster_2  familycluster_3  \\\n",
       "844600               0.0              0.0              0.0              0.0   \n",
       "844576               0.0              0.0              0.0              0.0   \n",
       "844577               0.0              0.0              0.0              0.0   \n",
       "844578               0.0              0.0              0.0              0.0   \n",
       "844579               0.0              0.0              0.0              0.0   \n",
       "...                  ...              ...              ...              ...   \n",
       "1990714              0.0              1.0              0.0              0.0   \n",
       "1990715              1.0              0.0              0.0              0.0   \n",
       "1990716              0.0              0.0              0.0              1.0   \n",
       "1990717              0.0              0.0              0.0              0.0   \n",
       "1633584              1.0              0.0              0.0              0.0   \n",
       "\n",
       "         familycluster_4  familycluster_5  \n",
       "844600               0.0              1.0  \n",
       "844576               0.0              1.0  \n",
       "844577               0.0              1.0  \n",
       "844578               0.0              1.0  \n",
       "844579               0.0              1.0  \n",
       "...                  ...              ...  \n",
       "1990714              0.0              0.0  \n",
       "1990715              0.0              0.0  \n",
       "1990716              0.0              0.0  \n",
       "1990717              0.0              1.0  \n",
       "1633584              0.0              0.0  \n",
       "\n",
       "[2212557 rows x 47 columns]"
      ]
     },
     "execution_count": 13,
     "metadata": {},
     "output_type": "execute_result"
    }
   ],
   "source": [
    "model_df_all"
   ]
  },
  {
   "cell_type": "code",
   "execution_count": 14,
   "id": "200d4b54-fff3-4607-b780-a9e072a5eda3",
   "metadata": {},
   "outputs": [
    {
     "ename": "KeyboardInterrupt",
     "evalue": "",
     "output_type": "error",
     "traceback": [
      "\u001b[1;31m---------------------------------------------------------------------------\u001b[0m",
      "\u001b[1;31mKeyboardInterrupt\u001b[0m                         Traceback (most recent call last)",
      "Cell \u001b[1;32mIn [14], line 4\u001b[0m\n\u001b[0;32m      2\u001b[0m \u001b[38;5;28;01mfor\u001b[39;00m i \u001b[38;5;129;01min\u001b[39;00m model_df_all\u001b[38;5;241m.\u001b[39mdrop(columns \u001b[38;5;241m=\u001b[39m [\u001b[38;5;124m'\u001b[39m\u001b[38;5;124mds\u001b[39m\u001b[38;5;124m'\u001b[39m, \u001b[38;5;124m'\u001b[39m\u001b[38;5;124my\u001b[39m\u001b[38;5;124m'\u001b[39m])\u001b[38;5;241m.\u001b[39mcolumns:\n\u001b[0;32m      3\u001b[0m     c\u001b[38;5;241m.\u001b[39madd_regressor(i)\n\u001b[1;32m----> 4\u001b[0m c\u001b[38;5;241m.\u001b[39mfit(model_df_all)\n",
      "File \u001b[1;32mC:\\Python310\\lib\\site-packages\\prophet\\forecaster.py:1217\u001b[0m, in \u001b[0;36mProphet.fit\u001b[1;34m(self, df, **kwargs)\u001b[0m\n\u001b[0;32m   1213\u001b[0m \u001b[38;5;28;01mif\u001b[39;00m \u001b[38;5;28mself\u001b[39m\u001b[38;5;241m.\u001b[39mhistory \u001b[38;5;129;01mis\u001b[39;00m \u001b[38;5;129;01mnot\u001b[39;00m \u001b[38;5;28;01mNone\u001b[39;00m:\n\u001b[0;32m   1214\u001b[0m     \u001b[38;5;28;01mraise\u001b[39;00m \u001b[38;5;167;01mException\u001b[39;00m(\u001b[38;5;124m'\u001b[39m\u001b[38;5;124mProphet object can only be fit once. \u001b[39m\u001b[38;5;124m'\u001b[39m\n\u001b[0;32m   1215\u001b[0m                     \u001b[38;5;124m'\u001b[39m\u001b[38;5;124mInstantiate a new object.\u001b[39m\u001b[38;5;124m'\u001b[39m)\n\u001b[1;32m-> 1217\u001b[0m model_inputs \u001b[38;5;241m=\u001b[39m \u001b[38;5;28mself\u001b[39m\u001b[38;5;241m.\u001b[39mpreprocess(df, \u001b[38;5;241m*\u001b[39m\u001b[38;5;241m*\u001b[39mkwargs)\n\u001b[0;32m   1218\u001b[0m initial_params \u001b[38;5;241m=\u001b[39m \u001b[38;5;28mself\u001b[39m\u001b[38;5;241m.\u001b[39mcalculate_initial_params(model_inputs\u001b[38;5;241m.\u001b[39mK)\n\u001b[0;32m   1220\u001b[0m dat \u001b[38;5;241m=\u001b[39m dataclasses\u001b[38;5;241m.\u001b[39masdict(model_inputs)\n",
      "File \u001b[1;32mC:\\Python310\\lib\\site-packages\\prophet\\forecaster.py:1135\u001b[0m, in \u001b[0;36mProphet.preprocess\u001b[1;34m(self, df, **kwargs)\u001b[0m\n\u001b[0;32m   1132\u001b[0m     \u001b[38;5;28;01mraise\u001b[39;00m \u001b[38;5;167;01mValueError\u001b[39;00m(\u001b[38;5;124m'\u001b[39m\u001b[38;5;124mDataframe has less than 2 non-NaN rows.\u001b[39m\u001b[38;5;124m'\u001b[39m)\n\u001b[0;32m   1133\u001b[0m \u001b[38;5;28mself\u001b[39m\u001b[38;5;241m.\u001b[39mhistory_dates \u001b[38;5;241m=\u001b[39m pd\u001b[38;5;241m.\u001b[39mto_datetime(pd\u001b[38;5;241m.\u001b[39mSeries(history[\u001b[38;5;124m'\u001b[39m\u001b[38;5;124mds\u001b[39m\u001b[38;5;124m'\u001b[39m]\u001b[38;5;241m.\u001b[39munique(), name\u001b[38;5;241m=\u001b[39m\u001b[38;5;124m'\u001b[39m\u001b[38;5;124mds\u001b[39m\u001b[38;5;124m'\u001b[39m))\u001b[38;5;241m.\u001b[39msort_values()\n\u001b[1;32m-> 1135\u001b[0m \u001b[38;5;28mself\u001b[39m\u001b[38;5;241m.\u001b[39mhistory \u001b[38;5;241m=\u001b[39m \u001b[38;5;28;43mself\u001b[39;49m\u001b[38;5;241;43m.\u001b[39;49m\u001b[43msetup_dataframe\u001b[49m\u001b[43m(\u001b[49m\u001b[43mhistory\u001b[49m\u001b[43m,\u001b[49m\u001b[43m \u001b[49m\u001b[43minitialize_scales\u001b[49m\u001b[38;5;241;43m=\u001b[39;49m\u001b[38;5;28;43;01mTrue\u001b[39;49;00m\u001b[43m)\u001b[49m\n\u001b[0;32m   1136\u001b[0m \u001b[38;5;28mself\u001b[39m\u001b[38;5;241m.\u001b[39mset_auto_seasonalities()\n\u001b[0;32m   1137\u001b[0m seasonal_features, prior_scales, component_cols, modes \u001b[38;5;241m=\u001b[39m (\n\u001b[0;32m   1138\u001b[0m     \u001b[38;5;28mself\u001b[39m\u001b[38;5;241m.\u001b[39mmake_all_seasonality_features(\u001b[38;5;28mself\u001b[39m\u001b[38;5;241m.\u001b[39mhistory))\n",
      "File \u001b[1;32mC:\\Python310\\lib\\site-packages\\prophet\\forecaster.py:301\u001b[0m, in \u001b[0;36mProphet.setup_dataframe\u001b[1;34m(self, df, initialize_scales)\u001b[0m\n\u001b[0;32m    296\u001b[0m \u001b[38;5;28;01mif\u001b[39;00m name \u001b[38;5;129;01mnot\u001b[39;00m \u001b[38;5;129;01min\u001b[39;00m df:\n\u001b[0;32m    297\u001b[0m     \u001b[38;5;28;01mraise\u001b[39;00m \u001b[38;5;167;01mValueError\u001b[39;00m(\n\u001b[0;32m    298\u001b[0m         \u001b[38;5;124m'\u001b[39m\u001b[38;5;124mRegressor \u001b[39m\u001b[38;5;132;01m{name!r}\u001b[39;00m\u001b[38;5;124m missing from dataframe\u001b[39m\u001b[38;5;124m'\u001b[39m\n\u001b[0;32m    299\u001b[0m         \u001b[38;5;241m.\u001b[39mformat(name\u001b[38;5;241m=\u001b[39mname)\n\u001b[0;32m    300\u001b[0m     )\n\u001b[1;32m--> 301\u001b[0m \u001b[43mdf\u001b[49m\u001b[43m[\u001b[49m\u001b[43mname\u001b[49m\u001b[43m]\u001b[49m \u001b[38;5;241m=\u001b[39m pd\u001b[38;5;241m.\u001b[39mto_numeric(df[name])\n\u001b[0;32m    302\u001b[0m \u001b[38;5;28;01mif\u001b[39;00m df[name]\u001b[38;5;241m.\u001b[39misnull()\u001b[38;5;241m.\u001b[39many():\n\u001b[0;32m    303\u001b[0m     \u001b[38;5;28;01mraise\u001b[39;00m \u001b[38;5;167;01mValueError\u001b[39;00m(\n\u001b[0;32m    304\u001b[0m         \u001b[38;5;124m'\u001b[39m\u001b[38;5;124mFound NaN in column \u001b[39m\u001b[38;5;132;01m{name!r}\u001b[39;00m\u001b[38;5;124m'\u001b[39m\u001b[38;5;241m.\u001b[39mformat(name\u001b[38;5;241m=\u001b[39mname)\n\u001b[0;32m    305\u001b[0m     )\n",
      "File \u001b[1;32mC:\\Python310\\lib\\site-packages\\pandas\\core\\frame.py:3978\u001b[0m, in \u001b[0;36mDataFrame.__setitem__\u001b[1;34m(self, key, value)\u001b[0m\n\u001b[0;32m   3975\u001b[0m     \u001b[38;5;28mself\u001b[39m\u001b[38;5;241m.\u001b[39m_setitem_array([key], value)\n\u001b[0;32m   3976\u001b[0m \u001b[38;5;28;01melse\u001b[39;00m:\n\u001b[0;32m   3977\u001b[0m     \u001b[38;5;66;03m# set column\u001b[39;00m\n\u001b[1;32m-> 3978\u001b[0m     \u001b[38;5;28;43mself\u001b[39;49m\u001b[38;5;241;43m.\u001b[39;49m\u001b[43m_set_item\u001b[49m\u001b[43m(\u001b[49m\u001b[43mkey\u001b[49m\u001b[43m,\u001b[49m\u001b[43m \u001b[49m\u001b[43mvalue\u001b[49m\u001b[43m)\u001b[49m\n",
      "File \u001b[1;32mC:\\Python310\\lib\\site-packages\\pandas\\core\\frame.py:4185\u001b[0m, in \u001b[0;36mDataFrame._set_item\u001b[1;34m(self, key, value)\u001b[0m\n\u001b[0;32m   4182\u001b[0m         \u001b[38;5;28;01mif\u001b[39;00m \u001b[38;5;28misinstance\u001b[39m(existing_piece, DataFrame):\n\u001b[0;32m   4183\u001b[0m             value \u001b[38;5;241m=\u001b[39m np\u001b[38;5;241m.\u001b[39mtile(value, (\u001b[38;5;28mlen\u001b[39m(existing_piece\u001b[38;5;241m.\u001b[39mcolumns), \u001b[38;5;241m1\u001b[39m))\u001b[38;5;241m.\u001b[39mT\n\u001b[1;32m-> 4185\u001b[0m \u001b[38;5;28;43mself\u001b[39;49m\u001b[38;5;241;43m.\u001b[39;49m\u001b[43m_set_item_mgr\u001b[49m\u001b[43m(\u001b[49m\u001b[43mkey\u001b[49m\u001b[43m,\u001b[49m\u001b[43m \u001b[49m\u001b[43mvalue\u001b[49m\u001b[43m)\u001b[49m\n",
      "File \u001b[1;32mC:\\Python310\\lib\\site-packages\\pandas\\core\\frame.py:4144\u001b[0m, in \u001b[0;36mDataFrame._set_item_mgr\u001b[1;34m(self, key, value)\u001b[0m\n\u001b[0;32m   4142\u001b[0m     \u001b[38;5;28mself\u001b[39m\u001b[38;5;241m.\u001b[39m_mgr\u001b[38;5;241m.\u001b[39minsert(\u001b[38;5;28mlen\u001b[39m(\u001b[38;5;28mself\u001b[39m\u001b[38;5;241m.\u001b[39m_info_axis), key, value)\n\u001b[0;32m   4143\u001b[0m \u001b[38;5;28;01melse\u001b[39;00m:\n\u001b[1;32m-> 4144\u001b[0m     \u001b[38;5;28;43mself\u001b[39;49m\u001b[38;5;241;43m.\u001b[39;49m\u001b[43m_iset_item_mgr\u001b[49m\u001b[43m(\u001b[49m\u001b[43mloc\u001b[49m\u001b[43m,\u001b[49m\u001b[43m \u001b[49m\u001b[43mvalue\u001b[49m\u001b[43m)\u001b[49m\n\u001b[0;32m   4146\u001b[0m \u001b[38;5;66;03m# check if we are modifying a copy\u001b[39;00m\n\u001b[0;32m   4147\u001b[0m \u001b[38;5;66;03m# try to set first as we want an invalid\u001b[39;00m\n\u001b[0;32m   4148\u001b[0m \u001b[38;5;66;03m# value exception to occur first\u001b[39;00m\n\u001b[0;32m   4149\u001b[0m \u001b[38;5;28;01mif\u001b[39;00m \u001b[38;5;28mlen\u001b[39m(\u001b[38;5;28mself\u001b[39m):\n",
      "File \u001b[1;32mC:\\Python310\\lib\\site-packages\\pandas\\core\\frame.py:4134\u001b[0m, in \u001b[0;36mDataFrame._iset_item_mgr\u001b[1;34m(self, loc, value, inplace)\u001b[0m\n\u001b[0;32m   4130\u001b[0m \u001b[38;5;28;01mdef\u001b[39;00m \u001b[38;5;21m_iset_item_mgr\u001b[39m(\n\u001b[0;32m   4131\u001b[0m     \u001b[38;5;28mself\u001b[39m, loc: \u001b[38;5;28mint\u001b[39m \u001b[38;5;241m|\u001b[39m \u001b[38;5;28mslice\u001b[39m \u001b[38;5;241m|\u001b[39m np\u001b[38;5;241m.\u001b[39mndarray, value, inplace: \u001b[38;5;28mbool\u001b[39m \u001b[38;5;241m=\u001b[39m \u001b[38;5;28;01mFalse\u001b[39;00m\n\u001b[0;32m   4132\u001b[0m ) \u001b[38;5;241m-\u001b[39m\u001b[38;5;241m>\u001b[39m \u001b[38;5;28;01mNone\u001b[39;00m:\n\u001b[0;32m   4133\u001b[0m     \u001b[38;5;66;03m# when called from _set_item_mgr loc can be anything returned from get_loc\u001b[39;00m\n\u001b[1;32m-> 4134\u001b[0m     \u001b[38;5;28;43mself\u001b[39;49m\u001b[38;5;241;43m.\u001b[39;49m\u001b[43m_mgr\u001b[49m\u001b[38;5;241;43m.\u001b[39;49m\u001b[43miset\u001b[49m\u001b[43m(\u001b[49m\u001b[43mloc\u001b[49m\u001b[43m,\u001b[49m\u001b[43m \u001b[49m\u001b[43mvalue\u001b[49m\u001b[43m,\u001b[49m\u001b[43m \u001b[49m\u001b[43minplace\u001b[49m\u001b[38;5;241;43m=\u001b[39;49m\u001b[43minplace\u001b[49m\u001b[43m)\u001b[49m\n\u001b[0;32m   4135\u001b[0m     \u001b[38;5;28mself\u001b[39m\u001b[38;5;241m.\u001b[39m_clear_item_cache()\n",
      "File \u001b[1;32mC:\\Python310\\lib\\site-packages\\pandas\\core\\internals\\managers.py:1254\u001b[0m, in \u001b[0;36mBlockManager.iset\u001b[1;34m(self, loc, value, inplace)\u001b[0m\n\u001b[0;32m   1252\u001b[0m     removed_blknos\u001b[38;5;241m.\u001b[39mappend(blkno_l)\n\u001b[0;32m   1253\u001b[0m \u001b[38;5;28;01melse\u001b[39;00m:\n\u001b[1;32m-> 1254\u001b[0m     nb \u001b[38;5;241m=\u001b[39m \u001b[43mblk\u001b[49m\u001b[38;5;241;43m.\u001b[39;49m\u001b[43mdelete\u001b[49m\u001b[43m(\u001b[49m\u001b[43mblk_locs\u001b[49m\u001b[43m)\u001b[49m\n\u001b[0;32m   1255\u001b[0m     blocks_tup \u001b[38;5;241m=\u001b[39m (\n\u001b[0;32m   1256\u001b[0m         \u001b[38;5;28mself\u001b[39m\u001b[38;5;241m.\u001b[39mblocks[:blkno_l] \u001b[38;5;241m+\u001b[39m (nb,) \u001b[38;5;241m+\u001b[39m \u001b[38;5;28mself\u001b[39m\u001b[38;5;241m.\u001b[39mblocks[blkno_l \u001b[38;5;241m+\u001b[39m \u001b[38;5;241m1\u001b[39m :]\n\u001b[0;32m   1257\u001b[0m     )\n\u001b[0;32m   1258\u001b[0m     \u001b[38;5;28mself\u001b[39m\u001b[38;5;241m.\u001b[39mblocks \u001b[38;5;241m=\u001b[39m blocks_tup\n",
      "File \u001b[1;32mC:\\Python310\\lib\\site-packages\\pandas\\core\\internals\\blocks.py:1918\u001b[0m, in \u001b[0;36mNumpyBlock.delete\u001b[1;34m(self, loc)\u001b[0m\n\u001b[0;32m   1917\u001b[0m \u001b[38;5;28;01mdef\u001b[39;00m \u001b[38;5;21mdelete\u001b[39m(\u001b[38;5;28mself\u001b[39m, loc) \u001b[38;5;241m-\u001b[39m\u001b[38;5;241m>\u001b[39m Block:\n\u001b[1;32m-> 1918\u001b[0m     values \u001b[38;5;241m=\u001b[39m \u001b[43mnp\u001b[49m\u001b[38;5;241;43m.\u001b[39;49m\u001b[43mdelete\u001b[49m\u001b[43m(\u001b[49m\u001b[38;5;28;43mself\u001b[39;49m\u001b[38;5;241;43m.\u001b[39;49m\u001b[43mvalues\u001b[49m\u001b[43m,\u001b[49m\u001b[43m \u001b[49m\u001b[43mloc\u001b[49m\u001b[43m,\u001b[49m\u001b[43m \u001b[49m\u001b[38;5;241;43m0\u001b[39;49m\u001b[43m)\u001b[49m\n\u001b[0;32m   1919\u001b[0m     mgr_locs \u001b[38;5;241m=\u001b[39m \u001b[38;5;28mself\u001b[39m\u001b[38;5;241m.\u001b[39m_mgr_locs\u001b[38;5;241m.\u001b[39mdelete(loc)\n\u001b[0;32m   1920\u001b[0m     \u001b[38;5;28;01mreturn\u001b[39;00m \u001b[38;5;28mtype\u001b[39m(\u001b[38;5;28mself\u001b[39m)(values, placement\u001b[38;5;241m=\u001b[39mmgr_locs, ndim\u001b[38;5;241m=\u001b[39m\u001b[38;5;28mself\u001b[39m\u001b[38;5;241m.\u001b[39mndim)\n",
      "File \u001b[1;32m<__array_function__ internals>:180\u001b[0m, in \u001b[0;36mdelete\u001b[1;34m(*args, **kwargs)\u001b[0m\n",
      "File \u001b[1;32mC:\\Python310\\lib\\site-packages\\numpy\\lib\\function_base.py:5185\u001b[0m, in \u001b[0;36mdelete\u001b[1;34m(arr, obj, axis)\u001b[0m\n\u001b[0;32m   5182\u001b[0m     slobj[axis] \u001b[38;5;241m=\u001b[39m keep\n\u001b[0;32m   5183\u001b[0m     new \u001b[38;5;241m=\u001b[39m arr[\u001b[38;5;28mtuple\u001b[39m(slobj)]\n\u001b[1;32m-> 5185\u001b[0m \u001b[38;5;28;01mif\u001b[39;00m wrap:\n\u001b[0;32m   5186\u001b[0m     \u001b[38;5;28;01mreturn\u001b[39;00m wrap(new)\n\u001b[0;32m   5187\u001b[0m \u001b[38;5;28;01melse\u001b[39;00m:\n",
      "\u001b[1;31mKeyboardInterrupt\u001b[0m: "
     ]
    }
   ],
   "source": [
    "c = Prophet()\n",
    "for i in model_df_all.drop(columns = ['ds', 'y']).columns:\n",
    "    c.add_regressor(i)\n",
    "c.fit(model_df_all)"
   ]
  },
  {
   "cell_type": "code",
   "execution_count": 62,
   "id": "6d46927f-3582-43ca-aca7-726e145dbb25",
   "metadata": {},
   "outputs": [],
   "source": [
    "forecast = c.predict(model_df_test_all.drop(columns=\"y\"))"
   ]
  },
  {
   "cell_type": "code",
   "execution_count": 64,
   "id": "d42ae929-1067-46b2-8913-e45b82a68ee3",
   "metadata": {},
   "outputs": [
    {
     "data": {
      "text/plain": [
       "{'MSE': 9240871.102214858,\n",
       " 'RMSE': 3039.8801131319074,\n",
       " 'RMSLE': 7.29259899659889}"
      ]
     },
     "execution_count": 64,
     "metadata": {},
     "output_type": "execute_result"
    }
   ],
   "source": [
    "evaluate_forecast(model_df_test_all['y'], forecast['yhat'])"
   ]
  },
  {
   "cell_type": "markdown",
   "id": "248d6ba3-6fd9-4138-8ffb-60317a263f96",
   "metadata": {},
   "source": [
    "# Prophet Model w/ family cat and store sales"
   ]
  },
  {
   "cell_type": "code",
   "execution_count": 5,
   "id": "9ad4f64b-9c1a-4308-82b0-d3fa2baf114a",
   "metadata": {},
   "outputs": [],
   "source": [
    "df_test_p = pd.read_pickle(path / 'df_test_fb.pkl')\n",
    "df_train_p = pd.read_pickle(path / 'df_train_fb.pkl')\n",
    "\n",
    "from sklearn.preprocessing import LabelEncoder\n",
    "\n",
    "# Create an instance of LabelEncoder\n",
    "label_encoder = LabelEncoder()\n",
    "\n",
    "# # Apply label encoding to the 'family' column\n",
    "# df_train_p['family_enc'] = label_encoder.fit_transform(df_train_p['family'])\n",
    "# df_test_p['family_enc'] = label_encoder.fit_transform(df_test_p['family'])\n",
    "\n",
    "model_df = df_train_p[['date', 'sales', 'family', 'store_nbr']]\n",
    "model_df.columns = ['ds', 'y', 'family', 'store_nbr']\n",
    "model_df['ds'] = pd.to_datetime(model_df['ds'])\n",
    "\n",
    "model_df_test = df_test_p[['date', 'sales', 'family', 'store_nbr']]\n",
    "model_df_test.columns = ['ds', 'y', 'family', 'store_nbr']\n",
    "model_df_test['ds'] = pd.to_datetime(model_df_test['ds'])"
   ]
  },
  {
   "cell_type": "code",
   "execution_count": 40,
   "id": "e1cc76da-90bc-4c98-9a10-10a8833fac03",
   "metadata": {},
   "outputs": [
    {
     "name": "stdout",
     "output_type": "stream",
     "text": [
      "family\n",
      "store_nbr\n"
     ]
    },
    {
     "ename": "ValueError",
     "evalue": "Unable to parse string \"SCHOOL AND OFFICE SUPPLIES\" at position 0",
     "output_type": "error",
     "traceback": [
      "\u001b[1;31m---------------------------------------------------------------------------\u001b[0m",
      "\u001b[1;31mValueError\u001b[0m                                Traceback (most recent call last)",
      "File \u001b[1;32mC:\\Python310\\lib\\site-packages\\pandas\\_libs\\lib.pyx:2364\u001b[0m, in \u001b[0;36mpandas._libs.lib.maybe_convert_numeric\u001b[1;34m()\u001b[0m\n",
      "\u001b[1;31mValueError\u001b[0m: Unable to parse string \"SCHOOL AND OFFICE SUPPLIES\"",
      "\nDuring handling of the above exception, another exception occurred:\n",
      "\u001b[1;31mValueError\u001b[0m                                Traceback (most recent call last)",
      "Cell \u001b[1;32mIn [40], line 5\u001b[0m\n\u001b[0;32m      3\u001b[0m     \u001b[38;5;28mprint\u001b[39m(i)\n\u001b[0;32m      4\u001b[0m     m\u001b[38;5;241m.\u001b[39madd_regressor(i)\n\u001b[1;32m----> 5\u001b[0m m\u001b[38;5;241m.\u001b[39mfit(model_df)\n\u001b[0;32m      7\u001b[0m forecast \u001b[38;5;241m=\u001b[39m m\u001b[38;5;241m.\u001b[39mpredict(model_df_test\u001b[38;5;241m.\u001b[39mdrop(columns\u001b[38;5;241m=\u001b[39m\u001b[38;5;124m\"\u001b[39m\u001b[38;5;124my\u001b[39m\u001b[38;5;124m\"\u001b[39m))\n\u001b[0;32m      9\u001b[0m evaluate_forecast(model_df_test[\u001b[38;5;124m'\u001b[39m\u001b[38;5;124my\u001b[39m\u001b[38;5;124m'\u001b[39m], forecast[\u001b[38;5;124m'\u001b[39m\u001b[38;5;124myhat\u001b[39m\u001b[38;5;124m'\u001b[39m])\n",
      "File \u001b[1;32mC:\\Python310\\lib\\site-packages\\prophet\\forecaster.py:1217\u001b[0m, in \u001b[0;36mProphet.fit\u001b[1;34m(self, df, **kwargs)\u001b[0m\n\u001b[0;32m   1213\u001b[0m \u001b[38;5;28;01mif\u001b[39;00m \u001b[38;5;28mself\u001b[39m\u001b[38;5;241m.\u001b[39mhistory \u001b[38;5;129;01mis\u001b[39;00m \u001b[38;5;129;01mnot\u001b[39;00m \u001b[38;5;28;01mNone\u001b[39;00m:\n\u001b[0;32m   1214\u001b[0m     \u001b[38;5;28;01mraise\u001b[39;00m \u001b[38;5;167;01mException\u001b[39;00m(\u001b[38;5;124m'\u001b[39m\u001b[38;5;124mProphet object can only be fit once. \u001b[39m\u001b[38;5;124m'\u001b[39m\n\u001b[0;32m   1215\u001b[0m                     \u001b[38;5;124m'\u001b[39m\u001b[38;5;124mInstantiate a new object.\u001b[39m\u001b[38;5;124m'\u001b[39m)\n\u001b[1;32m-> 1217\u001b[0m model_inputs \u001b[38;5;241m=\u001b[39m \u001b[38;5;28mself\u001b[39m\u001b[38;5;241m.\u001b[39mpreprocess(df, \u001b[38;5;241m*\u001b[39m\u001b[38;5;241m*\u001b[39mkwargs)\n\u001b[0;32m   1218\u001b[0m initial_params \u001b[38;5;241m=\u001b[39m \u001b[38;5;28mself\u001b[39m\u001b[38;5;241m.\u001b[39mcalculate_initial_params(model_inputs\u001b[38;5;241m.\u001b[39mK)\n\u001b[0;32m   1220\u001b[0m dat \u001b[38;5;241m=\u001b[39m dataclasses\u001b[38;5;241m.\u001b[39masdict(model_inputs)\n",
      "File \u001b[1;32mC:\\Python310\\lib\\site-packages\\prophet\\forecaster.py:1135\u001b[0m, in \u001b[0;36mProphet.preprocess\u001b[1;34m(self, df, **kwargs)\u001b[0m\n\u001b[0;32m   1132\u001b[0m     \u001b[38;5;28;01mraise\u001b[39;00m \u001b[38;5;167;01mValueError\u001b[39;00m(\u001b[38;5;124m'\u001b[39m\u001b[38;5;124mDataframe has less than 2 non-NaN rows.\u001b[39m\u001b[38;5;124m'\u001b[39m)\n\u001b[0;32m   1133\u001b[0m \u001b[38;5;28mself\u001b[39m\u001b[38;5;241m.\u001b[39mhistory_dates \u001b[38;5;241m=\u001b[39m pd\u001b[38;5;241m.\u001b[39mto_datetime(pd\u001b[38;5;241m.\u001b[39mSeries(history[\u001b[38;5;124m'\u001b[39m\u001b[38;5;124mds\u001b[39m\u001b[38;5;124m'\u001b[39m]\u001b[38;5;241m.\u001b[39munique(), name\u001b[38;5;241m=\u001b[39m\u001b[38;5;124m'\u001b[39m\u001b[38;5;124mds\u001b[39m\u001b[38;5;124m'\u001b[39m))\u001b[38;5;241m.\u001b[39msort_values()\n\u001b[1;32m-> 1135\u001b[0m \u001b[38;5;28mself\u001b[39m\u001b[38;5;241m.\u001b[39mhistory \u001b[38;5;241m=\u001b[39m \u001b[38;5;28;43mself\u001b[39;49m\u001b[38;5;241;43m.\u001b[39;49m\u001b[43msetup_dataframe\u001b[49m\u001b[43m(\u001b[49m\u001b[43mhistory\u001b[49m\u001b[43m,\u001b[49m\u001b[43m \u001b[49m\u001b[43minitialize_scales\u001b[49m\u001b[38;5;241;43m=\u001b[39;49m\u001b[38;5;28;43;01mTrue\u001b[39;49;00m\u001b[43m)\u001b[49m\n\u001b[0;32m   1136\u001b[0m \u001b[38;5;28mself\u001b[39m\u001b[38;5;241m.\u001b[39mset_auto_seasonalities()\n\u001b[0;32m   1137\u001b[0m seasonal_features, prior_scales, component_cols, modes \u001b[38;5;241m=\u001b[39m (\n\u001b[0;32m   1138\u001b[0m     \u001b[38;5;28mself\u001b[39m\u001b[38;5;241m.\u001b[39mmake_all_seasonality_features(\u001b[38;5;28mself\u001b[39m\u001b[38;5;241m.\u001b[39mhistory))\n",
      "File \u001b[1;32mC:\\Python310\\lib\\site-packages\\prophet\\forecaster.py:301\u001b[0m, in \u001b[0;36mProphet.setup_dataframe\u001b[1;34m(self, df, initialize_scales)\u001b[0m\n\u001b[0;32m    296\u001b[0m \u001b[38;5;28;01mif\u001b[39;00m name \u001b[38;5;129;01mnot\u001b[39;00m \u001b[38;5;129;01min\u001b[39;00m df:\n\u001b[0;32m    297\u001b[0m     \u001b[38;5;28;01mraise\u001b[39;00m \u001b[38;5;167;01mValueError\u001b[39;00m(\n\u001b[0;32m    298\u001b[0m         \u001b[38;5;124m'\u001b[39m\u001b[38;5;124mRegressor \u001b[39m\u001b[38;5;132;01m{name!r}\u001b[39;00m\u001b[38;5;124m missing from dataframe\u001b[39m\u001b[38;5;124m'\u001b[39m\n\u001b[0;32m    299\u001b[0m         \u001b[38;5;241m.\u001b[39mformat(name\u001b[38;5;241m=\u001b[39mname)\n\u001b[0;32m    300\u001b[0m     )\n\u001b[1;32m--> 301\u001b[0m df[name] \u001b[38;5;241m=\u001b[39m \u001b[43mpd\u001b[49m\u001b[38;5;241;43m.\u001b[39;49m\u001b[43mto_numeric\u001b[49m\u001b[43m(\u001b[49m\u001b[43mdf\u001b[49m\u001b[43m[\u001b[49m\u001b[43mname\u001b[49m\u001b[43m]\u001b[49m\u001b[43m)\u001b[49m\n\u001b[0;32m    302\u001b[0m \u001b[38;5;28;01mif\u001b[39;00m df[name]\u001b[38;5;241m.\u001b[39misnull()\u001b[38;5;241m.\u001b[39many():\n\u001b[0;32m    303\u001b[0m     \u001b[38;5;28;01mraise\u001b[39;00m \u001b[38;5;167;01mValueError\u001b[39;00m(\n\u001b[0;32m    304\u001b[0m         \u001b[38;5;124m'\u001b[39m\u001b[38;5;124mFound NaN in column \u001b[39m\u001b[38;5;132;01m{name!r}\u001b[39;00m\u001b[38;5;124m'\u001b[39m\u001b[38;5;241m.\u001b[39mformat(name\u001b[38;5;241m=\u001b[39mname)\n\u001b[0;32m    305\u001b[0m     )\n",
      "File \u001b[1;32mC:\\Python310\\lib\\site-packages\\pandas\\core\\tools\\numeric.py:185\u001b[0m, in \u001b[0;36mto_numeric\u001b[1;34m(arg, errors, downcast)\u001b[0m\n\u001b[0;32m    183\u001b[0m coerce_numeric \u001b[38;5;241m=\u001b[39m errors \u001b[38;5;129;01mnot\u001b[39;00m \u001b[38;5;129;01min\u001b[39;00m (\u001b[38;5;124m\"\u001b[39m\u001b[38;5;124mignore\u001b[39m\u001b[38;5;124m\"\u001b[39m, \u001b[38;5;124m\"\u001b[39m\u001b[38;5;124mraise\u001b[39m\u001b[38;5;124m\"\u001b[39m)\n\u001b[0;32m    184\u001b[0m \u001b[38;5;28;01mtry\u001b[39;00m:\n\u001b[1;32m--> 185\u001b[0m     values, _ \u001b[38;5;241m=\u001b[39m \u001b[43mlib\u001b[49m\u001b[38;5;241;43m.\u001b[39;49m\u001b[43mmaybe_convert_numeric\u001b[49m\u001b[43m(\u001b[49m\n\u001b[0;32m    186\u001b[0m \u001b[43m        \u001b[49m\u001b[43mvalues\u001b[49m\u001b[43m,\u001b[49m\u001b[43m \u001b[49m\u001b[38;5;28;43mset\u001b[39;49m\u001b[43m(\u001b[49m\u001b[43m)\u001b[49m\u001b[43m,\u001b[49m\u001b[43m \u001b[49m\u001b[43mcoerce_numeric\u001b[49m\u001b[38;5;241;43m=\u001b[39;49m\u001b[43mcoerce_numeric\u001b[49m\n\u001b[0;32m    187\u001b[0m \u001b[43m    \u001b[49m\u001b[43m)\u001b[49m\n\u001b[0;32m    188\u001b[0m \u001b[38;5;28;01mexcept\u001b[39;00m (\u001b[38;5;167;01mValueError\u001b[39;00m, \u001b[38;5;167;01mTypeError\u001b[39;00m):\n\u001b[0;32m    189\u001b[0m     \u001b[38;5;28;01mif\u001b[39;00m errors \u001b[38;5;241m==\u001b[39m \u001b[38;5;124m\"\u001b[39m\u001b[38;5;124mraise\u001b[39m\u001b[38;5;124m\"\u001b[39m:\n",
      "File \u001b[1;32mC:\\Python310\\lib\\site-packages\\pandas\\_libs\\lib.pyx:2406\u001b[0m, in \u001b[0;36mpandas._libs.lib.maybe_convert_numeric\u001b[1;34m()\u001b[0m\n",
      "\u001b[1;31mValueError\u001b[0m: Unable to parse string \"SCHOOL AND OFFICE SUPPLIES\" at position 0"
     ]
    }
   ],
   "source": [
    "m = Prophet()\n",
    "for i in model_df.drop(columns = ['ds', 'y']).columns:\n",
    "    print(i)\n",
    "    m.add_regressor(i)\n",
    "m.fit(model_df)\n",
    "\n",
    "forecast = m.predict(model_df_test.drop(columns=\"y\"))\n",
    "\n",
    "evaluate_forecast(model_df_test['y'], forecast['yhat'])"
   ]
  },
  {
   "cell_type": "code",
   "execution_count": 45,
   "id": "9dd4e50f-75f5-4798-955e-330d1836d55e",
   "metadata": {},
   "outputs": [
    {
     "name": "stdout",
     "output_type": "stream",
     "text": [
      "Processing family: SCHOOL AND OFFICE SUPPLIES\n"
     ]
    },
    {
     "name": "stderr",
     "output_type": "stream",
     "text": [
      "18:15:29 - cmdstanpy - INFO - Chain [1] start processing\n",
      "18:15:45 - cmdstanpy - INFO - Chain [1] done processing\n"
     ]
    },
    {
     "name": "stdout",
     "output_type": "stream",
     "text": [
      "Processing family: CLEANING\n"
     ]
    },
    {
     "name": "stderr",
     "output_type": "stream",
     "text": [
      "18:15:51 - cmdstanpy - INFO - Chain [1] start processing\n",
      "18:15:59 - cmdstanpy - INFO - Chain [1] done processing\n"
     ]
    },
    {
     "name": "stdout",
     "output_type": "stream",
     "text": [
      "Processing family: DAIRY\n"
     ]
    },
    {
     "name": "stderr",
     "output_type": "stream",
     "text": [
      "18:16:05 - cmdstanpy - INFO - Chain [1] start processing\n",
      "18:16:35 - cmdstanpy - INFO - Chain [1] done processing\n"
     ]
    },
    {
     "name": "stdout",
     "output_type": "stream",
     "text": [
      "Processing family: DELI\n"
     ]
    },
    {
     "name": "stderr",
     "output_type": "stream",
     "text": [
      "18:16:41 - cmdstanpy - INFO - Chain [1] start processing\n",
      "18:16:54 - cmdstanpy - INFO - Chain [1] done processing\n"
     ]
    },
    {
     "name": "stdout",
     "output_type": "stream",
     "text": [
      "Processing family: EGGS\n"
     ]
    },
    {
     "name": "stderr",
     "output_type": "stream",
     "text": [
      "18:17:00 - cmdstanpy - INFO - Chain [1] start processing\n",
      "18:17:06 - cmdstanpy - INFO - Chain [1] done processing\n"
     ]
    },
    {
     "name": "stdout",
     "output_type": "stream",
     "text": [
      "Processing family: FROZEN FOODS\n"
     ]
    },
    {
     "name": "stderr",
     "output_type": "stream",
     "text": [
      "18:17:12 - cmdstanpy - INFO - Chain [1] start processing\n",
      "18:17:31 - cmdstanpy - INFO - Chain [1] done processing\n"
     ]
    },
    {
     "name": "stdout",
     "output_type": "stream",
     "text": [
      "Processing family: GROCERY I\n"
     ]
    },
    {
     "name": "stderr",
     "output_type": "stream",
     "text": [
      "18:17:37 - cmdstanpy - INFO - Chain [1] start processing\n",
      "18:17:44 - cmdstanpy - INFO - Chain [1] done processing\n"
     ]
    },
    {
     "name": "stdout",
     "output_type": "stream",
     "text": [
      "Processing family: GROCERY II\n"
     ]
    },
    {
     "name": "stderr",
     "output_type": "stream",
     "text": [
      "18:17:51 - cmdstanpy - INFO - Chain [1] start processing\n",
      "18:17:57 - cmdstanpy - INFO - Chain [1] done processing\n"
     ]
    },
    {
     "name": "stdout",
     "output_type": "stream",
     "text": [
      "Processing family: HARDWARE\n"
     ]
    },
    {
     "name": "stderr",
     "output_type": "stream",
     "text": [
      "18:18:03 - cmdstanpy - INFO - Chain [1] start processing\n",
      "18:18:14 - cmdstanpy - INFO - Chain [1] done processing\n"
     ]
    },
    {
     "name": "stdout",
     "output_type": "stream",
     "text": [
      "Processing family: HOME AND KITCHEN I\n"
     ]
    },
    {
     "name": "stderr",
     "output_type": "stream",
     "text": [
      "18:18:21 - cmdstanpy - INFO - Chain [1] start processing\n",
      "18:18:40 - cmdstanpy - INFO - Chain [1] done processing\n"
     ]
    },
    {
     "name": "stdout",
     "output_type": "stream",
     "text": [
      "Processing family: HOME AND KITCHEN II\n"
     ]
    },
    {
     "name": "stderr",
     "output_type": "stream",
     "text": [
      "18:18:46 - cmdstanpy - INFO - Chain [1] start processing\n",
      "18:19:06 - cmdstanpy - INFO - Chain [1] done processing\n"
     ]
    },
    {
     "name": "stdout",
     "output_type": "stream",
     "text": [
      "Processing family: HOME APPLIANCES\n"
     ]
    },
    {
     "name": "stderr",
     "output_type": "stream",
     "text": [
      "18:19:12 - cmdstanpy - INFO - Chain [1] start processing\n",
      "18:19:44 - cmdstanpy - INFO - Chain [1] done processing\n"
     ]
    },
    {
     "name": "stdout",
     "output_type": "stream",
     "text": [
      "Processing family: HOME CARE\n"
     ]
    },
    {
     "name": "stderr",
     "output_type": "stream",
     "text": [
      "18:19:51 - cmdstanpy - INFO - Chain [1] start processing\n",
      "18:20:35 - cmdstanpy - INFO - Chain [1] done processing\n"
     ]
    },
    {
     "name": "stdout",
     "output_type": "stream",
     "text": [
      "Processing family: LADIESWEAR\n"
     ]
    },
    {
     "name": "stderr",
     "output_type": "stream",
     "text": [
      "18:20:41 - cmdstanpy - INFO - Chain [1] start processing\n",
      "18:21:05 - cmdstanpy - INFO - Chain [1] done processing\n"
     ]
    },
    {
     "name": "stdout",
     "output_type": "stream",
     "text": [
      "Processing family: LAWN AND GARDEN\n"
     ]
    },
    {
     "name": "stderr",
     "output_type": "stream",
     "text": [
      "18:21:12 - cmdstanpy - INFO - Chain [1] start processing\n",
      "18:21:22 - cmdstanpy - INFO - Chain [1] done processing\n"
     ]
    },
    {
     "name": "stdout",
     "output_type": "stream",
     "text": [
      "Processing family: LINGERIE\n"
     ]
    },
    {
     "name": "stderr",
     "output_type": "stream",
     "text": [
      "18:21:28 - cmdstanpy - INFO - Chain [1] start processing\n",
      "18:21:42 - cmdstanpy - INFO - Chain [1] done processing\n"
     ]
    },
    {
     "name": "stdout",
     "output_type": "stream",
     "text": [
      "Processing family: LIQUOR,WINE,BEER\n"
     ]
    },
    {
     "name": "stderr",
     "output_type": "stream",
     "text": [
      "18:21:48 - cmdstanpy - INFO - Chain [1] start processing\n",
      "18:21:57 - cmdstanpy - INFO - Chain [1] done processing\n"
     ]
    },
    {
     "name": "stdout",
     "output_type": "stream",
     "text": [
      "Processing family: MAGAZINES\n"
     ]
    },
    {
     "name": "stderr",
     "output_type": "stream",
     "text": [
      "18:22:03 - cmdstanpy - INFO - Chain [1] start processing\n",
      "18:22:15 - cmdstanpy - INFO - Chain [1] done processing\n"
     ]
    },
    {
     "name": "stdout",
     "output_type": "stream",
     "text": [
      "Processing family: MEATS\n"
     ]
    },
    {
     "name": "stderr",
     "output_type": "stream",
     "text": [
      "18:22:23 - cmdstanpy - INFO - Chain [1] start processing\n",
      "18:22:29 - cmdstanpy - INFO - Chain [1] done processing\n"
     ]
    },
    {
     "name": "stdout",
     "output_type": "stream",
     "text": [
      "Processing family: PERSONAL CARE\n"
     ]
    },
    {
     "name": "stderr",
     "output_type": "stream",
     "text": [
      "18:22:35 - cmdstanpy - INFO - Chain [1] start processing\n",
      "18:22:43 - cmdstanpy - INFO - Chain [1] done processing\n"
     ]
    },
    {
     "name": "stdout",
     "output_type": "stream",
     "text": [
      "Processing family: PET SUPPLIES\n"
     ]
    },
    {
     "name": "stderr",
     "output_type": "stream",
     "text": [
      "18:22:49 - cmdstanpy - INFO - Chain [1] start processing\n",
      "18:23:10 - cmdstanpy - INFO - Chain [1] done processing\n"
     ]
    },
    {
     "name": "stdout",
     "output_type": "stream",
     "text": [
      "Processing family: PLAYERS AND ELECTRONICS\n"
     ]
    },
    {
     "name": "stderr",
     "output_type": "stream",
     "text": [
      "18:23:16 - cmdstanpy - INFO - Chain [1] start processing\n",
      "18:23:49 - cmdstanpy - INFO - Chain [1] done processing\n"
     ]
    },
    {
     "name": "stdout",
     "output_type": "stream",
     "text": [
      "Processing family: POULTRY\n"
     ]
    },
    {
     "name": "stderr",
     "output_type": "stream",
     "text": [
      "18:23:55 - cmdstanpy - INFO - Chain [1] start processing\n",
      "18:24:07 - cmdstanpy - INFO - Chain [1] done processing\n"
     ]
    },
    {
     "name": "stdout",
     "output_type": "stream",
     "text": [
      "Processing family: PREPARED FOODS\n"
     ]
    },
    {
     "name": "stderr",
     "output_type": "stream",
     "text": [
      "18:24:14 - cmdstanpy - INFO - Chain [1] start processing\n",
      "18:24:20 - cmdstanpy - INFO - Chain [1] done processing\n"
     ]
    },
    {
     "name": "stdout",
     "output_type": "stream",
     "text": [
      "Processing family: CELEBRATION\n"
     ]
    },
    {
     "name": "stderr",
     "output_type": "stream",
     "text": [
      "18:24:26 - cmdstanpy - INFO - Chain [1] start processing\n",
      "18:24:46 - cmdstanpy - INFO - Chain [1] done processing\n"
     ]
    },
    {
     "name": "stdout",
     "output_type": "stream",
     "text": [
      "Processing family: BREAD/BAKERY\n"
     ]
    },
    {
     "name": "stderr",
     "output_type": "stream",
     "text": [
      "18:24:52 - cmdstanpy - INFO - Chain [1] start processing\n",
      "18:25:09 - cmdstanpy - INFO - Chain [1] done processing\n"
     ]
    },
    {
     "name": "stdout",
     "output_type": "stream",
     "text": [
      "Processing family: BOOKS\n",
      "Processing family: BEVERAGES\n"
     ]
    },
    {
     "name": "stderr",
     "output_type": "stream",
     "text": [
      "18:25:18 - cmdstanpy - INFO - Chain [1] start processing\n",
      "18:25:39 - cmdstanpy - INFO - Chain [1] done processing\n"
     ]
    },
    {
     "name": "stdout",
     "output_type": "stream",
     "text": [
      "Processing family: SEAFOOD\n"
     ]
    },
    {
     "name": "stderr",
     "output_type": "stream",
     "text": [
      "18:25:46 - cmdstanpy - INFO - Chain [1] start processing\n",
      "18:25:57 - cmdstanpy - INFO - Chain [1] done processing\n"
     ]
    },
    {
     "name": "stdout",
     "output_type": "stream",
     "text": [
      "Processing family: AUTOMOTIVE\n"
     ]
    },
    {
     "name": "stderr",
     "output_type": "stream",
     "text": [
      "18:26:04 - cmdstanpy - INFO - Chain [1] start processing\n",
      "18:26:11 - cmdstanpy - INFO - Chain [1] done processing\n"
     ]
    },
    {
     "name": "stdout",
     "output_type": "stream",
     "text": [
      "Processing family: PRODUCE\n"
     ]
    },
    {
     "name": "stderr",
     "output_type": "stream",
     "text": [
      "18:26:18 - cmdstanpy - INFO - Chain [1] start processing\n",
      "18:26:47 - cmdstanpy - INFO - Chain [1] done processing\n"
     ]
    },
    {
     "name": "stdout",
     "output_type": "stream",
     "text": [
      "Processing family: BEAUTY\n"
     ]
    },
    {
     "name": "stderr",
     "output_type": "stream",
     "text": [
      "18:26:53 - cmdstanpy - INFO - Chain [1] start processing\n",
      "18:27:10 - cmdstanpy - INFO - Chain [1] done processing\n"
     ]
    },
    {
     "name": "stdout",
     "output_type": "stream",
     "text": [
      "Processing family: BABY CARE\n"
     ]
    },
    {
     "name": "stderr",
     "output_type": "stream",
     "text": [
      "18:27:16 - cmdstanpy - INFO - Chain [1] start processing\n",
      "18:27:26 - cmdstanpy - INFO - Chain [1] done processing\n"
     ]
    }
   ],
   "source": [
    "import pandas as pd\n",
    "from sklearn.preprocessing import LabelEncoder\n",
    "\n",
    "# Assuming df_train_p and df_test_p are already loaded\n",
    "\n",
    "# Create an instance of LabelEncoder\n",
    "label_encoder = LabelEncoder()\n",
    "\n",
    "# Apply label encoding to the 'family' column\n",
    "df_train_p['family_enc'] = label_encoder.fit_transform(df_train_p['family'])\n",
    "df_test_p['family_enc'] = label_encoder.transform(df_test_p['family'])\n",
    "\n",
    "# Define a function to train and evaluate Prophet model for each family\n",
    "def train_and_evaluate_by_family(train_df, test_df):\n",
    "    results = {}\n",
    "    unique_families = train_df['family'].unique()\n",
    "    \n",
    "    for family in unique_families:\n",
    "        print(\"Processing family:\", family)\n",
    "        train_family = train_df[train_df['family'] == family]\n",
    "        test_family = test_df[test_df['family'] == family]\n",
    "\n",
    "        model_df = train_family[['date', 'sales', 'family', 'store_nbr']]\n",
    "        model_df.columns = ['ds', 'y', 'family', 'store_nbr']\n",
    "        model_df['ds'] = pd.to_datetime(model_df['ds'])\n",
    "\n",
    "        model_df_test = test_family[['date', 'sales', 'family', 'store_nbr']]\n",
    "        model_df_test.columns = ['ds', 'y', 'family', 'store_nbr']\n",
    "        model_df_test['ds'] = pd.to_datetime(model_df_test['ds'])\n",
    "\n",
    "        m = Prophet()\n",
    "        m.fit(model_df)\n",
    "\n",
    "        forecast = m.predict(model_df_test.drop(columns=\"y\"))\n",
    "        results[family] = evaluate_forecast(model_df_test['y'], forecast['yhat'])\n",
    "    \n",
    "    return results\n",
    "\n",
    "# Define your evaluate_forecast function here\n",
    "\n",
    "# Call the function to train and evaluate Prophet models for each family\n",
    "results_by_family = train_and_evaluate_by_family(df_train_p, df_test_p)\n",
    "\n",
    "# Print or use results_by_family as needed\n"
   ]
  },
  {
   "cell_type": "code",
   "execution_count": 46,
   "id": "1bc38dce-b212-457f-9847-8c360106a9d5",
   "metadata": {},
   "outputs": [
    {
     "data": {
      "text/plain": [
       "{'SCHOOL AND OFFICE SUPPLIES': {'MSE': 3208.732049826798,\n",
       "  'RMSE': 56.645671059903584,\n",
       "  'RMSLE': 2.077286072781716},\n",
       " 'CLEANING': {'MSE': 610178.6620919813,\n",
       "  'RMSE': 781.1393359010806,\n",
       "  'RMSLE': 0.551469246088076},\n",
       " 'DAIRY': {'MSE': 484642.5824971197,\n",
       "  'RMSE': 696.1627557526471,\n",
       "  'RMSLE': 0.7540447155589624},\n",
       " 'DELI': {'MSE': 44555.3651575138,\n",
       "  'RMSE': 211.08141831415148,\n",
       "  'RMSLE': 0.6030025593245224},\n",
       " 'EGGS': {'MSE': 28500.172487267246,\n",
       "  'RMSE': 168.81994102376427,\n",
       "  'RMSLE': 0.8411235768718565},\n",
       " 'FROZEN FOODS': {'MSE': 15520.543615466719,\n",
       "  'RMSE': 124.58147380516382,\n",
       "  'RMSLE': 0.8642499982006029},\n",
       " 'GROCERY I': {'MSE': 8130248.495389555,\n",
       "  'RMSE': 2851.35906111271,\n",
       "  'RMSLE': 0.5431554054331819},\n",
       " 'GROCERY II': {'MSE': 1144.3653059291216,\n",
       "  'RMSE': 33.828468867643444,\n",
       "  'RMSLE': 1.1612166860373785},\n",
       " 'HARDWARE': {'MSE': 3.8042757805066447,\n",
       "  'RMSE': 1.950455275187474,\n",
       "  'RMSLE': 0.6434938320538913},\n",
       " 'HOME AND KITCHEN I': {'MSE': 831.648113908402,\n",
       "  'RMSE': 28.838309830993946,\n",
       "  'RMSLE': 0.8531663791627695},\n",
       " 'HOME AND KITCHEN II': {'MSE': 1356.446443262316,\n",
       "  'RMSE': 36.829966647586254,\n",
       "  'RMSLE': 0.9275503782473752},\n",
       " 'HOME APPLIANCES': {'MSE': 1.684037586626029,\n",
       "  'RMSE': 1.2977047378452577,\n",
       "  'RMSLE': 0.7532341391659272},\n",
       " 'HOME CARE': {'MSE': 36914.95572725795,\n",
       "  'RMSE': 192.1326513824705,\n",
       "  'RMSLE': 0.5785905216023784},\n",
       " 'LADIESWEAR': {'MSE': 208.4847365717805,\n",
       "  'RMSE': 14.439000539226408,\n",
       "  'RMSLE': 1.593282156699623},\n",
       " 'LAWN AND GARDEN': {'MSE': 723.4937051509048,\n",
       "  'RMSE': 26.897838298846708,\n",
       "  'RMSLE': 1.5100217088500636},\n",
       " 'LINGERIE': {'MSE': 52.235508120800105,\n",
       "  'RMSE': 7.227413653638493,\n",
       "  'RMSLE': 0.9172564074056178},\n",
       " 'LIQUOR,WINE,BEER': {'MSE': 9546.22676174979,\n",
       "  'RMSE': 97.70479395479931,\n",
       "  'RMSLE': 1.2325471367518006},\n",
       " 'MAGAZINES': {'MSE': 57.77873639050804,\n",
       "  'RMSE': 7.601232557323058,\n",
       "  'RMSLE': 1.1001103731835513},\n",
       " 'MEATS': {'MSE': 111364.84720908884,\n",
       "  'RMSE': 333.71372043877494,\n",
       "  'RMSLE': 0.8702191234640351},\n",
       " 'PERSONAL CARE': {'MSE': 47886.33590399426,\n",
       "  'RMSE': 218.82946763174803,\n",
       "  'RMSLE': 0.6234105745818237},\n",
       " 'PET SUPPLIES': {'MSE': 111.602923047169,\n",
       "  'RMSE': 10.564228464358814,\n",
       "  'RMSLE': 1.1316560306150554},\n",
       " 'PLAYERS AND ELECTRONICS': {'MSE': 147.78568308966845,\n",
       "  'RMSE': 12.156713498707965,\n",
       "  'RMSLE': 0.8530891570872365},\n",
       " 'POULTRY': {'MSE': 172151.79915714305,\n",
       "  'RMSE': 414.9117968401755,\n",
       "  'RMSLE': 0.9912053155831914},\n",
       " 'PREPARED FOODS': {'MSE': 6705.912741434558,\n",
       "  'RMSE': 81.88963757054098,\n",
       "  'RMSLE': 0.881109400915672},\n",
       " 'CELEBRATION': {'MSE': 189.4471560732548,\n",
       "  'RMSE': 13.763980386256543,\n",
       "  'RMSLE': 0.8482854664773686},\n",
       " 'BREAD/BAKERY': {'MSE': 155819.73075679186,\n",
       "  'RMSE': 394.7400799979549,\n",
       "  'RMSLE': 0.8269458864606258},\n",
       " 'BOOKS': {'MSE': 0.16825775656324582,\n",
       "  'RMSE': 0.41019234093684126,\n",
       "  'RMSLE': 0.2271481350637222},\n",
       " 'BEVERAGES': {'MSE': 7190853.80774383,\n",
       "  'RMSE': 2681.576739111493,\n",
       "  'RMSLE': 0.617121071764369},\n",
       " 'SEAFOOD': {'MSE': 909.682076784654,\n",
       "  'RMSE': 30.160936271685166,\n",
       "  'RMSLE': 1.5990731780244616},\n",
       " 'AUTOMOTIVE': {'MSE': 34.48714636315481,\n",
       "  'RMSE': 5.872575786071629,\n",
       "  'RMSLE': 0.6935750779209087},\n",
       " 'PRODUCE': {'MSE': 5600358.80608812,\n",
       "  'RMSE': 2366.507723648524,\n",
       "  'RMSLE': 1.0456711625028907},\n",
       " 'BEAUTY': {'MSE': 34.98919680699434,\n",
       "  'RMSE': 5.915166676180338,\n",
       "  'RMSLE': 0.9799343819484889},\n",
       " 'BABY CARE': {'MSE': 0.47799896513582046,\n",
       "  'RMSE': 0.6913746922876339,\n",
       "  'RMSLE': 0.39123525442120954}}"
      ]
     },
     "execution_count": 46,
     "metadata": {},
     "output_type": "execute_result"
    }
   ],
   "source": [
    "results_by_family"
   ]
  },
  {
   "cell_type": "code",
   "execution_count": 28,
   "id": "50d41347-120d-430c-85f6-021e2863d4f0",
   "metadata": {},
   "outputs": [
    {
     "name": "stdout",
     "output_type": "stream",
     "text": [
      "Processing family: SCHOOL AND OFFICE SUPPLIES\n"
     ]
    },
    {
     "ename": "ValueError",
     "evalue": "Capacities must be supplied for logistic growth in column \"cap\"",
     "output_type": "error",
     "traceback": [
      "\u001b[1;31m---------------------------------------------------------------------------\u001b[0m",
      "\u001b[1;31mValueError\u001b[0m                                Traceback (most recent call last)",
      "Cell \u001b[1;32mIn [28], line 64\u001b[0m\n\u001b[0;32m     61\u001b[0m     \u001b[38;5;28;01mreturn\u001b[39;00m weighted_rmsle\n\u001b[0;32m     63\u001b[0m \u001b[38;5;66;03m# Call the function to train and evaluate Prophet models for each family\u001b[39;00m\n\u001b[1;32m---> 64\u001b[0m weighted_rmsle \u001b[38;5;241m=\u001b[39m train_and_evaluate_by_family(df_train_p, df_test_p)\n\u001b[0;32m     66\u001b[0m \u001b[38;5;66;03m# Print or use weighted_rmsle as needed\u001b[39;00m\n\u001b[0;32m     67\u001b[0m \u001b[38;5;28mprint\u001b[39m(\u001b[38;5;124m\"\u001b[39m\u001b[38;5;124mWeighted RMSLE:\u001b[39m\u001b[38;5;124m\"\u001b[39m, weighted_rmsle)\n",
      "Cell \u001b[1;32mIn [28], line 51\u001b[0m, in \u001b[0;36mtrain_and_evaluate_by_family\u001b[1;34m(train_df, test_df)\u001b[0m\n\u001b[0;32m     48\u001b[0m model_df_test[\u001b[38;5;124m'\u001b[39m\u001b[38;5;124mds\u001b[39m\u001b[38;5;124m'\u001b[39m] \u001b[38;5;241m=\u001b[39m pd\u001b[38;5;241m.\u001b[39mto_datetime(model_df_test[\u001b[38;5;124m'\u001b[39m\u001b[38;5;124mds\u001b[39m\u001b[38;5;124m'\u001b[39m])\n\u001b[0;32m     50\u001b[0m m \u001b[38;5;241m=\u001b[39m Prophet(growth \u001b[38;5;241m=\u001b[39m \u001b[38;5;124m'\u001b[39m\u001b[38;5;124mlogistic\u001b[39m\u001b[38;5;124m'\u001b[39m)\n\u001b[1;32m---> 51\u001b[0m \u001b[43mm\u001b[49m\u001b[38;5;241;43m.\u001b[39;49m\u001b[43mfit\u001b[49m\u001b[43m(\u001b[49m\u001b[43mmodel_df\u001b[49m\u001b[43m)\u001b[49m\n\u001b[0;32m     53\u001b[0m forecast \u001b[38;5;241m=\u001b[39m m\u001b[38;5;241m.\u001b[39mpredict(model_df_test\u001b[38;5;241m.\u001b[39mdrop(columns\u001b[38;5;241m=\u001b[39m\u001b[38;5;124m\"\u001b[39m\u001b[38;5;124my\u001b[39m\u001b[38;5;124m\"\u001b[39m))\n\u001b[0;32m     54\u001b[0m rmsle_value \u001b[38;5;241m=\u001b[39m evaluate_forecast(model_df_test[\u001b[38;5;124m'\u001b[39m\u001b[38;5;124my\u001b[39m\u001b[38;5;124m'\u001b[39m], forecast[\u001b[38;5;124m'\u001b[39m\u001b[38;5;124myhat\u001b[39m\u001b[38;5;124m'\u001b[39m])\n",
      "File \u001b[1;32mC:\\Python310\\lib\\site-packages\\prophet\\forecaster.py:1217\u001b[0m, in \u001b[0;36mProphet.fit\u001b[1;34m(self, df, **kwargs)\u001b[0m\n\u001b[0;32m   1213\u001b[0m \u001b[38;5;28;01mif\u001b[39;00m \u001b[38;5;28mself\u001b[39m\u001b[38;5;241m.\u001b[39mhistory \u001b[38;5;129;01mis\u001b[39;00m \u001b[38;5;129;01mnot\u001b[39;00m \u001b[38;5;28;01mNone\u001b[39;00m:\n\u001b[0;32m   1214\u001b[0m     \u001b[38;5;28;01mraise\u001b[39;00m \u001b[38;5;167;01mException\u001b[39;00m(\u001b[38;5;124m'\u001b[39m\u001b[38;5;124mProphet object can only be fit once. \u001b[39m\u001b[38;5;124m'\u001b[39m\n\u001b[0;32m   1215\u001b[0m                     \u001b[38;5;124m'\u001b[39m\u001b[38;5;124mInstantiate a new object.\u001b[39m\u001b[38;5;124m'\u001b[39m)\n\u001b[1;32m-> 1217\u001b[0m model_inputs \u001b[38;5;241m=\u001b[39m \u001b[38;5;28mself\u001b[39m\u001b[38;5;241m.\u001b[39mpreprocess(df, \u001b[38;5;241m*\u001b[39m\u001b[38;5;241m*\u001b[39mkwargs)\n\u001b[0;32m   1218\u001b[0m initial_params \u001b[38;5;241m=\u001b[39m \u001b[38;5;28mself\u001b[39m\u001b[38;5;241m.\u001b[39mcalculate_initial_params(model_inputs\u001b[38;5;241m.\u001b[39mK)\n\u001b[0;32m   1220\u001b[0m dat \u001b[38;5;241m=\u001b[39m dataclasses\u001b[38;5;241m.\u001b[39masdict(model_inputs)\n",
      "File \u001b[1;32mC:\\Python310\\lib\\site-packages\\prophet\\forecaster.py:1135\u001b[0m, in \u001b[0;36mProphet.preprocess\u001b[1;34m(self, df, **kwargs)\u001b[0m\n\u001b[0;32m   1132\u001b[0m     \u001b[38;5;28;01mraise\u001b[39;00m \u001b[38;5;167;01mValueError\u001b[39;00m(\u001b[38;5;124m'\u001b[39m\u001b[38;5;124mDataframe has less than 2 non-NaN rows.\u001b[39m\u001b[38;5;124m'\u001b[39m)\n\u001b[0;32m   1133\u001b[0m \u001b[38;5;28mself\u001b[39m\u001b[38;5;241m.\u001b[39mhistory_dates \u001b[38;5;241m=\u001b[39m pd\u001b[38;5;241m.\u001b[39mto_datetime(pd\u001b[38;5;241m.\u001b[39mSeries(history[\u001b[38;5;124m'\u001b[39m\u001b[38;5;124mds\u001b[39m\u001b[38;5;124m'\u001b[39m]\u001b[38;5;241m.\u001b[39munique(), name\u001b[38;5;241m=\u001b[39m\u001b[38;5;124m'\u001b[39m\u001b[38;5;124mds\u001b[39m\u001b[38;5;124m'\u001b[39m))\u001b[38;5;241m.\u001b[39msort_values()\n\u001b[1;32m-> 1135\u001b[0m \u001b[38;5;28mself\u001b[39m\u001b[38;5;241m.\u001b[39mhistory \u001b[38;5;241m=\u001b[39m \u001b[38;5;28;43mself\u001b[39;49m\u001b[38;5;241;43m.\u001b[39;49m\u001b[43msetup_dataframe\u001b[49m\u001b[43m(\u001b[49m\u001b[43mhistory\u001b[49m\u001b[43m,\u001b[49m\u001b[43m \u001b[49m\u001b[43minitialize_scales\u001b[49m\u001b[38;5;241;43m=\u001b[39;49m\u001b[38;5;28;43;01mTrue\u001b[39;49;00m\u001b[43m)\u001b[49m\n\u001b[0;32m   1136\u001b[0m \u001b[38;5;28mself\u001b[39m\u001b[38;5;241m.\u001b[39mset_auto_seasonalities()\n\u001b[0;32m   1137\u001b[0m seasonal_features, prior_scales, component_cols, modes \u001b[38;5;241m=\u001b[39m (\n\u001b[0;32m   1138\u001b[0m     \u001b[38;5;28mself\u001b[39m\u001b[38;5;241m.\u001b[39mmake_all_seasonality_features(\u001b[38;5;28mself\u001b[39m\u001b[38;5;241m.\u001b[39mhistory))\n",
      "File \u001b[1;32mC:\\Python310\\lib\\site-packages\\prophet\\forecaster.py:338\u001b[0m, in \u001b[0;36mProphet.setup_dataframe\u001b[1;34m(self, df, initialize_scales)\u001b[0m\n\u001b[0;32m    336\u001b[0m \u001b[38;5;28;01mif\u001b[39;00m \u001b[38;5;28mself\u001b[39m\u001b[38;5;241m.\u001b[39mgrowth \u001b[38;5;241m==\u001b[39m \u001b[38;5;124m'\u001b[39m\u001b[38;5;124mlogistic\u001b[39m\u001b[38;5;124m'\u001b[39m:\n\u001b[0;32m    337\u001b[0m     \u001b[38;5;28;01mif\u001b[39;00m \u001b[38;5;124m'\u001b[39m\u001b[38;5;124mcap\u001b[39m\u001b[38;5;124m'\u001b[39m \u001b[38;5;129;01mnot\u001b[39;00m \u001b[38;5;129;01min\u001b[39;00m df:\n\u001b[1;32m--> 338\u001b[0m         \u001b[38;5;28;01mraise\u001b[39;00m \u001b[38;5;167;01mValueError\u001b[39;00m(\n\u001b[0;32m    339\u001b[0m             \u001b[38;5;124m'\u001b[39m\u001b[38;5;124mCapacities must be supplied for logistic growth in \u001b[39m\u001b[38;5;124m'\u001b[39m\n\u001b[0;32m    340\u001b[0m             \u001b[38;5;124m'\u001b[39m\u001b[38;5;124mcolumn \u001b[39m\u001b[38;5;124m\"\u001b[39m\u001b[38;5;124mcap\u001b[39m\u001b[38;5;124m\"\u001b[39m\u001b[38;5;124m'\u001b[39m\n\u001b[0;32m    341\u001b[0m         )\n\u001b[0;32m    342\u001b[0m     \u001b[38;5;28;01mif\u001b[39;00m (df[\u001b[38;5;124m'\u001b[39m\u001b[38;5;124mcap\u001b[39m\u001b[38;5;124m'\u001b[39m] \u001b[38;5;241m<\u001b[39m\u001b[38;5;241m=\u001b[39m df[\u001b[38;5;124m'\u001b[39m\u001b[38;5;124mfloor\u001b[39m\u001b[38;5;124m'\u001b[39m])\u001b[38;5;241m.\u001b[39many():\n\u001b[0;32m    343\u001b[0m         \u001b[38;5;28;01mraise\u001b[39;00m \u001b[38;5;167;01mValueError\u001b[39;00m(\n\u001b[0;32m    344\u001b[0m             \u001b[38;5;124m'\u001b[39m\u001b[38;5;124mcap must be greater than floor (which defaults to 0).\u001b[39m\u001b[38;5;124m'\u001b[39m\n\u001b[0;32m    345\u001b[0m         )\n",
      "\u001b[1;31mValueError\u001b[0m: Capacities must be supplied for logistic growth in column \"cap\""
     ]
    }
   ],
   "source": [
    "import numpy as np\n",
    "from sklearn.metrics import mean_squared_error\n",
    "\n",
    "def evaluate_forecast(y_test, forecast):\n",
    "    \"\"\"\n",
    "    Compute MSE, RMSE, and RMSLE for a forecast.\n",
    "\n",
    "    Parameters:\n",
    "    y_test (array-like): Actual values.\n",
    "    forecast (array-like): Predicted values.\n",
    "\n",
    "    Returns:\n",
    "    dict: Dictionary containing MSE, RMSE, and RMSLE.\n",
    "    \"\"\"\n",
    "    def rmsle(predicted, actual):\n",
    "        return np.sqrt(np.mean(np.square(np.log1p(predicted) - np.log1p(actual))))\n",
    "\n",
    "    # Ensure both forecast and y_test are numpy arrays\n",
    "    y_test = np.array(y_test)\n",
    "    forecast = np.array(forecast)\n",
    "\n",
    "    # Remove any NaN values from the arrays\n",
    "    y_test = y_test[~np.isnan(y_test)]\n",
    "    forecast = forecast[~np.isnan(forecast)]\n",
    "\n",
    "    # Compute Root Mean Squared Logarithmic Error (RMSLE)\n",
    "    rmsle_value = rmsle(forecast, y_test)\n",
    "    \n",
    "    # Return the RMSLE value\n",
    "    return rmsle_value\n",
    "\n",
    "# Define a function to train and evaluate Prophet model for each family\n",
    "def train_and_evaluate_by_family(train_df, test_df):\n",
    "    results = []\n",
    "    unique_families = train_df['family'].unique()\n",
    "    \n",
    "    for family in unique_families:\n",
    "        print(\"Processing family:\", family)\n",
    "        train_family = train_df[train_df['family'] == family]\n",
    "        test_family = test_df[test_df['family'] == family]\n",
    "\n",
    "        model_df = train_family[['date', 'sales', 'family', 'store_nbr']]\n",
    "        model_df.columns = ['ds', 'y', 'family', 'store_nbr']\n",
    "        model_df['ds'] = pd.to_datetime(model_df['ds'])\n",
    "\n",
    "        model_df_test = test_family[['date', 'sales', 'family', 'store_nbr']]\n",
    "        model_df_test.columns = ['ds', 'y', 'family', 'store_nbr']\n",
    "        model_df_test['ds'] = pd.to_datetime(model_df_test['ds'])\n",
    "\n",
    "        m.fit(model_df)\n",
    "\n",
    "        forecast = m.predict(model_df_test.drop(columns=\"y\"))\n",
    "        rmsle_value = evaluate_forecast(model_df_test['y'], forecast['yhat'])\n",
    "        results.append((family, rmsle_value, len(test_family)))\n",
    "    \n",
    "    # Aggregate the results\n",
    "    total_samples = sum([sample_count for _, _, sample_count in results])\n",
    "    weighted_rmsle = sum([rmsle * (sample_count / total_samples) for _, rmsle, sample_count in results])\n",
    "    \n",
    "    return weighted_rmsle\n",
    "\n",
    "# Call the function to train and evaluate Prophet models for each family\n",
    "weighted_rmsle = train_and_evaluate_by_family(df_train_p, df_test_p)\n",
    "\n",
    "# Print or use weighted_rmsle as needed\n",
    "print(\"Weighted RMSLE:\", weighted_rmsle)\n"
   ]
  },
  {
   "cell_type": "code",
   "execution_count": 33,
   "id": "3297d1a5-1cb5-46e9-a929-e1e2e478b7a2",
   "metadata": {},
   "outputs": [
    {
     "name": "stdout",
     "output_type": "stream",
     "text": [
      "Processing family: SCHOOL AND OFFICE SUPPLIES\n"
     ]
    },
    {
     "name": "stderr",
     "output_type": "stream",
     "text": [
      "16:47:15 - cmdstanpy - INFO - Chain [1] start processing\n",
      "16:47:50 - cmdstanpy - INFO - Chain [1] done processing\n"
     ]
    },
    {
     "name": "stdout",
     "output_type": "stream",
     "text": [
      "count    8381.000000\n",
      "mean        2.049047\n",
      "std         1.808555\n",
      "min         0.000000\n",
      "25%         0.438751\n",
      "50%         1.731419\n",
      "75%         3.299620\n",
      "max         9.125139\n",
      "Name: yhat, dtype: float64\n",
      "Processing family: CLEANING\n"
     ]
    },
    {
     "name": "stderr",
     "output_type": "stream",
     "text": [
      "16:47:57 - cmdstanpy - INFO - Chain [1] start processing\n",
      "16:48:05 - cmdstanpy - INFO - Chain [1] done processing\n"
     ]
    },
    {
     "name": "stdout",
     "output_type": "stream",
     "text": [
      "count    8380.000000\n",
      "mean     1217.145831\n",
      "std       198.898310\n",
      "min       888.440764\n",
      "25%      1076.055345\n",
      "50%      1128.452605\n",
      "75%      1461.214020\n",
      "max      1711.605562\n",
      "Name: yhat, dtype: float64\n",
      "Processing family: DAIRY\n"
     ]
    },
    {
     "name": "stderr",
     "output_type": "stream",
     "text": [
      "16:48:13 - cmdstanpy - INFO - Chain [1] start processing\n",
      "16:48:37 - cmdstanpy - INFO - Chain [1] done processing\n"
     ]
    },
    {
     "name": "stdout",
     "output_type": "stream",
     "text": [
      "count    8381.000000\n",
      "mean      993.403465\n",
      "std       137.139130\n",
      "min       788.186773\n",
      "25%       903.382670\n",
      "50%       942.218426\n",
      "75%      1141.817206\n",
      "max      1266.043509\n",
      "Name: yhat, dtype: float64\n",
      "Processing family: DELI\n"
     ]
    },
    {
     "name": "stderr",
     "output_type": "stream",
     "text": [
      "16:48:45 - cmdstanpy - INFO - Chain [1] start processing\n",
      "16:49:00 - cmdstanpy - INFO - Chain [1] done processing\n"
     ]
    },
    {
     "name": "stdout",
     "output_type": "stream",
     "text": [
      "count    8381.000000\n",
      "mean      311.464915\n",
      "std        55.166303\n",
      "min       243.123889\n",
      "25%       268.618025\n",
      "50%       288.816480\n",
      "75%       365.981081\n",
      "max       426.885703\n",
      "Name: yhat, dtype: float64\n",
      "Processing family: EGGS\n"
     ]
    },
    {
     "name": "stderr",
     "output_type": "stream",
     "text": [
      "16:49:08 - cmdstanpy - INFO - Chain [1] start processing\n",
      "16:49:17 - cmdstanpy - INFO - Chain [1] done processing\n"
     ]
    },
    {
     "name": "stdout",
     "output_type": "stream",
     "text": [
      "count    8381.000000\n",
      "mean      207.619731\n",
      "std        34.298522\n",
      "min       164.589238\n",
      "25%       182.919117\n",
      "50%       187.122731\n",
      "75%       233.858714\n",
      "max       277.004849\n",
      "Name: yhat, dtype: float64\n",
      "Processing family: FROZEN FOODS\n"
     ]
    },
    {
     "name": "stderr",
     "output_type": "stream",
     "text": [
      "16:49:24 - cmdstanpy - INFO - Chain [1] start processing\n",
      "16:49:50 - cmdstanpy - INFO - Chain [1] done processing\n"
     ]
    },
    {
     "name": "stdout",
     "output_type": "stream",
     "text": [
      "count    8381.000000\n",
      "mean      104.877495\n",
      "std        34.303835\n",
      "min        46.267499\n",
      "25%        79.067426\n",
      "50%       101.568286\n",
      "75%       123.661386\n",
      "max       187.982884\n",
      "Name: yhat, dtype: float64\n",
      "Processing family: GROCERY I\n"
     ]
    },
    {
     "name": "stderr",
     "output_type": "stream",
     "text": [
      "16:49:58 - cmdstanpy - INFO - Chain [1] start processing\n",
      "16:50:07 - cmdstanpy - INFO - Chain [1] done processing\n"
     ]
    },
    {
     "name": "stdout",
     "output_type": "stream",
     "text": [
      "count    8381.000000\n",
      "mean     4567.019258\n",
      "std       732.039376\n",
      "min      3400.306278\n",
      "25%      4011.577008\n",
      "50%      4293.060801\n",
      "75%      5258.255297\n",
      "max      6411.698738\n",
      "Name: yhat, dtype: float64\n",
      "Processing family: GROCERY II\n"
     ]
    },
    {
     "name": "stderr",
     "output_type": "stream",
     "text": [
      "16:50:15 - cmdstanpy - INFO - Chain [1] start processing\n",
      "16:50:24 - cmdstanpy - INFO - Chain [1] done processing\n"
     ]
    },
    {
     "name": "stdout",
     "output_type": "stream",
     "text": [
      "count    8381.000000\n",
      "mean       15.400624\n",
      "std         3.297458\n",
      "min         9.612252\n",
      "25%        13.045736\n",
      "50%        14.976060\n",
      "75%        17.043264\n",
      "max        22.038335\n",
      "Name: yhat, dtype: float64\n",
      "Processing family: HARDWARE\n"
     ]
    },
    {
     "name": "stderr",
     "output_type": "stream",
     "text": [
      "16:50:32 - cmdstanpy - INFO - Chain [1] start processing\n",
      "16:50:50 - cmdstanpy - INFO - Chain [1] done processing\n"
     ]
    },
    {
     "name": "stdout",
     "output_type": "stream",
     "text": [
      "count    8382.000000\n",
      "mean        0.802287\n",
      "std         0.215042\n",
      "min         0.423304\n",
      "25%         0.635403\n",
      "50%         0.736050\n",
      "75%         1.003659\n",
      "max         1.313348\n",
      "Name: yhat, dtype: float64\n",
      "Processing family: HOME AND KITCHEN I\n"
     ]
    },
    {
     "name": "stderr",
     "output_type": "stream",
     "text": [
      "16:50:59 - cmdstanpy - INFO - Chain [1] start processing\n",
      "16:51:21 - cmdstanpy - INFO - Chain [1] done processing\n"
     ]
    },
    {
     "name": "stdout",
     "output_type": "stream",
     "text": [
      "count    8382.000000\n",
      "mean       39.263836\n",
      "std         4.607075\n",
      "min        31.907868\n",
      "25%        35.914672\n",
      "50%        38.098382\n",
      "75%        42.384180\n",
      "max        53.159588\n",
      "Name: yhat, dtype: float64\n",
      "Processing family: HOME AND KITCHEN II\n"
     ]
    },
    {
     "name": "stderr",
     "output_type": "stream",
     "text": [
      "16:51:29 - cmdstanpy - INFO - Chain [1] start processing\n",
      "16:51:59 - cmdstanpy - INFO - Chain [1] done processing\n"
     ]
    },
    {
     "name": "stdout",
     "output_type": "stream",
     "text": [
      "count    8382.000000\n",
      "mean        5.999895\n",
      "std         3.923011\n",
      "min         0.000000\n",
      "25%         2.964255\n",
      "50%         5.489864\n",
      "75%         8.948042\n",
      "max        15.779992\n",
      "Name: yhat, dtype: float64\n",
      "Processing family: HOME APPLIANCES\n"
     ]
    },
    {
     "name": "stderr",
     "output_type": "stream",
     "text": [
      "16:52:07 - cmdstanpy - INFO - Chain [1] start processing\n",
      "16:52:34 - cmdstanpy - INFO - Chain [1] done processing\n"
     ]
    },
    {
     "name": "stdout",
     "output_type": "stream",
     "text": [
      "count    8381.000000\n",
      "mean        0.004336\n",
      "std         0.020869\n",
      "min         0.000000\n",
      "25%         0.000000\n",
      "50%         0.000000\n",
      "75%         0.000000\n",
      "max         0.180578\n",
      "Name: yhat, dtype: float64\n",
      "Processing family: HOME CARE\n"
     ]
    },
    {
     "name": "stderr",
     "output_type": "stream",
     "text": [
      "16:52:42 - cmdstanpy - INFO - Chain [1] start processing\n",
      "16:53:25 - cmdstanpy - INFO - Chain [1] done processing\n"
     ]
    },
    {
     "name": "stdout",
     "output_type": "stream",
     "text": [
      "count    8381.000000\n",
      "mean      298.592443\n",
      "std        41.021264\n",
      "min       200.615895\n",
      "25%       266.485296\n",
      "50%       293.292281\n",
      "75%       327.590680\n",
      "max       404.869842\n",
      "Name: yhat, dtype: float64\n",
      "Processing family: LADIESWEAR\n"
     ]
    },
    {
     "name": "stderr",
     "output_type": "stream",
     "text": [
      "16:53:34 - cmdstanpy - INFO - Chain [1] start processing\n",
      "16:54:12 - cmdstanpy - INFO - Chain [1] done processing\n"
     ]
    },
    {
     "name": "stdout",
     "output_type": "stream",
     "text": [
      "count    8381.000000\n",
      "mean       12.462863\n",
      "std         3.004733\n",
      "min         7.303251\n",
      "25%        10.045625\n",
      "50%        11.786536\n",
      "75%        14.051287\n",
      "max        20.207222\n",
      "Name: yhat, dtype: float64\n",
      "Processing family: LAWN AND GARDEN\n"
     ]
    },
    {
     "name": "stderr",
     "output_type": "stream",
     "text": [
      "16:54:20 - cmdstanpy - INFO - Chain [1] start processing\n",
      "16:54:31 - cmdstanpy - INFO - Chain [1] done processing\n"
     ]
    },
    {
     "name": "stdout",
     "output_type": "stream",
     "text": [
      "count    8382.000000\n",
      "mean        6.511954\n",
      "std         1.183484\n",
      "min         4.564086\n",
      "25%         5.404839\n",
      "50%         6.780017\n",
      "75%         7.317933\n",
      "max         8.961950\n",
      "Name: yhat, dtype: float64\n",
      "Processing family: LINGERIE\n"
     ]
    },
    {
     "name": "stderr",
     "output_type": "stream",
     "text": [
      "16:54:38 - cmdstanpy - INFO - Chain [1] start processing\n",
      "16:54:55 - cmdstanpy - INFO - Chain [1] done processing\n"
     ]
    },
    {
     "name": "stdout",
     "output_type": "stream",
     "text": [
      "count    8382.000000\n",
      "mean        6.622852\n",
      "std         1.357470\n",
      "min         4.934870\n",
      "25%         5.471206\n",
      "50%         6.061909\n",
      "75%         7.841151\n",
      "max        10.088310\n",
      "Name: yhat, dtype: float64\n",
      "Processing family: LIQUOR,WINE,BEER\n"
     ]
    },
    {
     "name": "stderr",
     "output_type": "stream",
     "text": [
      "16:55:03 - cmdstanpy - INFO - Chain [1] start processing\n",
      "16:55:10 - cmdstanpy - INFO - Chain [1] done processing\n"
     ]
    },
    {
     "name": "stdout",
     "output_type": "stream",
     "text": [
      "count    8382.000000\n",
      "mean      111.931798\n",
      "std        56.569051\n",
      "min        21.857689\n",
      "25%        79.380066\n",
      "50%        97.153944\n",
      "75%       155.940723\n",
      "max       235.993276\n",
      "Name: yhat, dtype: float64\n",
      "Processing family: MAGAZINES\n"
     ]
    },
    {
     "name": "stderr",
     "output_type": "stream",
     "text": [
      "16:55:18 - cmdstanpy - INFO - Chain [1] start processing\n",
      "16:55:37 - cmdstanpy - INFO - Chain [1] done processing\n"
     ]
    },
    {
     "name": "stdout",
     "output_type": "stream",
     "text": [
      "count    8381.000000\n",
      "mean        6.870154\n",
      "std         0.669970\n",
      "min         5.418508\n",
      "25%         6.316916\n",
      "50%         6.795784\n",
      "75%         7.308136\n",
      "max         8.606056\n",
      "Name: yhat, dtype: float64\n",
      "Processing family: MEATS\n"
     ]
    },
    {
     "name": "stderr",
     "output_type": "stream",
     "text": [
      "16:55:45 - cmdstanpy - INFO - Chain [1] start processing\n",
      "16:55:52 - cmdstanpy - INFO - Chain [1] done processing\n"
     ]
    },
    {
     "name": "stdout",
     "output_type": "stream",
     "text": [
      "count    8381.000000\n",
      "mean      346.828266\n",
      "std        52.099713\n",
      "min       273.142471\n",
      "25%       304.308908\n",
      "50%       316.132487\n",
      "75%       394.162548\n",
      "max       444.604255\n",
      "Name: yhat, dtype: float64\n",
      "Processing family: PERSONAL CARE\n"
     ]
    },
    {
     "name": "stderr",
     "output_type": "stream",
     "text": [
      "16:56:00 - cmdstanpy - INFO - Chain [1] start processing\n",
      "16:56:07 - cmdstanpy - INFO - Chain [1] done processing\n"
     ]
    },
    {
     "name": "stdout",
     "output_type": "stream",
     "text": [
      "count    8381.000000\n",
      "mean      325.474389\n",
      "std        71.296050\n",
      "min       217.572681\n",
      "25%       270.341126\n",
      "50%       298.073248\n",
      "75%       389.462428\n",
      "max       501.973511\n",
      "Name: yhat, dtype: float64\n",
      "Processing family: PET SUPPLIES\n"
     ]
    },
    {
     "name": "stderr",
     "output_type": "stream",
     "text": [
      "16:56:15 - cmdstanpy - INFO - Chain [1] start processing\n",
      "16:56:49 - cmdstanpy - INFO - Chain [1] done processing\n"
     ]
    },
    {
     "name": "stdout",
     "output_type": "stream",
     "text": [
      "count    8381.000000\n",
      "mean        8.665747\n",
      "std         0.856948\n",
      "min         6.698186\n",
      "25%         7.986555\n",
      "50%         8.493829\n",
      "75%         9.210962\n",
      "max        10.806226\n",
      "Name: yhat, dtype: float64\n",
      "Processing family: PLAYERS AND ELECTRONICS\n"
     ]
    },
    {
     "name": "stderr",
     "output_type": "stream",
     "text": [
      "16:56:56 - cmdstanpy - INFO - Chain [1] start processing\n",
      "16:57:32 - cmdstanpy - INFO - Chain [1] done processing\n"
     ]
    },
    {
     "name": "stdout",
     "output_type": "stream",
     "text": [
      "count    8381.000000\n",
      "mean        9.107660\n",
      "std         1.378445\n",
      "min         6.254314\n",
      "25%         8.094475\n",
      "50%         8.709517\n",
      "75%        10.193168\n",
      "max        13.018570\n",
      "Name: yhat, dtype: float64\n",
      "Processing family: POULTRY\n"
     ]
    },
    {
     "name": "stderr",
     "output_type": "stream",
     "text": [
      "16:57:41 - cmdstanpy - INFO - Chain [1] start processing\n",
      "16:57:53 - cmdstanpy - INFO - Chain [1] done processing\n"
     ]
    },
    {
     "name": "stdout",
     "output_type": "stream",
     "text": [
      "count    8382.000000\n",
      "mean      415.010907\n",
      "std        69.635841\n",
      "min       302.938074\n",
      "25%       359.059255\n",
      "50%       377.915916\n",
      "75%       485.231915\n",
      "max       537.756354\n",
      "Name: yhat, dtype: float64\n",
      "Processing family: PREPARED FOODS\n"
     ]
    },
    {
     "name": "stderr",
     "output_type": "stream",
     "text": [
      "16:58:01 - cmdstanpy - INFO - Chain [1] start processing\n",
      "16:58:12 - cmdstanpy - INFO - Chain [1] done processing\n"
     ]
    },
    {
     "name": "stdout",
     "output_type": "stream",
     "text": [
      "count    8380.000000\n",
      "mean      103.054075\n",
      "std        17.479260\n",
      "min        82.444712\n",
      "25%        89.465977\n",
      "50%        95.637199\n",
      "75%       126.084601\n",
      "max       135.938844\n",
      "Name: yhat, dtype: float64\n",
      "Processing family: CELEBRATION\n"
     ]
    },
    {
     "name": "stderr",
     "output_type": "stream",
     "text": [
      "16:58:19 - cmdstanpy - INFO - Chain [1] start processing\n",
      "16:58:46 - cmdstanpy - INFO - Chain [1] done processing\n"
     ]
    },
    {
     "name": "stdout",
     "output_type": "stream",
     "text": [
      "count    8380.000000\n",
      "mean       10.907554\n",
      "std         2.235752\n",
      "min         6.538544\n",
      "25%         9.310989\n",
      "50%        10.529867\n",
      "75%        12.309693\n",
      "max        17.884952\n",
      "Name: yhat, dtype: float64\n",
      "Processing family: BREAD/BAKERY\n"
     ]
    },
    {
     "name": "stderr",
     "output_type": "stream",
     "text": [
      "16:58:54 - cmdstanpy - INFO - Chain [1] start processing\n",
      "16:59:12 - cmdstanpy - INFO - Chain [1] done processing\n"
     ]
    },
    {
     "name": "stdout",
     "output_type": "stream",
     "text": [
      "count    8380.000000\n",
      "mean      595.026071\n",
      "std        85.031525\n",
      "min       481.849390\n",
      "25%       535.576719\n",
      "50%       557.708196\n",
      "75%       660.324591\n",
      "max       783.069180\n",
      "Name: yhat, dtype: float64\n",
      "Processing family: BOOKS\n",
      "count    8380.0\n",
      "mean        0.0\n",
      "std         0.0\n",
      "min         0.0\n",
      "25%         0.0\n",
      "50%         0.0\n",
      "75%         0.0\n",
      "max         0.0\n",
      "Name: yhat, dtype: float64\n",
      "Processing family: BEVERAGES\n"
     ]
    },
    {
     "name": "stderr",
     "output_type": "stream",
     "text": [
      "16:59:22 - cmdstanpy - INFO - Chain [1] start processing\n",
      "16:59:52 - cmdstanpy - INFO - Chain [1] done processing\n"
     ]
    },
    {
     "name": "stdout",
     "output_type": "stream",
     "text": [
      "count    8380.000000\n",
      "mean     2926.237720\n",
      "std       523.527650\n",
      "min      1921.258059\n",
      "25%      2538.753438\n",
      "50%      2739.519884\n",
      "75%      3452.381381\n",
      "max      4118.228640\n",
      "Name: yhat, dtype: float64\n",
      "Processing family: SEAFOOD\n"
     ]
    },
    {
     "name": "stderr",
     "output_type": "stream",
     "text": [
      "17:00:00 - cmdstanpy - INFO - Chain [1] start processing\n",
      "17:00:11 - cmdstanpy - INFO - Chain [1] done processing\n"
     ]
    },
    {
     "name": "stdout",
     "output_type": "stream",
     "text": [
      "count    8382.000000\n",
      "mean       26.946402\n",
      "std         4.519920\n",
      "min        19.063496\n",
      "25%        22.952559\n",
      "50%        25.614523\n",
      "75%        31.160328\n",
      "max        35.668632\n",
      "Name: yhat, dtype: float64\n",
      "Processing family: AUTOMOTIVE\n"
     ]
    },
    {
     "name": "stderr",
     "output_type": "stream",
     "text": [
      "17:00:19 - cmdstanpy - INFO - Chain [1] start processing\n",
      "17:00:29 - cmdstanpy - INFO - Chain [1] done processing\n"
     ]
    },
    {
     "name": "stdout",
     "output_type": "stream",
     "text": [
      "count    8380.000000\n",
      "mean        5.785476\n",
      "std         1.496564\n",
      "min         4.117328\n",
      "25%         4.682217\n",
      "50%         4.971557\n",
      "75%         7.626072\n",
      "max         9.159810\n",
      "Name: yhat, dtype: float64\n",
      "Processing family: PRODUCE\n"
     ]
    },
    {
     "name": "stderr",
     "output_type": "stream",
     "text": [
      "17:00:36 - cmdstanpy - INFO - Chain [1] start processing\n",
      "17:01:25 - cmdstanpy - INFO - Chain [1] done processing\n"
     ]
    },
    {
     "name": "stdout",
     "output_type": "stream",
     "text": [
      "count    8380.000000\n",
      "mean     2155.286639\n",
      "std       319.115945\n",
      "min      1451.973301\n",
      "25%      1921.924921\n",
      "50%      2128.947330\n",
      "75%      2374.331624\n",
      "max      3010.335196\n",
      "Name: yhat, dtype: float64\n",
      "Processing family: BEAUTY\n"
     ]
    },
    {
     "name": "stderr",
     "output_type": "stream",
     "text": [
      "17:01:34 - cmdstanpy - INFO - Chain [1] start processing\n",
      "17:01:50 - cmdstanpy - INFO - Chain [1] done processing\n"
     ]
    },
    {
     "name": "stdout",
     "output_type": "stream",
     "text": [
      "count    8380.000000\n",
      "mean        6.491071\n",
      "std         1.076101\n",
      "min         5.138559\n",
      "25%         5.639763\n",
      "50%         6.083426\n",
      "75%         7.377078\n",
      "max         9.026598\n",
      "Name: yhat, dtype: float64\n",
      "Processing family: BABY CARE\n"
     ]
    },
    {
     "name": "stderr",
     "output_type": "stream",
     "text": [
      "17:01:58 - cmdstanpy - INFO - Chain [1] start processing\n",
      "17:02:11 - cmdstanpy - INFO - Chain [1] done processing\n"
     ]
    },
    {
     "name": "stdout",
     "output_type": "stream",
     "text": [
      "count    8380.000000\n",
      "mean        0.406376\n",
      "std         0.022518\n",
      "min         0.356756\n",
      "25%         0.389503\n",
      "50%         0.405880\n",
      "75%         0.420168\n",
      "max         0.480233\n",
      "Name: yhat, dtype: float64\n",
      "Weighted RMSLE: (0.9042748230926073, [('SCHOOL AND OFFICE SUPPLIES', 1.300003774141835, 8381), ('CLEANING', 0.5504685936494585, 8380), ('DAIRY', 0.7532968384388142, 8381), ('DELI', 0.6026076154096475, 8381), ('EGGS', 0.8410254780367522, 8381), ('FROZEN FOODS', 0.8013912676120768, 8381), ('GROCERY I', 0.5432947722406664, 8381), ('GROCERY II', 1.1588188924980118, 8381), ('HARDWARE', 0.646792700958478, 8382), ('HOME AND KITCHEN I', 0.867260886935071, 8382), ('HOME AND KITCHEN II', 1.7141381270215177, 8382), ('HOME APPLIANCES', 0.5708778277484363, 8381), ('HOME CARE', 0.5845850105622294, 8381), ('LADIESWEAR', 1.5684248454713077, 8381), ('LAWN AND GARDEN', 1.50997303818408, 8382), ('LINGERIE', 0.9027170531891454, 8382), ('LIQUOR,WINE,BEER', 1.2500982690592997, 8382), ('MAGAZINES', 1.1038874358428392, 8381), ('MEATS', 0.8670483303616895, 8381), ('PERSONAL CARE', 0.6162956184850755, 8381), ('PET SUPPLIES', 1.1247885707196092, 8381), ('PLAYERS AND ELECTRONICS', 0.8598482204708683, 8381), ('POULTRY', 1.001388141975934, 8382), ('PREPARED FOODS', 0.8812345023162692, 8380), ('CELEBRATION', 0.8399712242630865, 8380), ('BREAD/BAKERY', 0.8285305292951055, 8380), ('BOOKS', 0.2271481350637222, 8380), ('BEVERAGES', 0.6157684961212311, 8380), ('SEAFOOD', 1.5973322221573332, 8382), ('AUTOMOTIVE', 0.6912828336582724, 8380), ('PRODUCE', 1.0447918309281246, 8380), ('BEAUTY', 0.986814864956333, 8380), ('BABY CARE', 0.3886568806487441, 8380)])\n"
     ]
    }
   ],
   "source": [
    "import numpy as np\n",
    "from sklearn.metrics import mean_squared_error\n",
    "\n",
    "def evaluate_forecast(y_test, forecast):\n",
    "    \"\"\"\n",
    "    Compute MSE, RMSE, and RMSLE for a forecast.\n",
    "\n",
    "    Parameters:\n",
    "    y_test (array-like): Actual values.\n",
    "    forecast (array-like): Predicted values.\n",
    "\n",
    "    Returns:\n",
    "    dict: Dictionary containing MSE, RMSE, and RMSLE.\n",
    "    \"\"\"\n",
    "    def rmsle(predicted, actual):\n",
    "        return np.sqrt(np.mean(np.square(np.log1p(predicted) - np.log1p(actual))))\n",
    "\n",
    "    # Ensure both forecast and y_test are numpy arrays\n",
    "    y_test = np.array(y_test)\n",
    "    forecast = np.array(forecast)\n",
    "\n",
    "    # Remove any NaN values from the arrays\n",
    "    y_test = y_test[~np.isnan(y_test)]\n",
    "    forecast = forecast[~np.isnan(forecast)]\n",
    "\n",
    "    # Compute Root Mean Squared Logarithmic Error (RMSLE)\n",
    "    rmsle_value = rmsle(forecast, y_test)\n",
    "    \n",
    "    # Return the RMSLE value\n",
    "    return rmsle_value\n",
    "\n",
    "# Define a function to train and evaluate Prophet model for each family\n",
    "def train_and_evaluate_by_family(train_df, test_df):\n",
    "    results = []\n",
    "    unique_families = train_df['family'].unique()\n",
    "    \n",
    "    for family in unique_families:\n",
    "        print(\"Processing family:\", family)\n",
    "        train_family = train_df[train_df['family'] == family]\n",
    "        test_family = test_df[test_df['family'] == family]\n",
    "\n",
    "        model_df = train_family[['date', 'sales', 'family', 'store_nbr']]\n",
    "        model_df.columns = ['ds', 'y', 'family', 'store_nbr']\n",
    "        model_df['ds'] = pd.to_datetime(model_df['ds'])\n",
    "\n",
    "        model_df_test = test_family[['date', 'sales', 'family', 'store_nbr']]\n",
    "        model_df_test.columns = ['ds', 'y', 'family', 'store_nbr']\n",
    "        model_df_test['ds'] = pd.to_datetime(model_df_test['ds'])\n",
    "        \n",
    "        m = Prophet()\n",
    "        m.add_country_holidays(country_name='EC')\n",
    "        m.fit(model_df)\n",
    "\n",
    "        forecast = m.predict(model_df_test.drop(columns=\"y\"))\n",
    "        forecast['yhat'] = forecast['yhat'].apply(lambda x: x if x >= 0 else 0)\n",
    "        rmsle_value = evaluate_forecast(model_df_test['y'], forecast['yhat'])\n",
    "        results.append((family, rmsle_value, len(test_family)))\n",
    "        print(forecast['yhat'].describe())\n",
    "    \n",
    "    # Aggregate the results\n",
    "    total_samples = sum([sample_count for _, _, sample_count in results])\n",
    "    weighted_rmsle = sum([rmsle * (sample_count / total_samples) for _, rmsle, sample_count in results])\n",
    "    \n",
    "    return weighted_rmsle, results\n",
    "\n",
    "# Call the function to train and evaluate Prophet models for each family\n",
    "weighted_rmsle = train_and_evaluate_by_family(df_train_p, df_test_p)\n",
    "\n",
    "# Print or use weighted_rmsle as needed\n",
    "print(\"Weighted RMSLE:\", weighted_rmsle)\n"
   ]
  },
  {
   "cell_type": "code",
   "execution_count": 34,
   "id": "fb3a3cb8-b573-4ed9-bde5-79258f122580",
   "metadata": {},
   "outputs": [
    {
     "name": "stdout",
     "output_type": "stream",
     "text": [
      "Processing family: SCHOOL AND OFFICE SUPPLIES\n"
     ]
    },
    {
     "name": "stderr",
     "output_type": "stream",
     "text": [
      "17:18:21 - cmdstanpy - INFO - Chain [1] start processing\n",
      "17:18:49 - cmdstanpy - INFO - Chain [1] done processing\n"
     ]
    },
    {
     "name": "stdout",
     "output_type": "stream",
     "text": [
      "count    8381.000000\n",
      "mean        9.094359\n",
      "std         2.382927\n",
      "min         2.686949\n",
      "25%         7.417683\n",
      "50%         9.046027\n",
      "75%        10.702291\n",
      "max        18.744168\n",
      "Name: yhat, dtype: float64\n",
      "Processing family: CLEANING\n"
     ]
    },
    {
     "name": "stderr",
     "output_type": "stream",
     "text": [
      "17:18:57 - cmdstanpy - INFO - Chain [1] start processing\n",
      "17:19:06 - cmdstanpy - INFO - Chain [1] done processing\n"
     ]
    },
    {
     "name": "stdout",
     "output_type": "stream",
     "text": [
      "count    8380.000000\n",
      "mean     1225.484353\n",
      "std       252.169801\n",
      "min       633.311993\n",
      "25%      1026.830008\n",
      "50%      1214.065199\n",
      "75%      1381.764103\n",
      "max      1987.087536\n",
      "Name: yhat, dtype: float64\n",
      "Processing family: DAIRY\n"
     ]
    },
    {
     "name": "stderr",
     "output_type": "stream",
     "text": [
      "17:19:14 - cmdstanpy - INFO - Chain [1] start processing\n",
      "17:19:40 - cmdstanpy - INFO - Chain [1] done processing\n"
     ]
    },
    {
     "name": "stdout",
     "output_type": "stream",
     "text": [
      "count    8381.000000\n",
      "mean      996.462929\n",
      "std       179.547242\n",
      "min       594.620592\n",
      "25%       855.476421\n",
      "50%       988.515586\n",
      "75%      1108.833527\n",
      "max      1467.403147\n",
      "Name: yhat, dtype: float64\n",
      "Processing family: DELI\n"
     ]
    },
    {
     "name": "stderr",
     "output_type": "stream",
     "text": [
      "17:19:48 - cmdstanpy - INFO - Chain [1] start processing\n",
      "17:20:02 - cmdstanpy - INFO - Chain [1] done processing\n"
     ]
    },
    {
     "name": "stdout",
     "output_type": "stream",
     "text": [
      "count    8381.000000\n",
      "mean      314.068861\n",
      "std        65.547704\n",
      "min       185.792902\n",
      "25%       262.960973\n",
      "50%       306.000051\n",
      "75%       355.636654\n",
      "max       489.822988\n",
      "Name: yhat, dtype: float64\n",
      "Processing family: EGGS\n"
     ]
    },
    {
     "name": "stderr",
     "output_type": "stream",
     "text": [
      "17:20:09 - cmdstanpy - INFO - Chain [1] start processing\n",
      "17:20:20 - cmdstanpy - INFO - Chain [1] done processing\n"
     ]
    },
    {
     "name": "stdout",
     "output_type": "stream",
     "text": [
      "count    8381.000000\n",
      "mean      208.787806\n",
      "std        38.912057\n",
      "min       134.556819\n",
      "25%       178.363003\n",
      "50%       202.963617\n",
      "75%       237.159242\n",
      "max       309.545918\n",
      "Name: yhat, dtype: float64\n",
      "Processing family: FROZEN FOODS\n"
     ]
    },
    {
     "name": "stderr",
     "output_type": "stream",
     "text": [
      "17:20:28 - cmdstanpy - INFO - Chain [1] start processing\n",
      "17:20:51 - cmdstanpy - INFO - Chain [1] done processing\n"
     ]
    },
    {
     "name": "stdout",
     "output_type": "stream",
     "text": [
      "count    8381.000000\n",
      "mean      102.570814\n",
      "std        52.318128\n",
      "min         0.000000\n",
      "25%        63.106880\n",
      "50%       101.963594\n",
      "75%       139.165929\n",
      "max       254.568933\n",
      "Name: yhat, dtype: float64\n",
      "Processing family: GROCERY I\n"
     ]
    },
    {
     "name": "stderr",
     "output_type": "stream",
     "text": [
      "17:20:58 - cmdstanpy - INFO - Chain [1] start processing\n",
      "17:21:09 - cmdstanpy - INFO - Chain [1] done processing\n"
     ]
    },
    {
     "name": "stdout",
     "output_type": "stream",
     "text": [
      "count    8381.000000\n",
      "mean     4602.124231\n",
      "std       929.840428\n",
      "min      2449.114222\n",
      "25%      3883.631021\n",
      "50%      4553.038250\n",
      "75%      5191.822063\n",
      "max      7405.709990\n",
      "Name: yhat, dtype: float64\n",
      "Processing family: GROCERY II\n"
     ]
    },
    {
     "name": "stderr",
     "output_type": "stream",
     "text": [
      "17:21:17 - cmdstanpy - INFO - Chain [1] start processing\n",
      "17:21:25 - cmdstanpy - INFO - Chain [1] done processing\n"
     ]
    },
    {
     "name": "stdout",
     "output_type": "stream",
     "text": [
      "count    8381.000000\n",
      "mean       16.090840\n",
      "std         5.424685\n",
      "min         2.957429\n",
      "25%        12.012764\n",
      "50%        16.108873\n",
      "75%        20.020431\n",
      "max        30.040636\n",
      "Name: yhat, dtype: float64\n",
      "Processing family: HARDWARE\n"
     ]
    },
    {
     "name": "stderr",
     "output_type": "stream",
     "text": [
      "17:21:33 - cmdstanpy - INFO - Chain [1] start processing\n",
      "17:21:41 - cmdstanpy - INFO - Chain [1] done processing\n"
     ]
    },
    {
     "name": "stdout",
     "output_type": "stream",
     "text": [
      "count    8382.000000\n",
      "mean        0.880493\n",
      "std         0.221531\n",
      "min         0.412969\n",
      "25%         0.710771\n",
      "50%         0.815366\n",
      "75%         1.061043\n",
      "max         1.491418\n",
      "Name: yhat, dtype: float64\n",
      "Processing family: HOME AND KITCHEN I\n"
     ]
    },
    {
     "name": "stderr",
     "output_type": "stream",
     "text": [
      "17:21:49 - cmdstanpy - INFO - Chain [1] start processing\n",
      "17:22:09 - cmdstanpy - INFO - Chain [1] done processing\n"
     ]
    },
    {
     "name": "stdout",
     "output_type": "stream",
     "text": [
      "count    8382.000000\n",
      "mean       36.862886\n",
      "std         5.795352\n",
      "min        23.258257\n",
      "25%        32.573575\n",
      "50%        36.494607\n",
      "75%        40.560934\n",
      "max        56.745952\n",
      "Name: yhat, dtype: float64\n",
      "Processing family: HOME AND KITCHEN II\n"
     ]
    },
    {
     "name": "stderr",
     "output_type": "stream",
     "text": [
      "17:22:16 - cmdstanpy - INFO - Chain [1] start processing\n",
      "17:22:45 - cmdstanpy - INFO - Chain [1] done processing\n"
     ]
    },
    {
     "name": "stdout",
     "output_type": "stream",
     "text": [
      "count    8382.000000\n",
      "mean       13.279211\n",
      "std         4.961570\n",
      "min         0.000000\n",
      "25%         9.575680\n",
      "50%        13.193885\n",
      "75%        16.535597\n",
      "max        28.408588\n",
      "Name: yhat, dtype: float64\n",
      "Processing family: HOME APPLIANCES\n"
     ]
    },
    {
     "name": "stderr",
     "output_type": "stream",
     "text": [
      "17:22:53 - cmdstanpy - INFO - Chain [1] start processing\n",
      "17:23:25 - cmdstanpy - INFO - Chain [1] done processing\n"
     ]
    },
    {
     "name": "stdout",
     "output_type": "stream",
     "text": [
      "count    8381.000000\n",
      "mean        0.008427\n",
      "std         0.034409\n",
      "min         0.000000\n",
      "25%         0.000000\n",
      "50%         0.000000\n",
      "75%         0.000000\n",
      "max         0.352038\n",
      "Name: yhat, dtype: float64\n",
      "Processing family: HOME CARE\n"
     ]
    },
    {
     "name": "stderr",
     "output_type": "stream",
     "text": [
      "17:23:33 - cmdstanpy - INFO - Chain [1] start processing\n",
      "17:24:35 - cmdstanpy - INFO - Chain [1] done processing\n"
     ]
    },
    {
     "name": "stdout",
     "output_type": "stream",
     "text": [
      "count    8381.000000\n",
      "mean      299.736227\n",
      "std        46.144259\n",
      "min       166.339865\n",
      "25%       265.872249\n",
      "50%       296.149127\n",
      "75%       331.177067\n",
      "max       442.995901\n",
      "Name: yhat, dtype: float64\n",
      "Processing family: LADIESWEAR\n"
     ]
    },
    {
     "name": "stderr",
     "output_type": "stream",
     "text": [
      "17:24:43 - cmdstanpy - INFO - Chain [1] start processing\n",
      "17:25:16 - cmdstanpy - INFO - Chain [1] done processing\n"
     ]
    },
    {
     "name": "stdout",
     "output_type": "stream",
     "text": [
      "count    8381.000000\n",
      "mean       12.588985\n",
      "std         3.113442\n",
      "min         6.043153\n",
      "25%        10.248277\n",
      "50%        12.082515\n",
      "75%        14.529577\n",
      "max        21.702665\n",
      "Name: yhat, dtype: float64\n",
      "Processing family: LAWN AND GARDEN\n"
     ]
    },
    {
     "name": "stderr",
     "output_type": "stream",
     "text": [
      "17:25:24 - cmdstanpy - INFO - Chain [1] start processing\n",
      "17:25:32 - cmdstanpy - INFO - Chain [1] done processing\n"
     ]
    },
    {
     "name": "stdout",
     "output_type": "stream",
     "text": [
      "count    8382.000000\n",
      "mean        6.496941\n",
      "std         1.228560\n",
      "min         3.995320\n",
      "25%         5.390397\n",
      "50%         6.606421\n",
      "75%         7.398792\n",
      "max         9.513428\n",
      "Name: yhat, dtype: float64\n",
      "Processing family: LINGERIE\n"
     ]
    },
    {
     "name": "stderr",
     "output_type": "stream",
     "text": [
      "17:25:40 - cmdstanpy - INFO - Chain [1] start processing\n",
      "17:25:58 - cmdstanpy - INFO - Chain [1] done processing\n"
     ]
    },
    {
     "name": "stdout",
     "output_type": "stream",
     "text": [
      "count    8382.000000\n",
      "mean        5.941109\n",
      "std         1.795084\n",
      "min         2.214927\n",
      "25%         4.578993\n",
      "50%         5.863184\n",
      "75%         7.090563\n",
      "max        11.480857\n",
      "Name: yhat, dtype: float64\n",
      "Processing family: LIQUOR,WINE,BEER\n"
     ]
    },
    {
     "name": "stderr",
     "output_type": "stream",
     "text": [
      "17:26:06 - cmdstanpy - INFO - Chain [1] start processing\n",
      "17:26:17 - cmdstanpy - INFO - Chain [1] done processing\n"
     ]
    },
    {
     "name": "stdout",
     "output_type": "stream",
     "text": [
      "count    8382.000000\n",
      "mean      108.267154\n",
      "std        58.774275\n",
      "min         0.000000\n",
      "25%        69.601967\n",
      "50%        95.797419\n",
      "75%       143.662896\n",
      "max       260.078750\n",
      "Name: yhat, dtype: float64\n",
      "Processing family: MAGAZINES\n"
     ]
    },
    {
     "name": "stderr",
     "output_type": "stream",
     "text": [
      "17:26:25 - cmdstanpy - INFO - Chain [1] start processing\n",
      "17:26:47 - cmdstanpy - INFO - Chain [1] done processing\n"
     ]
    },
    {
     "name": "stdout",
     "output_type": "stream",
     "text": [
      "count    8381.000000\n",
      "mean        6.883738\n",
      "std         0.718724\n",
      "min         5.014742\n",
      "25%         6.339290\n",
      "50%         6.825904\n",
      "75%         7.377176\n",
      "max         9.063531\n",
      "Name: yhat, dtype: float64\n",
      "Processing family: MEATS\n"
     ]
    },
    {
     "name": "stderr",
     "output_type": "stream",
     "text": [
      "17:26:54 - cmdstanpy - INFO - Chain [1] start processing\n",
      "17:27:02 - cmdstanpy - INFO - Chain [1] done processing\n"
     ]
    },
    {
     "name": "stdout",
     "output_type": "stream",
     "text": [
      "count    8381.000000\n",
      "mean      353.483252\n",
      "std        78.910908\n",
      "min       177.708861\n",
      "25%       295.751813\n",
      "50%       353.297924\n",
      "75%       405.947645\n",
      "max       552.427059\n",
      "Name: yhat, dtype: float64\n",
      "Processing family: PERSONAL CARE\n"
     ]
    },
    {
     "name": "stderr",
     "output_type": "stream",
     "text": [
      "17:27:10 - cmdstanpy - INFO - Chain [1] start processing\n",
      "17:27:18 - cmdstanpy - INFO - Chain [1] done processing\n"
     ]
    },
    {
     "name": "stdout",
     "output_type": "stream",
     "text": [
      "count    8381.000000\n",
      "mean      344.253506\n",
      "std        88.169309\n",
      "min       147.231014\n",
      "25%       276.307066\n",
      "50%       337.176108\n",
      "75%       399.935267\n",
      "max       610.256198\n",
      "Name: yhat, dtype: float64\n",
      "Processing family: PET SUPPLIES\n"
     ]
    },
    {
     "name": "stderr",
     "output_type": "stream",
     "text": [
      "17:27:26 - cmdstanpy - INFO - Chain [1] start processing\n",
      "17:27:55 - cmdstanpy - INFO - Chain [1] done processing\n"
     ]
    },
    {
     "name": "stdout",
     "output_type": "stream",
     "text": [
      "count    8381.000000\n",
      "mean        8.737142\n",
      "std         1.292679\n",
      "min         5.107163\n",
      "25%         7.783521\n",
      "50%         8.728200\n",
      "75%         9.631605\n",
      "max        12.529529\n",
      "Name: yhat, dtype: float64\n",
      "Processing family: PLAYERS AND ELECTRONICS\n"
     ]
    },
    {
     "name": "stderr",
     "output_type": "stream",
     "text": [
      "17:28:03 - cmdstanpy - INFO - Chain [1] start processing\n",
      "17:28:42 - cmdstanpy - INFO - Chain [1] done processing\n"
     ]
    },
    {
     "name": "stdout",
     "output_type": "stream",
     "text": [
      "count    8381.000000\n",
      "mean        9.175465\n",
      "std         1.888990\n",
      "min         4.157115\n",
      "25%         7.751952\n",
      "50%         9.141610\n",
      "75%        10.416949\n",
      "max        15.340785\n",
      "Name: yhat, dtype: float64\n",
      "Processing family: POULTRY\n"
     ]
    },
    {
     "name": "stderr",
     "output_type": "stream",
     "text": [
      "17:28:50 - cmdstanpy - INFO - Chain [1] start processing\n",
      "17:28:58 - cmdstanpy - INFO - Chain [1] done processing\n"
     ]
    },
    {
     "name": "stdout",
     "output_type": "stream",
     "text": [
      "count    8382.000000\n",
      "mean      428.684139\n",
      "std        86.147505\n",
      "min       230.637671\n",
      "25%       360.736843\n",
      "50%       425.168701\n",
      "75%       489.428143\n",
      "max       637.832645\n",
      "Name: yhat, dtype: float64\n",
      "Processing family: PREPARED FOODS\n"
     ]
    },
    {
     "name": "stderr",
     "output_type": "stream",
     "text": [
      "17:29:06 - cmdstanpy - INFO - Chain [1] start processing\n",
      "17:29:14 - cmdstanpy - INFO - Chain [1] done processing\n"
     ]
    },
    {
     "name": "stdout",
     "output_type": "stream",
     "text": [
      "count    8380.000000\n",
      "mean      103.649658\n",
      "std        25.308676\n",
      "min        51.908399\n",
      "25%        83.648010\n",
      "50%       103.694532\n",
      "75%       119.844099\n",
      "max       167.973820\n",
      "Name: yhat, dtype: float64\n",
      "Processing family: CELEBRATION\n"
     ]
    },
    {
     "name": "stderr",
     "output_type": "stream",
     "text": [
      "17:29:22 - cmdstanpy - INFO - Chain [1] start processing\n",
      "17:29:43 - cmdstanpy - INFO - Chain [1] done processing\n"
     ]
    },
    {
     "name": "stdout",
     "output_type": "stream",
     "text": [
      "count    8380.000000\n",
      "mean       11.474594\n",
      "std         2.401055\n",
      "min         5.810964\n",
      "25%         9.696234\n",
      "50%        11.140065\n",
      "75%        13.021330\n",
      "max        19.610368\n",
      "Name: yhat, dtype: float64\n",
      "Processing family: BREAD/BAKERY\n"
     ]
    },
    {
     "name": "stderr",
     "output_type": "stream",
     "text": [
      "17:29:51 - cmdstanpy - INFO - Chain [1] start processing\n",
      "17:30:03 - cmdstanpy - INFO - Chain [1] done processing\n"
     ]
    },
    {
     "name": "stdout",
     "output_type": "stream",
     "text": [
      "count    8380.000000\n",
      "mean      593.113529\n",
      "std       114.976889\n",
      "min       349.258942\n",
      "25%       504.512204\n",
      "50%       587.021915\n",
      "75%       664.961865\n",
      "max       912.813598\n",
      "Name: yhat, dtype: float64\n",
      "Processing family: BOOKS\n",
      "count    8380.0\n",
      "mean        0.0\n",
      "std         0.0\n",
      "min         0.0\n",
      "25%         0.0\n",
      "50%         0.0\n",
      "75%         0.0\n",
      "max         0.0\n",
      "Name: yhat, dtype: float64\n",
      "Processing family: BEVERAGES\n"
     ]
    },
    {
     "name": "stderr",
     "output_type": "stream",
     "text": [
      "17:30:13 - cmdstanpy - INFO - Chain [1] start processing\n",
      "17:30:41 - cmdstanpy - INFO - Chain [1] done processing\n"
     ]
    },
    {
     "name": "stdout",
     "output_type": "stream",
     "text": [
      "count    8380.000000\n",
      "mean     2867.680996\n",
      "std       633.265102\n",
      "min      1264.270926\n",
      "25%      2377.291086\n",
      "50%      2809.317715\n",
      "75%      3270.041492\n",
      "max      4673.379929\n",
      "Name: yhat, dtype: float64\n",
      "Processing family: SEAFOOD\n"
     ]
    },
    {
     "name": "stderr",
     "output_type": "stream",
     "text": [
      "17:30:49 - cmdstanpy - INFO - Chain [1] start processing\n",
      "17:30:59 - cmdstanpy - INFO - Chain [1] done processing\n"
     ]
    },
    {
     "name": "stdout",
     "output_type": "stream",
     "text": [
      "count    8382.000000\n",
      "mean       27.119197\n",
      "std         5.955793\n",
      "min        12.641586\n",
      "25%        22.665378\n",
      "50%        27.092284\n",
      "75%        31.260849\n",
      "max        42.516557\n",
      "Name: yhat, dtype: float64\n",
      "Processing family: AUTOMOTIVE\n"
     ]
    },
    {
     "name": "stderr",
     "output_type": "stream",
     "text": [
      "17:31:07 - cmdstanpy - INFO - Chain [1] start processing\n",
      "17:31:18 - cmdstanpy - INFO - Chain [1] done processing\n"
     ]
    },
    {
     "name": "stdout",
     "output_type": "stream",
     "text": [
      "count    8380.000000\n",
      "mean        5.837159\n",
      "std         2.167682\n",
      "min         1.494520\n",
      "25%         4.112389\n",
      "50%         5.830150\n",
      "75%         7.204052\n",
      "max        11.909934\n",
      "Name: yhat, dtype: float64\n",
      "Processing family: PRODUCE\n"
     ]
    },
    {
     "name": "stderr",
     "output_type": "stream",
     "text": [
      "17:31:26 - cmdstanpy - INFO - Chain [1] start processing\n",
      "17:32:08 - cmdstanpy - INFO - Chain [1] done processing\n"
     ]
    },
    {
     "name": "stdout",
     "output_type": "stream",
     "text": [
      "count    8380.000000\n",
      "mean     2143.511432\n",
      "std       377.133670\n",
      "min      1098.498413\n",
      "25%      1875.175540\n",
      "50%      2134.871403\n",
      "75%      2401.950644\n",
      "max      3339.518769\n",
      "Name: yhat, dtype: float64\n",
      "Processing family: BEAUTY\n"
     ]
    },
    {
     "name": "stderr",
     "output_type": "stream",
     "text": [
      "17:32:17 - cmdstanpy - INFO - Chain [1] start processing\n",
      "17:32:29 - cmdstanpy - INFO - Chain [1] done processing\n"
     ]
    },
    {
     "name": "stdout",
     "output_type": "stream",
     "text": [
      "count    8380.000000\n",
      "mean        6.568182\n",
      "std         1.292035\n",
      "min         4.004003\n",
      "25%         5.573009\n",
      "50%         6.419292\n",
      "75%         7.390881\n",
      "max        10.328101\n",
      "Name: yhat, dtype: float64\n",
      "Processing family: BABY CARE\n"
     ]
    },
    {
     "name": "stderr",
     "output_type": "stream",
     "text": [
      "17:32:38 - cmdstanpy - INFO - Chain [1] start processing\n",
      "17:32:48 - cmdstanpy - INFO - Chain [1] done processing\n"
     ]
    },
    {
     "name": "stdout",
     "output_type": "stream",
     "text": [
      "count    8380.000000\n",
      "mean        0.380650\n",
      "std         0.029195\n",
      "min         0.297020\n",
      "25%         0.360092\n",
      "50%         0.380455\n",
      "75%         0.400837\n",
      "max         0.477111\n",
      "Name: yhat, dtype: float64\n",
      "Weighted RMSLE: (0.9174741425006451, [('SCHOOL AND OFFICE SUPPLIES', 1.7877319971633818, 8381), ('CLEANING', 0.5676018163522992, 8380), ('DAIRY', 0.7628773799043962, 8381), ('DELI', 0.6150393027771889, 8381), ('EGGS', 0.848275668687681, 8381), ('FROZEN FOODS', 1.1259777513086444, 8381), ('GROCERY I', 0.5609666573631478, 8381), ('GROCERY II', 1.198587132687644, 8381), ('HARDWARE', 0.6415844711191331, 8382), ('HOME AND KITCHEN I', 0.8377143095298382, 8382), ('HOME AND KITCHEN II', 1.0132167699331551, 8382), ('HOME APPLIANCES', 0.5687433906532385, 8381), ('HOME CARE', 0.5899880501913409, 8381), ('LADIESWEAR', 1.573577633975057, 8381), ('LAWN AND GARDEN', 1.5101248582462912, 8382), ('LINGERIE', 0.8954176921817915, 8382), ('LIQUOR,WINE,BEER', 1.3113364927316256, 8382), ('MAGAZINES', 1.1047433894527134, 8381), ('MEATS', 0.8877432467947557, 8381), ('PERSONAL CARE', 0.6520784313174434, 8381), ('PET SUPPLIES', 1.1299211603215447, 8381), ('PLAYERS AND ELECTRONICS', 0.8704352483055817, 8381), ('POULTRY', 1.0208944105988145, 8382), ('PREPARED FOODS', 0.8962317848211457, 8380), ('CELEBRATION', 0.8504510886419734, 8380), ('BREAD/BAKERY', 0.834936352751747, 8380), ('BOOKS', 0.2271481350637222, 8380), ('BEVERAGES', 0.6334099481281482, 8380), ('SEAFOOD', 1.600388711710172, 8382), ('AUTOMOTIVE', 0.7416467290008081, 8380), ('PRODUCE', 1.0452222431845497, 8380), ('BEAUTY', 0.9941536532980763, 8380), ('BABY CARE', 0.37806356956821546, 8380)])\n"
     ]
    }
   ],
   "source": [
    "import numpy as np\n",
    "from sklearn.metrics import mean_squared_error\n",
    "\n",
    "def evaluate_forecast(y_test, forecast):\n",
    "    \"\"\"\n",
    "    Compute MSE, RMSE, and RMSLE for a forecast.\n",
    "\n",
    "    Parameters:\n",
    "    y_test (array-like): Actual values.\n",
    "    forecast (array-like): Predicted values.\n",
    "\n",
    "    Returns:\n",
    "    dict: Dictionary containing MSE, RMSE, and RMSLE.\n",
    "    \"\"\"\n",
    "    def rmsle(predicted, actual):\n",
    "        return np.sqrt(np.mean(np.square(np.log1p(predicted) - np.log1p(actual))))\n",
    "\n",
    "    # Ensure both forecast and y_test are numpy arrays\n",
    "    y_test = np.array(y_test)\n",
    "    forecast = np.array(forecast)\n",
    "\n",
    "    # Remove any NaN values from the arrays\n",
    "    y_test = y_test[~np.isnan(y_test)]\n",
    "    forecast = forecast[~np.isnan(forecast)]\n",
    "\n",
    "    # Compute Root Mean Squared Logarithmic Error (RMSLE)\n",
    "    rmsle_value = rmsle(forecast, y_test)\n",
    "    \n",
    "    # Return the RMSLE value\n",
    "    return rmsle_value\n",
    "\n",
    "# Define a function to train and evaluate Prophet model for each family\n",
    "def train_and_evaluate_by_family(train_df, test_df):\n",
    "    results = []\n",
    "    unique_families = train_df['family'].unique()\n",
    "    \n",
    "    for family in unique_families:\n",
    "        print(\"Processing family:\", family)\n",
    "        train_family = train_df[train_df['family'] == family]\n",
    "        test_family = test_df[test_df['family'] == family]\n",
    "\n",
    "        model_df = train_family[['date', 'sales', 'family', 'store_nbr']]\n",
    "        model_df.columns = ['ds', 'y', 'family', 'store_nbr']\n",
    "        model_df['ds'] = pd.to_datetime(model_df['ds'])\n",
    "\n",
    "        model_df_test = test_family[['date', 'sales', 'family', 'store_nbr']]\n",
    "        model_df_test.columns = ['ds', 'y', 'family', 'store_nbr']\n",
    "        model_df_test['ds'] = pd.to_datetime(model_df_test['ds'])\n",
    "        \n",
    "        m = Prophet()\n",
    "        m.add_country_holidays(country_name='EC')\n",
    "        m.add_regressor('store_nbr')\n",
    "        m.fit(model_df)\n",
    "\n",
    "        forecast = m.predict(model_df_test.drop(columns=\"y\"))\n",
    "        forecast['yhat'] = forecast['yhat'].apply(lambda x: x if x >= 0 else 0)\n",
    "        rmsle_value = evaluate_forecast(model_df_test['y'], forecast['yhat'])\n",
    "        results.append((family, rmsle_value, len(test_family)))\n",
    "        print(forecast['yhat'].describe())\n",
    "    \n",
    "    # Aggregate the results\n",
    "    total_samples = sum([sample_count for _, _, sample_count in results])\n",
    "    weighted_rmsle = sum([rmsle * (sample_count / total_samples) for _, rmsle, sample_count in results])\n",
    "    \n",
    "    return weighted_rmsle, results\n",
    "\n",
    "# Call the function to train and evaluate Prophet models for each family\n",
    "weighted_rmsle = train_and_evaluate_by_family(df_train_p, df_test_p)\n",
    "\n",
    "# Print or use weighted_rmsle as needed\n",
    "print(\"Weighted RMSLE:\", weighted_rmsle)\n"
   ]
  },
  {
   "cell_type": "code",
   "execution_count": 22,
   "id": "1fb9e0d8-307b-4a57-bd07-c6c837f5bda2",
   "metadata": {},
   "outputs": [
    {
     "data": {
      "text/html": [
       "<div>\n",
       "<style scoped>\n",
       "    .dataframe tbody tr th:only-of-type {\n",
       "        vertical-align: middle;\n",
       "    }\n",
       "\n",
       "    .dataframe tbody tr th {\n",
       "        vertical-align: top;\n",
       "    }\n",
       "\n",
       "    .dataframe thead th {\n",
       "        text-align: right;\n",
       "    }\n",
       "</style>\n",
       "<table border=\"1\" class=\"dataframe\">\n",
       "  <thead>\n",
       "    <tr style=\"text-align: right;\">\n",
       "      <th></th>\n",
       "      <th>sales</th>\n",
       "      <th>familycluster</th>\n",
       "      <th>store_nbr</th>\n",
       "    </tr>\n",
       "  </thead>\n",
       "  <tbody>\n",
       "    <tr>\n",
       "      <th>count</th>\n",
       "      <td>67049.000000</td>\n",
       "      <td>67049.0</td>\n",
       "      <td>67049.000000</td>\n",
       "    </tr>\n",
       "    <tr>\n",
       "      <th>mean</th>\n",
       "      <td>2.225999</td>\n",
       "      <td>5.0</td>\n",
       "      <td>26.857940</td>\n",
       "    </tr>\n",
       "    <tr>\n",
       "      <th>std</th>\n",
       "      <td>14.913792</td>\n",
       "      <td>0.0</td>\n",
       "      <td>15.641041</td>\n",
       "    </tr>\n",
       "    <tr>\n",
       "      <th>min</th>\n",
       "      <td>0.000000</td>\n",
       "      <td>5.0</td>\n",
       "      <td>1.000000</td>\n",
       "    </tr>\n",
       "    <tr>\n",
       "      <th>25%</th>\n",
       "      <td>0.000000</td>\n",
       "      <td>5.0</td>\n",
       "      <td>13.000000</td>\n",
       "    </tr>\n",
       "    <tr>\n",
       "      <th>50%</th>\n",
       "      <td>0.000000</td>\n",
       "      <td>5.0</td>\n",
       "      <td>27.000000</td>\n",
       "    </tr>\n",
       "    <tr>\n",
       "      <th>75%</th>\n",
       "      <td>0.000000</td>\n",
       "      <td>5.0</td>\n",
       "      <td>40.000000</td>\n",
       "    </tr>\n",
       "    <tr>\n",
       "      <th>max</th>\n",
       "      <td>1217.000000</td>\n",
       "      <td>5.0</td>\n",
       "      <td>54.000000</td>\n",
       "    </tr>\n",
       "  </tbody>\n",
       "</table>\n",
       "</div>"
      ],
      "text/plain": [
       "              sales  familycluster     store_nbr\n",
       "count  67049.000000        67049.0  67049.000000\n",
       "mean       2.225999            5.0     26.857940\n",
       "std       14.913792            0.0     15.641041\n",
       "min        0.000000            5.0      1.000000\n",
       "25%        0.000000            5.0     13.000000\n",
       "50%        0.000000            5.0     27.000000\n",
       "75%        0.000000            5.0     40.000000\n",
       "max     1217.000000            5.0     54.000000"
      ]
     },
     "execution_count": 22,
     "metadata": {},
     "output_type": "execute_result"
    }
   ],
   "source": [
    "df_train_p[df_train_p['family'] == \"SCHOOL AND OFFICE SUPPLIES\"].describe()"
   ]
  }
 ],
 "metadata": {
  "kernelspec": {
   "display_name": "Python 3 (ipykernel)",
   "language": "python",
   "name": "python3"
  },
  "language_info": {
   "codemirror_mode": {
    "name": "ipython",
    "version": 3
   },
   "file_extension": ".py",
   "mimetype": "text/x-python",
   "name": "python",
   "nbconvert_exporter": "python",
   "pygments_lexer": "ipython3",
   "version": "3.10.7"
  }
 },
 "nbformat": 4,
 "nbformat_minor": 5
}
