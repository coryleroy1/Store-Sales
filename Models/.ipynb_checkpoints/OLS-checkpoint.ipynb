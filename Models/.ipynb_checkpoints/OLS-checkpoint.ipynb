{
 "cells": [
  {
   "cell_type": "code",
   "execution_count": 47,
   "id": "1eda8177",
   "metadata": {},
   "outputs": [],
   "source": [
    "# Connect to server\n",
    "#import pyodbc\n",
    "#from dotenv import dotenv_values\n",
    "\n",
    "# Datetime\n",
    "from datetime import datetime\n",
    "\n",
    "# Data manipulation\n",
    "import numpy as np\n",
    "import pandas as pd\n",
    "\n",
    "# Visualization\n",
    "import matplotlib.pyplot as plt\n",
    "import plotly.graph_objects as go\n",
    "import plotly.express as px\n",
    "from plotly.subplots import make_subplots\n",
    "import seaborn as sns\n",
    "import missingno as msno\n",
    "\n",
    "# Decomposition\n",
    "from statsmodels.tsa.seasonal import seasonal_decompose\n",
    "\n",
    "# Statistical Analysis\n",
    "import scipy.stats as stats\n",
    "from statsmodels.stats.weightstats import ttest_ind\n",
    "import statsmodels.api as sm\n",
    "from pmdarima.arima import CHTest, nsdiffs\n",
    "from pmdarima.arima import auto_arima\n",
    "#from arch.unitroot import ADF, KPSS\n",
    "from statsmodels.stats.diagnostic import acorr_ljungbox\n",
    "#import phik\n",
    "from statsmodels.tsa.arima.model import ARIMA\n",
    "from statsmodels.tsa.statespace.sarimax import SARIMAX\n",
    "from statsmodels.tsa.holtwinters import ExponentialSmoothing\n",
    "from statsmodels.tsa.stattools import adfuller\n",
    "\n",
    "# Machine Learning Modeling\n",
    "from sklearn.preprocessing import StandardScaler, MinMaxScaler\n",
    "from sklearn.compose import ColumnTransformer\n",
    "from sklearn.linear_model import LinearRegression\n",
    "from sklearn.model_selection import RandomizedSearchCV\n",
    "#import xgboost as xgb\n",
    "from sklearn.metrics import mean_squared_error\n",
    "import joblib\n",
    "from sklearn.pipeline import Pipeline\n",
    "\n",
    "import os\n",
    "\n",
    "import random\n",
    "\n",
    "import warnings\n",
    "import time\n",
    "\n",
    "# ignore warnings\n",
    "warnings.filterwarnings('ignore')\n",
    "\n",
    "from pathlib import Path, PureWindowsPath"
   ]
  },
  {
   "cell_type": "code",
   "execution_count": 48,
   "id": "10621111-ed45-40b4-beb8-7634047fe9a4",
   "metadata": {},
   "outputs": [],
   "source": [
    "#! pip install missingno\n",
    "#! pip install pmdarima"
   ]
  },
  {
   "cell_type": "markdown",
   "id": "c67ef79e",
   "metadata": {},
   "source": [
    "### Import data"
   ]
  },
  {
   "cell_type": "code",
   "execution_count": 49,
   "id": "13bda86b-5def-4708-b410-65d53a848eaa",
   "metadata": {},
   "outputs": [],
   "source": [
    "path_cwd = Path(PureWindowsPath(os.path.dirname(os.getcwd())))\n",
    "path_cwd\n",
    "path = path_cwd / 'data/processed/'"
   ]
  },
  {
   "cell_type": "code",
   "execution_count": null,
   "id": "5feb5200-b9c6-4ef8-bf81-06c2c119e15d",
   "metadata": {},
   "outputs": [],
   "source": []
  },
  {
   "cell_type": "code",
   "execution_count": 50,
   "id": "645a5ff8-6d23-4eb8-bf1b-7ecb92da0d69",
   "metadata": {},
   "outputs": [],
   "source": [
    "train_data = pd.read_pickle(path / 'df_train.pkl')\n",
    "val_data = pd.read_pickle(path / 'df_val.pkl')\n",
    "test_data = pd.read_pickle(path / 'df_test.pkl')"
   ]
  },
  {
   "cell_type": "code",
   "execution_count": 51,
   "id": "942b5ae2-71bb-410b-ac71-c325ce026a49",
   "metadata": {},
   "outputs": [
    {
     "data": {
      "text/plain": [
       "Index(['id', 'date', 'store_nbr', 'family', 'sales', 'onpromotion', 'cluster',\n",
       "       'day_of_week', 'month', 'year', 'oil_price', 'familycluster',\n",
       "       'holiday_Carnaval', 'holiday_Dia de la Madre',\n",
       "       'holiday_Dia del Trabajo', 'holiday_Fundacion de Quito',\n",
       "       'holiday_Independencia de Cuenca',\n",
       "       'holiday_Mundial de futbol Brasil: Ecuador-Suiza', 'holiday_Navidad-1',\n",
       "       'holiday_Navidad-2', 'holiday_Navidad-3', 'holiday_Navidad-4',\n",
       "       'holiday_Primer dia del ano', 'holiday_Terremoto Manabi+1',\n",
       "       'holiday_Terremoto Manabi+2', 'holiday_Terremoto Manabi+3',\n",
       "       'holiday_Terremoto Manabi+4', 'holiday_Terremoto Manabi+5',\n",
       "       'holiday_Traslado Primer dia del ano'],\n",
       "      dtype='object')"
      ]
     },
     "execution_count": 51,
     "metadata": {},
     "output_type": "execute_result"
    }
   ],
   "source": [
    "train_data.columns"
   ]
  },
  {
   "cell_type": "code",
   "execution_count": 52,
   "id": "84f44ff2-23a6-4e4d-99c2-4fcb15f2fcfa",
   "metadata": {},
   "outputs": [
    {
     "data": {
      "text/plain": [
       "array([ 6,  2, 13, 10, 17, 11, 18, 19,  5,  0,  7,  8,  1, 12, 15, 14, 20,\n",
       "        3,  4, 16,  9], dtype=int64)"
      ]
     },
     "execution_count": 52,
     "metadata": {},
     "output_type": "execute_result"
    }
   ],
   "source": [
    "train_data['familycluster'].unique()"
   ]
  },
  {
   "cell_type": "code",
   "execution_count": 53,
   "id": "75d9f948-a75d-427f-9dd5-78fa299502f5",
   "metadata": {},
   "outputs": [
    {
     "data": {
      "text/plain": [
       "0        2016-04-26\n",
       "1        2016-04-26\n",
       "2        2016-04-26\n",
       "3        2016-04-26\n",
       "4        2016-04-26\n",
       "            ...    \n",
       "276564   2016-10-03\n",
       "276565   2016-10-03\n",
       "276566   2016-10-03\n",
       "276567   2016-10-03\n",
       "276568   2016-10-03\n",
       "Name: date, Length: 276569, dtype: datetime64[ns]"
      ]
     },
     "execution_count": 53,
     "metadata": {},
     "output_type": "execute_result"
    }
   ],
   "source": [
    "val_data['date']"
   ]
  },
  {
   "cell_type": "markdown",
   "id": "1a061915",
   "metadata": {},
   "source": [
    "## Modeling ##"
   ]
  },
  {
   "cell_type": "code",
   "execution_count": 81,
   "id": "4227a6b8",
   "metadata": {},
   "outputs": [],
   "source": [
    "# Updated plot_predictions to work with dataframes where the date is not already aggregated\n",
    "# This simply aggregates the dates inside the function\n",
    "def plot_predictions(date, y_test, y_pred, forecast_label, title):\n",
    "    \"\"\"\n",
    "    Plot the actual and predicted time series data.\n",
    "\n",
    "    Parameters:\n",
    "    date (array-like): Date or time index.\n",
    "    y_test (array-like): Actual values.\n",
    "    y_pred (array-like): Predicted values.\n",
    "    forecast_label (str): Label for the forecasted data.\n",
    "    title (str): Title for the plot.\n",
    "    \"\"\"\n",
    "    # Combine the data into a DataFrame\n",
    "    data = pd.DataFrame({'Date': date, 'Actual': y_test, 'Predicted': y_pred})\n",
    "    \n",
    "    # Aggregate the data by date, taking the mean of the values for each day\n",
    "    data = data.groupby('Date').mean().reset_index()\n",
    "    \n",
    "    # Set the custom color palette\n",
    "    custom_palette = sns.color_palette(\"husl\", 2)\n",
    "    sns.set_palette(custom_palette)\n",
    "    \n",
    "    # Create a figure with specified dimensions\n",
    "    plt.figure(figsize=(8, 6))\n",
    "\n",
    "    # Plot the actual data in green\n",
    "    sns.lineplot(data=data, x='Date', y='Sales', label='Actual', color=custom_palette[0])\n",
    "\n",
    "    # Plot the predicted data in blue with the specified label\n",
    "    sns.lineplot(data=data, x='Date', y='Predicted', label=forecast_label, color=custom_palette[1])\n",
    "\n",
    "    # Add a legend to the plot\n",
    "    plt.legend()\n",
    "\n",
    "    # Set the title of the plot\n",
    "    plt.title(title)\n",
    "\n",
    "    # Rotate x-axis labels for better readability\n",
    "    plt.xticks(rotation=45)\n",
    "\n",
    "    # Display the plot\n",
    "    plt.show()"
   ]
  },
  {
   "cell_type": "code",
   "execution_count": 55,
   "id": "a3f08c83",
   "metadata": {},
   "outputs": [],
   "source": [
    "# Define a function to compute the evaluations metrics after the forecast\n",
    "def evaluate_forecast(y_test, forecast):\n",
    "    \"\"\"\n",
    "    Compute MSE, RMSE, and RMSLE for a forecast.\n",
    "\n",
    "    Parameters:\n",
    "    y_test (array-like): Actual values.\n",
    "    forecast (array-like): Predicted values.\n",
    "\n",
    "    Returns:\n",
    "    dict: Dictionary containing MSE, RMSE, and RMSLE.\n",
    "    \"\"\"\n",
    "    def rmsle(predicted, actual):\n",
    "        return np.sqrt(np.mean(np.square(np.log1p(predicted) - np.log1p(actual))))\n",
    "\n",
    "    # Compute Mean Squared Error (MSE)\n",
    "    mse = mean_squared_error(y_test, forecast)\n",
    "    \n",
    "    # Compute Root Mean Squared Error (RMSE)\n",
    "    rmse = np.sqrt(mse)\n",
    "    \n",
    "    # Compute Root Mean Squared Logarithmic Error (RMSLE)\n",
    "    rmsle_value = rmsle(forecast, y_test)\n",
    "    \n",
    "    # Return the evaluation metrics as a dictionary\n",
    "    metrics = {\n",
    "        'MSE': mse,\n",
    "        'RMSE': rmse,\n",
    "        'RMSLE': rmsle_value\n",
    "    }\n",
    "    \n",
    "    return metrics"
   ]
  },
  {
   "cell_type": "code",
   "execution_count": 56,
   "id": "145899ca",
   "metadata": {},
   "outputs": [],
   "source": [
    "# Exogenous variables to help predict sales\n",
    "#ex_variables = ['onpromotion', 'day_of_week', 'lag_1', 'rolling_mean']\n",
    "ex_variables = ['onpromotion', 'day_of_week']"
   ]
  },
  {
   "cell_type": "code",
   "execution_count": null,
   "id": "1ecbec3b-d199-4f07-9c18-0368f912fd62",
   "metadata": {},
   "outputs": [],
   "source": []
  },
  {
   "cell_type": "markdown",
   "id": "aa0d72cc-2aab-4b9b-8547-4f490f3d2ca9",
   "metadata": {},
   "source": [
    "## OLS ##"
   ]
  },
  {
   "cell_type": "markdown",
   "id": "d342da0a-8378-4130-8168-c4d7a823c037",
   "metadata": {},
   "source": [
    "### create dummy variables ###"
   ]
  },
  {
   "cell_type": "code",
   "execution_count": 57,
   "id": "bd752e31-0bed-4f59-a63e-be27332759b3",
   "metadata": {},
   "outputs": [
    {
     "data": {
      "text/plain": [
       "Index(['id', 'date', 'store_nbr', 'family', 'sales', 'onpromotion', 'cluster',\n",
       "       'day_of_week', 'month', 'year', 'oil_price', 'familycluster',\n",
       "       'holiday_Carnaval', 'holiday_Dia de la Madre',\n",
       "       'holiday_Dia del Trabajo', 'holiday_Fundacion de Quito',\n",
       "       'holiday_Independencia de Cuenca',\n",
       "       'holiday_Mundial de futbol Brasil: Ecuador-Suiza', 'holiday_Navidad-1',\n",
       "       'holiday_Navidad-2', 'holiday_Navidad-3', 'holiday_Navidad-4',\n",
       "       'holiday_Primer dia del ano', 'holiday_Terremoto Manabi+1',\n",
       "       'holiday_Terremoto Manabi+2', 'holiday_Terremoto Manabi+3',\n",
       "       'holiday_Terremoto Manabi+4', 'holiday_Terremoto Manabi+5',\n",
       "       'holiday_Traslado Primer dia del ano'],\n",
       "      dtype='object')"
      ]
     },
     "execution_count": 57,
     "metadata": {},
     "output_type": "execute_result"
    }
   ],
   "source": [
    "train_data.columns"
   ]
  },
  {
   "cell_type": "code",
   "execution_count": 58,
   "id": "e56467c6-7eb8-4859-997f-0bcffcbbf8c7",
   "metadata": {},
   "outputs": [],
   "source": [
    "def create_dummy_fam_cluster(df):\n",
    "    df2 = df.drop(columns=['store_nbr','family','id','date'])\n",
    "    df2  = pd.get_dummies(df2, columns=['familycluster','cluster']) \n",
    "    return df2\n",
    "\n",
    "def create_dummy(df):\n",
    "    df2 = df.drop(columns=['store_nbr','familycluster','id','date'])\n",
    "    df2  = pd.get_dummies(df2, columns=['family','cluster']) \n",
    "    return df2\n"
   ]
  },
  {
   "cell_type": "code",
   "execution_count": 59,
   "id": "eedeab52-09c4-497c-807a-31d8813d7638",
   "metadata": {},
   "outputs": [],
   "source": [
    "df_train_ols = create_dummy(train_data)\n",
    "df_val_ols = create_dummy(val_data)\n",
    "df_test_ols = create_dummy(test_data)"
   ]
  },
  {
   "cell_type": "code",
   "execution_count": null,
   "id": "da7ca7bb-3216-406f-8331-816b376dd1db",
   "metadata": {},
   "outputs": [],
   "source": []
  },
  {
   "cell_type": "code",
   "execution_count": null,
   "id": "f754169b-9ff4-4dc9-ad43-297485dc13f5",
   "metadata": {},
   "outputs": [],
   "source": []
  },
  {
   "cell_type": "markdown",
   "id": "3a633374-5c8a-47f0-87f6-64adec0e40d7",
   "metadata": {},
   "source": [
    "### scale df ###"
   ]
  },
  {
   "cell_type": "code",
   "execution_count": 60,
   "id": "4659be35-b100-4c98-b05a-710fdbf1fcac",
   "metadata": {},
   "outputs": [],
   "source": [
    "def scale_df(df, colums_to_scale):\n",
    "    # Introduce MinMaxScaler for primary FE \n",
    "    scaler = MinMaxScaler()\n",
    "    # Apply\n",
    "    df[columns_to_scale] = scaler.fit_transform(df[columns_to_scale])\n",
    "    return df"
   ]
  },
  {
   "cell_type": "code",
   "execution_count": null,
   "id": "a014b79a-309b-49de-b64d-48d12a8832ef",
   "metadata": {},
   "outputs": [],
   "source": []
  },
  {
   "cell_type": "code",
   "execution_count": 61,
   "id": "44945907-74c7-4d69-a74b-9846a5b46c09",
   "metadata": {},
   "outputs": [],
   "source": [
    "columns_to_scale =  list(df_train_ols.columns)\n",
    "columns_to_scale.remove('sales')\n",
    "columns_to_scale.remove('onpromotion')\n",
    "columns_to_scale.remove('day_of_week')\n",
    "columns_to_scale.remove('month')\n",
    "columns_to_scale.remove('year')\n",
    "columns_to_scale.remove('oil_price')\n"
   ]
  },
  {
   "cell_type": "code",
   "execution_count": 62,
   "id": "54dc497a-c1b0-4294-b04d-5963e240f4d3",
   "metadata": {},
   "outputs": [],
   "source": [
    "df_train_ols = scale_df(df_train_ols, columns_to_scale)\n",
    "df_val_ols = scale_df(df_val_ols, columns_to_scale)\n",
    "df_test_ols = scale_df(df_test_ols, columns_to_scale)"
   ]
  },
  {
   "cell_type": "code",
   "execution_count": null,
   "id": "2c52c60e-8557-4845-a91e-48ae293a4f08",
   "metadata": {},
   "outputs": [],
   "source": []
  },
  {
   "cell_type": "markdown",
   "id": "41249eb7-34b3-4175-a9da-89a78ff31546",
   "metadata": {},
   "source": [
    "### add constant ###"
   ]
  },
  {
   "cell_type": "code",
   "execution_count": 63,
   "id": "48fdd75c",
   "metadata": {},
   "outputs": [],
   "source": [
    "X_ols = df_train_ols.drop(columns=['sales'])\n",
    "# add constant for linear regression\n",
    "\n",
    "X_ols.insert(0, 'const',1)\n",
    "\n",
    "\n",
    "#X_ols = sm.add_constant(X_ols)\n",
    "y_ols = train_data['sales']\n",
    "y_ols = df_train_ols['sales']"
   ]
  },
  {
   "cell_type": "code",
   "execution_count": 75,
   "id": "33d3b6e1-2d2d-45a1-b604-f91852be9fa9",
   "metadata": {
    "scrolled": true
   },
   "outputs": [
    {
     "data": {
      "text/plain": [
       "(73,)"
      ]
     },
     "execution_count": 75,
     "metadata": {},
     "output_type": "execute_result"
    }
   ],
   "source": [
    "X_ols.columns.shape"
   ]
  },
  {
   "cell_type": "code",
   "execution_count": 65,
   "id": "e68de4e4-98e4-4fc2-918a-35c062369eab",
   "metadata": {},
   "outputs": [],
   "source": [
    "X_val_ols = df_val_ols.drop(columns=['sales'])\n",
    "# add constant for linear regression\n",
    "X_val_ols.insert(0, 'const',1)\n",
    "y_val_ols = df_val_ols['sales']"
   ]
  },
  {
   "cell_type": "code",
   "execution_count": null,
   "id": "e2fa47fb-45e5-4d5e-a248-f8f9d5a22c20",
   "metadata": {},
   "outputs": [],
   "source": []
  },
  {
   "cell_type": "code",
   "execution_count": 66,
   "id": "5072d211-9482-4445-a640-369133f15ac6",
   "metadata": {},
   "outputs": [],
   "source": [
    "X_test_ols = df_test_ols.drop(columns=['sales'])\n",
    "# add constant for linear regression\n",
    "X_test_ols.insert(0, 'const',1)\n",
    "y_test_ols = df_test_ols['sales']"
   ]
  },
  {
   "cell_type": "code",
   "execution_count": 67,
   "id": "0464dc8a-e620-411d-8737-069b2ed036bf",
   "metadata": {},
   "outputs": [
    {
     "name": "stdout",
     "output_type": "stream",
     "text": [
      "(276569, 73) (276569,) (553141, 73) (553141,)\n"
     ]
    }
   ],
   "source": [
    "print(X_val_ols.shape,y_val_ols.shape, X_test_ols.shape, y_test_ols.shape)"
   ]
  },
  {
   "cell_type": "code",
   "execution_count": null,
   "id": "b5715d17-d65e-47ea-bc32-1f5daf644ed7",
   "metadata": {},
   "outputs": [],
   "source": []
  },
  {
   "cell_type": "code",
   "execution_count": 68,
   "id": "593c35c3-fc19-400e-8d62-a61d1e53aa34",
   "metadata": {},
   "outputs": [],
   "source": [
    "model_OLS = sm.OLS(y_ols,X_ols).fit()\n",
    "model_summary = model_OLS.summary()"
   ]
  },
  {
   "cell_type": "code",
   "execution_count": 76,
   "id": "3d390911-ef8c-4921-8b5c-d31af5e31aad",
   "metadata": {},
   "outputs": [
    {
     "data": {
      "text/html": [
       "<table class=\"simpletable\">\n",
       "<caption>OLS Regression Results</caption>\n",
       "<tr>\n",
       "  <th>Dep. Variable:</th>          <td>sales</td>      <th>  R-squared:         </th>  <td>   0.600</td>  \n",
       "</tr>\n",
       "<tr>\n",
       "  <th>Model:</th>                   <td>OLS</td>       <th>  Adj. R-squared:    </th>  <td>   0.600</td>  \n",
       "</tr>\n",
       "<tr>\n",
       "  <th>Method:</th>             <td>Least Squares</td>  <th>  F-statistic:       </th>  <td>4.217e+04</td> \n",
       "</tr>\n",
       "<tr>\n",
       "  <th>Date:</th>             <td>Mon, 11 Mar 2024</td> <th>  Prob (F-statistic):</th>   <td>  0.00</td>   \n",
       "</tr>\n",
       "<tr>\n",
       "  <th>Time:</th>                 <td>22:09:40</td>     <th>  Log-Likelihood:    </th> <td>-1.5325e+07</td>\n",
       "</tr>\n",
       "<tr>\n",
       "  <th>No. Observations:</th>      <td>1935987</td>     <th>  AIC:               </th>  <td>3.065e+07</td> \n",
       "</tr>\n",
       "<tr>\n",
       "  <th>Df Residuals:</th>          <td>1935917</td>     <th>  BIC:               </th>  <td>3.065e+07</td> \n",
       "</tr>\n",
       "<tr>\n",
       "  <th>Df Model:</th>              <td>    69</td>      <th>                     </th>      <td> </td>     \n",
       "</tr>\n",
       "<tr>\n",
       "  <th>Covariance Type:</th>      <td>nonrobust</td>    <th>                     </th>      <td> </td>     \n",
       "</tr>\n",
       "</table>\n",
       "<table class=\"simpletable\">\n",
       "<tr>\n",
       "                         <td></td>                            <th>coef</th>     <th>std err</th>      <th>t</th>      <th>P>|t|</th>  <th>[0.025</th>    <th>0.975]</th>  \n",
       "</tr>\n",
       "<tr>\n",
       "  <th>const</th>                                           <td>-1.277e+05</td> <td> 2063.840</td> <td>  -61.884</td> <td> 0.000</td> <td>-1.32e+05</td> <td>-1.24e+05</td>\n",
       "</tr>\n",
       "<tr>\n",
       "  <th>onpromotion</th>                                     <td>  1.33e+04</td> <td>   45.990</td> <td>  289.252</td> <td> 0.000</td> <td> 1.32e+04</td> <td> 1.34e+04</td>\n",
       "</tr>\n",
       "<tr>\n",
       "  <th>day_of_week</th>                                     <td>   21.9457</td> <td>    0.241</td> <td>   90.894</td> <td> 0.000</td> <td>   21.472</td> <td>   22.419</td>\n",
       "</tr>\n",
       "<tr>\n",
       "  <th>month</th>                                           <td>    9.6021</td> <td>    0.148</td> <td>   64.786</td> <td> 0.000</td> <td>    9.312</td> <td>    9.893</td>\n",
       "</tr>\n",
       "<tr>\n",
       "  <th>year</th>                                            <td>   69.1693</td> <td>    1.115</td> <td>   62.038</td> <td> 0.000</td> <td>   66.984</td> <td>   71.355</td>\n",
       "</tr>\n",
       "<tr>\n",
       "  <th>oil_price</th>                                       <td>   44.1322</td> <td>    3.373</td> <td>   13.085</td> <td> 0.000</td> <td>   37.522</td> <td>   50.743</td>\n",
       "</tr>\n",
       "<tr>\n",
       "  <th>holiday_Carnaval</th>                                <td>   58.9597</td> <td>    5.923</td> <td>    9.954</td> <td> 0.000</td> <td>   47.350</td> <td>   70.569</td>\n",
       "</tr>\n",
       "<tr>\n",
       "  <th>holiday_Dia de la Madre</th>                         <td>  -80.8365</td> <td>    9.731</td> <td>   -8.307</td> <td> 0.000</td> <td>  -99.908</td> <td>  -61.765</td>\n",
       "</tr>\n",
       "<tr>\n",
       "  <th>holiday_Dia del Trabajo</th>                         <td>   34.1430</td> <td>    9.738</td> <td>    3.506</td> <td> 0.000</td> <td>   15.058</td> <td>   53.228</td>\n",
       "</tr>\n",
       "<tr>\n",
       "  <th>holiday_Fundacion de Quito</th>                      <td>  205.9374</td> <td>   16.058</td> <td>   12.824</td> <td> 0.000</td> <td>  174.464</td> <td>  237.411</td>\n",
       "</tr>\n",
       "<tr>\n",
       "  <th>holiday_Independencia de Cuenca</th>                 <td>  173.5352</td> <td>    9.529</td> <td>   18.211</td> <td> 0.000</td> <td>  154.859</td> <td>  192.212</td>\n",
       "</tr>\n",
       "<tr>\n",
       "  <th>holiday_Mundial de futbol Brasil: Ecuador-Suiza</th> <td> -114.0846</td> <td>   16.898</td> <td>   -6.751</td> <td> 0.000</td> <td> -147.204</td> <td>  -80.965</td>\n",
       "</tr>\n",
       "<tr>\n",
       "  <th>holiday_Navidad-1</th>                               <td>  175.1000</td> <td>    9.550</td> <td>   18.335</td> <td> 0.000</td> <td>  156.382</td> <td>  193.818</td>\n",
       "</tr>\n",
       "<tr>\n",
       "  <th>holiday_Navidad-2</th>                               <td>  257.3333</td> <td>    9.559</td> <td>   26.920</td> <td> 0.000</td> <td>  238.597</td> <td>  276.069</td>\n",
       "</tr>\n",
       "<tr>\n",
       "  <th>holiday_Navidad-3</th>                               <td>  213.8272</td> <td>    9.550</td> <td>   22.389</td> <td> 0.000</td> <td>  195.109</td> <td>  232.546</td>\n",
       "</tr>\n",
       "<tr>\n",
       "  <th>holiday_Navidad-4</th>                               <td>  188.2635</td> <td>    9.551</td> <td>   19.712</td> <td> 0.000</td> <td>  169.545</td> <td>  206.982</td>\n",
       "</tr>\n",
       "<tr>\n",
       "  <th>holiday_Primer dia del ano</th>                      <td> -319.0028</td> <td>    9.501</td> <td>  -33.575</td> <td> 0.000</td> <td> -337.625</td> <td> -300.380</td>\n",
       "</tr>\n",
       "<tr>\n",
       "  <th>holiday_Terremoto Manabi+1</th>                      <td>  202.4179</td> <td>   15.909</td> <td>   12.724</td> <td> 0.000</td> <td>  171.237</td> <td>  233.599</td>\n",
       "</tr>\n",
       "<tr>\n",
       "  <th>holiday_Terremoto Manabi+2</th>                      <td>  385.8900</td> <td>   15.910</td> <td>   24.255</td> <td> 0.000</td> <td>  354.707</td> <td>  417.073</td>\n",
       "</tr>\n",
       "<tr>\n",
       "  <th>holiday_Terremoto Manabi+3</th>                      <td>  231.6363</td> <td>   15.901</td> <td>   14.567</td> <td> 0.000</td> <td>  200.470</td> <td>  262.802</td>\n",
       "</tr>\n",
       "<tr>\n",
       "  <th>holiday_Terremoto Manabi+4</th>                      <td>   90.3347</td> <td>   15.900</td> <td>    5.681</td> <td> 0.000</td> <td>   59.172</td> <td>  121.498</td>\n",
       "</tr>\n",
       "<tr>\n",
       "  <th>holiday_Terremoto Manabi+5</th>                      <td>  106.1967</td> <td>   15.896</td> <td>    6.681</td> <td> 0.000</td> <td>   75.041</td> <td>  137.352</td>\n",
       "</tr>\n",
       "<tr>\n",
       "  <th>holiday_Traslado Primer dia del ano</th>             <td>  5.08e-11</td> <td> 8.67e-13</td> <td>   58.595</td> <td> 0.000</td> <td> 4.91e-11</td> <td> 5.25e-11</td>\n",
       "</tr>\n",
       "<tr>\n",
       "  <th>family_AUTOMOTIVE</th>                               <td>-4196.2796</td> <td>   62.602</td> <td>  -67.031</td> <td> 0.000</td> <td>-4318.978</td> <td>-4073.581</td>\n",
       "</tr>\n",
       "<tr>\n",
       "  <th>family_BABY CARE</th>                                <td>-4202.3498</td> <td>   62.602</td> <td>  -67.128</td> <td> 0.000</td> <td>-4325.048</td> <td>-4079.651</td>\n",
       "</tr>\n",
       "<tr>\n",
       "  <th>family_BEAUTY</th>                                   <td>-4199.4815</td> <td>   62.602</td> <td>  -67.082</td> <td> 0.000</td> <td>-4322.180</td> <td>-4076.783</td>\n",
       "</tr>\n",
       "<tr>\n",
       "  <th>family_BEVERAGES</th>                                <td>-2025.8953</td> <td>   62.593</td> <td>  -32.366</td> <td> 0.000</td> <td>-2148.575</td> <td>-1903.216</td>\n",
       "</tr>\n",
       "<tr>\n",
       "  <th>family_BOOKS</th>                                    <td>-4202.4090</td> <td>   62.602</td> <td>  -67.129</td> <td> 0.000</td> <td>-4325.107</td> <td>-4079.711</td>\n",
       "</tr>\n",
       "<tr>\n",
       "  <th>family_BREAD/BAKERY</th>                             <td>-3748.6442</td> <td>   62.598</td> <td>  -59.884</td> <td> 0.000</td> <td>-3871.334</td> <td>-3625.954</td>\n",
       "</tr>\n",
       "<tr>\n",
       "  <th>family_CELEBRATION</th>                              <td>-4195.8412</td> <td>   62.602</td> <td>  -67.024</td> <td> 0.000</td> <td>-4318.539</td> <td>-4073.143</td>\n",
       "</tr>\n",
       "<tr>\n",
       "  <th>family_CLEANING</th>                                 <td>-3094.5990</td> <td>   62.598</td> <td>  -49.436</td> <td> 0.000</td> <td>-3217.288</td> <td>-2971.909</td>\n",
       "</tr>\n",
       "<tr>\n",
       "  <th>family_DAIRY</th>                                    <td>-3549.5956</td> <td>   62.594</td> <td>  -56.708</td> <td> 0.000</td> <td>-3672.278</td> <td>-3426.913</td>\n",
       "</tr>\n",
       "<tr>\n",
       "  <th>family_DELI</th>                                     <td>-4002.5301</td> <td>   62.590</td> <td>  -63.948</td> <td> 0.000</td> <td>-4125.205</td> <td>-3879.856</td>\n",
       "</tr>\n",
       "<tr>\n",
       "  <th>family_EGGS</th>                                     <td>-4052.8540</td> <td>   62.597</td> <td>  -64.745</td> <td> 0.000</td> <td>-4175.542</td> <td>-3930.166</td>\n",
       "</tr>\n",
       "<tr>\n",
       "  <th>family_FROZEN FOODS</th>                             <td>-4050.3515</td> <td>   62.600</td> <td>  -64.702</td> <td> 0.000</td> <td>-4173.045</td> <td>-3927.658</td>\n",
       "</tr>\n",
       "<tr>\n",
       "  <th>family_GROCERY I</th>                                <td> -442.5936</td> <td>   62.585</td> <td>   -7.072</td> <td> 0.000</td> <td> -565.257</td> <td> -319.930</td>\n",
       "</tr>\n",
       "<tr>\n",
       "  <th>family_GROCERY II</th>                               <td>-4179.6456</td> <td>   62.602</td> <td>  -66.765</td> <td> 0.000</td> <td>-4302.343</td> <td>-4056.948</td>\n",
       "</tr>\n",
       "<tr>\n",
       "  <th>family_HARDWARE</th>                                 <td>-4201.2185</td> <td>   62.602</td> <td>  -67.110</td> <td> 0.000</td> <td>-4323.916</td> <td>-4078.521</td>\n",
       "</tr>\n",
       "<tr>\n",
       "  <th>family_HOME AND KITCHEN I</th>                       <td>-4185.1886</td> <td>   62.602</td> <td>  -66.854</td> <td> 0.000</td> <td>-4307.886</td> <td>-4062.491</td>\n",
       "</tr>\n",
       "<tr>\n",
       "  <th>family_HOME AND KITCHEN II</th>                      <td>-4190.2422</td> <td>   62.602</td> <td>  -66.935</td> <td> 0.000</td> <td>-4312.939</td> <td>-4067.545</td>\n",
       "</tr>\n",
       "<tr>\n",
       "  <th>family_HOME APPLIANCES</th>                          <td>-4201.8847</td> <td>   62.602</td> <td>  -67.121</td> <td> 0.000</td> <td>-4324.582</td> <td>-4079.187</td>\n",
       "</tr>\n",
       "<tr>\n",
       "  <th>family_HOME CARE</th>                                <td>-4062.1513</td> <td>   62.601</td> <td>  -64.889</td> <td> 0.000</td> <td>-4184.848</td> <td>-3939.455</td>\n",
       "</tr>\n",
       "<tr>\n",
       "  <th>family_LADIESWEAR</th>                               <td>-4196.5263</td> <td>   62.602</td> <td>  -67.035</td> <td> 0.000</td> <td>-4319.224</td> <td>-4073.829</td>\n",
       "</tr>\n",
       "<tr>\n",
       "  <th>family_LAWN AND GARDEN</th>                          <td>-4198.9837</td> <td>   62.602</td> <td>  -67.075</td> <td> 0.000</td> <td>-4321.681</td> <td>-4076.286</td>\n",
       "</tr>\n",
       "<tr>\n",
       "  <th>family_LINGERIE</th>                                 <td>-4194.2494</td> <td>   62.602</td> <td>  -66.999</td> <td> 0.000</td> <td>-4316.947</td> <td>-4071.552</td>\n",
       "</tr>\n",
       "<tr>\n",
       "  <th>family_LIQUOR,WINE,BEER</th>                         <td>-4113.7288</td> <td>   62.602</td> <td>  -65.713</td> <td> 0.000</td> <td>-4236.426</td> <td>-3991.032</td>\n",
       "</tr>\n",
       "<tr>\n",
       "  <th>family_MAGAZINES</th>                                <td>-4200.6726</td> <td>   62.602</td> <td>  -67.101</td> <td> 0.000</td> <td>-4323.370</td> <td>-4077.975</td>\n",
       "</tr>\n",
       "<tr>\n",
       "  <th>family_MEATS</th>                                    <td>-3881.7396</td> <td>   62.594</td> <td>  -62.015</td> <td> 0.000</td> <td>-4004.422</td> <td>-3759.058</td>\n",
       "</tr>\n",
       "<tr>\n",
       "  <th>family_PERSONAL CARE</th>                            <td>-3932.9471</td> <td>   62.600</td> <td>  -62.827</td> <td> 0.000</td> <td>-4055.641</td> <td>-3810.253</td>\n",
       "</tr>\n",
       "<tr>\n",
       "  <th>family_PET SUPPLIES</th>                             <td>-4199.8191</td> <td>   62.602</td> <td>  -67.088</td> <td> 0.000</td> <td>-4322.516</td> <td>-4077.122</td>\n",
       "</tr>\n",
       "<tr>\n",
       "  <th>family_PLAYERS AND ELECTRONICS</th>                  <td>-4197.6543</td> <td>   62.602</td> <td>  -67.053</td> <td> 0.000</td> <td>-4320.351</td> <td>-4074.957</td>\n",
       "</tr>\n",
       "<tr>\n",
       "  <th>family_POULTRY</th>                                  <td>-3865.8502</td> <td>   62.596</td> <td>  -61.759</td> <td> 0.000</td> <td>-3988.535</td> <td>-3743.165</td>\n",
       "</tr>\n",
       "<tr>\n",
       "  <th>family_PREPARED FOODS</th>                           <td>-4101.4669</td> <td>   62.601</td> <td>  -65.518</td> <td> 0.000</td> <td>-4224.163</td> <td>-3978.771</td>\n",
       "</tr>\n",
       "<tr>\n",
       "  <th>family_PRODUCE</th>                                  <td>-3266.4833</td> <td>   62.579</td> <td>  -52.197</td> <td> 0.000</td> <td>-3389.137</td> <td>-3143.830</td>\n",
       "</tr>\n",
       "<tr>\n",
       "  <th>family_SCHOOL AND OFFICE SUPPLIES</th>               <td>-4201.2994</td> <td>   62.601</td> <td>  -67.112</td> <td> 0.000</td> <td>-4323.996</td> <td>-4078.603</td>\n",
       "</tr>\n",
       "<tr>\n",
       "  <th>family_SEAFOOD</th>                                  <td>-4183.1543</td> <td>   62.601</td> <td>  -66.823</td> <td> 0.000</td> <td>-4305.849</td> <td>-4060.459</td>\n",
       "</tr>\n",
       "<tr>\n",
       "  <th>cluster_1</th>                                       <td>-7604.1853</td> <td>  121.391</td> <td>  -62.642</td> <td> 0.000</td> <td>-7842.107</td> <td>-7366.263</td>\n",
       "</tr>\n",
       "<tr>\n",
       "  <th>cluster_2</th>                                       <td>-7584.3828</td> <td>  121.455</td> <td>  -62.446</td> <td> 0.000</td> <td>-7822.430</td> <td>-7346.335</td>\n",
       "</tr>\n",
       "<tr>\n",
       "  <th>cluster_3</th>                                       <td>-7720.8256</td> <td>  121.407</td> <td>  -63.595</td> <td> 0.000</td> <td>-7958.779</td> <td>-7482.873</td>\n",
       "</tr>\n",
       "<tr>\n",
       "  <th>cluster_4</th>                                       <td>-7631.2593</td> <td>  121.412</td> <td>  -62.854</td> <td> 0.000</td> <td>-7869.223</td> <td>-7393.295</td>\n",
       "</tr>\n",
       "<tr>\n",
       "  <th>cluster_5</th>                                       <td>-6897.6009</td> <td>  121.439</td> <td>  -56.799</td> <td> 0.000</td> <td>-7135.618</td> <td>-6659.584</td>\n",
       "</tr>\n",
       "<tr>\n",
       "  <th>cluster_6</th>                                       <td>-7536.6414</td> <td>  121.420</td> <td>  -62.071</td> <td> 0.000</td> <td>-7774.621</td> <td>-7298.662</td>\n",
       "</tr>\n",
       "<tr>\n",
       "  <th>cluster_7</th>                                       <td>-7719.5884</td> <td>  121.445</td> <td>  -63.564</td> <td> 0.000</td> <td>-7957.617</td> <td>-7481.560</td>\n",
       "</tr>\n",
       "<tr>\n",
       "  <th>cluster_8</th>                                       <td>-7329.9633</td> <td>  121.413</td> <td>  -60.372</td> <td> 0.000</td> <td>-7567.928</td> <td>-7091.999</td>\n",
       "</tr>\n",
       "<tr>\n",
       "  <th>cluster_9</th>                                       <td>-7652.5958</td> <td>  121.420</td> <td>  -63.026</td> <td> 0.000</td> <td>-7890.575</td> <td>-7414.617</td>\n",
       "</tr>\n",
       "<tr>\n",
       "  <th>cluster_10</th>                                      <td>-7659.2544</td> <td>  121.432</td> <td>  -63.075</td> <td> 0.000</td> <td>-7897.256</td> <td>-7421.252</td>\n",
       "</tr>\n",
       "<tr>\n",
       "  <th>cluster_11</th>                                      <td>-7143.7564</td> <td>  121.419</td> <td>  -58.836</td> <td> 0.000</td> <td>-7381.733</td> <td>-6905.780</td>\n",
       "</tr>\n",
       "<tr>\n",
       "  <th>cluster_12</th>                                      <td>-7622.7594</td> <td>  121.441</td> <td>  -62.769</td> <td> 0.000</td> <td>-7860.779</td> <td>-7384.740</td>\n",
       "</tr>\n",
       "<tr>\n",
       "  <th>cluster_13</th>                                      <td>-7604.2840</td> <td>  121.436</td> <td>  -62.620</td> <td> 0.000</td> <td>-7842.295</td> <td>-7366.273</td>\n",
       "</tr>\n",
       "<tr>\n",
       "  <th>cluster_14</th>                                      <td>-7267.2450</td> <td>  121.409</td> <td>  -59.858</td> <td> 0.000</td> <td>-7505.202</td> <td>-7029.289</td>\n",
       "</tr>\n",
       "<tr>\n",
       "  <th>cluster_15</th>                                      <td>-7708.3663</td> <td>  121.407</td> <td>  -63.492</td> <td> 0.000</td> <td>-7946.321</td> <td>-7470.412</td>\n",
       "</tr>\n",
       "<tr>\n",
       "  <th>cluster_16</th>                                      <td>-7672.1286</td> <td>  121.440</td> <td>  -63.176</td> <td> 0.000</td> <td>-7910.147</td> <td>-7434.110</td>\n",
       "</tr>\n",
       "<tr>\n",
       "  <th>cluster_17</th>                                      <td>-7363.4932</td> <td>  121.439</td> <td>  -60.635</td> <td> 0.000</td> <td>-7601.510</td> <td>-7125.476</td>\n",
       "</tr>\n",
       "</table>\n",
       "<table class=\"simpletable\">\n",
       "<tr>\n",
       "  <th>Omnibus:</th>       <td>3044759.026</td> <th>  Durbin-Watson:     </th>    <td>   2.028</td>    \n",
       "</tr>\n",
       "<tr>\n",
       "  <th>Prob(Omnibus):</th>   <td> 0.000</td>    <th>  Jarque-Bera (JB):  </th> <td>10961532135.061</td>\n",
       "</tr>\n",
       "<tr>\n",
       "  <th>Skew:</th>            <td> 9.405</td>    <th>  Prob(JB):          </th>    <td>    0.00</td>    \n",
       "</tr>\n",
       "<tr>\n",
       "  <th>Kurtosis:</th>        <td>371.149</td>   <th>  Cond. No.          </th>    <td>2.61e+19</td>    \n",
       "</tr>\n",
       "</table><br/><br/>Notes:<br/>[1] Standard Errors assume that the covariance matrix of the errors is correctly specified.<br/>[2] The smallest eigenvalue is 1.16e-26. This might indicate that there are<br/>strong multicollinearity problems or that the design matrix is singular."
      ],
      "text/latex": [
       "\\begin{center}\n",
       "\\begin{tabular}{lclc}\n",
       "\\toprule\n",
       "\\textbf{Dep. Variable:}                                   &      sales       & \\textbf{  R-squared:         } &        0.600     \\\\\n",
       "\\textbf{Model:}                                           &       OLS        & \\textbf{  Adj. R-squared:    } &        0.600     \\\\\n",
       "\\textbf{Method:}                                          &  Least Squares   & \\textbf{  F-statistic:       } &    4.217e+04     \\\\\n",
       "\\textbf{Date:}                                            & Mon, 11 Mar 2024 & \\textbf{  Prob (F-statistic):} &        0.00      \\\\\n",
       "\\textbf{Time:}                                            &     22:09:40     & \\textbf{  Log-Likelihood:    } &   -1.5325e+07    \\\\\n",
       "\\textbf{No. Observations:}                                &     1935987      & \\textbf{  AIC:               } &    3.065e+07     \\\\\n",
       "\\textbf{Df Residuals:}                                    &     1935917      & \\textbf{  BIC:               } &    3.065e+07     \\\\\n",
       "\\textbf{Df Model:}                                        &          69      & \\textbf{                     } &                  \\\\\n",
       "\\textbf{Covariance Type:}                                 &    nonrobust     & \\textbf{                     } &                  \\\\\n",
       "\\bottomrule\n",
       "\\end{tabular}\n",
       "\\begin{tabular}{lcccccc}\n",
       "                                                          & \\textbf{coef} & \\textbf{std err} & \\textbf{t} & \\textbf{P$> |$t$|$} & \\textbf{[0.025} & \\textbf{0.975]}  \\\\\n",
       "\\midrule\n",
       "\\textbf{const}                                            &   -1.277e+05  &     2063.840     &   -61.884  &         0.000        &    -1.32e+05    &    -1.24e+05     \\\\\n",
       "\\textbf{onpromotion}                                      &     1.33e+04  &       45.990     &   289.252  &         0.000        &     1.32e+04    &     1.34e+04     \\\\\n",
       "\\textbf{day\\_of\\_week}                                    &      21.9457  &        0.241     &    90.894  &         0.000        &       21.472    &       22.419     \\\\\n",
       "\\textbf{month}                                            &       9.6021  &        0.148     &    64.786  &         0.000        &        9.312    &        9.893     \\\\\n",
       "\\textbf{year}                                             &      69.1693  &        1.115     &    62.038  &         0.000        &       66.984    &       71.355     \\\\\n",
       "\\textbf{oil\\_price}                                       &      44.1322  &        3.373     &    13.085  &         0.000        &       37.522    &       50.743     \\\\\n",
       "\\textbf{holiday\\_Carnaval}                                &      58.9597  &        5.923     &     9.954  &         0.000        &       47.350    &       70.569     \\\\\n",
       "\\textbf{holiday\\_Dia de la Madre}                         &     -80.8365  &        9.731     &    -8.307  &         0.000        &      -99.908    &      -61.765     \\\\\n",
       "\\textbf{holiday\\_Dia del Trabajo}                         &      34.1430  &        9.738     &     3.506  &         0.000        &       15.058    &       53.228     \\\\\n",
       "\\textbf{holiday\\_Fundacion de Quito}                      &     205.9374  &       16.058     &    12.824  &         0.000        &      174.464    &      237.411     \\\\\n",
       "\\textbf{holiday\\_Independencia de Cuenca}                 &     173.5352  &        9.529     &    18.211  &         0.000        &      154.859    &      192.212     \\\\\n",
       "\\textbf{holiday\\_Mundial de futbol Brasil: Ecuador-Suiza} &    -114.0846  &       16.898     &    -6.751  &         0.000        &     -147.204    &      -80.965     \\\\\n",
       "\\textbf{holiday\\_Navidad-1}                               &     175.1000  &        9.550     &    18.335  &         0.000        &      156.382    &      193.818     \\\\\n",
       "\\textbf{holiday\\_Navidad-2}                               &     257.3333  &        9.559     &    26.920  &         0.000        &      238.597    &      276.069     \\\\\n",
       "\\textbf{holiday\\_Navidad-3}                               &     213.8272  &        9.550     &    22.389  &         0.000        &      195.109    &      232.546     \\\\\n",
       "\\textbf{holiday\\_Navidad-4}                               &     188.2635  &        9.551     &    19.712  &         0.000        &      169.545    &      206.982     \\\\\n",
       "\\textbf{holiday\\_Primer dia del ano}                      &    -319.0028  &        9.501     &   -33.575  &         0.000        &     -337.625    &     -300.380     \\\\\n",
       "\\textbf{holiday\\_Terremoto Manabi+1}                      &     202.4179  &       15.909     &    12.724  &         0.000        &      171.237    &      233.599     \\\\\n",
       "\\textbf{holiday\\_Terremoto Manabi+2}                      &     385.8900  &       15.910     &    24.255  &         0.000        &      354.707    &      417.073     \\\\\n",
       "\\textbf{holiday\\_Terremoto Manabi+3}                      &     231.6363  &       15.901     &    14.567  &         0.000        &      200.470    &      262.802     \\\\\n",
       "\\textbf{holiday\\_Terremoto Manabi+4}                      &      90.3347  &       15.900     &     5.681  &         0.000        &       59.172    &      121.498     \\\\\n",
       "\\textbf{holiday\\_Terremoto Manabi+5}                      &     106.1967  &       15.896     &     6.681  &         0.000        &       75.041    &      137.352     \\\\\n",
       "\\textbf{holiday\\_Traslado Primer dia del ano}             &     5.08e-11  &     8.67e-13     &    58.595  &         0.000        &     4.91e-11    &     5.25e-11     \\\\\n",
       "\\textbf{family\\_AUTOMOTIVE}                               &   -4196.2796  &       62.602     &   -67.031  &         0.000        &    -4318.978    &    -4073.581     \\\\\n",
       "\\textbf{family\\_BABY CARE}                                &   -4202.3498  &       62.602     &   -67.128  &         0.000        &    -4325.048    &    -4079.651     \\\\\n",
       "\\textbf{family\\_BEAUTY}                                   &   -4199.4815  &       62.602     &   -67.082  &         0.000        &    -4322.180    &    -4076.783     \\\\\n",
       "\\textbf{family\\_BEVERAGES}                                &   -2025.8953  &       62.593     &   -32.366  &         0.000        &    -2148.575    &    -1903.216     \\\\\n",
       "\\textbf{family\\_BOOKS}                                    &   -4202.4090  &       62.602     &   -67.129  &         0.000        &    -4325.107    &    -4079.711     \\\\\n",
       "\\textbf{family\\_BREAD/BAKERY}                             &   -3748.6442  &       62.598     &   -59.884  &         0.000        &    -3871.334    &    -3625.954     \\\\\n",
       "\\textbf{family\\_CELEBRATION}                              &   -4195.8412  &       62.602     &   -67.024  &         0.000        &    -4318.539    &    -4073.143     \\\\\n",
       "\\textbf{family\\_CLEANING}                                 &   -3094.5990  &       62.598     &   -49.436  &         0.000        &    -3217.288    &    -2971.909     \\\\\n",
       "\\textbf{family\\_DAIRY}                                    &   -3549.5956  &       62.594     &   -56.708  &         0.000        &    -3672.278    &    -3426.913     \\\\\n",
       "\\textbf{family\\_DELI}                                     &   -4002.5301  &       62.590     &   -63.948  &         0.000        &    -4125.205    &    -3879.856     \\\\\n",
       "\\textbf{family\\_EGGS}                                     &   -4052.8540  &       62.597     &   -64.745  &         0.000        &    -4175.542    &    -3930.166     \\\\\n",
       "\\textbf{family\\_FROZEN FOODS}                             &   -4050.3515  &       62.600     &   -64.702  &         0.000        &    -4173.045    &    -3927.658     \\\\\n",
       "\\textbf{family\\_GROCERY I}                                &    -442.5936  &       62.585     &    -7.072  &         0.000        &     -565.257    &     -319.930     \\\\\n",
       "\\textbf{family\\_GROCERY II}                               &   -4179.6456  &       62.602     &   -66.765  &         0.000        &    -4302.343    &    -4056.948     \\\\\n",
       "\\textbf{family\\_HARDWARE}                                 &   -4201.2185  &       62.602     &   -67.110  &         0.000        &    -4323.916    &    -4078.521     \\\\\n",
       "\\textbf{family\\_HOME AND KITCHEN I}                       &   -4185.1886  &       62.602     &   -66.854  &         0.000        &    -4307.886    &    -4062.491     \\\\\n",
       "\\textbf{family\\_HOME AND KITCHEN II}                      &   -4190.2422  &       62.602     &   -66.935  &         0.000        &    -4312.939    &    -4067.545     \\\\\n",
       "\\textbf{family\\_HOME APPLIANCES}                          &   -4201.8847  &       62.602     &   -67.121  &         0.000        &    -4324.582    &    -4079.187     \\\\\n",
       "\\textbf{family\\_HOME CARE}                                &   -4062.1513  &       62.601     &   -64.889  &         0.000        &    -4184.848    &    -3939.455     \\\\\n",
       "\\textbf{family\\_LADIESWEAR}                               &   -4196.5263  &       62.602     &   -67.035  &         0.000        &    -4319.224    &    -4073.829     \\\\\n",
       "\\textbf{family\\_LAWN AND GARDEN}                          &   -4198.9837  &       62.602     &   -67.075  &         0.000        &    -4321.681    &    -4076.286     \\\\\n",
       "\\textbf{family\\_LINGERIE}                                 &   -4194.2494  &       62.602     &   -66.999  &         0.000        &    -4316.947    &    -4071.552     \\\\\n",
       "\\textbf{family\\_LIQUOR,WINE,BEER}                         &   -4113.7288  &       62.602     &   -65.713  &         0.000        &    -4236.426    &    -3991.032     \\\\\n",
       "\\textbf{family\\_MAGAZINES}                                &   -4200.6726  &       62.602     &   -67.101  &         0.000        &    -4323.370    &    -4077.975     \\\\\n",
       "\\textbf{family\\_MEATS}                                    &   -3881.7396  &       62.594     &   -62.015  &         0.000        &    -4004.422    &    -3759.058     \\\\\n",
       "\\textbf{family\\_PERSONAL CARE}                            &   -3932.9471  &       62.600     &   -62.827  &         0.000        &    -4055.641    &    -3810.253     \\\\\n",
       "\\textbf{family\\_PET SUPPLIES}                             &   -4199.8191  &       62.602     &   -67.088  &         0.000        &    -4322.516    &    -4077.122     \\\\\n",
       "\\textbf{family\\_PLAYERS AND ELECTRONICS}                  &   -4197.6543  &       62.602     &   -67.053  &         0.000        &    -4320.351    &    -4074.957     \\\\\n",
       "\\textbf{family\\_POULTRY}                                  &   -3865.8502  &       62.596     &   -61.759  &         0.000        &    -3988.535    &    -3743.165     \\\\\n",
       "\\textbf{family\\_PREPARED FOODS}                           &   -4101.4669  &       62.601     &   -65.518  &         0.000        &    -4224.163    &    -3978.771     \\\\\n",
       "\\textbf{family\\_PRODUCE}                                  &   -3266.4833  &       62.579     &   -52.197  &         0.000        &    -3389.137    &    -3143.830     \\\\\n",
       "\\textbf{family\\_SCHOOL AND OFFICE SUPPLIES}               &   -4201.2994  &       62.601     &   -67.112  &         0.000        &    -4323.996    &    -4078.603     \\\\\n",
       "\\textbf{family\\_SEAFOOD}                                  &   -4183.1543  &       62.601     &   -66.823  &         0.000        &    -4305.849    &    -4060.459     \\\\\n",
       "\\textbf{cluster\\_1}                                       &   -7604.1853  &      121.391     &   -62.642  &         0.000        &    -7842.107    &    -7366.263     \\\\\n",
       "\\textbf{cluster\\_2}                                       &   -7584.3828  &      121.455     &   -62.446  &         0.000        &    -7822.430    &    -7346.335     \\\\\n",
       "\\textbf{cluster\\_3}                                       &   -7720.8256  &      121.407     &   -63.595  &         0.000        &    -7958.779    &    -7482.873     \\\\\n",
       "\\textbf{cluster\\_4}                                       &   -7631.2593  &      121.412     &   -62.854  &         0.000        &    -7869.223    &    -7393.295     \\\\\n",
       "\\textbf{cluster\\_5}                                       &   -6897.6009  &      121.439     &   -56.799  &         0.000        &    -7135.618    &    -6659.584     \\\\\n",
       "\\textbf{cluster\\_6}                                       &   -7536.6414  &      121.420     &   -62.071  &         0.000        &    -7774.621    &    -7298.662     \\\\\n",
       "\\textbf{cluster\\_7}                                       &   -7719.5884  &      121.445     &   -63.564  &         0.000        &    -7957.617    &    -7481.560     \\\\\n",
       "\\textbf{cluster\\_8}                                       &   -7329.9633  &      121.413     &   -60.372  &         0.000        &    -7567.928    &    -7091.999     \\\\\n",
       "\\textbf{cluster\\_9}                                       &   -7652.5958  &      121.420     &   -63.026  &         0.000        &    -7890.575    &    -7414.617     \\\\\n",
       "\\textbf{cluster\\_10}                                      &   -7659.2544  &      121.432     &   -63.075  &         0.000        &    -7897.256    &    -7421.252     \\\\\n",
       "\\textbf{cluster\\_11}                                      &   -7143.7564  &      121.419     &   -58.836  &         0.000        &    -7381.733    &    -6905.780     \\\\\n",
       "\\textbf{cluster\\_12}                                      &   -7622.7594  &      121.441     &   -62.769  &         0.000        &    -7860.779    &    -7384.740     \\\\\n",
       "\\textbf{cluster\\_13}                                      &   -7604.2840  &      121.436     &   -62.620  &         0.000        &    -7842.295    &    -7366.273     \\\\\n",
       "\\textbf{cluster\\_14}                                      &   -7267.2450  &      121.409     &   -59.858  &         0.000        &    -7505.202    &    -7029.289     \\\\\n",
       "\\textbf{cluster\\_15}                                      &   -7708.3663  &      121.407     &   -63.492  &         0.000        &    -7946.321    &    -7470.412     \\\\\n",
       "\\textbf{cluster\\_16}                                      &   -7672.1286  &      121.440     &   -63.176  &         0.000        &    -7910.147    &    -7434.110     \\\\\n",
       "\\textbf{cluster\\_17}                                      &   -7363.4932  &      121.439     &   -60.635  &         0.000        &    -7601.510    &    -7125.476     \\\\\n",
       "\\bottomrule\n",
       "\\end{tabular}\n",
       "\\begin{tabular}{lclc}\n",
       "\\textbf{Omnibus:}       & 3044759.026 & \\textbf{  Durbin-Watson:     } &        2.028     \\\\\n",
       "\\textbf{Prob(Omnibus):} &     0.000   & \\textbf{  Jarque-Bera (JB):  } & 10961532135.061  \\\\\n",
       "\\textbf{Skew:}          &     9.405   & \\textbf{  Prob(JB):          } &         0.00     \\\\\n",
       "\\textbf{Kurtosis:}      &   371.149   & \\textbf{  Cond. No.          } &     2.61e+19     \\\\\n",
       "\\bottomrule\n",
       "\\end{tabular}\n",
       "%\\caption{OLS Regression Results}\n",
       "\\end{center}\n",
       "\n",
       "Notes: \\newline\n",
       " [1] Standard Errors assume that the covariance matrix of the errors is correctly specified. \\newline\n",
       " [2] The smallest eigenvalue is 1.16e-26. This might indicate that there are \\newline\n",
       " strong multicollinearity problems or that the design matrix is singular."
      ],
      "text/plain": [
       "<class 'statsmodels.iolib.summary.Summary'>\n",
       "\"\"\"\n",
       "                            OLS Regression Results                            \n",
       "==============================================================================\n",
       "Dep. Variable:                  sales   R-squared:                       0.600\n",
       "Model:                            OLS   Adj. R-squared:                  0.600\n",
       "Method:                 Least Squares   F-statistic:                 4.217e+04\n",
       "Date:                Mon, 11 Mar 2024   Prob (F-statistic):               0.00\n",
       "Time:                        22:09:40   Log-Likelihood:            -1.5325e+07\n",
       "No. Observations:             1935987   AIC:                         3.065e+07\n",
       "Df Residuals:                 1935917   BIC:                         3.065e+07\n",
       "Df Model:                          69                                         \n",
       "Covariance Type:            nonrobust                                         \n",
       "===================================================================================================================\n",
       "                                                      coef    std err          t      P>|t|      [0.025      0.975]\n",
       "-------------------------------------------------------------------------------------------------------------------\n",
       "const                                           -1.277e+05   2063.840    -61.884      0.000   -1.32e+05   -1.24e+05\n",
       "onpromotion                                       1.33e+04     45.990    289.252      0.000    1.32e+04    1.34e+04\n",
       "day_of_week                                        21.9457      0.241     90.894      0.000      21.472      22.419\n",
       "month                                               9.6021      0.148     64.786      0.000       9.312       9.893\n",
       "year                                               69.1693      1.115     62.038      0.000      66.984      71.355\n",
       "oil_price                                          44.1322      3.373     13.085      0.000      37.522      50.743\n",
       "holiday_Carnaval                                   58.9597      5.923      9.954      0.000      47.350      70.569\n",
       "holiday_Dia de la Madre                           -80.8365      9.731     -8.307      0.000     -99.908     -61.765\n",
       "holiday_Dia del Trabajo                            34.1430      9.738      3.506      0.000      15.058      53.228\n",
       "holiday_Fundacion de Quito                        205.9374     16.058     12.824      0.000     174.464     237.411\n",
       "holiday_Independencia de Cuenca                   173.5352      9.529     18.211      0.000     154.859     192.212\n",
       "holiday_Mundial de futbol Brasil: Ecuador-Suiza  -114.0846     16.898     -6.751      0.000    -147.204     -80.965\n",
       "holiday_Navidad-1                                 175.1000      9.550     18.335      0.000     156.382     193.818\n",
       "holiday_Navidad-2                                 257.3333      9.559     26.920      0.000     238.597     276.069\n",
       "holiday_Navidad-3                                 213.8272      9.550     22.389      0.000     195.109     232.546\n",
       "holiday_Navidad-4                                 188.2635      9.551     19.712      0.000     169.545     206.982\n",
       "holiday_Primer dia del ano                       -319.0028      9.501    -33.575      0.000    -337.625    -300.380\n",
       "holiday_Terremoto Manabi+1                        202.4179     15.909     12.724      0.000     171.237     233.599\n",
       "holiday_Terremoto Manabi+2                        385.8900     15.910     24.255      0.000     354.707     417.073\n",
       "holiday_Terremoto Manabi+3                        231.6363     15.901     14.567      0.000     200.470     262.802\n",
       "holiday_Terremoto Manabi+4                         90.3347     15.900      5.681      0.000      59.172     121.498\n",
       "holiday_Terremoto Manabi+5                        106.1967     15.896      6.681      0.000      75.041     137.352\n",
       "holiday_Traslado Primer dia del ano               5.08e-11   8.67e-13     58.595      0.000    4.91e-11    5.25e-11\n",
       "family_AUTOMOTIVE                               -4196.2796     62.602    -67.031      0.000   -4318.978   -4073.581\n",
       "family_BABY CARE                                -4202.3498     62.602    -67.128      0.000   -4325.048   -4079.651\n",
       "family_BEAUTY                                   -4199.4815     62.602    -67.082      0.000   -4322.180   -4076.783\n",
       "family_BEVERAGES                                -2025.8953     62.593    -32.366      0.000   -2148.575   -1903.216\n",
       "family_BOOKS                                    -4202.4090     62.602    -67.129      0.000   -4325.107   -4079.711\n",
       "family_BREAD/BAKERY                             -3748.6442     62.598    -59.884      0.000   -3871.334   -3625.954\n",
       "family_CELEBRATION                              -4195.8412     62.602    -67.024      0.000   -4318.539   -4073.143\n",
       "family_CLEANING                                 -3094.5990     62.598    -49.436      0.000   -3217.288   -2971.909\n",
       "family_DAIRY                                    -3549.5956     62.594    -56.708      0.000   -3672.278   -3426.913\n",
       "family_DELI                                     -4002.5301     62.590    -63.948      0.000   -4125.205   -3879.856\n",
       "family_EGGS                                     -4052.8540     62.597    -64.745      0.000   -4175.542   -3930.166\n",
       "family_FROZEN FOODS                             -4050.3515     62.600    -64.702      0.000   -4173.045   -3927.658\n",
       "family_GROCERY I                                 -442.5936     62.585     -7.072      0.000    -565.257    -319.930\n",
       "family_GROCERY II                               -4179.6456     62.602    -66.765      0.000   -4302.343   -4056.948\n",
       "family_HARDWARE                                 -4201.2185     62.602    -67.110      0.000   -4323.916   -4078.521\n",
       "family_HOME AND KITCHEN I                       -4185.1886     62.602    -66.854      0.000   -4307.886   -4062.491\n",
       "family_HOME AND KITCHEN II                      -4190.2422     62.602    -66.935      0.000   -4312.939   -4067.545\n",
       "family_HOME APPLIANCES                          -4201.8847     62.602    -67.121      0.000   -4324.582   -4079.187\n",
       "family_HOME CARE                                -4062.1513     62.601    -64.889      0.000   -4184.848   -3939.455\n",
       "family_LADIESWEAR                               -4196.5263     62.602    -67.035      0.000   -4319.224   -4073.829\n",
       "family_LAWN AND GARDEN                          -4198.9837     62.602    -67.075      0.000   -4321.681   -4076.286\n",
       "family_LINGERIE                                 -4194.2494     62.602    -66.999      0.000   -4316.947   -4071.552\n",
       "family_LIQUOR,WINE,BEER                         -4113.7288     62.602    -65.713      0.000   -4236.426   -3991.032\n",
       "family_MAGAZINES                                -4200.6726     62.602    -67.101      0.000   -4323.370   -4077.975\n",
       "family_MEATS                                    -3881.7396     62.594    -62.015      0.000   -4004.422   -3759.058\n",
       "family_PERSONAL CARE                            -3932.9471     62.600    -62.827      0.000   -4055.641   -3810.253\n",
       "family_PET SUPPLIES                             -4199.8191     62.602    -67.088      0.000   -4322.516   -4077.122\n",
       "family_PLAYERS AND ELECTRONICS                  -4197.6543     62.602    -67.053      0.000   -4320.351   -4074.957\n",
       "family_POULTRY                                  -3865.8502     62.596    -61.759      0.000   -3988.535   -3743.165\n",
       "family_PREPARED FOODS                           -4101.4669     62.601    -65.518      0.000   -4224.163   -3978.771\n",
       "family_PRODUCE                                  -3266.4833     62.579    -52.197      0.000   -3389.137   -3143.830\n",
       "family_SCHOOL AND OFFICE SUPPLIES               -4201.2994     62.601    -67.112      0.000   -4323.996   -4078.603\n",
       "family_SEAFOOD                                  -4183.1543     62.601    -66.823      0.000   -4305.849   -4060.459\n",
       "cluster_1                                       -7604.1853    121.391    -62.642      0.000   -7842.107   -7366.263\n",
       "cluster_2                                       -7584.3828    121.455    -62.446      0.000   -7822.430   -7346.335\n",
       "cluster_3                                       -7720.8256    121.407    -63.595      0.000   -7958.779   -7482.873\n",
       "cluster_4                                       -7631.2593    121.412    -62.854      0.000   -7869.223   -7393.295\n",
       "cluster_5                                       -6897.6009    121.439    -56.799      0.000   -7135.618   -6659.584\n",
       "cluster_6                                       -7536.6414    121.420    -62.071      0.000   -7774.621   -7298.662\n",
       "cluster_7                                       -7719.5884    121.445    -63.564      0.000   -7957.617   -7481.560\n",
       "cluster_8                                       -7329.9633    121.413    -60.372      0.000   -7567.928   -7091.999\n",
       "cluster_9                                       -7652.5958    121.420    -63.026      0.000   -7890.575   -7414.617\n",
       "cluster_10                                      -7659.2544    121.432    -63.075      0.000   -7897.256   -7421.252\n",
       "cluster_11                                      -7143.7564    121.419    -58.836      0.000   -7381.733   -6905.780\n",
       "cluster_12                                      -7622.7594    121.441    -62.769      0.000   -7860.779   -7384.740\n",
       "cluster_13                                      -7604.2840    121.436    -62.620      0.000   -7842.295   -7366.273\n",
       "cluster_14                                      -7267.2450    121.409    -59.858      0.000   -7505.202   -7029.289\n",
       "cluster_15                                      -7708.3663    121.407    -63.492      0.000   -7946.321   -7470.412\n",
       "cluster_16                                      -7672.1286    121.440    -63.176      0.000   -7910.147   -7434.110\n",
       "cluster_17                                      -7363.4932    121.439    -60.635      0.000   -7601.510   -7125.476\n",
       "==============================================================================\n",
       "Omnibus:                  3044759.026   Durbin-Watson:                   2.028\n",
       "Prob(Omnibus):                  0.000   Jarque-Bera (JB):      10961532135.061\n",
       "Skew:                           9.405   Prob(JB):                         0.00\n",
       "Kurtosis:                     371.149   Cond. No.                     2.61e+19\n",
       "==============================================================================\n",
       "\n",
       "Notes:\n",
       "[1] Standard Errors assume that the covariance matrix of the errors is correctly specified.\n",
       "[2] The smallest eigenvalue is 1.16e-26. This might indicate that there are\n",
       "strong multicollinearity problems or that the design matrix is singular.\n",
       "\"\"\""
      ]
     },
     "execution_count": 76,
     "metadata": {},
     "output_type": "execute_result"
    }
   ],
   "source": [
    "model_summary"
   ]
  },
  {
   "cell_type": "code",
   "execution_count": 70,
   "id": "fd431079-c114-44c4-8051-c72863fff3fe",
   "metadata": {},
   "outputs": [
    {
     "name": "stdout",
     "output_type": "stream",
     "text": [
      "(276569, 73) (1935987, 73)\n"
     ]
    }
   ],
   "source": [
    "print(X_val_ols.shape, X_ols.shape)"
   ]
  },
  {
   "cell_type": "code",
   "execution_count": null,
   "id": "c3f7f6f3-388f-4c3c-a18d-78b612723a09",
   "metadata": {},
   "outputs": [],
   "source": []
  },
  {
   "cell_type": "code",
   "execution_count": 71,
   "id": "2def4556-1334-4116-8ba2-702b07d7bf63",
   "metadata": {},
   "outputs": [
    {
     "data": {
      "text/plain": [
       "{'MSE': 623955.8059850351,\n",
       " 'RMSE': 789.9087326932366,\n",
       " 'RMSLE': 2.272043896590006}"
      ]
     },
     "execution_count": 71,
     "metadata": {},
     "output_type": "execute_result"
    }
   ],
   "source": [
    "# validation metrics\n",
    "val_ols_predictions = model_OLS.predict(X_val_ols)\n",
    "ols_metrics = evaluate_forecast(y_val_ols, val_ols_predictions)\n",
    "\n",
    "ols_metrics"
   ]
  },
  {
   "cell_type": "code",
   "execution_count": 72,
   "id": "fa8dbe52-9f46-4c8e-b7bc-87dcaea51105",
   "metadata": {},
   "outputs": [
    {
     "data": {
      "text/plain": [
       "{'MSE': 745927.6592535824,\n",
       " 'RMSE': 863.6710364795049,\n",
       " 'RMSLE': 2.4686211566627567}"
      ]
     },
     "execution_count": 72,
     "metadata": {},
     "output_type": "execute_result"
    }
   ],
   "source": [
    "# test metrics\n",
    "test_ols_predictions = model_OLS.predict(X_test_ols)\n",
    "ols_metrics_test = evaluate_forecast(y_test_ols, test_ols_predictions)\n",
    "\n",
    "ols_metrics_test"
   ]
  },
  {
   "cell_type": "code",
   "execution_count": null,
   "id": "bf971e5e-6e56-4623-9855-fbfede072de9",
   "metadata": {},
   "outputs": [],
   "source": []
  },
  {
   "cell_type": "code",
   "execution_count": 73,
   "id": "98d2f837-5d15-4601-b0c4-8cadebcd389b",
   "metadata": {},
   "outputs": [
    {
     "data": {
      "image/png": "[encoded data removed]",
      "text/plain": [
       "<Figure size 1000x600 with 1 Axes>"
      ]
     },
     "metadata": {},
     "output_type": "display_data"
    }
   ],
   "source": [
    "plot_predictions(val_data['date'],y_val_ols, val_ols_predictions, 'OLS Forecast', 'Val: OLS vs. Actual') #need toconvert series to dfs"
   ]
  },
  {
   "cell_type": "code",
   "execution_count": null,
   "id": "7a820314-8735-44f8-a35f-53ff82a9ace1",
   "metadata": {},
   "outputs": [],
   "source": []
  },
  {
   "cell_type": "code",
   "execution_count": null,
   "id": "3b233d62-3fb7-4bc6-a4a7-fa64e024f40b",
   "metadata": {},
   "outputs": [],
   "source": []
  },
  {
   "cell_type": "code",
   "execution_count": 82,
   "id": "8abf4da6-5833-451c-8b5e-363af1203ea9",
   "metadata": {},
   "outputs": [
    {
     "ename": "ValueError",
     "evalue": "Could not interpret value `Sales` for `y`. An entry with this name does not appear in `data`.",
     "output_type": "error",
     "traceback": [
      "\u001b[1;31m---------------------------------------------------------------------------\u001b[0m",
      "\u001b[1;31mValueError\u001b[0m                                Traceback (most recent call last)",
      "Cell \u001b[1;32mIn[82], line 1\u001b[0m\n\u001b[1;32m----> 1\u001b[0m \u001b[43mplot_predictions\u001b[49m\u001b[43m(\u001b[49m\u001b[43mtest_data\u001b[49m\u001b[43m[\u001b[49m\u001b[38;5;124;43m'\u001b[39;49m\u001b[38;5;124;43mdate\u001b[39;49m\u001b[38;5;124;43m'\u001b[39;49m\u001b[43m]\u001b[49m\u001b[43m,\u001b[49m\u001b[43my_test_ols\u001b[49m\u001b[43m,\u001b[49m\u001b[43m \u001b[49m\u001b[43mtest_ols_predictions\u001b[49m\u001b[43m,\u001b[49m\u001b[43m \u001b[49m\u001b[38;5;124;43m'\u001b[39;49m\u001b[38;5;124;43mOLS Forecast\u001b[39;49m\u001b[38;5;124;43m'\u001b[39;49m\u001b[43m,\u001b[49m\u001b[43m \u001b[49m\u001b[38;5;124;43m'\u001b[39;49m\u001b[38;5;124;43mTest: OLS vs. Actual\u001b[39;49m\u001b[38;5;124;43m'\u001b[39;49m\u001b[43m)\u001b[49m \u001b[38;5;66;03m#need toconvert series to dfs\u001b[39;00m\n",
      "Cell \u001b[1;32mIn[81], line 28\u001b[0m, in \u001b[0;36mplot_predictions\u001b[1;34m(date, y_test, y_pred, forecast_label, title)\u001b[0m\n\u001b[0;32m     25\u001b[0m plt\u001b[38;5;241m.\u001b[39mfigure(figsize\u001b[38;5;241m=\u001b[39m(\u001b[38;5;241m8\u001b[39m, \u001b[38;5;241m6\u001b[39m))\n\u001b[0;32m     27\u001b[0m \u001b[38;5;66;03m# Plot the actual data in green\u001b[39;00m\n\u001b[1;32m---> 28\u001b[0m \u001b[43msns\u001b[49m\u001b[38;5;241;43m.\u001b[39;49m\u001b[43mlineplot\u001b[49m\u001b[43m(\u001b[49m\u001b[43mdata\u001b[49m\u001b[38;5;241;43m=\u001b[39;49m\u001b[43mdata\u001b[49m\u001b[43m,\u001b[49m\u001b[43m \u001b[49m\u001b[43mx\u001b[49m\u001b[38;5;241;43m=\u001b[39;49m\u001b[38;5;124;43m'\u001b[39;49m\u001b[38;5;124;43mDate\u001b[39;49m\u001b[38;5;124;43m'\u001b[39;49m\u001b[43m,\u001b[49m\u001b[43m \u001b[49m\u001b[43my\u001b[49m\u001b[38;5;241;43m=\u001b[39;49m\u001b[38;5;124;43m'\u001b[39;49m\u001b[38;5;124;43mSales\u001b[39;49m\u001b[38;5;124;43m'\u001b[39;49m\u001b[43m,\u001b[49m\u001b[43m \u001b[49m\u001b[43mlabel\u001b[49m\u001b[38;5;241;43m=\u001b[39;49m\u001b[38;5;124;43m'\u001b[39;49m\u001b[38;5;124;43mActual\u001b[39;49m\u001b[38;5;124;43m'\u001b[39;49m\u001b[43m,\u001b[49m\u001b[43m \u001b[49m\u001b[43mcolor\u001b[49m\u001b[38;5;241;43m=\u001b[39;49m\u001b[43mcustom_palette\u001b[49m\u001b[43m[\u001b[49m\u001b[38;5;241;43m0\u001b[39;49m\u001b[43m]\u001b[49m\u001b[43m)\u001b[49m\n\u001b[0;32m     30\u001b[0m \u001b[38;5;66;03m# Plot the predicted data in blue with the specified label\u001b[39;00m\n\u001b[0;32m     31\u001b[0m sns\u001b[38;5;241m.\u001b[39mlineplot(data\u001b[38;5;241m=\u001b[39mdata, x\u001b[38;5;241m=\u001b[39m\u001b[38;5;124m'\u001b[39m\u001b[38;5;124mDate\u001b[39m\u001b[38;5;124m'\u001b[39m, y\u001b[38;5;241m=\u001b[39m\u001b[38;5;124m'\u001b[39m\u001b[38;5;124mPredicted\u001b[39m\u001b[38;5;124m'\u001b[39m, label\u001b[38;5;241m=\u001b[39mforecast_label, color\u001b[38;5;241m=\u001b[39mcustom_palette[\u001b[38;5;241m1\u001b[39m])\n",
      "File \u001b[1;32m~\\Cory Dropbox\\Cory LeRoy\\PC\\Documents\\GitHub\\Store-Sales\\venvstoresales\\lib\\site-packages\\seaborn\\relational.py:479\u001b[0m, in \u001b[0;36mlineplot\u001b[1;34m(data, x, y, hue, size, style, units, palette, hue_order, hue_norm, sizes, size_order, size_norm, dashes, markers, style_order, estimator, errorbar, n_boot, seed, orient, sort, err_style, err_kws, legend, ci, ax, **kwargs)\u001b[0m\n\u001b[0;32m    465\u001b[0m \u001b[38;5;28;01mdef\u001b[39;00m \u001b[38;5;21mlineplot\u001b[39m(\n\u001b[0;32m    466\u001b[0m     data\u001b[38;5;241m=\u001b[39m\u001b[38;5;28;01mNone\u001b[39;00m, \u001b[38;5;241m*\u001b[39m,\n\u001b[0;32m    467\u001b[0m     x\u001b[38;5;241m=\u001b[39m\u001b[38;5;28;01mNone\u001b[39;00m, y\u001b[38;5;241m=\u001b[39m\u001b[38;5;28;01mNone\u001b[39;00m, hue\u001b[38;5;241m=\u001b[39m\u001b[38;5;28;01mNone\u001b[39;00m, size\u001b[38;5;241m=\u001b[39m\u001b[38;5;28;01mNone\u001b[39;00m, style\u001b[38;5;241m=\u001b[39m\u001b[38;5;28;01mNone\u001b[39;00m, units\u001b[38;5;241m=\u001b[39m\u001b[38;5;28;01mNone\u001b[39;00m,\n\u001b[1;32m   (...)\u001b[0m\n\u001b[0;32m    475\u001b[0m \n\u001b[0;32m    476\u001b[0m     \u001b[38;5;66;03m# Handle deprecation of ci parameter\u001b[39;00m\n\u001b[0;32m    477\u001b[0m     errorbar \u001b[38;5;241m=\u001b[39m _deprecate_ci(errorbar, ci)\n\u001b[1;32m--> 479\u001b[0m     p \u001b[38;5;241m=\u001b[39m \u001b[43m_LinePlotter\u001b[49m\u001b[43m(\u001b[49m\n\u001b[0;32m    480\u001b[0m \u001b[43m        \u001b[49m\u001b[43mdata\u001b[49m\u001b[38;5;241;43m=\u001b[39;49m\u001b[43mdata\u001b[49m\u001b[43m,\u001b[49m\n\u001b[0;32m    481\u001b[0m \u001b[43m        \u001b[49m\u001b[43mvariables\u001b[49m\u001b[38;5;241;43m=\u001b[39;49m\u001b[38;5;28;43mdict\u001b[39;49m\u001b[43m(\u001b[49m\u001b[43mx\u001b[49m\u001b[38;5;241;43m=\u001b[39;49m\u001b[43mx\u001b[49m\u001b[43m,\u001b[49m\u001b[43m \u001b[49m\u001b[43my\u001b[49m\u001b[38;5;241;43m=\u001b[39;49m\u001b[43my\u001b[49m\u001b[43m,\u001b[49m\u001b[43m \u001b[49m\u001b[43mhue\u001b[49m\u001b[38;5;241;43m=\u001b[39;49m\u001b[43mhue\u001b[49m\u001b[43m,\u001b[49m\u001b[43m \u001b[49m\u001b[43msize\u001b[49m\u001b[38;5;241;43m=\u001b[39;49m\u001b[43msize\u001b[49m\u001b[43m,\u001b[49m\u001b[43m \u001b[49m\u001b[43mstyle\u001b[49m\u001b[38;5;241;43m=\u001b[39;49m\u001b[43mstyle\u001b[49m\u001b[43m,\u001b[49m\u001b[43m \u001b[49m\u001b[43munits\u001b[49m\u001b[38;5;241;43m=\u001b[39;49m\u001b[43munits\u001b[49m\u001b[43m)\u001b[49m\u001b[43m,\u001b[49m\n\u001b[0;32m    482\u001b[0m \u001b[43m        \u001b[49m\u001b[43mestimator\u001b[49m\u001b[38;5;241;43m=\u001b[39;49m\u001b[43mestimator\u001b[49m\u001b[43m,\u001b[49m\u001b[43m \u001b[49m\u001b[43mn_boot\u001b[49m\u001b[38;5;241;43m=\u001b[39;49m\u001b[43mn_boot\u001b[49m\u001b[43m,\u001b[49m\u001b[43m \u001b[49m\u001b[43mseed\u001b[49m\u001b[38;5;241;43m=\u001b[39;49m\u001b[43mseed\u001b[49m\u001b[43m,\u001b[49m\u001b[43m \u001b[49m\u001b[43merrorbar\u001b[49m\u001b[38;5;241;43m=\u001b[39;49m\u001b[43merrorbar\u001b[49m\u001b[43m,\u001b[49m\n\u001b[0;32m    483\u001b[0m \u001b[43m        \u001b[49m\u001b[43msort\u001b[49m\u001b[38;5;241;43m=\u001b[39;49m\u001b[43msort\u001b[49m\u001b[43m,\u001b[49m\u001b[43m \u001b[49m\u001b[43morient\u001b[49m\u001b[38;5;241;43m=\u001b[39;49m\u001b[43morient\u001b[49m\u001b[43m,\u001b[49m\u001b[43m \u001b[49m\u001b[43merr_style\u001b[49m\u001b[38;5;241;43m=\u001b[39;49m\u001b[43merr_style\u001b[49m\u001b[43m,\u001b[49m\u001b[43m \u001b[49m\u001b[43merr_kws\u001b[49m\u001b[38;5;241;43m=\u001b[39;49m\u001b[43merr_kws\u001b[49m\u001b[43m,\u001b[49m\n\u001b[0;32m    484\u001b[0m \u001b[43m        \u001b[49m\u001b[43mlegend\u001b[49m\u001b[38;5;241;43m=\u001b[39;49m\u001b[43mlegend\u001b[49m\u001b[43m,\u001b[49m\n\u001b[0;32m    485\u001b[0m \u001b[43m    \u001b[49m\u001b[43m)\u001b[49m\n\u001b[0;32m    487\u001b[0m     p\u001b[38;5;241m.\u001b[39mmap_hue(palette\u001b[38;5;241m=\u001b[39mpalette, order\u001b[38;5;241m=\u001b[39mhue_order, norm\u001b[38;5;241m=\u001b[39mhue_norm)\n\u001b[0;32m    488\u001b[0m     p\u001b[38;5;241m.\u001b[39mmap_size(sizes\u001b[38;5;241m=\u001b[39msizes, order\u001b[38;5;241m=\u001b[39msize_order, norm\u001b[38;5;241m=\u001b[39msize_norm)\n",
      "File \u001b[1;32m~\\Cory Dropbox\\Cory LeRoy\\PC\\Documents\\GitHub\\Store-Sales\\venvstoresales\\lib\\site-packages\\seaborn\\relational.py:215\u001b[0m, in \u001b[0;36m_LinePlotter.__init__\u001b[1;34m(self, data, variables, estimator, n_boot, seed, errorbar, sort, orient, err_style, err_kws, legend)\u001b[0m\n\u001b[0;32m    201\u001b[0m \u001b[38;5;28;01mdef\u001b[39;00m \u001b[38;5;21m__init__\u001b[39m(\n\u001b[0;32m    202\u001b[0m     \u001b[38;5;28mself\u001b[39m, \u001b[38;5;241m*\u001b[39m,\n\u001b[0;32m    203\u001b[0m     data\u001b[38;5;241m=\u001b[39m\u001b[38;5;28;01mNone\u001b[39;00m, variables\u001b[38;5;241m=\u001b[39m{},\n\u001b[1;32m   (...)\u001b[0m\n\u001b[0;32m    209\u001b[0m     \u001b[38;5;66;03m# the kind of plot to draw, but for the time being we need to set\u001b[39;00m\n\u001b[0;32m    210\u001b[0m     \u001b[38;5;66;03m# this information so the SizeMapping can use it\u001b[39;00m\n\u001b[0;32m    211\u001b[0m     \u001b[38;5;28mself\u001b[39m\u001b[38;5;241m.\u001b[39m_default_size_range \u001b[38;5;241m=\u001b[39m (\n\u001b[0;32m    212\u001b[0m         np\u001b[38;5;241m.\u001b[39mr_[\u001b[38;5;241m.5\u001b[39m, \u001b[38;5;241m2\u001b[39m] \u001b[38;5;241m*\u001b[39m mpl\u001b[38;5;241m.\u001b[39mrcParams[\u001b[38;5;124m\"\u001b[39m\u001b[38;5;124mlines.linewidth\u001b[39m\u001b[38;5;124m\"\u001b[39m]\n\u001b[0;32m    213\u001b[0m     )\n\u001b[1;32m--> 215\u001b[0m     \u001b[38;5;28;43msuper\u001b[39;49m\u001b[43m(\u001b[49m\u001b[43m)\u001b[49m\u001b[38;5;241;43m.\u001b[39;49m\u001b[38;5;21;43m__init__\u001b[39;49m\u001b[43m(\u001b[49m\u001b[43mdata\u001b[49m\u001b[38;5;241;43m=\u001b[39;49m\u001b[43mdata\u001b[49m\u001b[43m,\u001b[49m\u001b[43m \u001b[49m\u001b[43mvariables\u001b[49m\u001b[38;5;241;43m=\u001b[39;49m\u001b[43mvariables\u001b[49m\u001b[43m)\u001b[49m\n\u001b[0;32m    217\u001b[0m     \u001b[38;5;28mself\u001b[39m\u001b[38;5;241m.\u001b[39mestimator \u001b[38;5;241m=\u001b[39m estimator\n\u001b[0;32m    218\u001b[0m     \u001b[38;5;28mself\u001b[39m\u001b[38;5;241m.\u001b[39merrorbar \u001b[38;5;241m=\u001b[39m errorbar\n",
      "File \u001b[1;32m~\\Cory Dropbox\\Cory LeRoy\\PC\\Documents\\GitHub\\Store-Sales\\venvstoresales\\lib\\site-packages\\seaborn\\_base.py:634\u001b[0m, in \u001b[0;36mVectorPlotter.__init__\u001b[1;34m(self, data, variables)\u001b[0m\n\u001b[0;32m    629\u001b[0m \u001b[38;5;66;03m# var_ordered is relevant only for categorical axis variables, and may\u001b[39;00m\n\u001b[0;32m    630\u001b[0m \u001b[38;5;66;03m# be better handled by an internal axis information object that tracks\u001b[39;00m\n\u001b[0;32m    631\u001b[0m \u001b[38;5;66;03m# such information and is set up by the scale_* methods. The analogous\u001b[39;00m\n\u001b[0;32m    632\u001b[0m \u001b[38;5;66;03m# information for numeric axes would be information about log scales.\u001b[39;00m\n\u001b[0;32m    633\u001b[0m \u001b[38;5;28mself\u001b[39m\u001b[38;5;241m.\u001b[39m_var_ordered \u001b[38;5;241m=\u001b[39m {\u001b[38;5;124m\"\u001b[39m\u001b[38;5;124mx\u001b[39m\u001b[38;5;124m\"\u001b[39m: \u001b[38;5;28;01mFalse\u001b[39;00m, \u001b[38;5;124m\"\u001b[39m\u001b[38;5;124my\u001b[39m\u001b[38;5;124m\"\u001b[39m: \u001b[38;5;28;01mFalse\u001b[39;00m}  \u001b[38;5;66;03m# alt., used DefaultDict\u001b[39;00m\n\u001b[1;32m--> 634\u001b[0m \u001b[38;5;28;43mself\u001b[39;49m\u001b[38;5;241;43m.\u001b[39;49m\u001b[43massign_variables\u001b[49m\u001b[43m(\u001b[49m\u001b[43mdata\u001b[49m\u001b[43m,\u001b[49m\u001b[43m \u001b[49m\u001b[43mvariables\u001b[49m\u001b[43m)\u001b[49m\n\u001b[0;32m    636\u001b[0m \u001b[38;5;66;03m# TODO Lots of tests assume that these are called to initialize the\u001b[39;00m\n\u001b[0;32m    637\u001b[0m \u001b[38;5;66;03m# mappings to default values on class initialization. I'd prefer to\u001b[39;00m\n\u001b[0;32m    638\u001b[0m \u001b[38;5;66;03m# move away from that and only have a mapping when explicitly called.\u001b[39;00m\n\u001b[0;32m    639\u001b[0m \u001b[38;5;28;01mfor\u001b[39;00m var \u001b[38;5;129;01min\u001b[39;00m [\u001b[38;5;124m\"\u001b[39m\u001b[38;5;124mhue\u001b[39m\u001b[38;5;124m\"\u001b[39m, \u001b[38;5;124m\"\u001b[39m\u001b[38;5;124msize\u001b[39m\u001b[38;5;124m\"\u001b[39m, \u001b[38;5;124m\"\u001b[39m\u001b[38;5;124mstyle\u001b[39m\u001b[38;5;124m\"\u001b[39m]:\n",
      "File \u001b[1;32m~\\Cory Dropbox\\Cory LeRoy\\PC\\Documents\\GitHub\\Store-Sales\\venvstoresales\\lib\\site-packages\\seaborn\\_base.py:679\u001b[0m, in \u001b[0;36mVectorPlotter.assign_variables\u001b[1;34m(self, data, variables)\u001b[0m\n\u001b[0;32m    674\u001b[0m \u001b[38;5;28;01melse\u001b[39;00m:\n\u001b[0;32m    675\u001b[0m     \u001b[38;5;66;03m# When dealing with long-form input, use the newer PlotData\u001b[39;00m\n\u001b[0;32m    676\u001b[0m     \u001b[38;5;66;03m# object (internal but introduced for the objects interface)\u001b[39;00m\n\u001b[0;32m    677\u001b[0m     \u001b[38;5;66;03m# to centralize / standardize data consumption logic.\u001b[39;00m\n\u001b[0;32m    678\u001b[0m     \u001b[38;5;28mself\u001b[39m\u001b[38;5;241m.\u001b[39minput_format \u001b[38;5;241m=\u001b[39m \u001b[38;5;124m\"\u001b[39m\u001b[38;5;124mlong\u001b[39m\u001b[38;5;124m\"\u001b[39m\n\u001b[1;32m--> 679\u001b[0m     plot_data \u001b[38;5;241m=\u001b[39m \u001b[43mPlotData\u001b[49m\u001b[43m(\u001b[49m\u001b[43mdata\u001b[49m\u001b[43m,\u001b[49m\u001b[43m \u001b[49m\u001b[43mvariables\u001b[49m\u001b[43m)\u001b[49m\n\u001b[0;32m    680\u001b[0m     frame \u001b[38;5;241m=\u001b[39m plot_data\u001b[38;5;241m.\u001b[39mframe\n\u001b[0;32m    681\u001b[0m     names \u001b[38;5;241m=\u001b[39m plot_data\u001b[38;5;241m.\u001b[39mnames\n",
      "File \u001b[1;32m~\\Cory Dropbox\\Cory LeRoy\\PC\\Documents\\GitHub\\Store-Sales\\venvstoresales\\lib\\site-packages\\seaborn\\_core\\data.py:58\u001b[0m, in \u001b[0;36mPlotData.__init__\u001b[1;34m(self, data, variables)\u001b[0m\n\u001b[0;32m     51\u001b[0m \u001b[38;5;28;01mdef\u001b[39;00m \u001b[38;5;21m__init__\u001b[39m(\n\u001b[0;32m     52\u001b[0m     \u001b[38;5;28mself\u001b[39m,\n\u001b[0;32m     53\u001b[0m     data: DataSource,\n\u001b[0;32m     54\u001b[0m     variables: \u001b[38;5;28mdict\u001b[39m[\u001b[38;5;28mstr\u001b[39m, VariableSpec],\n\u001b[0;32m     55\u001b[0m ):\n\u001b[0;32m     57\u001b[0m     data \u001b[38;5;241m=\u001b[39m handle_data_source(data)\n\u001b[1;32m---> 58\u001b[0m     frame, names, ids \u001b[38;5;241m=\u001b[39m \u001b[38;5;28;43mself\u001b[39;49m\u001b[38;5;241;43m.\u001b[39;49m\u001b[43m_assign_variables\u001b[49m\u001b[43m(\u001b[49m\u001b[43mdata\u001b[49m\u001b[43m,\u001b[49m\u001b[43m \u001b[49m\u001b[43mvariables\u001b[49m\u001b[43m)\u001b[49m\n\u001b[0;32m     60\u001b[0m     \u001b[38;5;28mself\u001b[39m\u001b[38;5;241m.\u001b[39mframe \u001b[38;5;241m=\u001b[39m frame\n\u001b[0;32m     61\u001b[0m     \u001b[38;5;28mself\u001b[39m\u001b[38;5;241m.\u001b[39mnames \u001b[38;5;241m=\u001b[39m names\n",
      "File \u001b[1;32m~\\Cory Dropbox\\Cory LeRoy\\PC\\Documents\\GitHub\\Store-Sales\\venvstoresales\\lib\\site-packages\\seaborn\\_core\\data.py:232\u001b[0m, in \u001b[0;36mPlotData._assign_variables\u001b[1;34m(self, data, variables)\u001b[0m\n\u001b[0;32m    230\u001b[0m     \u001b[38;5;28;01melse\u001b[39;00m:\n\u001b[0;32m    231\u001b[0m         err \u001b[38;5;241m+\u001b[39m\u001b[38;5;241m=\u001b[39m \u001b[38;5;124m\"\u001b[39m\u001b[38;5;124mAn entry with this name does not appear in `data`.\u001b[39m\u001b[38;5;124m\"\u001b[39m\n\u001b[1;32m--> 232\u001b[0m     \u001b[38;5;28;01mraise\u001b[39;00m \u001b[38;5;167;01mValueError\u001b[39;00m(err)\n\u001b[0;32m    234\u001b[0m \u001b[38;5;28;01melse\u001b[39;00m:\n\u001b[0;32m    235\u001b[0m \n\u001b[0;32m    236\u001b[0m     \u001b[38;5;66;03m# Otherwise, assume the value somehow represents data\u001b[39;00m\n\u001b[0;32m    237\u001b[0m \n\u001b[0;32m    238\u001b[0m     \u001b[38;5;66;03m# Ignore empty data structures\u001b[39;00m\n\u001b[0;32m    239\u001b[0m     \u001b[38;5;28;01mif\u001b[39;00m \u001b[38;5;28misinstance\u001b[39m(val, Sized) \u001b[38;5;129;01mand\u001b[39;00m \u001b[38;5;28mlen\u001b[39m(val) \u001b[38;5;241m==\u001b[39m \u001b[38;5;241m0\u001b[39m:\n",
      "\u001b[1;31mValueError\u001b[0m: Could not interpret value `Sales` for `y`. An entry with this name does not appear in `data`."
     ]
    },
    {
     "data": {
      "text/plain": [
       "<Figure size 800x600 with 0 Axes>"
      ]
     },
     "metadata": {},
     "output_type": "display_data"
    }
   ],
   "source": [
    "plot_predictions(test_data['date'],y_test_ols, test_ols_predictions, 'OLS Forecast', 'Test: OLS vs. Actual') #need toconvert series to dfs"
   ]
  },
  {
   "cell_type": "code",
   "execution_count": null,
   "id": "c6a63fe8-08f3-46c4-afbf-9f11d7f46cbc",
   "metadata": {},
   "outputs": [],
   "source": []
  },
  {
   "cell_type": "markdown",
   "id": "76837761-b314-49ba-bf65-93dfebfe6f9b",
   "metadata": {},
   "source": [
    "## OLS with family cluster ##"
   ]
  },
  {
   "cell_type": "code",
   "execution_count": 28,
   "id": "d76326ab-5a25-4dcc-9161-29e047f90057",
   "metadata": {},
   "outputs": [],
   "source": [
    "df_train_ols = create_dummy_fam_cluster(train_data)\n",
    "df_val_ols = create_dummy_fam_cluster(val_data)\n",
    "df_test_ols = create_dummy_fam_cluster(test_data)"
   ]
  },
  {
   "cell_type": "code",
   "execution_count": 29,
   "id": "8ed0e03c-061b-432c-83cc-e3be624b72cc",
   "metadata": {},
   "outputs": [],
   "source": [
    "columns_to_scale =  list(df_train_ols.columns)\n",
    "columns_to_scale.remove('sales')\n",
    "columns_to_scale.remove('onpromotion')\n",
    "columns_to_scale.remove('day_of_week')\n",
    "columns_to_scale.remove('month')\n",
    "columns_to_scale.remove('year')\n",
    "columns_to_scale.remove('oil_price')\n"
   ]
  },
  {
   "cell_type": "code",
   "execution_count": 30,
   "id": "b9eecc68-1fd6-49f6-8ec1-fbface3dd191",
   "metadata": {},
   "outputs": [],
   "source": [
    "df_train_ols = scale_df(df_train_ols, columns_to_scale)\n",
    "df_val_ols = scale_df(df_val_ols, columns_to_scale)\n",
    "df_test_ols = scale_df(df_test_ols, columns_to_scale)"
   ]
  },
  {
   "cell_type": "code",
   "execution_count": 31,
   "id": "47131dfc-f005-4bc2-ac04-41e65b594899",
   "metadata": {},
   "outputs": [],
   "source": [
    "X_ols = df_train_ols.drop(columns=['sales'])\n",
    "# add constant for linear regression\n",
    "\n",
    "X_ols.insert(0, 'const',1)\n",
    "\n",
    "\n",
    "#X_ols = sm.add_constant(X_ols)\n",
    "y_ols = train_data['sales']\n",
    "y_ols = df_train_ols['sales']"
   ]
  },
  {
   "cell_type": "code",
   "execution_count": 32,
   "id": "f7732c3c-d07f-4333-afd9-ff10c94574e3",
   "metadata": {},
   "outputs": [],
   "source": [
    "X_val_ols = df_val_ols.drop(columns=['sales'])\n",
    "# add constant for linear regression\n",
    "X_val_ols.insert(0, 'const',1)\n",
    "y_val_ols = df_val_ols['sales']"
   ]
  },
  {
   "cell_type": "code",
   "execution_count": 33,
   "id": "bd5d13ac-397e-499a-98e1-0808b3dc98db",
   "metadata": {},
   "outputs": [],
   "source": [
    "X_test_ols = df_test_ols.drop(columns=['sales'])\n",
    "# add constant for linear regression\n",
    "X_test_ols.insert(0, 'const',1)\n",
    "y_test_ols = df_test_ols['sales']"
   ]
  },
  {
   "cell_type": "code",
   "execution_count": 34,
   "id": "0b0862a2-8b4a-4414-ba82-9d14c075e44c",
   "metadata": {},
   "outputs": [],
   "source": [
    "model_OLS = sm.OLS(y_ols,X_ols).fit()\n",
    "model_summary = model_OLS.summary()"
   ]
  },
  {
   "cell_type": "code",
   "execution_count": 35,
   "id": "896970ab-b660-4378-a751-fb20eb1e3045",
   "metadata": {},
   "outputs": [
    {
     "data": {
      "text/plain": [
       "{'MSE': 1032318.82501516,\n",
       " 'RMSE': 1016.0309173520066,\n",
       " 'RMSLE': 2.781651989757134}"
      ]
     },
     "execution_count": 35,
     "metadata": {},
     "output_type": "execute_result"
    }
   ],
   "source": [
    "# validation metrics\n",
    "val_ols_predictions = model_OLS.predict(X_val_ols)\n",
    "ols_metrics = evaluate_forecast(y_val_ols, val_ols_predictions)\n",
    "\n",
    "ols_metrics"
   ]
  },
  {
   "cell_type": "code",
   "execution_count": 36,
   "id": "53a17923-cee4-482e-8270-f5382534da05",
   "metadata": {},
   "outputs": [
    {
     "data": {
      "text/plain": [
       "{'MSE': 1157058.7881424925,\n",
       " 'RMSE': 1075.6666714844764,\n",
       " 'RMSLE': 2.8363098754293095}"
      ]
     },
     "execution_count": 36,
     "metadata": {},
     "output_type": "execute_result"
    }
   ],
   "source": [
    "# test metrics\n",
    "test_ols_predictions = model_OLS.predict(X_test_ols)\n",
    "ols_metrics_test = evaluate_forecast(y_test_ols, test_ols_predictions)\n",
    "\n",
    "ols_metrics_test"
   ]
  },
  {
   "cell_type": "code",
   "execution_count": null,
   "id": "3e2addce-1ad5-4a89-a55c-3b6fd38238d3",
   "metadata": {},
   "outputs": [],
   "source": []
  },
  {
   "cell_type": "code",
   "execution_count": null,
   "id": "8c5c060a-dfdc-4afd-a63f-b4093bb870a6",
   "metadata": {},
   "outputs": [],
   "source": []
  },
  {
   "cell_type": "code",
   "execution_count": null,
   "id": "7b1f9d40-fa4f-4eb1-a652-2fddaba8b177",
   "metadata": {},
   "outputs": [],
   "source": []
  },
  {
   "cell_type": "code",
   "execution_count": null,
   "id": "d52ce732-404c-4686-a085-c077bf169178",
   "metadata": {},
   "outputs": [],
   "source": []
  },
  {
   "cell_type": "code",
   "execution_count": null,
   "id": "ca05f016-a843-4ed3-81df-ba37ec6b7426",
   "metadata": {},
   "outputs": [],
   "source": []
  },
  {
   "cell_type": "code",
   "execution_count": null,
   "id": "a59fb1c2-dc72-4dce-beaf-e1de705552f6",
   "metadata": {},
   "outputs": [],
   "source": []
  },
  {
   "cell_type": "markdown",
   "id": "4d5283b2-533f-4c7e-9a15-16c1f58cf7db",
   "metadata": {
    "jp-MarkdownHeadingCollapsed": true
   },
   "source": [
    "## SARIMA ##"
   ]
  },
  {
   "cell_type": "code",
   "execution_count": 37,
   "id": "00557f07-b9a0-4b47-b837-bdfc22589b53",
   "metadata": {
    "scrolled": true
   },
   "outputs": [
    {
     "data": {
      "text/plain": [
       "Index(['id', 'date', 'store_nbr', 'family', 'sales', 'onpromotion', 'cluster',\n",
       "       'day_of_week', 'month', 'year', 'oil_price', 'familycluster',\n",
       "       'holiday_Carnaval', 'holiday_Dia de la Madre',\n",
       "       'holiday_Dia del Trabajo', 'holiday_Fundacion de Quito',\n",
       "       'holiday_Independencia de Cuenca',\n",
       "       'holiday_Mundial de futbol Brasil: Ecuador-Suiza', 'holiday_Navidad-1',\n",
       "       'holiday_Navidad-2', 'holiday_Navidad-3', 'holiday_Navidad-4',\n",
       "       'holiday_Primer dia del ano', 'holiday_Terremoto Manabi+1',\n",
       "       'holiday_Terremoto Manabi+2', 'holiday_Terremoto Manabi+3',\n",
       "       'holiday_Terremoto Manabi+4', 'holiday_Terremoto Manabi+5',\n",
       "       'holiday_Traslado Primer dia del ano'],\n",
       "      dtype='object')"
      ]
     },
     "execution_count": 37,
     "metadata": {},
     "output_type": "execute_result"
    }
   ],
   "source": [
    "train_data.columns"
   ]
  },
  {
   "cell_type": "code",
   "execution_count": 38,
   "id": "d75c4c3f-92fa-4d9d-b688-4a97b10a1616",
   "metadata": {},
   "outputs": [
    {
     "data": {
      "text/plain": [
       "Timestamp('2016-04-26 00:00:00')"
      ]
     },
     "execution_count": 38,
     "metadata": {},
     "output_type": "execute_result"
    }
   ],
   "source": [
    "train_data['date'].max()"
   ]
  },
  {
   "cell_type": "code",
   "execution_count": 42,
   "id": "cffb0ce0-017e-4aec-9ccf-e2b55b82b7be",
   "metadata": {},
   "outputs": [],
   "source": [
    "#shorten train for testing\n",
    "train_data_sarima = train_data[train_data['date']>'2016-04-01']"
   ]
  },
  {
   "cell_type": "code",
   "execution_count": 43,
   "id": "13858330-2be0-4428-bb25-a869fb92d08f",
   "metadata": {},
   "outputs": [],
   "source": [
    "train_data_sarima = train_data[['date','cluster','familycluster','sales']]"
   ]
  },
  {
   "cell_type": "code",
   "execution_count": 44,
   "id": "3ba899fa-0aa7-4a17-a1bd-23da67827339",
   "metadata": {},
   "outputs": [],
   "source": [
    "#train_data_sarima = train_data_s[train_data_s['date']=='2015-09-01']\n",
    "#train_data_sarima = train_data_s.set_index('date')\n",
    "#val_data_sarima = val_data_s.set_index('date')"
   ]
  },
  {
   "cell_type": "code",
   "execution_count": null,
   "id": "da98fe0b-1bd4-4337-820b-5a1afbe35725",
   "metadata": {},
   "outputs": [],
   "source": []
  },
  {
   "cell_type": "code",
   "execution_count": 45,
   "id": "e758a725-be92-4d29-a424-0163cc7a6882",
   "metadata": {
    "scrolled": true
   },
   "outputs": [],
   "source": [
    "train_data_sarima_exog = train_data_sarima[['familycluster','cluster']]\n",
    "y_train_sarima_endog = train_data_sarima['sales']\n",
    "\n",
    "#val_data_sarima_exog = val_data_sarima[['familycluster','cluster']]\n",
    "#y_val_sarima_endog = val_data_sarima['sales']"
   ]
  },
  {
   "cell_type": "code",
   "execution_count": null,
   "id": "f6ac0e90-331e-43f8-9b2c-64ff65a3d540",
   "metadata": {},
   "outputs": [],
   "source": []
  },
  {
   "cell_type": "markdown",
   "id": "28103f9a-5b61-4588-901c-1d1990b70c43",
   "metadata": {},
   "source": [
    "# Group by date to sum sales. USE IF CANT GET ANYTHING RUNNING\n",
    "\n",
    "ts = train_data_sarima.groupby(train_data_sarima['date'])['sales'].sum()\n",
    "#ts = train_data_sarima.groupby(train_data_sarima.index)['sales'].sum()\n",
    "fig, (ax1,ax2) = plt.subplots(2, 1, figsize=(12,6))\n",
    "\n",
    "# Plot ACF\n",
    "sm.graphics.tsa.plot_acf(ts, lags=40, ax=ax1)\n",
    "ax1.set_title('ACF')\n",
    "\n",
    "# Plot PACF\n",
    "sm.graphics.tsa.plot_pacf(ts, lags=40, ax=ax2)\n",
    "ax2.set_title('PACF')\n",
    "\n",
    "plt.tight_layout(pad=2.0)\n",
    "\n",
    "plt.show()"
   ]
  },
  {
   "cell_type": "markdown",
   "id": "32dfe0e9-476e-4eb4-9d3c-df4e49b5d25c",
   "metadata": {},
   "source": [
    "# auto_arima.  runs into memory error when trying to run. will have to manually find hyperparams\n",
    "start_time = time.time()\n",
    "sarima_model = auto_arima(train_data_sarima['sales']\n",
    "                          #, exogenous=train_data_s[['familycluster', 'onpromotion','holiday']]\n",
    "                          #, exogenous=train_data_s[['familycluster']]\n",
    "                          , start_p=0 , max_p=3, start_P=0 , max_P=3 \n",
    "                          , d=None , D=1 #not sure this is a good value for d\n",
    "                          , start_q=0 , max_q= 3 , start_Q=0 , max_Q=3\n",
    "                          , random=True, n_fits=2\n",
    "                          , seasonal=True, m=12, random_state=21, trace=True )\n",
    "\n",
    "end_time = time.time()\n",
    "elapsed_time = end_time - start_time"
   ]
  },
  {
   "cell_type": "markdown",
   "id": "6b6dce11-b996-419d-9542-c407663bff54",
   "metadata": {},
   "source": [
    "# too slow to get results\n",
    "def ad_fuller(timeseries):\n",
    "    print ('Dickey-Fuller Test indicates:')\n",
    "    df_test = adfuller(timeseries, regression='ct', autolag='AIC')\n",
    "    output = pd.Series(df_test[0:4], index=['Test Statistic','p-value','#Lags Used','Number of Observations Used'])\n",
    "    print(output)\n",
    "\n",
    "print(ad_fuller(train_data_s['sales']))"
   ]
  },
  {
   "cell_type": "code",
   "execution_count": null,
   "id": "bacb2581-c2c4-42ad-98bd-eb416f5c6f2d",
   "metadata": {},
   "outputs": [],
   "source": []
  },
  {
   "cell_type": "code",
   "execution_count": 46,
   "id": "1db6529c-5926-4015-bb9e-db0401d0509a",
   "metadata": {},
   "outputs": [],
   "source": [
    "# Define the instance\n",
    "model_sarima = sm.tsa.SARIMAX(endog=y_train_sarima_endog, exog=train_data_sarima_exog, order=(1,1,1), seasonal_order=(1,1,1,12))\n",
    "\n"
   ]
  },
  {
   "cell_type": "code",
   "execution_count": null,
   "id": "3126952f-5ccb-4b2a-a158-2444b40d2c7a",
   "metadata": {},
   "outputs": [
    {
     "ename": "MemoryError",
     "evalue": "Unable to allocate 10.5 GiB for an array with shape (27, 27, 1935988) and data type float64",
     "output_type": "error",
     "traceback": [
      "\u001b[1;31m---------------------------------------------------------------------------\u001b[0m",
      "\u001b[1;31mMemoryError\u001b[0m                               Traceback (most recent call last)",
      "File \u001b[1;32mstatsmodels\\tsa\\statespace\\_kalman_smoother.pyx:1014\u001b[0m, in \u001b[0;36mstatsmodels.tsa.statespace._kalman_smoother.dKalmanSmoother.allocate_arrays\u001b[1;34m()\u001b[0m\n",
      "\u001b[1;31mMemoryError\u001b[0m: Unable to allocate 10.5 GiB for an array with shape (27, 27, 1935988) and data type float64"
     ]
    }
   ],
   "source": [
    "# Fit the model. started at 1:52\n",
    "results_sarima = model_sarima.fit()\n",
    "\n"
   ]
  },
  {
   "cell_type": "code",
   "execution_count": null,
   "id": "317d7d52-49dc-44e1-abd2-57c017db4bd8",
   "metadata": {},
   "outputs": [],
   "source": [
    "# Make predictions\n",
    "forecast_sarima = results_sarima.predict(start=len(train_data_sarima), end=len(train_data_sarima) + len(val_data_sarima) - 1, dynamic=False)"
   ]
  },
  {
   "cell_type": "code",
   "execution_count": null,
   "id": "43bb5f3f-6a6c-4001-adbc-d07d79ef76a4",
   "metadata": {},
   "outputs": [],
   "source": [
    "sarima_metrics = evaluate_forecast(y_val_sarima, forecast_sarima)\n",
    "\n",
    "sarima_metrics"
   ]
  },
  {
   "cell_type": "code",
   "execution_count": null,
   "id": "7b26935c-b451-449f-8a39-b9046dac4528",
   "metadata": {},
   "outputs": [],
   "source": []
  }
 ],
 "metadata": {
  "kernelspec": {
   "display_name": "Python 3 (ipykernel)",
   "language": "python",
   "name": "python3"
  },
  "language_info": {
   "codemirror_mode": {
    "name": "ipython",
    "version": 3
   },
   "file_extension": ".py",
   "mimetype": "text/x-python",
   "name": "python",
   "nbconvert_exporter": "python",
   "pygments_lexer": "ipython3",
   "version": "3.10.11"
  }
 },
 "nbformat": 4,
 "nbformat_minor": 5
}
